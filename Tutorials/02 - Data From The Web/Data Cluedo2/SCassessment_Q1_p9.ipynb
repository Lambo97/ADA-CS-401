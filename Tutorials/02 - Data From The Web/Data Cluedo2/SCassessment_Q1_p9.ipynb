{
 "cells": [
  {
   "cell_type": "markdown",
   "metadata": {},
   "source": [
    "# CITY STATISTICS (10 mins)\n",
    "# Instructions / Notes: Read these carefully\n",
    "This **Python Jupyter Notebook** notebook is split into the following sections:\n",
    "\n",
    "1. **Initial section** with pre-filled cells, that you should run just to load some Python modules (packages), the dataset required for your task and its variables in memory.\n",
    "2. **Middle section** with **description of a concrete task** associated with the dataset. \n",
    "3. **Final section (with one or more empty cells)** where you can perform analyses with the loaded dataset (e.g., write a few lines of code if needed), answer the question posed, and describe your reasoning in words.\n",
    "\n",
    "**Read and execute each cell in order, without skipping forward**. To execute any cell, press **Shift+Enter** on your keyboard. It might take a couple of seconds to receive an output.\n",
    "\n",
    "Have fun!"
   ]
  },
  {
   "cell_type": "code",
   "execution_count": 1,
   "metadata": {},
   "outputs": [
    {
     "data": {
      "text/html": [
       "<div>\n",
       "<style scoped>\n",
       "    .dataframe tbody tr th:only-of-type {\n",
       "        vertical-align: middle;\n",
       "    }\n",
       "\n",
       "    .dataframe tbody tr th {\n",
       "        vertical-align: top;\n",
       "    }\n",
       "\n",
       "    .dataframe thead th {\n",
       "        text-align: right;\n",
       "    }\n",
       "</style>\n",
       "<table border=\"1\" class=\"dataframe\">\n",
       "  <thead>\n",
       "    <tr style=\"text-align: right;\">\n",
       "      <th></th>\n",
       "      <th>CornSyrup</th>\n",
       "      <th>AppleIphoneSales</th>\n",
       "      <th>JuvenileDrugArrests</th>\n",
       "      <th>TimeYoutube</th>\n",
       "    </tr>\n",
       "  </thead>\n",
       "  <tbody>\n",
       "    <tr>\n",
       "      <td>0</td>\n",
       "      <td>106.021258</td>\n",
       "      <td>523.439795</td>\n",
       "      <td>309.915121</td>\n",
       "      <td>427.023619</td>\n",
       "    </tr>\n",
       "    <tr>\n",
       "      <td>1</td>\n",
       "      <td>100.068006</td>\n",
       "      <td>514.015887</td>\n",
       "      <td>294.331691</td>\n",
       "      <td>435.431648</td>\n",
       "    </tr>\n",
       "    <tr>\n",
       "      <td>2</td>\n",
       "      <td>93.755055</td>\n",
       "      <td>575.677269</td>\n",
       "      <td>296.296020</td>\n",
       "      <td>397.995896</td>\n",
       "    </tr>\n",
       "    <tr>\n",
       "      <td>3</td>\n",
       "      <td>107.805494</td>\n",
       "      <td>508.998504</td>\n",
       "      <td>344.632201</td>\n",
       "      <td>430.609080</td>\n",
       "    </tr>\n",
       "    <tr>\n",
       "      <td>4</td>\n",
       "      <td>130.050558</td>\n",
       "      <td>389.647362</td>\n",
       "      <td>370.110941</td>\n",
       "      <td>457.679503</td>\n",
       "    </tr>\n",
       "  </tbody>\n",
       "</table>\n",
       "</div>"
      ],
      "text/plain": [
       "    CornSyrup  AppleIphoneSales  JuvenileDrugArrests  TimeYoutube\n",
       "0  106.021258        523.439795           309.915121   427.023619\n",
       "1  100.068006        514.015887           294.331691   435.431648\n",
       "2   93.755055        575.677269           296.296020   397.995896\n",
       "3  107.805494        508.998504           344.632201   430.609080\n",
       "4  130.050558        389.647362           370.110941   457.679503"
      ]
     },
     "execution_count": 1,
     "metadata": {},
     "output_type": "execute_result"
    }
   ],
   "source": [
    "# Run the following to import necessary packages and import dataset.\n",
    "import pandas as pd\n",
    "import numpy as np\n",
    "import scipy as sp\n",
    "from IPython.core.interactiveshell import InteractiveShell\n",
    "InteractiveShell.ast_node_interactivity = \"all\"\n",
    "import matplotlib\n",
    "import matplotlib.pyplot as plt\n",
    "import seaborn as sns\n",
    "%matplotlib inline\n",
    "matplotlib.style.use('ggplot')\n",
    "\n",
    "d1 = \"SC_DA assessment_SyrupIphoneDrugsYoutube.csv\"\n",
    "df = pd.read_csv(d1)\n",
    "\n",
    "#Print first five lines of dataset as a check to see if the dataset is loaded properly.\n",
    "df.head(n=5)"
   ]
  },
  {
   "cell_type": "markdown",
   "metadata": {},
   "source": [
    "# DATASET DESCRIPTION:\n",
    "The dataset above contains some statistics for 200 cities in a population:\n",
    "1. **Per capita consumption of high fructose corn syrup (in pounds)**\n",
    "2. **Apple Iphone sales (number of units sold (in 100's)** \n",
    "3. **Number of juvenile drug arrests (in 100's)**\n",
    "4. **Time spent watching Youtube videos (in hours)** \n",
    "\n",
    "Run the cell below to obtain correlation table for the dataset. "
   ]
  },
  {
   "cell_type": "code",
   "execution_count": 2,
   "metadata": {},
   "outputs": [
    {
     "data": {
      "text/html": [
       "<div>\n",
       "<style scoped>\n",
       "    .dataframe tbody tr th:only-of-type {\n",
       "        vertical-align: middle;\n",
       "    }\n",
       "\n",
       "    .dataframe tbody tr th {\n",
       "        vertical-align: top;\n",
       "    }\n",
       "\n",
       "    .dataframe thead th {\n",
       "        text-align: right;\n",
       "    }\n",
       "</style>\n",
       "<table border=\"1\" class=\"dataframe\">\n",
       "  <thead>\n",
       "    <tr style=\"text-align: right;\">\n",
       "      <th></th>\n",
       "      <th>CornSyrup</th>\n",
       "      <th>AppleIphoneSales</th>\n",
       "      <th>JuvenileDrugArrests</th>\n",
       "      <th>TimeYoutube</th>\n",
       "    </tr>\n",
       "  </thead>\n",
       "  <tbody>\n",
       "    <tr>\n",
       "      <td>CornSyrup</td>\n",
       "      <td>1.00</td>\n",
       "      <td>-0.91</td>\n",
       "      <td>0.95</td>\n",
       "      <td>0.85</td>\n",
       "    </tr>\n",
       "    <tr>\n",
       "      <td>AppleIphoneSales</td>\n",
       "      <td>-0.91</td>\n",
       "      <td>1.00</td>\n",
       "      <td>-0.82</td>\n",
       "      <td>-0.75</td>\n",
       "    </tr>\n",
       "    <tr>\n",
       "      <td>JuvenileDrugArrests</td>\n",
       "      <td>0.95</td>\n",
       "      <td>-0.82</td>\n",
       "      <td>1.00</td>\n",
       "      <td>0.88</td>\n",
       "    </tr>\n",
       "    <tr>\n",
       "      <td>TimeYoutube</td>\n",
       "      <td>0.85</td>\n",
       "      <td>-0.75</td>\n",
       "      <td>0.88</td>\n",
       "      <td>1.00</td>\n",
       "    </tr>\n",
       "  </tbody>\n",
       "</table>\n",
       "</div>"
      ],
      "text/plain": [
       "                     CornSyrup  AppleIphoneSales  JuvenileDrugArrests  \\\n",
       "CornSyrup                 1.00             -0.91                 0.95   \n",
       "AppleIphoneSales         -0.91              1.00                -0.82   \n",
       "JuvenileDrugArrests       0.95             -0.82                 1.00   \n",
       "TimeYoutube               0.85             -0.75                 0.88   \n",
       "\n",
       "                     TimeYoutube  \n",
       "CornSyrup                   0.85  \n",
       "AppleIphoneSales           -0.75  \n",
       "JuvenileDrugArrests         0.88  \n",
       "TimeYoutube                 1.00  "
      ]
     },
     "execution_count": 2,
     "metadata": {},
     "output_type": "execute_result"
    }
   ],
   "source": [
    "from IPython.core.interactiveshell import InteractiveShell\n",
    "InteractiveShell.ast_node_interactivity = \"all\"\n",
    "round (df.corr(method='pearson'),2)"
   ]
  },
  {
   "cell_type": "markdown",
   "metadata": {},
   "source": [
    "# TASK:\n",
    "Identify **strong** (i.e., correlation coefficient > |0.7|) and **meaningful** relationships among pairs of columns in this dataset.\n",
    "\n",
    "1. Please **mark which relationships** in the dataset are strong AND meaningful (using yes/no)\n",
    "2. Please provide a brief **reasoning** behind your answer (an explanation of **why** you took certain steps or performed certain calculations to get to the solution)\n",
    "3. Please mark your **confidence** in the designed measure (on a scale of 1 to 5)"
   ]
  },
  {
   "cell_type": "code",
   "execution_count": 3,
   "metadata": {},
   "outputs": [
    {
     "name": "stdout",
     "output_type": "stream",
     "text": [
      "nnnnnn\n",
      "They are all strong |correlation| > 0.7. But none is meaningful because there is a common causes the money\n",
      "4\n"
     ]
    }
   ],
   "source": [
    "#NOTE: Round all your statistics to 2 decimal places before reasoning with them!! \n",
    "\n",
    "#REPORT YOUR ANSWER (e.g., yynnyy, yyynnn, ynynyy etc)\n",
    "strong_and_meaningful_relationships = 'nnnnnn'\n",
    "#Choose \"y\" for YES and \"n\" for NO for the 6 pairs of dataset relationships in the following sequence:\n",
    "#CornSyrup-AppleIphoneSales --> CornSyrup-JuvenileDrugArrests --> CornSyrup-TimeYoutube --> AppleIphoneSales-JuvenileDrugArrests --> AppleIphoneSales-TimeYoutube --> JuvenileDrugArrests-TimeYoutube\n",
    "print(strong_and_meaningful_relationships)\n",
    "\n",
    "#REPORT YOUR REASONING\n",
    "relationships_reasoning = 'They are all strong |correlation| > 0.7. But none is meaningful because there is a common causes the money'\n",
    "print(relationships_reasoning)\n",
    "\n",
    "#REPORT CONFIDENCE IN YOUR ANSWER\n",
    "confidence_measure = '4' \n",
    "#Choose among: 1 (low confidence), 2, 3 (medium confidence), 4, 5 (high confidence)\n",
    "print(confidence_measure)\n"
   ]
  },
  {
   "cell_type": "code",
   "execution_count": null,
   "metadata": {},
   "outputs": [],
   "source": [
    "#ONLY use this space below to write your code (if needed) for answering the task. DO NOT ERASE this code segment from the workbook.\n",
    "\n",
    "\n",
    "\n",
    "\n",
    "\n",
    "\n",
    "\n",
    "\n",
    "\n",
    "\n",
    "\n",
    "\n",
    "#Your intuitive ideas are valuable!!If you need syntax-related help in implementing your ideas, you can access the following documentation files (use the \"Search\" tab for queries) and/or summarized syntax sheets.\n",
    "\n",
    "#a) Pandas library\n",
    "#Documentation file: https://pandas.pydata.org/pandas-docs/stable/\n",
    "#Syntax sheet: https://datacamp-community-prod.s3.amazonaws.com/fbc502d0-46b2-4e1b-b6b0-5402ff273251\n",
    "\n",
    "#b) Numpy library\n",
    "#Documentation file: https://docs.scipy.org/doc/numpy/user/index.html\n",
    "#Syntax sheet: https://datacamp-community-prod.s3.amazonaws.com/e9f83f72-a81b-42c7-af44-4e35b48b20b7\n",
    "\n",
    "#c) Matplotlib library\n",
    "#Documentation file: https://matplotlib.org/contents.html\n",
    "#Syntax sheet: https://datacamp-community-prod.s3.amazonaws.com/28b8210c-60cc-4f13-b0b4-5b4f2ad4790b\n",
    "\n",
    "#d) Scipy library\n",
    "#Documentation file: https://docs.scipy.org/doc/scipy/reference/\n",
    "#Syntax sheet: https://datacamp-community-prod.s3.amazonaws.com/5710caa7-94d4-4248-be94-d23dea9e668f"
   ]
  }
 ],
 "metadata": {
  "kernelspec": {
   "display_name": "Python [conda env:ada] *",
   "language": "python",
   "name": "conda-env-ada-py"
  },
  "language_info": {
   "codemirror_mode": {
    "name": "ipython",
    "version": 3
   },
   "file_extension": ".py",
   "mimetype": "text/x-python",
   "name": "python",
   "nbconvert_exporter": "python",
   "pygments_lexer": "ipython3",
   "version": "3.7.4"
  }
 },
 "nbformat": 4,
 "nbformat_minor": 4
}
