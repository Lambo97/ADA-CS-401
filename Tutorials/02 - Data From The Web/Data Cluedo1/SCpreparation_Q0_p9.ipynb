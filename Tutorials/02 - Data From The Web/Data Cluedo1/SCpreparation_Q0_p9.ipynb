{
 "cells": [
  {
   "cell_type": "markdown",
   "metadata": {},
   "source": [
    "# SOCIETAL FACTORS (20 mins)\n",
    "# Instructions / Notes: Read these carefully\n",
    "This **Python Jupyter Notebook** notebook is split into the following sections:\n",
    "\n",
    "1. **Initial section** with pre-filled cells, that you should run just to load some Python modules (packages), the dataset required for your task and its variables in memory.\n",
    "2. **Middle section** with **description of a concrete task** associated with the dataset, and some **ideas** related to the task that you may choose to work with. \n",
    "3. **Final section (with one or more empty cells)** where you can perform analyses with the loaded dataset (e.g., write a few lines of code if needed), answer the question posed, and describe your reasoning in words.\n",
    "\n",
    "**Read and execute each cell in order, without skipping forward**. To execute any cell, press **Shift+Enter** on your keyboard. It might take a couple of seconds to receive an output. \n",
    "\n",
    "Have fun!"
   ]
  },
  {
   "cell_type": "code",
   "execution_count": 1,
   "metadata": {},
   "outputs": [
    {
     "data": {
      "text/html": [
       "<div>\n",
       "<style scoped>\n",
       "    .dataframe tbody tr th:only-of-type {\n",
       "        vertical-align: middle;\n",
       "    }\n",
       "\n",
       "    .dataframe tbody tr th {\n",
       "        vertical-align: top;\n",
       "    }\n",
       "\n",
       "    .dataframe thead th {\n",
       "        text-align: right;\n",
       "    }\n",
       "</style>\n",
       "<table border=\"1\" class=\"dataframe\">\n",
       "  <thead>\n",
       "    <tr style=\"text-align: right;\">\n",
       "      <th></th>\n",
       "      <th>Movie_theatres</th>\n",
       "      <th>Emigrants</th>\n",
       "      <th>Train_transport</th>\n",
       "      <th>Name_Peter</th>\n",
       "    </tr>\n",
       "  </thead>\n",
       "  <tbody>\n",
       "    <tr>\n",
       "      <td>0</td>\n",
       "      <td>165</td>\n",
       "      <td>43980</td>\n",
       "      <td>90564</td>\n",
       "      <td>271</td>\n",
       "    </tr>\n",
       "    <tr>\n",
       "      <td>1</td>\n",
       "      <td>162</td>\n",
       "      <td>43481</td>\n",
       "      <td>86842</td>\n",
       "      <td>223</td>\n",
       "    </tr>\n",
       "    <tr>\n",
       "      <td>2</td>\n",
       "      <td>166</td>\n",
       "      <td>43466</td>\n",
       "      <td>88374</td>\n",
       "      <td>204</td>\n",
       "    </tr>\n",
       "    <tr>\n",
       "      <td>3</td>\n",
       "      <td>163</td>\n",
       "      <td>45017</td>\n",
       "      <td>89575</td>\n",
       "      <td>200</td>\n",
       "    </tr>\n",
       "    <tr>\n",
       "      <td>4</td>\n",
       "      <td>165</td>\n",
       "      <td>45869</td>\n",
       "      <td>90456</td>\n",
       "      <td>148</td>\n",
       "    </tr>\n",
       "    <tr>\n",
       "      <td>5</td>\n",
       "      <td>165</td>\n",
       "      <td>46786</td>\n",
       "      <td>90407</td>\n",
       "      <td>162</td>\n",
       "    </tr>\n",
       "    <tr>\n",
       "      <td>6</td>\n",
       "      <td>167</td>\n",
       "      <td>42708</td>\n",
       "      <td>88615</td>\n",
       "      <td>145</td>\n",
       "    </tr>\n",
       "    <tr>\n",
       "      <td>7</td>\n",
       "      <td>164</td>\n",
       "      <td>48171</td>\n",
       "      <td>91111</td>\n",
       "      <td>128</td>\n",
       "    </tr>\n",
       "    <tr>\n",
       "      <td>8</td>\n",
       "      <td>163</td>\n",
       "      <td>51988</td>\n",
       "      <td>92146</td>\n",
       "      <td>119</td>\n",
       "    </tr>\n",
       "    <tr>\n",
       "      <td>9</td>\n",
       "      <td>162</td>\n",
       "      <td>52097</td>\n",
       "      <td>92995</td>\n",
       "      <td>120</td>\n",
       "    </tr>\n",
       "    <tr>\n",
       "      <td>10</td>\n",
       "      <td>161</td>\n",
       "      <td>55782</td>\n",
       "      <td>103393</td>\n",
       "      <td>67</td>\n",
       "    </tr>\n",
       "    <tr>\n",
       "      <td>11</td>\n",
       "      <td>163</td>\n",
       "      <td>54907</td>\n",
       "      <td>106133</td>\n",
       "      <td>78</td>\n",
       "    </tr>\n",
       "    <tr>\n",
       "      <td>12</td>\n",
       "      <td>162</td>\n",
       "      <td>56416</td>\n",
       "      <td>109243</td>\n",
       "      <td>79</td>\n",
       "    </tr>\n",
       "    <tr>\n",
       "      <td>13</td>\n",
       "      <td>160</td>\n",
       "      <td>59226</td>\n",
       "      <td>111967</td>\n",
       "      <td>59</td>\n",
       "    </tr>\n",
       "    <tr>\n",
       "      <td>14</td>\n",
       "      <td>161</td>\n",
       "      <td>56340</td>\n",
       "      <td>114121</td>\n",
       "      <td>71</td>\n",
       "    </tr>\n",
       "  </tbody>\n",
       "</table>\n",
       "</div>"
      ],
      "text/plain": [
       "    Movie_theatres  Emigrants  Train_transport  Name_Peter\n",
       "0              165      43980            90564         271\n",
       "1              162      43481            86842         223\n",
       "2              166      43466            88374         204\n",
       "3              163      45017            89575         200\n",
       "4              165      45869            90456         148\n",
       "5              165      46786            90407         162\n",
       "6              167      42708            88615         145\n",
       "7              164      48171            91111         128\n",
       "8              163      51988            92146         119\n",
       "9              162      52097            92995         120\n",
       "10             161      55782           103393          67\n",
       "11             163      54907           106133          78\n",
       "12             162      56416           109243          79\n",
       "13             160      59226           111967          59\n",
       "14             161      56340           114121          71"
      ]
     },
     "execution_count": 1,
     "metadata": {},
     "output_type": "execute_result"
    }
   ],
   "source": [
    "# Run the following to import necessary packages and import dataset. \n",
    "import sys\n",
    "import pandas as pd\n",
    "import numpy as np\n",
    "import scipy as sp\n",
    "from IPython.core.interactiveshell import InteractiveShell\n",
    "InteractiveShell.ast_node_interactivity = \"all\"\n",
    "from othersSC_SD import different_idea\n",
    "import matplotlib\n",
    "import matplotlib.pyplot as plt\n",
    "import seaborn as sns\n",
    "%matplotlib inline\n",
    "matplotlib.style.use('ggplot')\n",
    "\n",
    "d1 = \"SC_dataset.csv\"\n",
    "df1 = pd.read_csv(d1)\n",
    "#Print the dataset to see if is loaded properly.\n",
    "df1"
   ]
  },
  {
   "cell_type": "markdown",
   "metadata": {},
   "source": [
    "# DATASET DESCRIPTION\n",
    "The dataset above contains various societal factors in **country 1** during a timespan of 2001 to 2015:\n",
    "1. **Number of movie theaters**\n",
    "2. **Number of emigrants (people leaving the country)** \n",
    "3. **Number of people transported by trains**\n",
    "4. **Number of newborns given the name Peter** \n",
    "\n",
    "# TASK\n",
    "Design **as many measures** to identify **strong AND meaningful** relationships among pairs of columns in this dataset. Your rationale should be based on consideration of every data point in the dataset. We expect you to **generate multiple measures**.\n",
    "\n",
    "For **each measure that you design**: \n",
    "\n",
    "1. Please mark which relationships in the dataset are strong and meaningful (using yes/no)\n",
    "2. Please provide a brief **reasoning** behind your answer (an explanation of **why** you took certain steps or performed certain calculations to get to the solution)\n",
    "3. Please mark your **confidence** in the designed measure (on a scale of 1 to 5)\n",
    "4. Please mark how many **ideas did you request** so far to develop your measure (e.g., 0, 1, 2 etc)\n",
    "\n",
    "**MAKE SURE** to fill all four fields for each measure.\n",
    "\n",
    "# IDEA:\n",
    "**Read more about statistical dependence among variables here: https://en.wikipedia.org/wiki/Correlation_and_dependence**. \n",
    "\n",
    "# Important note about the idea\n",
    "You may choose to work (or, not work) with this idea in developing your measure. In case the idea information is not helpful and you are not sure if/how you might design new measures (or, revise measures you already designed), you can ask for a different idea by typing **different_idea (\"SC\", \"SD1\")** in the code cell below the template cell.\n"
   ]
  },
  {
   "cell_type": "code",
   "execution_count": null,
   "metadata": {},
   "outputs": [],
   "source": [
    "#Template for designing a measure. Make copies of this template cell to create as many measures as you are able to (within the allotted time).\n",
    "\n",
    "#NOTE: Round all your statistics to 2 decimal places before reasoning with them!! \n",
    "\n",
    "#REPORT YOUR ANSWER (e.g., yynnyy, yyynnn, ynynyy etc)\n",
    "strong_and_meaningful_relationships = 'nnyynn'\n",
    "#Choose \"y\" for YES and \"n\" for NO for the 6 pairs of dataset relationships in the following sequence:\n",
    "#MovieTheatres-Emigrants --> MovieTheatres-TrainTransport --> MovieTheatres-NamePeter --> Emigrants-TrainTransport --> Emigrants-NamePeter -->TrainTransport-NamePeter \n",
    "print(strong_and_meaningful_relationships)\n",
    "\n",
    "#REPORT YOUR REASONING\n",
    "relationships_reasoning = 'Compute the correlation distances using scipy function. And take the lower distances'\n",
    "print(relationships_reasoning)\n",
    "\n",
    "#REPORT CONFIDENCE IN YOUR SOLUTION\n",
    "confidence_measure = '2' \n",
    "#Choose among: 1 (low confidence), 2, 3 (medium confidence), 4, 5 (high confidence)\n",
    "print(confidence_measure)\n",
    "\n",
    "#REPORT A COUNT OF IDEAS REQUESTED SO FAR TO DEVELOP YOUR SOLUTION\n",
    "ideas_asked_so_far_measure = '1'\n",
    "#Choose among: 0 (Did not use the provided idea) 1 (Only used the provided idea), 2 (Asked one additional idea), 3 (Asked two additional ideas)\n",
    "print(ideas_asked_so_far_measure)\n"
   ]
  },
  {
   "cell_type": "code",
   "execution_count": 4,
   "metadata": {},
   "outputs": [
    {
     "data": {
      "text/plain": [
       "'Read more about correlation and causation here: https://en.wikipedia.org/wiki/Correlation_does_not_imply_causation. If this idea changes measures you designed earlier or inspires you to create a new measure, try again. In case the idea information is not helpful and you are not sure if/how you might design new measures (or, revise measures you already designed), you can ask for a different idea by calling the function different_idea(\"SC\",\"SD2\").'"
      ]
     },
     "execution_count": 4,
     "metadata": {},
     "output_type": "execute_result"
    },
    {
     "data": {
      "text/plain": [
       "1.8034250982844886"
      ]
     },
     "execution_count": 4,
     "metadata": {},
     "output_type": "execute_result"
    },
    {
     "data": {
      "text/plain": [
       "1.7084054458333857"
      ]
     },
     "execution_count": 4,
     "metadata": {},
     "output_type": "execute_result"
    },
    {
     "data": {
      "text/plain": [
       "0.4173730137773142"
      ]
     },
     "execution_count": 4,
     "metadata": {},
     "output_type": "execute_result"
    },
    {
     "data": {
      "text/plain": [
       "0.08653021375769054"
      ]
     },
     "execution_count": 4,
     "metadata": {},
     "output_type": "execute_result"
    },
    {
     "data": {
      "text/plain": [
       "1.884907289753981"
      ]
     },
     "execution_count": 4,
     "metadata": {},
     "output_type": "execute_result"
    },
    {
     "data": {
      "text/plain": [
       "1.7963703520021377"
      ]
     },
     "execution_count": 4,
     "metadata": {},
     "output_type": "execute_result"
    }
   ],
   "source": [
    "#ONLY use this space below to write your code (if needed) for any measure you generate. DO NOT ERASE this code segment from the workbook.\n",
    "\n",
    "#IF YOU WANT TO ASK FOR A DIFFERENT IDEA, UNCOMMENT THE LINE BELOW, AND JUST RE-RUN THIS CELL\n",
    "#different_idea(\"SC\",\"SD1\")\n",
    "\n",
    "\n",
    "sp.spatial.distance.correlation(df1['Movie_theatres'], df1['Emigrants'])\n",
    "sp.spatial.distance.correlation(df1['Movie_theatres'], df1['Train_transport'])\n",
    "sp.spatial.distance.correlation(df1['Movie_theatres'], df1['Name_Peter'])\n",
    "\n",
    "sp.spatial.distance.correlation(df1['Emigrants'], df1['Train_transport'])\n",
    "sp.spatial.distance.correlation(df1['Emigrants'], df1['Name_Peter'])\n",
    "sp.spatial.distance.correlation(df1['Train_transport'], df1['Name_Peter'])\n",
    "\n",
    "\n",
    "\n",
    "\n",
    "\n",
    "#Your intuitive ideas are valuable!!If you need syntax-related help in implementing your ideas, you can access the following documentation files (use the \"Search\" tab for queries) and/or summarized syntax sheets.\n",
    "\n",
    "#a) Pandas library\n",
    "#Documentation file: https://pandas.pydata.org/pandas-docs/stable/\n",
    "#Syntax sheet: https://datacamp-community-prod.s3.amazonaws.com/fbc502d0-46b2-4e1b-b6b0-5402ff273251\n",
    "\n",
    "#b) Numpy library\n",
    "#Documentation file: https://docs.scipy.org/doc/numpy/user/index.html\n",
    "#Syntax sheet: https://datacamp-community-prod.s3.amazonaws.com/e9f83f72-a81b-42c7-af44-4e35b48b20b7\n",
    "\n",
    "#c) Matplotlib library\n",
    "#Documentation file: https://matplotlib.org/contents.html\n",
    "#Syntax sheet: https://datacamp-community-prod.s3.amazonaws.com/28b8210c-60cc-4f13-b0b4-5b4f2ad4790b\n",
    "\n",
    "#d) Scipy library\n",
    "#Documentation file: https://docs.scipy.org/doc/scipy/reference/\n",
    "#Syntax sheet: https://datacamp-community-prod.s3.amazonaws.com/5710caa7-94d4-4248-be94-d23dea9e668f"
   ]
  },
  {
   "cell_type": "code",
   "execution_count": null,
   "metadata": {},
   "outputs": [],
   "source": []
  }
 ],
 "metadata": {
  "kernelspec": {
   "display_name": "Python [conda env:ada] *",
   "language": "python",
   "name": "conda-env-ada-py"
  },
  "language_info": {
   "codemirror_mode": {
    "name": "ipython",
    "version": 3
   },
   "file_extension": ".py",
   "mimetype": "text/x-python",
   "name": "python",
   "nbconvert_exporter": "python",
   "pygments_lexer": "ipython3",
   "version": "3.7.4"
  }
 },
 "nbformat": 4,
 "nbformat_minor": 4
}
