{
 "cells": [
  {
   "cell_type": "markdown",
   "metadata": {},
   "source": [
    "# Handling text"
   ]
  },
  {
   "cell_type": "markdown",
   "metadata": {},
   "source": [
    "## In this tutorial, we will go through:\n",
    "1. Implementing the natural language processing pipeline\n",
    "2. Solving three typical language processing tasks:\n",
    "   * Sentiment analysis\n",
    "   * Document classification\n",
    "   * Topic detection\n",
    "   * Semantic analysis\n",
    "\n",
    "\n",
    "### We will be working with four books in plain text:\n",
    "1. Moby-Dick, by Herman Melville\n",
    "2. Frankenstein; or, The Modern Prometheus, by Mary Shelley\n",
    "3. Pride and Prejudice, by Jane Austen\n",
    "4. Dracula, Bram Stoker"
   ]
  },
  {
   "cell_type": "markdown",
   "metadata": {},
   "source": [
    "#### To run the notebook, you need to install the following libraries:\n",
    "\n",
    "conda install nltk gensim spacy <br>\n",
    "pip install pyLDAvis  <br>\n",
    "pip install vaderSentiment  <br>\n",
    "pip install empath <br>\n",
    "python -m spacy download en  <br>\n",
    "python -m nltk.downloader punkt <br>\n",
    "python -m nltk.downloader all-corpora <br>"
   ]
  },
  {
   "cell_type": "markdown",
   "metadata": {},
   "source": [
    "### Imports"
   ]
  },
  {
   "cell_type": "code",
   "execution_count": 1,
   "metadata": {},
   "outputs": [],
   "source": [
    "%load_ext autoreload\n",
    "%autoreload 2\n",
    "\n",
    "import warnings; warnings.simplefilter('ignore')\n",
    "import os, codecs, string, random\n",
    "import numpy as np\n",
    "from numpy.random import seed as random_seed\n",
    "from numpy.random import shuffle as random_shuffle\n",
    "import matplotlib.pyplot as plt\n",
    "%matplotlib inline  \n",
    "\n",
    "seed = 42\n",
    "random.seed(seed)\n",
    "np.random.seed(seed)\n",
    "\n",
    "#NLP libraries\n",
    "import spacy, nltk, gensim, sklearn\n",
    "import pyLDAvis.gensim\n",
    "\n",
    "#Vader\n",
    "import vaderSentiment\n",
    "from vaderSentiment.vaderSentiment import SentimentIntensityAnalyzer\n",
    "\n",
    "#Scikit imports\n",
    "from sklearn.feature_extraction.text import CountVectorizer\n",
    "from sklearn.model_selection import train_test_split\n",
    "from sklearn.model_selection import cross_val_score\n",
    "from sklearn.linear_model import LogisticRegression\n",
    "from sklearn import preprocessing\n",
    "from sklearn.preprocessing import StandardScaler\n",
    "from sklearn.utils import shuffle\n",
    "\n",
    "#The data\n",
    "corpus_root = 'books/'"
   ]
  },
  {
   "cell_type": "markdown",
   "metadata": {},
   "source": [
    "#### In this tutorial we will be working with text in English. The same principles apply, but the methods cannot be applied directly to the text in unknown or other languages. We will be working mainly with the Spacy library."
   ]
  },
  {
   "cell_type": "markdown",
   "metadata": {},
   "source": [
    "Initialize the Spacy analyzer in English"
   ]
  },
  {
   "cell_type": "code",
   "execution_count": 2,
   "metadata": {},
   "outputs": [],
   "source": [
    "nlp = spacy.load('en')"
   ]
  },
  {
   "cell_type": "markdown",
   "metadata": {},
   "source": [
    "Load the books"
   ]
  },
  {
   "cell_type": "code",
   "execution_count": 3,
   "metadata": {},
   "outputs": [
    {
     "name": "stdout",
     "output_type": "stream",
     "text": [
      "Moby_Dick.txt\n",
      "Frankenstein.txt\n",
      "DRACULA.txt\n",
      "PRIDE_AND_PREJUDICE.txt\n"
     ]
    }
   ],
   "source": [
    "books = list()\n",
    "\n",
    "for book_file in os.listdir(corpus_root):\n",
    "    if \".txt\" in book_file:\n",
    "        print(book_file)\n",
    "        with codecs.open(os.path.join(corpus_root,book_file),encoding=\"utf8\") as f:\n",
    "            books.append(f.read())"
   ]
  },
  {
   "cell_type": "markdown",
   "metadata": {},
   "source": [
    "Print the beginning of Pride and Prejudice"
   ]
  },
  {
   "cell_type": "code",
   "execution_count": 4,
   "metadata": {},
   "outputs": [
    {
     "name": "stdout",
     "output_type": "stream",
     "text": [
      "PRIDE AND PREJUDICE\n",
      "\n",
      "By Jane Austen\n",
      "\n",
      "\n",
      "\n",
      "Chapter 1\n",
      "\n",
      "\n",
      "It is a truth universally acknowledged, that a single man in possession\n",
      "of a good fortune, must be in want of a wife.\n",
      "\n",
      "However little known the feelings or views of such a man may be on his\n",
      "first entering a neighbourhood, this truth is so well fixed in the minds\n",
      "of the surrounding families, that he is considered the rightful property\n",
      "of some one or other of their daughters.\n",
      "\n",
      "“My dear Mr. Bennet,” said his lady to him one day, “have you heard that\n",
      "Netherfield Park is let at last?”\n",
      "\n",
      "Mr. Bennet replied that he had not.\n",
      "\n",
      "“But it is,” returned she;\n"
     ]
    }
   ],
   "source": [
    "print(books[3][0:600])"
   ]
  },
  {
   "cell_type": "markdown",
   "metadata": {},
   "source": [
    "#### Let's remove the new lines"
   ]
  },
  {
   "cell_type": "code",
   "execution_count": 5,
   "metadata": {},
   "outputs": [],
   "source": [
    "books = [\" \".join(b.split()) for b in books]"
   ]
  },
  {
   "cell_type": "code",
   "execution_count": 6,
   "metadata": {},
   "outputs": [
    {
     "name": "stdout",
     "output_type": "stream",
     "text": [
      "PRIDE AND PREJUDICE By Jane Austen Chapter 1 It is a truth universally acknowledged, that a single man in possession of a good fortune, must be in want of a wife. However little known the feelings or views of such a man may be on his first entering a neighbourhood, this truth is so well fixed in the minds of the surrounding families, that he is considered the rightful property of some one or other of their daughters. “My dear Mr. Bennet,” said his lady to him one day, “have you heard that Netherfield Park is let at last?” Mr. Bennet replied that he had not. “But it is,” returned she; “for Mrs.\n"
     ]
    }
   ],
   "source": [
    "print(books[3][0:600])"
   ]
  },
  {
   "cell_type": "markdown",
   "metadata": {},
   "source": [
    "### Load Frankenstein"
   ]
  },
  {
   "cell_type": "code",
   "execution_count": 7,
   "metadata": {},
   "outputs": [],
   "source": [
    "#index all books\n",
    "book = books[1]\n",
    "\n",
    "#put in raw text, get a Spacy object\n",
    "doc = nlp(book)"
   ]
  },
  {
   "cell_type": "markdown",
   "metadata": {},
   "source": [
    "## Let's create our own NLP pipeline with Spacy!"
   ]
  },
  {
   "cell_type": "markdown",
   "metadata": {},
   "source": [
    "### Step 1: Sentence splitting\n",
    "\n",
    "#### May sound trivial, but it's not! (e.g., U.K. or Yahoo!) Spacy uses a statistical model to generate accurate predictions. This works well out of the box for general-purpose text or web text. For social media use dedicated libraries."
   ]
  },
  {
   "cell_type": "code",
   "execution_count": 8,
   "metadata": {},
   "outputs": [
    {
     "name": "stdout",
     "output_type": "stream",
     "text": [
      "Sentence 1: Frankenstein, or the Modern Prometheus by Mary Wollstonecraft (Godwin) Shelley Letter 1 St. Petersburgh, Dec. 11th, \n",
      "\n",
      "Sentence 2: 17-- TO Mrs. Saville, England You will rejoice to hear that no disaster has accompanied the commencement of an enterprise which you have regarded with such evil forebodings. \n",
      "\n",
      "Sentence 3: I arrived here yesterday, and my first task is to assure my dear sister of my welfare and increasing confidence in the success of my undertaking. \n",
      "\n"
     ]
    }
   ],
   "source": [
    "sentences = [sent for sent in doc.sents]\n",
    "print('Sentence 1:',sentences[0],'\\n')\n",
    "print('Sentence 2:',sentences[1],'\\n')\n",
    "print('Sentence 3:',sentences[2],'\\n')"
   ]
  },
  {
   "cell_type": "markdown",
   "metadata": {},
   "source": [
    "### Step 2: Tokenization\n",
    "\n",
    "#### The task of splitting a text into meaningful segments called tokens. We segment the sentence into words, punctuation, etc. This is done by first splitting on whitespace characters and them applying rules specific to each language. For example, \"don't\" does not contain whitespace, but should be split into two tokens, \"do\" and \"n't\", while \"U.K.\" should always remain one token and \"but,\" shouldn't."
   ]
  },
  {
   "cell_type": "markdown",
   "metadata": {},
   "source": [
    "### We will analyze the methods on an example sentence first"
   ]
  },
  {
   "cell_type": "code",
   "execution_count": 9,
   "metadata": {},
   "outputs": [
    {
     "name": "stdout",
     "output_type": "stream",
     "text": [
      "I am already far north of London, and as I walk in the streets of Petersburgh, I feel a cold northern breeze play upon my cheeks, which braces my nerves and fills me with delight. \n",
      "\n",
      "['I', 'am', 'already', 'far', 'north', 'of', 'London', ',', 'and', 'as', 'I', 'walk', 'in', 'the', 'streets', 'of', 'Petersburgh', ',', 'I', 'feel', 'a', 'cold', 'northern', 'breeze', 'play', 'upon', 'my', 'cheeks', ',', 'which', 'braces', 'my', 'nerves', 'and', 'fills', 'me', 'with', 'delight', '.']\n"
     ]
    }
   ],
   "source": [
    "example = 'I am already far north of London, and as I walk in the streets of Petersburgh, I feel a cold northern breeze play upon my cheeks, which braces my nerves and fills me with delight.'\n",
    "\n",
    "doc = nlp(example)\n",
    "\n",
    "#strings are encoded to hashes\n",
    "tokens = [token.text for token in doc]\n",
    "\n",
    "print(example,'\\n')\n",
    "print(tokens)"
   ]
  },
  {
   "cell_type": "markdown",
   "metadata": {},
   "source": [
    "### Step 3: Part of speech tagging\n",
    "\n",
    "#### The model makes a prediction of which tag or label most likely applies in this context. For example, a word following \"the\" in English is most likely a noun."
   ]
  },
  {
   "cell_type": "code",
   "execution_count": 10,
   "metadata": {},
   "outputs": [
    {
     "name": "stdout",
     "output_type": "stream",
     "text": [
      "I am already far north of London, and as I walk in the streets of Petersburgh, I feel a cold northern breeze play upon my cheeks, which braces my nerves and fills me with delight. \n",
      "\n",
      "[('I', 'PRON'), ('am', 'VERB'), ('already', 'ADV'), ('far', 'ADV'), ('north', 'ADV'), ('of', 'ADP'), ('London', 'PROPN'), (',', 'PUNCT'), ('and', 'CCONJ'), ('as', 'ADP'), ('I', 'PRON'), ('walk', 'VERB'), ('in', 'ADP'), ('the', 'DET'), ('streets', 'NOUN'), ('of', 'ADP'), ('Petersburgh', 'PROPN'), (',', 'PUNCT'), ('I', 'PRON'), ('feel', 'VERB'), ('a', 'DET'), ('cold', 'ADJ'), ('northern', 'ADJ'), ('breeze', 'NOUN'), ('play', 'NOUN'), ('upon', 'ADP'), ('my', 'ADJ'), ('cheeks', 'NOUN'), (',', 'PUNCT'), ('which', 'ADJ'), ('braces', 'VERB'), ('my', 'ADJ'), ('nerves', 'NOUN'), ('and', 'CCONJ'), ('fills', 'VERB'), ('me', 'PRON'), ('with', 'ADP'), ('delight', 'NOUN'), ('.', 'PUNCT')]\n"
     ]
    }
   ],
   "source": [
    "pos_tagged = [(token.text, token.pos_) for token in doc]\n",
    "\n",
    "print(example,'\\n')\n",
    "print(pos_tagged)"
   ]
  },
  {
   "cell_type": "code",
   "execution_count": 11,
   "metadata": {},
   "outputs": [
    {
     "name": "stdout",
     "output_type": "stream",
     "text": [
      "coordinating conjunction\n",
      "adposition\n",
      "determiner\n"
     ]
    }
   ],
   "source": [
    "print(spacy.explain('CCONJ'))\n",
    "print(spacy.explain('ADP'))\n",
    "print(spacy.explain('DET'))"
   ]
  },
  {
   "cell_type": "markdown",
   "metadata": {},
   "source": [
    "### When unsure, see here for more details: http://universaldependencies.org/u/pos/all.html"
   ]
  },
  {
   "cell_type": "markdown",
   "metadata": {},
   "source": [
    "#### More detailed annotation:"
   ]
  },
  {
   "cell_type": "code",
   "execution_count": 12,
   "metadata": {},
   "outputs": [
    {
     "name": "stdout",
     "output_type": "stream",
     "text": [
      "[('I', 'PRP'), ('am', 'VBP'), ('already', 'RB'), ('far', 'RB'), ('north', 'RB'), ('of', 'IN'), ('London', 'NNP'), (',', ','), ('and', 'CC'), ('as', 'IN'), ('I', 'PRP'), ('walk', 'VBP'), ('in', 'IN'), ('the', 'DT'), ('streets', 'NNS'), ('of', 'IN'), ('Petersburgh', 'NNP'), (',', ','), ('I', 'PRP'), ('feel', 'VBP'), ('a', 'DT'), ('cold', 'JJ'), ('northern', 'JJ'), ('breeze', 'NN'), ('play', 'NN'), ('upon', 'IN'), ('my', 'PRP$'), ('cheeks', 'NNS'), (',', ','), ('which', 'WDT'), ('braces', 'VBZ'), ('my', 'PRP$'), ('nerves', 'NNS'), ('and', 'CC'), ('fills', 'VBZ'), ('me', 'PRP'), ('with', 'IN'), ('delight', 'NN'), ('.', '.')]\n"
     ]
    }
   ],
   "source": [
    "pos_tagged = [(token.text, token.tag_) for token in doc]\n",
    "\n",
    "print(pos_tagged)"
   ]
  },
  {
   "cell_type": "code",
   "execution_count": 13,
   "metadata": {},
   "outputs": [
    {
     "name": "stdout",
     "output_type": "stream",
     "text": [
      "pronoun, personal\n",
      "verb, non-3rd person singular present\n"
     ]
    }
   ],
   "source": [
    "print(spacy.explain('PRP'))\n",
    "print(spacy.explain('VBP'))"
   ]
  },
  {
   "cell_type": "markdown",
   "metadata": {},
   "source": [
    "### Step 4: Named entity recognition\n",
    "\n",
    "#### For example, a person, a country, a product or a book title. Spacy can recognise various types of named entities in a document. This doesn't always work perfectly and might need some tuning later, depending on your use case.\n",
    "\n",
    "Built in entity types: <br>\n",
    "\n",
    "PERSON  People, including fictional.  <br>\n",
    "NORP\tNationalities or religious or political groups. <br>\n",
    "FAC\tBuildings, airports, highways, bridges, etc. <br>\n",
    "ORG\tCompanies, agencies, institutions, etc. <br>\n",
    "GPE\tCountries, cities, states. <br>\n",
    "LOC\tNon-GPE locations, mountain ranges, bodies of water. <br>\n",
    "PRODUCT\tObjects, vehicles, foods, etc. (Not services.) <br>\n",
    "EVENT\tNamed hurricanes, battles, wars, sports events, etc. <br>\n",
    "WORK_OF_ART\tTitles of books, songs, etc. <br>\n",
    "LAW\tNamed documents made into laws. <br>\n",
    "LANGUAGE\tAny named language. <br>\n",
    "DATE\tAbsolute or relative dates or periods. <br>\n",
    "TIME\tTimes smaller than a day. <br>\n",
    "PERCENT\tPercentage, including \"%\". <br>\n",
    "MONEY\tMonetary values, including unit. <br>\n",
    "QUANTITY\tMeasurements, as of weight or distance. <br>\n",
    "ORDINAL\t\"first\", \"second\", etc. <br>\n",
    "CARDINAL\tNumerals that do not fall under another type. <br>"
   ]
  },
  {
   "cell_type": "code",
   "execution_count": 14,
   "metadata": {},
   "outputs": [
    {
     "name": "stdout",
     "output_type": "stream",
     "text": [
      "I am already far north of London, and as I walk in the streets of Petersburgh, I feel a cold northern breeze play upon my cheeks, which braces my nerves and fills me with delight. \n",
      "\n",
      "London GPE\n",
      "Petersburgh GPE\n"
     ]
    }
   ],
   "source": [
    "print(example,'\\n')\n",
    "for ent in doc.ents:\n",
    "    print(ent.text, ent.label_)"
   ]
  },
  {
   "cell_type": "markdown",
   "metadata": {},
   "source": [
    "### Step 5: Removing stop words"
   ]
  },
  {
   "cell_type": "markdown",
   "metadata": {},
   "source": [
    "Let's check out all the stopwords:"
   ]
  },
  {
   "cell_type": "code",
   "execution_count": 15,
   "metadata": {},
   "outputs": [
    {
     "name": "stdout",
     "output_type": "stream",
     "text": [
      "Number of stop words: 305\n",
      "First ten stop words: ['anyhow', 'elsewhere', 'whereas', 'thereby', 'eight', 'hereby', 'four', 'beside', 'get', 'latterly']\n"
     ]
    }
   ],
   "source": [
    "spacy_stopwords = spacy.lang.en.stop_words.STOP_WORDS\n",
    "print('Number of stop words: %d' % len(spacy_stopwords))\n",
    "print('First ten stop words:',list(spacy_stopwords)[:10])"
   ]
  },
  {
   "cell_type": "markdown",
   "metadata": {},
   "source": [
    "Detecting stopwords in the example:"
   ]
  },
  {
   "cell_type": "code",
   "execution_count": 16,
   "metadata": {},
   "outputs": [
    {
     "name": "stdout",
     "output_type": "stream",
     "text": [
      "I am already far north of London, and as I walk in the streets of Petersburgh, I feel a cold northern breeze play upon my cheeks, which braces my nerves and fills me with delight. \n",
      "\n",
      "['am', 'already', 'of', 'and', 'as', 'in', 'the', 'of', 'a', 'upon', 'my', 'which', 'my', 'and', 'me', 'with']\n"
     ]
    }
   ],
   "source": [
    "print(example,'\\n')\n",
    "\n",
    "stop_words = [token.text for token in doc if token.is_stop]\n",
    "\n",
    "print(stop_words)"
   ]
  },
  {
   "cell_type": "markdown",
   "metadata": {},
   "source": [
    "#### Sometimes it's useful to define a custom list of stopwords. Other solutions: https://www.ranks.nl/stopwords \n"
   ]
  },
  {
   "cell_type": "markdown",
   "metadata": {},
   "source": [
    "### Step 6: Lemmatization\n",
    "\n",
    "#### A rule-based deterministic lemmatizer maps the surface form of a token to a lemma."
   ]
  },
  {
   "cell_type": "code",
   "execution_count": 17,
   "metadata": {},
   "outputs": [
    {
     "name": "stdout",
     "output_type": "stream",
     "text": [
      "I am already far north of London, and as I walk in the streets of Petersburgh, I feel a cold northern breeze play upon my cheeks, which braces my nerves and fills me with delight. \n",
      "\n",
      "I ---> -PRON-\n",
      "am ---> be\n",
      "London ---> london\n",
      "I ---> -PRON-\n",
      "streets ---> street\n",
      "Petersburgh ---> petersburgh\n",
      "I ---> -PRON-\n",
      "my ---> -PRON-\n",
      "cheeks ---> cheek\n",
      "braces ---> brace\n",
      "my ---> -PRON-\n",
      "nerves ---> nerve\n",
      "fills ---> fill\n",
      "me ---> -PRON-\n"
     ]
    }
   ],
   "source": [
    "print(example,'\\n')\n",
    "for token in doc:\n",
    "    if token.text != token.lemma_:\n",
    "        print(token.text,'--->',token.lemma_)"
   ]
  },
  {
   "cell_type": "markdown",
   "metadata": {},
   "source": [
    "### Step 7: Chunking (shallow parsing)\n",
    "\n",
    "#### Noun chunks are \"base noun phrases\" – flat phrases that have a noun as their head -- a noun plus the words describing the noun – for example, \"the lavish green grass\" or \"the world’s largest tech fund\". "
   ]
  },
  {
   "cell_type": "code",
   "execution_count": 18,
   "metadata": {},
   "outputs": [
    {
     "name": "stdout",
     "output_type": "stream",
     "text": [
      "I am already far north of London, and as I walk in the streets of Petersburgh, I feel a cold northern breeze play upon my cheeks, which braces my nerves and fills me with delight. \n",
      "\n",
      "I\n",
      "London\n",
      "I\n",
      "the streets\n",
      "Petersburgh\n",
      "I\n",
      "a cold northern breeze play\n",
      "my cheeks\n",
      "my nerves\n",
      "me\n",
      "delight\n"
     ]
    }
   ],
   "source": [
    "print(example,'\\n')\n",
    "\n",
    "for chunk in doc.noun_chunks:\n",
    "    print(chunk.text)"
   ]
  },
  {
   "cell_type": "markdown",
   "metadata": {},
   "source": [
    "### Step 8: Dependancy parsing\n",
    "\n",
    "#### The terms head and child describe the words connected by an arc in the dependency tree. The type of syntactic relation that connects the child to the head can be obtain through .dep_."
   ]
  },
  {
   "cell_type": "code",
   "execution_count": 19,
   "metadata": {},
   "outputs": [
    {
     "name": "stdout",
     "output_type": "stream",
     "text": [
      "I am already far north of London, and as I walk in the streets of Petersburgh, I feel a cold northern breeze play upon my cheeks, which braces my nerves and fills me with delight. \n",
      "\n",
      "Token: I Head: am Children: []\n",
      "Token: am Head: am Children: [I, already, north, ,, and, feel]\n",
      "Token: already Head: am Children: []\n",
      "Token: far Head: north Children: []\n",
      "Token: north Head: am Children: [far, of]\n",
      "Token: of Head: north Children: [London]\n",
      "Token: London Head: of Children: []\n",
      "Token: , Head: am Children: []\n",
      "Token: and Head: am Children: []\n",
      "Token: as Head: walk Children: []\n",
      "Token: I Head: walk Children: []\n",
      "Token: walk Head: feel Children: [as, I, in]\n",
      "Token: in Head: walk Children: [streets]\n",
      "Token: the Head: streets Children: []\n",
      "Token: streets Head: in Children: [the, of]\n",
      "Token: of Head: streets Children: [Petersburgh]\n",
      "Token: Petersburgh Head: of Children: []\n",
      "Token: , Head: feel Children: []\n",
      "Token: I Head: feel Children: []\n",
      "Token: feel Head: am Children: [walk, ,, I, play, .]\n",
      "Token: a Head: play Children: []\n",
      "Token: cold Head: play Children: []\n",
      "Token: northern Head: breeze Children: []\n",
      "Token: breeze Head: play Children: [northern]\n",
      "Token: play Head: feel Children: [a, cold, breeze, upon]\n",
      "Token: upon Head: play Children: [cheeks]\n",
      "Token: my Head: cheeks Children: []\n",
      "Token: cheeks Head: upon Children: [my, ,, braces]\n",
      "Token: , Head: cheeks Children: []\n",
      "Token: which Head: braces Children: []\n",
      "Token: braces Head: cheeks Children: [which, nerves, and, fills]\n",
      "Token: my Head: nerves Children: []\n",
      "Token: nerves Head: braces Children: [my]\n",
      "Token: and Head: braces Children: []\n",
      "Token: fills Head: braces Children: [me, with]\n",
      "Token: me Head: fills Children: []\n",
      "Token: with Head: fills Children: [delight]\n",
      "Token: delight Head: with Children: []\n",
      "Token: . Head: feel Children: []\n"
     ]
    }
   ],
   "source": [
    "print(example,'\\n')\n",
    "\n",
    "for token in doc:\n",
    "    print('Token:',token.text,'Head:',token.head.text, 'Children:',[child for child in token.children])"
   ]
  },
  {
   "cell_type": "markdown",
   "metadata": {},
   "source": [
    "### Counting word occurences"
   ]
  },
  {
   "cell_type": "code",
   "execution_count": 20,
   "metadata": {},
   "outputs": [
    {
     "name": "stdout",
     "output_type": "stream",
     "text": [
      "I am already far north of London, and as I walk in the streets of Petersburgh, I feel a cold northern breeze play upon my cheeks, which braces my nerves and fills me with delight. \n",
      "\n",
      "[('I', 3), (',', 3), ('of', 2), ('and', 2), ('my', 2), ('am', 1), ('already', 1), ('far', 1), ('north', 1), ('London', 1), ('as', 1), ('walk', 1), ('in', 1), ('the', 1), ('streets', 1), ('Petersburgh', 1), ('feel', 1), ('a', 1), ('cold', 1), ('northern', 1), ('breeze', 1), ('play', 1), ('upon', 1), ('cheeks', 1), ('which', 1), ('braces', 1), ('nerves', 1), ('fills', 1), ('me', 1), ('with', 1), ('delight', 1), ('.', 1)]\n"
     ]
    }
   ],
   "source": [
    "from collections import Counter\n",
    "\n",
    "print(example,'\\n')\n",
    "words = [token.text for token in doc]\n",
    "\n",
    "# five most common tokens\n",
    "word_freq = Counter(words)\n",
    "common_words = word_freq.most_common()\n",
    "\n",
    "print(common_words)"
   ]
  },
  {
   "cell_type": "markdown",
   "metadata": {},
   "source": [
    "### Without stop words and punctuation"
   ]
  },
  {
   "cell_type": "code",
   "execution_count": 21,
   "metadata": {},
   "outputs": [
    {
     "name": "stdout",
     "output_type": "stream",
     "text": [
      "[('I', 3), ('far', 1), ('north', 1), ('London', 1), ('walk', 1), ('streets', 1), ('Petersburgh', 1), ('feel', 1), ('cold', 1), ('northern', 1), ('breeze', 1), ('play', 1), ('cheeks', 1), ('braces', 1), ('nerves', 1), ('fills', 1), ('delight', 1)]\n"
     ]
    }
   ],
   "source": [
    "words = [token.text for token in doc if token.is_stop != True and token.is_punct != True]\n",
    "\n",
    "# five most common tokens\n",
    "word_freq = Counter(words)\n",
    "common_words = word_freq.most_common()\n",
    "\n",
    "print(common_words)"
   ]
  },
  {
   "cell_type": "markdown",
   "metadata": {},
   "source": [
    "## Putting all the components together"
   ]
  },
  {
   "cell_type": "markdown",
   "metadata": {},
   "source": [
    "### Under the hood: the pipeline [\"tokenizer\",\"tagger\", \"parser\", \"ner\"]."
   ]
  },
  {
   "cell_type": "markdown",
   "metadata": {},
   "source": [
    "#### The NLP pipeline with Spacy\n",
    "<img src=\"spacy.png\">"
   ]
  },
  {
   "cell_type": "code",
   "execution_count": 22,
   "metadata": {},
   "outputs": [],
   "source": [
    "nlp = spacy.load('en')"
   ]
  },
  {
   "cell_type": "markdown",
   "metadata": {},
   "source": [
    "### If you don't need a particular component of the pipeline – for example, the tagger or the parser, you can disable loading it. This can sometimes make a big difference and improve loading speed. "
   ]
  },
  {
   "cell_type": "code",
   "execution_count": 23,
   "metadata": {},
   "outputs": [
    {
     "data": {
      "text/plain": [
       "('tagger', <spacy.pipeline.Tagger at 0x1a1e031510>)"
      ]
     },
     "execution_count": 23,
     "metadata": {},
     "output_type": "execute_result"
    }
   ],
   "source": [
    "nlp.remove_pipe('parser')\n",
    "nlp.remove_pipe('tagger')"
   ]
  },
  {
   "cell_type": "markdown",
   "metadata": {},
   "source": [
    "# Task 1: Seniment analysis"
   ]
  },
  {
   "cell_type": "markdown",
   "metadata": {},
   "source": [
    "### Initialize the analyzer. Typically used for data from social media (short sentences)."
   ]
  },
  {
   "cell_type": "code",
   "execution_count": 24,
   "metadata": {},
   "outputs": [],
   "source": [
    "analyzer = SentimentIntensityAnalyzer()\n",
    "vs = analyzer.polarity_scores(example)"
   ]
  },
  {
   "cell_type": "markdown",
   "metadata": {},
   "source": [
    "### The sentiment score consits of four values. Neutral, positive and negative sum to one. The final score is obtained by thresholding the compound value (e.g. +/-0.05)."
   ]
  },
  {
   "cell_type": "code",
   "execution_count": 25,
   "metadata": {},
   "outputs": [
    {
     "name": "stdout",
     "output_type": "stream",
     "text": [
      "I am already far north of London, and as I walk in the streets of Petersburgh, I feel a cold northern breeze play upon my cheeks, which braces my nerves and fills me with delight. \n",
      "\n",
      "Negative sentiment: 0.039\n",
      "Neutral sentiment: 0.784\n",
      "Positive sentiment: 0.176\n",
      "Compound sentiment: 0.7096\n"
     ]
    }
   ],
   "source": [
    "print(example, '\\n')\n",
    "print('Negative sentiment:',vs['neg'])\n",
    "print('Neutral sentiment:',vs['neu'])\n",
    "print('Positive sentiment:',vs['pos'])\n",
    "print('Compound sentiment:',vs['compound'])"
   ]
  },
  {
   "cell_type": "markdown",
   "metadata": {},
   "source": [
    "### We can now observe the distributions of sentiment across all sentences in the book Pride and Prejudice:"
   ]
  },
  {
   "cell_type": "code",
   "execution_count": 26,
   "metadata": {},
   "outputs": [],
   "source": [
    "nlp = spacy.load('en')\n",
    "doc = nlp(books[3])"
   ]
  },
  {
   "cell_type": "code",
   "execution_count": 27,
   "metadata": {},
   "outputs": [
    {
     "data": {
      "text/plain": [
       "Text(0, 0.5, 'Number of sentences')"
      ]
     },
     "execution_count": 27,
     "metadata": {},
     "output_type": "execute_result"
    },
    {
     "data": {
      "image/png": "[encoded data removed]",
      "text/plain": [
       "<Figure size 432x288 with 1 Axes>"
      ]
     },
     "metadata": {
      "needs_background": "light"
     },
     "output_type": "display_data"
    }
   ],
   "source": [
    "positive_sent = []\n",
    "#iterate through the sentences, get polarity scores, choose a value\n",
    "[positive_sent.append(analyzer.polarity_scores(sent.text)['pos']) for sent in doc.sents]\n",
    "plt.hist(positive_sent,bins=15)\n",
    "plt.xlim([0,1])\n",
    "plt.ylim([0,8000])\n",
    "plt.xlabel('Positive sentiment')\n",
    "plt.ylabel('Number of sentences')"
   ]
  },
  {
   "cell_type": "code",
   "execution_count": 28,
   "metadata": {},
   "outputs": [
    {
     "data": {
      "text/plain": [
       "Text(0, 0.5, 'Number of sentences')"
      ]
     },
     "execution_count": 28,
     "metadata": {},
     "output_type": "execute_result"
    },
    {
     "data": {
      "image/png": "[encoded data removed]",
      "text/plain": [
       "<Figure size 432x288 with 1 Axes>"
      ]
     },
     "metadata": {
      "needs_background": "light"
     },
     "output_type": "display_data"
    }
   ],
   "source": [
    "negative_sent = []\n",
    "[negative_sent.append(analyzer.polarity_scores(sent.text)['neg']) for sent in doc.sents]\n",
    "plt.hist(negative_sent,bins=15)\n",
    "plt.xlim([0,1])\n",
    "plt.ylim([0,8000])\n",
    "plt.xlabel('Negative sentiment')\n",
    "plt.ylabel('Number of sentences')"
   ]
  },
  {
   "cell_type": "code",
   "execution_count": 29,
   "metadata": {},
   "outputs": [
    {
     "data": {
      "text/plain": [
       "Text(0, 0.5, 'Number of sentences')"
      ]
     },
     "execution_count": 29,
     "metadata": {},
     "output_type": "execute_result"
    },
    {
     "data": {
      "image/png": "[encoded data removed]",
      "text/plain": [
       "<Figure size 432x288 with 1 Axes>"
      ]
     },
     "metadata": {
      "needs_background": "light"
     },
     "output_type": "display_data"
    }
   ],
   "source": [
    "total_sent = []\n",
    "[total_sent.append(analyzer.polarity_scores(sent.text)['compound']) for sent in doc.sents]\n",
    "plt.hist(total_sent,bins = 15)\n",
    "plt.xlim([-1,1])\n",
    "plt.ylim([0,8000])\n",
    "plt.xlabel('Compound sentiment')\n",
    "plt.ylabel('Number of sentences')"
   ]
  },
  {
   "cell_type": "code",
   "execution_count": 30,
   "metadata": {},
   "outputs": [
    {
     "name": "stdout",
     "output_type": "stream",
     "text": [
      "Number of positive sentences: 2923\n",
      "Number of negative sentences: 1462\n",
      "Number of neutral sentences: 4546\n"
     ]
    }
   ],
   "source": [
    "sents = [analyzer.polarity_scores(sent.text)['compound'] for sent in doc.sents]\n",
    "print('Number of positive sentences:',sum(np.array(sents)>=0.05))\n",
    "print('Number of negative sentences:',sum(np.array(sents)<=-0.05))\n",
    "print('Number of neutral sentences:',sum(np.abs(np.array(sents))<0.05))"
   ]
  },
  {
   "cell_type": "markdown",
   "metadata": {},
   "source": [
    "#### Most of the sentences are quite neutral in sentiment. This is not the case when working with data from other sources (e.g., in social media opinions are strong and polarized (bimodal distribution))."
   ]
  },
  {
   "cell_type": "markdown",
   "metadata": {},
   "source": [
    "# Task 2: Document classification: Can we detect paragraphs from Frankenstein?"
   ]
  },
  {
   "cell_type": "code",
   "execution_count": 31,
   "metadata": {},
   "outputs": [
    {
     "name": "stdout",
     "output_type": "stream",
     "text": [
      "['DRACULA.txt', 'Frankenstein.txt', 'Moby_Dick.txt', 'PRIDE_AND_PREJUDICE.txt']\n"
     ]
    },
    {
     "data": {
      "text/plain": [
       "\u001b[0;31mInit signature:\u001b[0m\n",
       "\u001b[0mPlaintextCorpusReader\u001b[0m\u001b[0;34m(\u001b[0m\u001b[0;34m\u001b[0m\n",
       "\u001b[0;34m\u001b[0m    \u001b[0mroot\u001b[0m\u001b[0;34m,\u001b[0m\u001b[0;34m\u001b[0m\n",
       "\u001b[0;34m\u001b[0m    \u001b[0mfileids\u001b[0m\u001b[0;34m,\u001b[0m\u001b[0;34m\u001b[0m\n",
       "\u001b[0;34m\u001b[0m    \u001b[0mword_tokenizer\u001b[0m\u001b[0;34m=\u001b[0m\u001b[0mWordPunctTokenizer\u001b[0m\u001b[0;34m(\u001b[0m\u001b[0mpattern\u001b[0m\u001b[0;34m=\u001b[0m\u001b[0;34m'\\\\w+|[^\\\\w\\\\s]+'\u001b[0m\u001b[0;34m,\u001b[0m \u001b[0mgaps\u001b[0m\u001b[0;34m=\u001b[0m\u001b[0;32mFalse\u001b[0m\u001b[0;34m,\u001b[0m \u001b[0mdiscard_empty\u001b[0m\u001b[0;34m=\u001b[0m\u001b[0;32mTrue\u001b[0m\u001b[0;34m,\u001b[0m \u001b[0mflags\u001b[0m\u001b[0;34m=\u001b[0m\u001b[0;34m<\u001b[0m\u001b[0mRegexFlag\u001b[0m\u001b[0;34m.\u001b[0m\u001b[0mUNICODE\u001b[0m\u001b[0;34m|\u001b[0m\u001b[0mDOTALL\u001b[0m\u001b[0;34m|\u001b[0m\u001b[0mMULTILINE\u001b[0m\u001b[0;34m:\u001b[0m \u001b[0;36m56\u001b[0m\u001b[0;34m>\u001b[0m\u001b[0;34m)\u001b[0m\u001b[0;34m,\u001b[0m\u001b[0;34m\u001b[0m\n",
       "\u001b[0;34m\u001b[0m    \u001b[0msent_tokenizer\u001b[0m\u001b[0;34m=\u001b[0m\u001b[0;34m<\u001b[0m\u001b[0mnltk\u001b[0m\u001b[0;34m.\u001b[0m\u001b[0mtokenize\u001b[0m\u001b[0;34m.\u001b[0m\u001b[0mpunkt\u001b[0m\u001b[0;34m.\u001b[0m\u001b[0mPunktSentenceTokenizer\u001b[0m \u001b[0mobject\u001b[0m \u001b[0mat\u001b[0m \u001b[0;36m0x1a171a9b10\u001b[0m\u001b[0;34m>\u001b[0m\u001b[0;34m,\u001b[0m\u001b[0;34m\u001b[0m\n",
       "\u001b[0;34m\u001b[0m    \u001b[0mpara_block_reader\u001b[0m\u001b[0;34m=\u001b[0m\u001b[0;34m<\u001b[0m\u001b[0mfunction\u001b[0m \u001b[0mread_blankline_block\u001b[0m \u001b[0mat\u001b[0m \u001b[0;36m0x1a171ba560\u001b[0m\u001b[0;34m>\u001b[0m\u001b[0;34m,\u001b[0m\u001b[0;34m\u001b[0m\n",
       "\u001b[0;34m\u001b[0m    \u001b[0mencoding\u001b[0m\u001b[0;34m=\u001b[0m\u001b[0;34m'utf8'\u001b[0m\u001b[0;34m,\u001b[0m\u001b[0;34m\u001b[0m\n",
       "\u001b[0;34m\u001b[0m\u001b[0;34m)\u001b[0m\u001b[0;34m\u001b[0m\u001b[0;34m\u001b[0m\u001b[0m\n",
       "\u001b[0;31mDocstring:\u001b[0m     \n",
       "Reader for corpora that consist of plaintext documents.  Paragraphs\n",
       "are assumed to be split using blank lines.  Sentences and words can\n",
       "be tokenized using the default tokenizers, or by custom tokenizers\n",
       "specificed as parameters to the constructor.\n",
       "\n",
       "This corpus reader can be customized (e.g., to skip preface\n",
       "sections of specific document formats) by creating a subclass and\n",
       "overriding the ``CorpusView`` class variable.\n",
       "\u001b[0;31mInit docstring:\u001b[0m\n",
       "Construct a new plaintext corpus reader for a set of documents\n",
       "located at the given root directory.  Example usage:\n",
       "\n",
       "    >>> root = '/usr/local/share/nltk_data/corpora/webtext/'\n",
       "    >>> reader = PlaintextCorpusReader(root, '.*\\.txt') # doctest: +SKIP\n",
       "\n",
       ":param root: The root directory for this corpus.\n",
       ":param fileids: A list or regexp specifying the fileids in this corpus.\n",
       ":param word_tokenizer: Tokenizer for breaking sentences or\n",
       "    paragraphs into words.\n",
       ":param sent_tokenizer: Tokenizer for breaking paragraphs\n",
       "    into words.\n",
       ":param para_block_reader: The block reader used to divide the\n",
       "    corpus into paragraph blocks.\n",
       "\u001b[0;31mFile:\u001b[0m           ~/anaconda3/envs/ada/lib/python3.7/site-packages/nltk/corpus/reader/plaintext.py\n",
       "\u001b[0;31mType:\u001b[0m           type\n",
       "\u001b[0;31mSubclasses:\u001b[0m     CategorizedPlaintextCorpusReader, EuroparlCorpusReader, UdhrCorpusReader\n"
      ]
     },
     "metadata": {},
     "output_type": "display_data"
    }
   ],
   "source": [
    "# Let's load our corpus via NLTK this time\n",
    "from nltk.corpus import PlaintextCorpusReader\n",
    "?PlaintextCorpusReader\n",
    "our_books = PlaintextCorpusReader(corpus_root, '.*.txt')\n",
    "print(our_books.fileids())"
   ]
  },
  {
   "cell_type": "markdown",
   "metadata": {},
   "source": [
    "### We will segment the books into equally long chunks"
   ]
  },
  {
   "cell_type": "code",
   "execution_count": 32,
   "metadata": {},
   "outputs": [
    {
     "name": "stdout",
     "output_type": "stream",
     "text": [
      "DRACULA.txt :\n",
      "Number of sentences: 9303\n",
      "Number of chunks: 187 \n",
      "\n",
      "Frankenstein.txt :\n",
      "Number of sentences: 3378\n",
      "Number of chunks: 68 \n",
      "\n",
      "Moby_Dick.txt :\n",
      "Number of sentences: 9609\n",
      "Number of chunks: 193 \n",
      "\n",
      "PRIDE_AND_PREJUDICE.txt :\n",
      "Number of sentences: 6055\n",
      "Number of chunks: 122 \n",
      "\n"
     ]
    }
   ],
   "source": [
    "def get_chunks(l, n):\n",
    "    \"\"\"Yield successive n-sized chunks from l.\"\"\"\n",
    "    for i in range(0, len(l), n):\n",
    "        yield l[i:i + n]\n",
    "\n",
    "\n",
    "# Get the data\n",
    "book_id = {f:n for n,f in enumerate(our_books.fileids())} # dictionary of books\n",
    "\n",
    "chunks = list()\n",
    "chunk_class = list() # this list contains the original book of the chunk, for evaluation\n",
    "\n",
    "limit = 500 # how many chunks total\n",
    "size = 50 # how many sentences per chunk/page\n",
    "\n",
    "for f in our_books.fileids():\n",
    "    sentences = our_books.sents(f)\n",
    "    print(f,\":\")\n",
    "    print('Number of sentences:',len(sentences))\n",
    "    \n",
    "    # create chunks\n",
    "    chunks_of_sents = [x for x in get_chunks(sentences,size)] # this is a list of lists of sentences, which are a list of tokens\n",
    "    chs = list()\n",
    "    \n",
    "    # regroup so to have a list of chunks which are strings\n",
    "    for c in chunks_of_sents:\n",
    "        grouped_chunk = list()\n",
    "        for s in c:\n",
    "            grouped_chunk.extend(s)\n",
    "        chs.append(\" \".join(grouped_chunk))\n",
    "    print(\"Number of chunks:\",len(chs),'\\n')\n",
    "    \n",
    "    # filter to the limit, to have the same number of chunks per book\n",
    "    chunks.extend(chs[:limit])\n",
    "    chunk_class.extend([book_id[f] for _ in range(len(chs[:limit]))])"
   ]
  },
  {
   "cell_type": "markdown",
   "metadata": {},
   "source": [
    "### Representing the chunks with bag-of-words"
   ]
  },
  {
   "cell_type": "code",
   "execution_count": 33,
   "metadata": {},
   "outputs": [
    {
     "name": "stdout",
     "output_type": "stream",
     "text": [
      "Number of samples: 570\n",
      "Number of features: 23116\n"
     ]
    }
   ],
   "source": [
    "vectorizer = CountVectorizer()\n",
    "\n",
    "#initialize and specify minumum number of occurences to avoid untractable number of features\n",
    "#vectorizer = CountVectorizer(min_df = 2) if we want high frequency\n",
    "\n",
    "#create bag of words features\n",
    "X = vectorizer.fit_transform(chunks)\n",
    "\n",
    "print('Number of samples:',X.toarray().shape[0])\n",
    "print('Number of features:',X.toarray().shape[1])\n",
    "\n",
    "#mask and convert to int Frankenstein\n",
    "Y = np.array(chunk_class) == 1\n",
    "Y = Y.astype(int)  \n",
    "\n",
    "#shuffle the data\n",
    "X, Y = shuffle(X, Y, random_state=0)\n",
    "\n",
    "#split into training and test set\n",
    "X_train, X_test, Y_train, Y_test = train_test_split(X, Y, test_size=0.2, random_state=42)"
   ]
  },
  {
   "cell_type": "markdown",
   "metadata": {},
   "source": [
    "### Let's fit the regularized logistic regression. We will crossvalidate the regularization parameter on the training set."
   ]
  },
  {
   "cell_type": "code",
   "execution_count": 34,
   "metadata": {},
   "outputs": [],
   "source": [
    "accs = []\n",
    "\n",
    "#the grid of regularization parameter \n",
    "grid = [0.01,0.1,1,10,100,1000,10000]\n",
    "\n",
    "for c in grid:\n",
    "    \n",
    "    #initialize the classifier\n",
    "    clf = LogisticRegression(random_state=0, solver='lbfgs',C = c)\n",
    "    \n",
    "    #crossvalidate\n",
    "    scores = cross_val_score(clf, X_train,Y_train, cv=10)\n",
    "    accs.append(np.mean(scores))"
   ]
  },
  {
   "cell_type": "code",
   "execution_count": 35,
   "metadata": {},
   "outputs": [
    {
     "data": {
      "text/plain": [
       "(0.986, 1)"
      ]
     },
     "execution_count": 35,
     "metadata": {},
     "output_type": "execute_result"
    },
    {
     "data": {
      "image/png": "[encoded data removed]",
      "text/plain": [
       "<Figure size 432x288 with 1 Axes>"
      ]
     },
     "metadata": {
      "needs_background": "light"
     },
     "output_type": "display_data"
    }
   ],
   "source": [
    "plt.plot(accs)\n",
    "plt.xticks(range(len(grid)), grid)\n",
    "plt.xlabel('Regularization parameter \\n (Low - strong regularization, High - weak regularization)')\n",
    "plt.ylabel('Crossvalidation accuracy')\n",
    "plt.ylim([0.986,1])"
   ]
  },
  {
   "cell_type": "markdown",
   "metadata": {},
   "source": [
    "### Let's train again, on the entire training set, with the chosen regularization parameter. We will test on the test set"
   ]
  },
  {
   "cell_type": "code",
   "execution_count": 36,
   "metadata": {},
   "outputs": [
    {
     "name": "stdout",
     "output_type": "stream",
     "text": [
      "Accuracy: 0.9824561403508771\n"
     ]
    }
   ],
   "source": [
    "clf = LogisticRegression(random_state=0, solver='lbfgs',C = 10).fit(X_train,Y_train)\n",
    "\n",
    "#predict on the test set\n",
    "print('Accuracy:',clf.score(X_test,Y_test))"
   ]
  },
  {
   "cell_type": "markdown",
   "metadata": {},
   "source": [
    "### What features characterize Frankenstein? BOW are interpretable!"
   ]
  },
  {
   "cell_type": "code",
   "execution_count": 37,
   "metadata": {},
   "outputs": [
    {
     "name": "stdout",
     "output_type": "stream",
     "text": [
      "['frankenstein' 'towards' 'creature' 'yet' 'which' 'father' 'me' 'poor'\n",
      " 'death' 'had' 'misery' 'this' 'by' 'will' 'of' 'who' 'my' 'and' 'justine'\n",
      " 'but']\n"
     ]
    }
   ],
   "source": [
    "coefs=clf.coef_[0]\n",
    "top_three = np.argpartition(coefs, -20)[-20:]\n",
    "\n",
    "print(np.array(vectorizer.get_feature_names())[top_three])"
   ]
  },
  {
   "cell_type": "markdown",
   "metadata": {},
   "source": [
    "### We can perfectly predict paragraphs from Frankenstein! We saw issues of high dimensionality when using bag of words (more features than samples) and how regularization helps."
   ]
  },
  {
   "cell_type": "markdown",
   "metadata": {},
   "source": [
    "### Alternative text representation: word emdeddings, pretrained on intergraded in Spacy (300-dimensional word vectors trained on Common Crawl with GloVe.) Depending on the application, might be suitable or not"
   ]
  },
  {
   "cell_type": "code",
   "execution_count": 38,
   "metadata": {},
   "outputs": [
    {
     "name": "stdout",
     "output_type": "stream",
     "text": [
      "I am already far north of London, and as I walk in the streets of Petersburgh, I feel a cold northern breeze play upon my cheeks, which braces my nerves and fills me with delight. \n",
      "\n",
      "Embedding representation: [0.14432296, 0.3346444, 0.84531355, 0.98335034, 0.39043787, -0.9550124, -0.65358204, -0.3262407, 0.5481318, -0.2524043] ...\n"
     ]
    }
   ],
   "source": [
    "print(example,'\\n')\n",
    "print('Embedding representation:',list((nlp(example).vector)[0:10]),'...')"
   ]
  },
  {
   "cell_type": "markdown",
   "metadata": {},
   "source": [
    "# Task 3: Topic detection"
   ]
  },
  {
   "cell_type": "code",
   "execution_count": 39,
   "metadata": {},
   "outputs": [
    {
     "name": "stdout",
     "output_type": "stream",
     "text": [
      "DRACULA.txt\n",
      "Number of sentences: 9303\n",
      "Number of chunks: 187 \n",
      "\n",
      "Frankenstein.txt\n",
      "Number of sentences: 3378\n",
      "Number of chunks: 68 \n",
      "\n",
      "Moby_Dick.txt\n",
      "Number of sentences: 9609\n",
      "Number of chunks: 193 \n",
      "\n",
      "PRIDE_AND_PREJUDICE.txt\n",
      "Number of sentences: 6055\n",
      "Number of chunks: 122 \n",
      "\n"
     ]
    }
   ],
   "source": [
    "# Get the chunks again (into smaller chunks)\n",
    "book_id = {f:n for n,f in enumerate(our_books.fileids())} # dictionary of books\n",
    "chunks = list()\n",
    "chunk_class = list() # this list contains the original book of the chunk, for evaluation\n",
    "\n",
    "limit = 60 # how many chunks total\n",
    "size = 50 # how many sentences per chunk/page\n",
    "\n",
    "for f in our_books.fileids():\n",
    "    sentences = our_books.sents(f)\n",
    "    print(f)\n",
    "    print('Number of sentences:',len(sentences))\n",
    "    \n",
    "    # create chunks\n",
    "    chunks_of_sents = [x for x in get_chunks(sentences,size)] # this is a list of lists of sentences, which are a list of tokens\n",
    "    chs = list()\n",
    "    \n",
    "    # regroup so to have a list of chunks which are strings\n",
    "    for c in chunks_of_sents:\n",
    "        grouped_chunk = list()\n",
    "        for s in c:\n",
    "            grouped_chunk.extend(s)\n",
    "        chs.append(\" \".join(grouped_chunk))\n",
    "    print(\"Number of chunks:\",len(chs),'\\n')\n",
    "    \n",
    "    # filter to the limit, to have the same number of chunks per book\n",
    "    chunks.extend(chs[:limit])\n",
    "    chunk_class.extend([book_id[f] for _ in range(len(chs[:limit]))])"
   ]
  },
  {
   "cell_type": "code",
   "execution_count": 40,
   "metadata": {},
   "outputs": [],
   "source": [
    "STOPWORDS = spacy.lang.en.stop_words.STOP_WORDS\n",
    "\n",
    "processed_docs = list()\n",
    "for doc in nlp.pipe(chunks, n_threads=5, batch_size=10):\n",
    "\n",
    "    # Process document using Spacy NLP pipeline.\n",
    "    ents = doc.ents  # Named entities\n",
    "\n",
    "    # Keep only words (no numbers, no punctuation).\n",
    "    # Lemmatize tokens, remove punctuation and remove stopwords.\n",
    "    doc = [token.lemma_ for token in doc if token.is_alpha and not token.is_stop]\n",
    "\n",
    "    # Remove common words from a stopword list and keep only words of length 3 or more.\n",
    "    doc = [token for token in doc if token not in STOPWORDS and len(token) > 2]\n",
    "\n",
    "    # Add named entities, but only if they are a compound of more than word.\n",
    "    doc.extend([str(entity) for entity in ents if len(entity) > 1])\n",
    "\n",
    "    processed_docs.append(doc)\n",
    "docs = processed_docs\n",
    "del processed_docs"
   ]
  },
  {
   "cell_type": "code",
   "execution_count": 41,
   "metadata": {},
   "outputs": [],
   "source": [
    "# Add bigrams too\n",
    "from gensim.models.phrases import Phrases\n",
    "\n",
    "# Add bigrams to docs (only ones that appear 15 times or more).\n",
    "bigram = Phrases(docs, min_count=15)\n",
    "\n",
    "for idx in range(len(docs)):\n",
    "    for token in bigram[docs[idx]]:\n",
    "        if '_' in token:\n",
    "            # Token is a bigram, add to document.\n",
    "            docs[idx].append(token)"
   ]
  },
  {
   "cell_type": "code",
   "execution_count": 42,
   "metadata": {},
   "outputs": [
    {
     "name": "stdout",
     "output_type": "stream",
     "text": [
      "Number of unique tokens: 3082\n",
      "Number of chunks: 240\n"
     ]
    }
   ],
   "source": [
    "# Create a dictionary representation of the documents, and filter out frequent and rare words.\n",
    "from gensim.corpora import Dictionary\n",
    "dictionary = Dictionary(docs)\n",
    "\n",
    "# Remove rare and common tokens.\n",
    "# Filter out words that occur too frequently or too rarely.\n",
    "max_freq = 0.5\n",
    "min_wordcount = 5\n",
    "dictionary.filter_extremes(no_below=min_wordcount, no_above=max_freq)\n",
    "\n",
    "# Bag-of-words representation of the documents.\n",
    "corpus = [dictionary.doc2bow(doc) for doc in docs]\n",
    "#MmCorpus.serialize(\"models/corpus.mm\", corpus)\n",
    "\n",
    "print('Number of unique tokens: %d' % len(dictionary))\n",
    "print('Number of chunks: %d' % len(corpus))"
   ]
  },
  {
   "cell_type": "code",
   "execution_count": 43,
   "metadata": {},
   "outputs": [],
   "source": [
    "# models\n",
    "from gensim.models import LdaMulticore\n",
    "params = {'passes': 10, 'random_state': seed}\n",
    "base_models = dict()\n",
    "model = LdaMulticore(corpus=corpus, num_topics=4, id2word=dictionary, workers=6,\n",
    "                passes=params['passes'], random_state=params['random_state'])"
   ]
  },
  {
   "cell_type": "code",
   "execution_count": 44,
   "metadata": {},
   "outputs": [
    {
     "data": {
      "text/plain": [
       "[(0,\n",
       "  '0.024*\"whale\" + 0.006*\"old\" + 0.005*\"sea\" + 0.005*\"life\" + 0.004*\"nature\"'),\n",
       " (1,\n",
       "  '0.007*\"old\" + 0.007*\"ship\" + 0.007*\"sea\" + 0.007*\"queequeg\" + 0.006*\"captain\"'),\n",
       " (2,\n",
       "  '0.012*\"elizabeth\" + 0.009*\"darcy\" + 0.008*\"miss\" + 0.008*\"bingley\" + 0.008*\"lady\"'),\n",
       " (3,\n",
       "  '0.009*\"father\" + 0.008*\"elizabeth\" + 0.005*\"feeling\" + 0.005*\"dear\" + 0.005*\"life\"')]"
      ]
     },
     "execution_count": 44,
     "metadata": {},
     "output_type": "execute_result"
    }
   ],
   "source": [
    "model.show_topics(num_words=5)"
   ]
  },
  {
   "cell_type": "code",
   "execution_count": 45,
   "metadata": {},
   "outputs": [
    {
     "data": {
      "text/plain": [
       "[('old', 0.0074560577),\n",
       " ('ship', 0.006705188),\n",
       " ('sea', 0.006698876),\n",
       " ('queequeg', 0.0065208483),\n",
       " ('captain', 0.006045052),\n",
       " ('head', 0.0049257493),\n",
       " ('light', 0.0041193906),\n",
       " ('ahab', 0.0039557004),\n",
       " ('sleep', 0.003938177),\n",
       " ('bed', 0.0038995966),\n",
       " ('lie', 0.0038248608),\n",
       " ('stand', 0.003803371),\n",
       " ('round', 0.0037913464),\n",
       " ('god', 0.0036074307),\n",
       " ('room', 0.0035655296),\n",
       " ('run', 0.0035392575),\n",
       " ('sort', 0.0034679559),\n",
       " ('thou', 0.0031578897),\n",
       " ('sit', 0.0030545592),\n",
       " ('door', 0.003036125)]"
      ]
     },
     "execution_count": 45,
     "metadata": {},
     "output_type": "execute_result"
    }
   ],
   "source": [
    "model.show_topic(1,20)"
   ]
  },
  {
   "cell_type": "code",
   "execution_count": 46,
   "metadata": {},
   "outputs": [
    {
     "data": {
      "text/plain": [
       "[(1, 0.6674664), (2, 0.3306892)]"
      ]
     },
     "execution_count": 46,
     "metadata": {},
     "output_type": "execute_result"
    }
   ],
   "source": [
    "sorted(model[corpus[0]],key=lambda x:x[1],reverse=True)"
   ]
  },
  {
   "cell_type": "code",
   "execution_count": 47,
   "metadata": {},
   "outputs": [
    {
     "data": {
      "text/html": [
       "\n",
       "<link rel=\"stylesheet\" type=\"text/css\" href=\"https://cdn.rawgit.com/bmabey/pyLDAvis/files/ldavis.v1.0.0.css\">\n",
       "\n",
       "\n",
       "<div id=\"ldavis_el20942112327211728250107552\"></div>\n",
       "<script type=\"text/javascript\">\n",
       "\n",
       "var ldavis_el20942112327211728250107552_data = {\"mdsDat\": {\"x\": [-0.11719293514971221, 0.1321650380471414, 0.06517523198151093, -0.08014733487894002], \"y\": [-0.06984647598298646, -0.0665044613904481, 0.0793559846039826, 0.05699495276945185], \"topics\": [1, 2, 3, 4], \"cluster\": [1, 1, 1, 1], \"Freq\": [33.190673828125, 32.54740905761719, 17.884735107421875, 16.377180099487305]}, \"tinfo\": {\"Category\": [\"Default\", \"Default\", \"Default\", \"Default\", \"Default\", \"Default\", \"Default\", \"Default\", \"Default\", \"Default\", \"Default\", \"Default\", \"Default\", \"Default\", \"Default\", \"Default\", \"Default\", \"Default\", \"Default\", \"Default\", \"Default\", \"Default\", \"Default\", \"Default\", \"Default\", \"Default\", \"Default\", \"Default\", \"Default\", \"Default\", \"Topic1\", \"Topic1\", \"Topic1\", \"Topic1\", \"Topic1\", \"Topic1\", \"Topic1\", \"Topic1\", \"Topic1\", \"Topic1\", \"Topic1\", \"Topic1\", \"Topic1\", \"Topic1\", \"Topic1\", \"Topic1\", \"Topic1\", \"Topic1\", \"Topic1\", \"Topic1\", \"Topic1\", \"Topic1\", \"Topic1\", \"Topic1\", \"Topic1\", \"Topic1\", \"Topic1\", \"Topic1\", \"Topic1\", \"Topic1\", \"Topic1\", \"Topic1\", \"Topic1\", \"Topic1\", \"Topic1\", \"Topic1\", \"Topic1\", \"Topic1\", \"Topic1\", \"Topic1\", \"Topic1\", \"Topic1\", \"Topic1\", \"Topic1\", \"Topic1\", \"Topic1\", \"Topic1\", \"Topic1\", \"Topic1\", \"Topic1\", \"Topic1\", \"Topic1\", \"Topic1\", \"Topic1\", \"Topic1\", \"Topic1\", \"Topic1\", \"Topic1\", \"Topic1\", \"Topic1\", \"Topic1\", \"Topic1\", \"Topic1\", \"Topic1\", \"Topic1\", \"Topic1\", \"Topic1\", \"Topic1\", \"Topic1\", \"Topic1\", \"Topic1\", \"Topic2\", \"Topic2\", \"Topic2\", \"Topic2\", \"Topic2\", \"Topic2\", \"Topic2\", \"Topic2\", \"Topic2\", \"Topic2\", \"Topic2\", \"Topic2\", \"Topic2\", \"Topic2\", \"Topic2\", \"Topic2\", \"Topic2\", \"Topic2\", \"Topic2\", \"Topic2\", \"Topic2\", \"Topic2\", \"Topic2\", \"Topic2\", \"Topic2\", \"Topic2\", \"Topic2\", \"Topic2\", \"Topic2\", \"Topic2\", \"Topic2\", \"Topic2\", \"Topic2\", \"Topic2\", \"Topic2\", \"Topic2\", \"Topic2\", \"Topic2\", \"Topic2\", \"Topic2\", \"Topic2\", \"Topic2\", \"Topic2\", \"Topic2\", \"Topic2\", \"Topic2\", \"Topic2\", \"Topic2\", \"Topic2\", \"Topic2\", \"Topic2\", \"Topic2\", \"Topic2\", \"Topic2\", \"Topic2\", \"Topic2\", \"Topic2\", \"Topic2\", \"Topic2\", \"Topic2\", \"Topic2\", \"Topic2\", \"Topic2\", \"Topic2\", \"Topic2\", \"Topic3\", \"Topic3\", \"Topic3\", \"Topic3\", \"Topic3\", \"Topic3\", \"Topic3\", \"Topic3\", \"Topic3\", \"Topic3\", \"Topic3\", \"Topic3\", \"Topic3\", \"Topic3\", \"Topic3\", \"Topic3\", \"Topic3\", \"Topic3\", \"Topic3\", \"Topic3\", \"Topic3\", \"Topic3\", \"Topic3\", \"Topic3\", \"Topic3\", \"Topic3\", \"Topic3\", \"Topic3\", \"Topic3\", \"Topic3\", \"Topic3\", \"Topic3\", \"Topic3\", \"Topic3\", \"Topic3\", \"Topic3\", \"Topic3\", \"Topic3\", \"Topic3\", \"Topic3\", \"Topic3\", \"Topic3\", \"Topic3\", \"Topic3\", \"Topic3\", \"Topic3\", \"Topic3\", \"Topic3\", \"Topic3\", \"Topic3\", \"Topic3\", \"Topic3\", \"Topic3\", \"Topic3\", \"Topic3\", \"Topic3\", \"Topic3\", \"Topic3\", \"Topic3\", \"Topic3\", \"Topic3\", \"Topic3\", \"Topic3\", \"Topic3\", \"Topic3\", \"Topic3\", \"Topic3\", \"Topic3\", \"Topic3\", \"Topic3\", \"Topic3\", \"Topic4\", \"Topic4\", \"Topic4\", \"Topic4\", \"Topic4\", \"Topic4\", \"Topic4\", \"Topic4\", \"Topic4\", \"Topic4\", \"Topic4\", \"Topic4\", \"Topic4\", \"Topic4\", \"Topic4\", \"Topic4\", \"Topic4\", \"Topic4\", \"Topic4\", \"Topic4\", \"Topic4\", \"Topic4\", \"Topic4\", \"Topic4\", \"Topic4\", \"Topic4\", \"Topic4\", \"Topic4\", \"Topic4\", \"Topic4\", \"Topic4\", \"Topic4\", \"Topic4\", \"Topic4\", \"Topic4\", \"Topic4\", \"Topic4\", \"Topic4\", \"Topic4\", \"Topic4\", \"Topic4\", \"Topic4\", \"Topic4\", \"Topic4\", \"Topic4\", \"Topic4\", \"Topic4\", \"Topic4\", \"Topic4\", \"Topic4\", \"Topic4\", \"Topic4\", \"Topic4\", \"Topic4\", \"Topic4\", \"Topic4\", \"Topic4\", \"Topic4\", \"Topic4\", \"Topic4\", \"Topic4\", \"Topic4\", \"Topic4\", \"Topic4\", \"Topic4\", \"Topic4\", \"Topic4\", \"Topic4\"], \"Freq\": [347.0, 391.0, 209.0, 232.0, 215.0, 180.0, 164.0, 194.0, 226.0, 144.0, 212.0, 223.0, 215.0, 149.0, 239.0, 169.0, 288.0, 186.0, 54.0, 189.0, 107.0, 86.0, 73.0, 107.0, 68.0, 76.0, 53.0, 218.0, 71.0, 81.0, 159.98170471191406, 33.27163314819336, 69.3572006225586, 30.337566375732422, 36.0113525390625, 73.77102661132812, 18.77126121520996, 30.004993438720703, 27.18617057800293, 19.59738540649414, 15.831561088562012, 15.825075149536133, 15.810003280639648, 24.158809661865234, 15.77396297454834, 59.204654693603516, 14.82542610168457, 14.822138786315918, 20.361780166625977, 14.787470817565918, 77.47528076171875, 12.911697387695312, 38.653564453125, 14.726624488830566, 13.813718795776367, 15.63809871673584, 17.48354148864746, 16.54419708251953, 11.882357597351074, 12.78654956817627, 36.99826431274414, 97.04867553710938, 28.85513687133789, 148.30856323242188, 24.148527145385742, 95.67223358154297, 37.33844757080078, 164.5042724609375, 39.748741149902344, 36.4106559753418, 56.647159576416016, 68.97827911376953, 33.30513000488281, 58.207611083984375, 63.023189544677734, 164.3494110107422, 93.83866882324219, 66.96732330322266, 36.10530090332031, 93.01643371582031, 86.83171081542969, 182.92601013183594, 72.83235168457031, 101.06462860107422, 120.84773254394531, 88.5042724609375, 50.76572799682617, 93.31143951416016, 58.68387985229492, 96.61875915527344, 68.85839080810547, 85.08241271972656, 63.980594635009766, 62.93669509887695, 72.82736206054688, 74.940185546875, 73.84286499023438, 87.47627258300781, 74.48792266845703, 69.83425903320312, 65.15644836425781, 67.64746856689453, 141.61105346679688, 72.10771942138672, 36.31209182739258, 57.65283966064453, 37.130496978759766, 30.573017120361328, 34.17451477050781, 30.47117805480957, 200.88827514648438, 23.005615234375, 21.144821166992188, 172.6523895263672, 47.635719299316406, 29.30197525024414, 21.92217445373535, 40.186790466308594, 18.24661636352539, 61.995338439941406, 38.2181396484375, 15.487322807312012, 22.781639099121094, 23.56887435913086, 203.82986450195312, 23.526103973388672, 26.23858070373535, 26.215909957885742, 20.785823822021484, 13.542442321777344, 18.06719398498535, 81.25956726074219, 139.85662841796875, 72.95600891113281, 57.726524353027344, 180.5850067138672, 74.4294204711914, 213.10008239746094, 67.99810028076172, 189.2919464111328, 35.711334228515625, 27.949153900146484, 155.52955627441406, 92.30296325683594, 32.06692886352539, 283.7789001464844, 39.922550201416016, 95.71214294433594, 157.67559814453125, 106.55162811279297, 68.22688293457031, 136.61178588867188, 95.87538146972656, 119.90725708007812, 145.95321655273438, 70.22649383544922, 82.22186279296875, 75.48173522949219, 77.9506607055664, 81.25572967529297, 74.20143127441406, 83.70056915283203, 79.74578094482422, 75.65760040283203, 74.70558166503906, 73.77272033691406, 52.45477294921875, 15.835846900939941, 11.100513458251953, 11.996182441711426, 16.5433292388916, 10.085671424865723, 18.05231285095215, 12.415237426757812, 10.530269622802734, 34.11629867553711, 5.931545734405518, 13.321617126464844, 21.605953216552734, 14.838624954223633, 5.759381294250488, 10.667418479919434, 30.205821990966797, 24.411054611206055, 5.7049102783203125, 5.660386085510254, 16.97406768798828, 8.018829345703125, 11.272783279418945, 7.960527420043945, 23.643415451049805, 7.074543476104736, 14.041692733764648, 7.7141618728637695, 12.20268726348877, 9.95022964477539, 45.186241149902344, 36.05746078491211, 25.295854568481445, 18.967641830444336, 24.47090721130371, 22.92629623413086, 14.410202026367188, 27.456193923950195, 21.056909561157227, 36.78767395019531, 19.720211029052734, 124.86661529541016, 31.591638565063477, 22.300893783569336, 38.27490997314453, 40.48017883300781, 43.089866638183594, 36.41227722167969, 70.02958679199219, 35.2642936706543, 51.27373504638672, 103.12088775634766, 40.84336471557617, 41.20085906982422, 61.98759460449219, 51.45178985595703, 55.0815315246582, 39.434234619140625, 66.91064453125, 50.38835525512695, 67.19464874267578, 51.320919036865234, 52.14366149902344, 53.62096405029297, 51.21546173095703, 36.85838317871094, 39.448246002197266, 43.933692932128906, 40.67780303955078, 41.22004699707031, 38.44867706298828, 28.80220603942871, 26.126890182495117, 16.09369468688965, 10.950409889221191, 14.21162223815918, 12.455137252807617, 22.93408966064453, 7.367865562438965, 8.149394989013672, 7.307934284210205, 6.478413105010986, 21.029977798461914, 6.448184967041016, 13.636486053466797, 25.575956344604492, 11.969168663024902, 6.376358509063721, 39.063777923583984, 7.133984088897705, 5.504500865936279, 5.504453182220459, 6.257142066955566, 14.039840698242188, 18.688154220581055, 10.055893898010254, 6.1843037605285645, 10.813063621520996, 6.946596145629883, 11.567924499511719, 5.381174087524414, 289.42877197265625, 9.984067916870117, 42.79450988769531, 18.55635643005371, 19.883298873901367, 21.405488967895508, 15.790138244628906, 23.7677059173584, 12.504724502563477, 17.194290161132812, 18.663509368896484, 49.23038101196289, 33.16643142700195, 29.824872970581055, 31.384593963623047, 27.928770065307617, 30.794275283813477, 39.9324836730957, 31.456769943237305, 27.639127731323242, 68.54401397705078, 58.04706954956055, 58.76986312866211, 29.291961669921875, 41.703330993652344, 39.45698547363281, 46.11537170410156, 46.80319595336914, 37.39794158935547, 36.751258850097656, 29.64263153076172, 32.18549346923828, 34.751678466796875, 29.886720657348633, 31.50093650817871, 27.86101722717285, 28.70977210998535, 28.425960540771484], \"Term\": [\"whale\", \"elizabeth\", \"bingley\", \"darcy\", \"miss\", \"bennet\", \"queequeg\", \"mrs\", \"sea\", \"jane\", \"ship\", \"father\", \"lady\", \"collins\", \"dear\", \"captain\", \"old\", \"sister\", \"justine\", \"wish\", \"ahab\", \"mrs_bennet\", \"charlotte\", \"lucy\", \"miss_bingley\", \"bildad\", \"cottage\", \"life\", \"peleg\", \"thou\", \"queequeg\", \"landlord\", \"peleg\", \"shipmate\", \"harpoon\", \"bildad\", \"tomahawk\", \"captain_peleg\", \"harbour\", \"cannibal\", \"bedford\", \"New Bedford\", \"new_bedford\", \"pier\", \"chest\", \"jonah\", \"wharf\", \"aboard\", \"didn\", \"sand\", \"thou\", \"Captain Ahab\", \"captain_ahab\", \"ain\", \"bulwark\", \"pagan\", \"boot\", \"Captain Peleg\", \"wooden\", \"pot\", \"dog\", \"ahab\", \"driver\", \"captain\", \"queer\", \"bed\", \"storm\", \"ship\", \"board\", \"flask\", \"mate\", \"sail\", \"leg\", \"deck\", \"harpooneer\", \"sea\", \"lie\", \"don\", \"thee\", \"round\", \"run\", \"old\", \"white\", \"light\", \"head\", \"god\", \"arm\", \"stand\", \"land\", \"sleep\", \"strange\", \"sort\", \"foot\", \"hold\", \"face\", \"sit\", \"fear\", \"room\", \"door\", \"open\", \"pass\", \"miss_bingley\", \"jane\", \"charlotte\", \"lydia\", \"lucas\", \"Miss Bingley\", \"hurst\", \"miss_bennet\", \"colonel\", \"bingley\", \"miss_lucas\", \"westenra\", \"bennet\", \"netherfield\", \"meryton\", \"seward\", \"longbourn\", \"mrs_hurst\", \"dance\", \"sir_william\", \"gardiner\", \"colonel_fitzwilliam\", \"diary\", \"miss\", \"hertfordshire\", \"helsing\", \"rosings\", \"Van Helsing\", \"holmwood\", \"mrs_collins\", \"mrs_bennet\", \"collins\", \"wickham\", \"Lady Catherine\", \"mrs\", \"catherine\", \"darcy\", \"lady_catherine\", \"lady\", \"lizzy\", \"fitzwilliam\", \"sister\", \"lucy\", \"husband\", \"elizabeth\", \"arthur\", \"write\", \"dear\", \"letter\", \"daughter\", \"young\", \"ask\", \"wish\", \"room\", \"count\", \"want\", \"talk\", \"walk\", \"manner\", \"mother\", \"love\", \"mean\", \"hope\", \"house\", \"door\", \"justine\", \"union\", \"remorse\", \"guilt\", \"victim\", \"threat\", \"innocence\", \"ernest\", \"fulfil\", \"misfortune\", \"caprice\", \"accuse\", \"crime\", \"tranquillity\", \"disclose\", \"wretchedness\", \"geneva\", \"victor\", \"hellish\", \"sickness\", \"innocent\", \"sicken\", \"console\", \"inflict\", \"murderer\", \"many months\", \"suffering\", \"abhor\", \"frankenstein\", \"bitterly\", \"misery\", \"murder\", \"fiend\", \"revenge\", \"forever\", \"weep\", \"torture\", \"peace\", \"henry\", \"clerval\", \"enemy\", \"father\", \"despair\", \"grief\", \"horror\", \"endeavour\", \"affection\", \"tear\", \"feeling\", \"miserable\", \"death\", \"elizabeth\", \"happiness\", \"creature\", \"love\", \"appear\", \"hope\", \"child\", \"life\", \"believe\", \"dear\", \"return\", \"heart\", \"wish\", \"mind\", \"desire\", \"remain\", \"pass\", \"moment\", \"fear\", \"happy\", \"sperm\", \"sperm_whale\", \"fin\", \"octavo\", \"spout\", \"hovel\", \"leviathan\", \"whales\", \"enterprise\", \"scientific\", \"naturalist\", \"cottager\", \"thomas\", \"folio\", \"oil\", \"protector\", \"ardent\", \"felix\", \"nation\", \"inward\", \"paradise\", \"dedicate\", \"utterly\", \"whale_ship\", \"iii\", \"practical\", \"ardour\", \"majestic\", \"arabian\", \"reverence\", \"whale\", \"swim\", \"cottage\", \"greenland\", \"pursuit\", \"mast_head\", \"fishery\", \"science\", \"philosophy\", \"safie\", \"agatha\", \"nature\", \"fish\", \"old_man\", \"study\", \"wood\", \"whaling\", \"form\", \"delight\", \"mast\", \"old\", \"life\", \"sea\", \"discover\", \"year\", \"book\", \"world\", \"ship\", \"chapter\", \"present\", \"voyage\", \"appear\", \"head\", \"work\", \"word\", \"enter\", \"father\", \"pass\"], \"Total\": [347.0, 391.0, 209.0, 232.0, 215.0, 180.0, 164.0, 194.0, 226.0, 144.0, 212.0, 223.0, 215.0, 149.0, 239.0, 169.0, 288.0, 186.0, 54.0, 189.0, 107.0, 86.0, 73.0, 107.0, 68.0, 76.0, 53.0, 218.0, 71.0, 81.0, 164.169921875, 34.231117248535156, 71.4261245727539, 31.288625717163086, 37.14759826660156, 76.30696868896484, 19.550920486450195, 31.29477882385254, 28.355634689331055, 20.519283294677734, 16.614498138427734, 16.615463256835938, 16.614727020263672, 25.41806983947754, 16.610170364379883, 62.4229850769043, 15.634153366088867, 15.635129928588867, 21.48834228515625, 15.636371612548828, 81.96063995361328, 13.677568435668945, 40.951904296875, 15.62351131439209, 14.655431747436523, 16.598791122436523, 18.55882453918457, 17.590389251708984, 12.69907283782959, 13.675230979919434, 40.01202392578125, 107.72831726074219, 31.313194274902344, 169.7244415283203, 26.281509399414062, 112.36000061035156, 41.93043899536133, 212.9606170654297, 45.55329895019531, 41.65200424194336, 67.71004486083984, 84.89324188232422, 37.80625915527344, 70.39180755615234, 77.06769561767578, 226.55487060546875, 121.09295654296875, 83.79380798339844, 41.673072814941406, 126.0225601196289, 117.68929290771484, 288.7177734375, 95.4976806640625, 142.27798461914062, 190.19862365722656, 127.7919692993164, 62.991905212402344, 141.94911193847656, 78.22402954101562, 164.89114379882812, 102.08572387695312, 149.34568786621094, 95.73809814453125, 93.3246841430664, 126.77232360839844, 154.31056213378906, 151.26109313964844, 258.315673828125, 166.95774841308594, 140.8335418701172, 189.77023315429688, 68.9887466430664, 144.74600219726562, 73.79027557373047, 37.371070861816406, 59.432090759277344, 38.32902145385742, 31.620080947875977, 35.461456298828125, 31.625686645507812, 209.1087188720703, 23.95528793334961, 22.03413200378418, 180.355712890625, 49.86901092529297, 30.676027297973633, 23.000150680541992, 42.1961555480957, 19.16293716430664, 65.15172576904297, 40.1801643371582, 16.2849063873291, 23.962871551513672, 24.9222469329834, 215.8340301513672, 24.9290771484375, 27.809558868408203, 27.806386947631836, 22.05001449584961, 14.36739730834961, 19.16792869567871, 86.37942504882812, 149.7832794189453, 77.74702453613281, 61.4123649597168, 194.81968688964844, 79.6718978881836, 232.52456665039062, 72.9503402709961, 215.82711791992188, 38.38979721069336, 29.731698989868164, 186.05519104003906, 107.59940338134766, 34.5426139831543, 391.6802673339844, 44.16969680786133, 128.4866943359375, 239.96705627441406, 157.34613037109375, 88.6779556274414, 223.1992950439453, 139.79547119140625, 189.6260528564453, 258.315673828125, 98.28218841552734, 127.6394271850586, 111.83792114257812, 130.92770385742188, 154.40420532226562, 117.9661636352539, 182.32896423339844, 172.32696533203125, 150.89434814453125, 167.54640197753906, 166.95774841308594, 54.5609016418457, 16.85581398010254, 11.896096229553223, 12.886221885681152, 17.84121322631836, 10.901030540466309, 19.8361873626709, 13.8360595703125, 11.880758285522461, 39.517059326171875, 6.905097961425781, 15.805998802185059, 25.671045303344727, 17.75442123413086, 6.891292572021484, 12.81456470489502, 36.37028503417969, 29.54117774963379, 6.913761138916016, 6.90180778503418, 20.74091148376465, 9.810518264770508, 13.825207710266113, 9.823925018310547, 29.49332618713379, 8.849645614624023, 17.788490295410156, 9.83237075805664, 15.629158020019531, 12.764350891113281, 58.08200454711914, 46.446693420410156, 32.642242431640625, 24.697309494018555, 32.30643844604492, 30.424816131591797, 18.56440544128418, 37.42332077026367, 28.19719886779785, 52.24905776977539, 26.492000579833984, 223.423828125, 46.02271270751953, 30.597841262817383, 60.7741584777832, 67.85919189453125, 77.92367553710938, 63.15061950683594, 167.12100219726562, 64.00911712646484, 113.43209838867188, 391.6802673339844, 86.51998138427734, 89.2857437133789, 182.32896423339844, 132.25103759765625, 150.89434814453125, 83.78046417236328, 218.6602783203125, 135.59271240234375, 239.96705627441406, 155.6787567138672, 162.40098571777344, 189.6260528564453, 171.81158447265625, 85.98799133300781, 115.13552856445312, 189.77023315429688, 139.2753448486328, 151.26109313964844, 118.53579711914062, 29.614906311035156, 26.927715301513672, 17.092374801635742, 11.701910018920898, 15.310458183288574, 13.518324851989746, 25.265186309814453, 8.120171546936035, 9.024325370788574, 8.123932838439941, 7.2241411209106445, 23.463300704956055, 7.2264299392700195, 15.342982292175293, 28.9350528717041, 13.56422233581543, 7.232304573059082, 44.34920120239258, 8.143462181091309, 6.334237575531006, 6.335578918457031, 7.243775844573975, 16.283790588378906, 21.745403289794922, 11.75821304321289, 7.253805637359619, 12.688422203063965, 8.15737533569336, 13.607318878173828, 6.347945213317871, 347.935791015625, 11.80435848236084, 53.848201751708984, 22.73661231994629, 24.527240753173828, 27.365150451660156, 20.058719635009766, 31.97482681274414, 15.444221496582031, 22.898883819580078, 25.607820510864258, 87.11370849609375, 57.50018310546875, 54.96733856201172, 60.40797424316406, 51.2319450378418, 62.71163558959961, 98.79460144042969, 69.41162872314453, 56.152469635009766, 288.7177734375, 218.6602783203125, 226.55487060546875, 62.961891174316406, 126.1165542602539, 113.58660888671875, 156.9114532470703, 212.9606170654297, 125.15034484863281, 125.17742156982422, 79.51248168945312, 132.25103759765625, 190.19862365722656, 112.2436294555664, 169.8217010498047, 121.630859375, 223.423828125, 189.77023315429688], \"loglift\": [30.0, 29.0, 28.0, 27.0, 26.0, 25.0, 24.0, 23.0, 22.0, 21.0, 20.0, 19.0, 18.0, 17.0, 16.0, 15.0, 14.0, 13.0, 12.0, 11.0, 10.0, 9.0, 8.0, 7.0, 6.0, 5.0, 4.0, 3.0, 2.0, 1.0, 1.0771000385284424, 1.0744999647140503, 1.0735000371932983, 1.0720000267028809, 1.0717999935150146, 1.069100022315979, 1.0621999502182007, 1.0607999563217163, 1.0607999563217163, 1.0569000244140625, 1.0546000003814697, 1.0542000532150269, 1.0533000230789185, 1.0520999431610107, 1.051200032234192, 1.0499999523162842, 1.0498000383377075, 1.0494999885559082, 1.0491000413894653, 1.0470999479293823, 1.0465999841690063, 1.045300006866455, 1.0450999736785889, 1.0437999963760376, 1.0437999963760376, 1.0433000326156616, 1.0432000160217285, 1.041599988937378, 1.0363999605178833, 1.0356999635696411, 1.0246000289916992, 0.9984999895095825, 1.0211000442504883, 0.9679999947547913, 1.0183000564575195, 0.9420999884605408, 0.9868999719619751, 0.8446999788284302, 0.9666000008583069, 0.9684000015258789, 0.9244999885559082, 0.8952999711036682, 0.9761000275611877, 0.9128000140190125, 0.9017000198364258, 0.7818999886512756, 0.8478999733924866, 0.8787000179290771, 0.9595000147819519, 0.7991999983787537, 0.798799991607666, 0.6464999914169312, 0.8320000171661377, 0.7609000205993652, 0.649399995803833, 0.7354999780654907, 0.8870999813079834, 0.6833999752998352, 0.815500020980835, 0.5684000253677368, 0.7091000080108643, 0.5403000116348267, 0.6998999714851379, 0.708899974822998, 0.5486000180244446, 0.3806000053882599, 0.38580000400543213, 0.020099999383091927, 0.29580000042915344, 0.40139999985694885, 0.033900000154972076, 1.1028000116348267, 1.100600004196167, 1.0994000434875488, 1.0937000513076782, 1.0921000242233276, 1.0907000303268433, 1.0887999534606934, 1.0855000019073486, 1.0852999687194824, 1.0823999643325806, 1.0820000171661377, 1.0813000202178955, 1.0787999629974365, 1.07669997215271, 1.0765999555587769, 1.0744999647140503, 1.073699951171875, 1.0735000371932983, 1.0728000402450562, 1.0723999738693237, 1.0722999572753906, 1.0719000101089478, 1.06659996509552, 1.0651999711990356, 1.0644999742507935, 1.0642999410629272, 1.063599944114685, 1.0634000301361084, 1.0633000135421753, 1.0633000135421753, 1.061400055885315, 1.0539000034332275, 1.058899998664856, 1.0606000423431396, 1.0465999841690063, 1.0543999671936035, 1.0351999998092651, 1.0521999597549438, 0.9912999868392944, 1.0500999689102173, 1.0606000423431396, 0.9433000087738037, 0.9690999984741211, 1.0480999946594238, 0.8001999855041504, 1.021399974822998, 0.828000009059906, 0.7024999856948853, 0.732699990272522, 0.8603000044822693, 0.631600022315979, 0.7452999949455261, 0.6640999913215637, 0.5515999794006348, 0.7864000201225281, 0.682699978351593, 0.7293000221252441, 0.6039000153541565, 0.4805000126361847, 0.6589000225067139, 0.34389999508857727, 0.35190001130104065, 0.43209999799728394, 0.3147999942302704, 0.30570000410079956, 1.6819000244140625, 1.6588000059127808, 1.6519999504089355, 1.6497000455856323, 1.6456999778747559, 1.6434999704360962, 1.6269999742507935, 1.6129000186920166, 1.600600004196167, 1.5743000507354736, 1.569200038909912, 1.5501999855041504, 1.548799991607666, 1.5418000221252441, 1.5418000221252441, 1.5377999544143677, 1.5355000495910645, 1.530500054359436, 1.5290000438690186, 1.5228999853134155, 1.520799994468689, 1.5196000337600708, 1.5170999765396118, 1.5109000205993652, 1.500100016593933, 1.4973000288009644, 1.4846999645233154, 1.478600025177002, 1.4737000465393066, 1.4722000360488892, 1.4701999425888062, 1.468000054359436, 1.4663000106811523, 1.4572999477386475, 1.4434000253677368, 1.4381999969482422, 1.467900037765503, 1.4114999771118164, 1.4292000532150269, 1.3703999519348145, 1.4259999990463257, 1.1394000053405762, 1.3450000286102295, 1.4048999547958374, 1.2589000463485718, 1.2045999765396118, 1.1288000345230103, 1.1706000566482544, 0.8514000177383423, 1.125100016593933, 0.9272000193595886, 0.38670000433921814, 0.9706000089645386, 0.9477999806404114, 0.642300009727478, 0.7771999835968018, 0.7135000228881836, 0.9677000045776367, 0.5371000170707703, 0.7312999963760376, 0.44830000400543213, 0.6115000247955322, 0.5852000117301941, 0.45809999108314514, 0.5109000205993652, 0.8741000294685364, 0.6500999927520752, 0.2581000030040741, 0.49050000309944153, 0.421099990606308, 0.595300018787384, 1.781499981880188, 1.779099941253662, 1.7490999698638916, 1.742900013923645, 1.7347999811172485, 1.7273999452590942, 1.712499976158142, 1.7121000289916992, 1.7072999477386475, 1.7034000158309937, 1.7002999782562256, 1.6998000144958496, 1.6952999830245972, 1.6914000511169434, 1.6858999729156494, 1.6842000484466553, 1.6833000183105469, 1.6823999881744385, 1.676900029182434, 1.6689000129699707, 1.6686999797821045, 1.6628999710083008, 1.6610000133514404, 1.6577999591827393, 1.652899980545044, 1.6497999429702759, 1.6492999792099, 1.6485999822616577, 1.6469000577926636, 1.6440999507904053, 1.6252000331878662, 1.641800045967102, 1.5794999599456787, 1.6060999631881714, 1.5994000434875488, 1.5636999607086182, 1.5700000524520874, 1.5126999616622925, 1.5981999635696411, 1.5227999687194824, 1.4930000305175781, 1.2386000156402588, 1.2589999437332153, 1.1979000568389893, 1.1545000076293945, 1.2026000022888184, 1.098099946975708, 0.9034000039100647, 1.017799973487854, 1.1003999710083008, 0.37130001187324524, 0.4830000102519989, 0.45989999175071716, 1.044100046157837, 0.7027000188827515, 0.7519000172615051, 0.5846999883651733, 0.29409998655319214, 0.6014000177383423, 0.5837000012397766, 0.8226000070571899, 0.3961000144481659, 0.10939999669790268, 0.4860000014305115, 0.12449999898672104, 0.33550000190734863, -0.2425999939441681, -0.08919999748468399], \"logprob\": [30.0, 29.0, 28.0, 27.0, 26.0, 25.0, 24.0, 23.0, 22.0, 21.0, 20.0, 19.0, 18.0, 17.0, 16.0, 15.0, 14.0, 13.0, 12.0, 11.0, 10.0, 9.0, 8.0, 7.0, 6.0, 5.0, 4.0, 3.0, 2.0, 1.0, -5.032800197601318, -6.603099822998047, -5.868500232696533, -6.695400238037109, -6.52400016784668, -5.80679988861084, -7.17549991607666, -6.706399917602539, -6.805099964141846, -7.132400035858154, -7.345799922943115, -7.346199989318848, -7.3471999168396, -6.9232001304626465, -7.349400043487549, -6.026800155639648, -7.411499977111816, -7.4116997718811035, -7.094200134277344, -7.414000034332275, -5.757900238037109, -7.549699783325195, -6.453199863433838, -7.4182000160217285, -7.482100009918213, -7.358099937438965, -7.246600151062012, -7.301799774169922, -7.632800102233887, -7.5594000816345215, -6.4969000816345215, -5.532599925994873, -6.745500087738037, -5.108500003814697, -6.923600196838379, -5.546899795532227, -6.487800121307373, -5.004899978637695, -6.42519998550415, -6.512899875640869, -6.071000099182129, -5.874000072479248, -6.602099895477295, -6.043799877166748, -5.964300155639648, -5.005799770355225, -5.566199779510498, -5.903600215911865, -6.521399974822998, -5.574999809265137, -5.643799781799316, -4.89870023727417, -5.8196001052856445, -5.492000102996826, -5.313300132751465, -5.624800205230713, -6.180600166320801, -5.571899890899658, -6.035600185394287, -5.5370001792907715, -5.875800132751465, -5.6641998291015625, -5.94920015335083, -5.965700149536133, -5.819699764251709, -5.791100025177002, -5.8059000968933105, -5.63640022277832, -5.7972002029418945, -5.861700057983398, -5.931000232696533, -5.873899936676025, -5.135200023651123, -5.810100078582764, -6.496099948883057, -6.03380012512207, -6.473800182342529, -6.668099880218506, -6.55679988861084, -6.671500205993652, -4.7855000495910645, -6.952499866485596, -7.036799907684326, -4.936999797821045, -6.224699974060059, -6.710599899291992, -7.000699996948242, -6.394700050354004, -7.184299945831299, -5.96120023727417, -6.444900035858154, -7.348199844360352, -6.962299823760986, -6.928299903869629, -4.770999908447266, -6.930099964141846, -6.821000099182129, -6.821899890899658, -7.053999900817871, -7.482399940490723, -7.1940999031066895, -5.6905999183654785, -5.147600173950195, -5.798399925231934, -6.03249979019165, -4.892000198364258, -5.77839994430542, -4.726500034332275, -5.868800163269043, -4.844900131225586, -6.512800216674805, -6.757900238037109, -5.041399955749512, -5.563199996948242, -6.6203999519348145, -4.440000057220459, -6.401299953460693, -5.526899814605713, -5.027699947357178, -5.419600009918213, -5.8653998374938965, -5.17110013961792, -5.525199890136719, -5.301499843597412, -5.105000019073486, -5.83650016784668, -5.678800106048584, -5.7642998695373535, -5.7322001457214355, -5.6905999183654785, -5.781499862670898, -5.660999774932861, -5.709400177001953, -5.76200008392334, -5.774700164794922, -5.787199974060059, -5.5295000076293945, -6.727200031280518, -7.082499980926514, -7.004899978637695, -6.683499813079834, -7.178400039672852, -6.596199989318848, -6.970600128173828, -7.135200023651123, -5.959700107574463, -7.709199905395508, -6.900100231170654, -6.416500091552734, -6.792300224304199, -7.738699913024902, -7.122300148010254, -6.081500053405762, -6.29449987411499, -7.748199939727783, -7.75600004196167, -6.657800197601318, -7.407700061798096, -7.0671000480651855, -7.414999961853027, -6.326399803161621, -7.5329999923706055, -6.847499847412109, -7.446400165557861, -6.987800121307373, -7.19189977645874, -5.678699970245361, -5.904399871826172, -6.258800029754639, -6.546800136566162, -6.291999816894531, -6.3572001457214355, -6.821599960327148, -6.1768999099731445, -6.442299842834473, -5.884300231933594, -6.507800102233887, -4.662199974060059, -6.036600112915039, -6.384900093078613, -5.844699859619141, -5.788700103759766, -5.726200103759766, -5.894599914550781, -5.240600109100342, -5.926599979400635, -5.552299976348877, -4.853600025177002, -5.779699802398682, -5.770999908447266, -5.362599849700928, -5.548799991607666, -5.4807000160217285, -5.814899921417236, -5.286099910736084, -5.569699764251709, -5.281899929046631, -5.551400184631348, -5.5355000495910645, -5.507500171661377, -5.553400039672852, -5.882400035858154, -5.814499855041504, -5.7067999839782715, -5.78380012512207, -5.770599842071533, -5.840199947357178, -6.040999889373779, -6.138500213623047, -6.623000144958496, -7.0081000328063965, -6.747399806976318, -6.879300117492676, -6.268799781799316, -7.404300212860107, -7.303500175476074, -7.412499904632568, -7.5329999923706055, -6.355500221252441, -7.537600040435791, -6.788700103759766, -6.159800052642822, -6.919099807739258, -7.548799991607666, -5.736199855804443, -7.436600208282471, -7.695899963378906, -7.695899963378906, -7.567699909210205, -6.759500026702881, -6.473499774932861, -7.093299865722656, -7.579400062561035, -7.020699977874756, -7.463200092315674, -6.953199863433838, -7.718500137329102, -3.7335000038146973, -7.100399971008301, -5.644999980926514, -6.480599880218506, -6.411600112915039, -6.337800025939941, -6.642000198364258, -6.233099937438965, -6.87529993057251, -6.5569000244140625, -6.474899768829346, -5.504899978637695, -5.899899959564209, -6.006100177764893, -5.955100059509277, -6.071800231933594, -5.974100112915039, -5.714200019836426, -5.9527997970581055, -6.082200050354004, -5.173999786376953, -5.340199947357178, -5.3277997970581055, -6.024099826812744, -5.67080020904541, -5.726200103759766, -5.570300102233887, -5.555500030517578, -5.779799938201904, -5.797299861907959, -6.012199878692627, -5.929900169372559, -5.8531999588012695, -6.004000186920166, -5.951399803161621, -6.07420015335083, -6.0441999435424805, -6.054100036621094]}, \"token.table\": {\"Topic\": [1, 1, 2, 3, 2, 3, 1, 2, 3, 1, 3, 4, 1, 2, 3, 1, 2, 3, 4, 1, 2, 4, 1, 4, 1, 1, 2, 3, 4, 1, 3, 4, 4, 1, 4, 1, 2, 3, 4, 1, 2, 3, 1, 2, 3, 4, 1, 2, 3, 4, 1, 1, 2, 3, 4, 2, 3, 1, 3, 4, 2, 3, 4, 1, 3, 4, 1, 3, 4, 1, 2, 3, 4, 1, 1, 1, 3, 1, 2, 3, 4, 1, 4, 1, 3, 2, 3, 1, 2, 3, 4, 2, 3, 1, 1, 2, 3, 4, 1, 2, 3, 4, 2, 3, 2, 3, 2, 3, 1, 2, 3, 1, 3, 4, 1, 2, 4, 1, 2, 3, 4, 1, 2, 3, 4, 1, 3, 4, 2, 3, 4, 2, 3, 1, 2, 3, 4, 1, 2, 3, 4, 1, 2, 3, 4, 1, 4, 4, 1, 2, 3, 4, 1, 2, 3, 4, 1, 2, 3, 4, 2, 3, 1, 3, 1, 2, 3, 4, 1, 2, 3, 4, 1, 2, 4, 1, 2, 3, 4, 1, 3, 1, 2, 3, 4, 1, 2, 3, 4, 1, 3, 4, 1, 2, 3, 4, 4, 3, 4, 1, 2, 3, 4, 1, 2, 3, 4, 1, 2, 3, 4, 1, 2, 3, 4, 1, 3, 4, 1, 3, 4, 4, 1, 2, 3, 4, 1, 4, 2, 3, 1, 4, 2, 4, 1, 2, 3, 4, 1, 2, 3, 4, 1, 2, 3, 4, 1, 3, 4, 1, 3, 2, 1, 3, 4, 1, 2, 3, 4, 1, 4, 1, 2, 3, 4, 3, 1, 2, 3, 4, 1, 2, 3, 4, 1, 2, 1, 4, 1, 4, 1, 2, 3, 4, 1, 2, 3, 4, 1, 3, 2, 3, 1, 3, 4, 2, 3, 1, 2, 3, 4, 2, 1, 2, 3, 4, 1, 2, 3, 4, 1, 2, 3, 4, 4, 2, 2, 3, 2, 4, 2, 3, 4, 1, 3, 1, 2, 3, 4, 4, 2, 3, 1, 4, 3, 4, 1, 2, 3, 4, 2, 3, 1, 2, 3, 4, 1, 1, 4, 1, 2, 3, 4, 1, 4, 1, 2, 3, 4, 1, 2, 3, 4, 1, 2, 3, 4, 2, 3, 2, 3, 1, 2, 3, 4, 2, 3, 1, 2, 3, 2, 3, 1, 4, 1, 2, 3, 4, 1, 3, 4, 1, 4, 1, 4, 1, 3, 4, 1, 2, 3, 4, 2, 3, 1, 2, 3, 4, 1, 2, 3, 4, 1, 2, 3, 4, 1, 2, 3, 4, 1, 2, 3, 4, 2, 3, 2, 3, 2, 1, 2, 3, 4, 1, 2, 3, 4, 1, 2, 3, 4, 2, 3, 2, 3, 2, 1, 3, 4, 1, 3, 4, 4, 4, 1, 2, 3, 4, 2, 3, 1, 4, 1, 4, 1, 2, 3, 4, 1, 4, 1, 2, 3, 4, 1, 4, 1, 2, 3, 4, 1, 2, 3, 4, 1, 3, 1, 2, 4, 1, 2, 1, 3, 4, 1, 2, 3, 4, 1, 4, 1, 2, 3, 4, 1, 3, 4, 1, 4, 1, 2, 3, 4, 3, 1, 2, 3, 4, 1, 2, 3, 4, 4, 1, 2, 3, 4, 2, 3, 1, 2, 3, 4, 1, 2, 3, 4, 1, 3, 4, 1, 3, 4, 1, 2, 3, 4, 4, 1, 2, 3, 4, 2, 3, 1, 2, 3, 4, 1, 3, 4, 1, 3, 2, 3, 4, 1, 2, 3, 4, 1, 2, 3, 4, 1, 2, 3, 4, 1, 2, 3, 4, 4, 4, 1, 4, 1, 2, 3, 4, 1, 3, 4, 1, 2, 3, 4, 1, 2, 3, 4, 1, 3, 4, 3, 4, 1, 2, 3, 4, 1, 2, 3, 4, 1, 3, 4, 4, 1, 3, 4, 3, 1, 1, 3, 4, 1, 2, 3, 4, 3, 1, 2, 4, 1, 3, 1, 3, 4, 1, 3, 4, 1, 2, 3, 4, 1, 2, 3, 4, 1, 2, 3, 4, 2, 1, 3, 4, 1, 4, 4, 1, 4, 1, 1, 2, 3, 4, 2, 3, 1, 2, 3, 4, 1, 4, 1, 1, 2, 3, 4, 1, 2, 3, 4, 1, 2, 3, 4, 2, 3, 4, 1, 2, 3, 4, 1, 2, 3, 4, 1, 2, 3, 4], \"Freq\": [0.9504613280296326, 0.9664368033409119, 0.9444352388381958, 0.04885009676218033, 0.9653259515762329, 0.02608989179134369, 0.9629583954811096, 0.9523802995681763, 0.04535144567489624, 0.10170487314462662, 0.8136389851570129, 0.10170487314462662, 0.9593780040740967, 0.12653423845767975, 0.8224725127220154, 0.05133228003978729, 0.32082676887512207, 0.5518220067024231, 0.07699842005968094, 0.1562022864818573, 0.11715171486139297, 0.7419608235359192, 0.9004132151603699, 0.09282610565423965, 0.9600914716720581, 0.1361047923564911, 0.23440270125865936, 0.3856302499771118, 0.24196407198905945, 0.07348985970020294, 0.07348985970020294, 0.8818783760070801, 0.82961106300354, 0.07881200313568115, 0.8669320344924927, 0.8096278309822083, 0.031750112771987915, 0.047625165432691574, 0.1111253872513771, 0.022639956325292587, 0.9055982232093811, 0.06791986525058746, 0.1859859973192215, 0.6867175102233887, 0.10729961097240448, 0.021459922194480896, 0.8543965816497803, 0.09789960831403732, 0.044499821960926056, 0.008899964392185211, 0.9630143642425537, 0.0663752481341362, 0.5015018582344055, 0.3687513768672943, 0.0663752481341362, 0.959215521812439, 0.03881219029426575, 0.9697672724723816, 0.01310496311634779, 0.01310496311634779, 0.9612224698066711, 0.03347541019320488, 0.0047822012566030025, 0.07834319025278091, 0.7834319472312927, 0.07834319025278091, 0.8780922889709473, 0.021952306851744652, 0.10976153612136841, 0.1320578157901764, 0.493015855550766, 0.02641156315803528, 0.3433503210544586, 0.9160062670707703, 0.9552772045135498, 0.9746929407119751, 0.8689232468605042, 0.8720017075538635, 0.02356761321425438, 0.005891903303563595, 0.09427045285701752, 0.9523366689682007, 0.048837777227163315, 0.958626389503479, 0.03195421025156975, 0.9288092851638794, 0.06275738775730133, 0.31961557269096375, 0.279663622379303, 0.09588467329740524, 0.2956444025039673, 0.9757383465766907, 0.013551921583712101, 0.9632652401924133, 0.1193595677614212, 0.20291127264499664, 0.4655023217201233, 0.21484722197055817, 0.03827820345759392, 0.01913910172879696, 0.7081467509269714, 0.24880830943584442, 0.9346837401390076, 0.06008681282401085, 0.9485960006713867, 0.03161986544728279, 0.9598181843757629, 0.041731227189302444, 0.07233164459466934, 0.07233164459466934, 0.7956480979919434, 0.0928536131978035, 0.11142433434724808, 0.7985410690307617, 0.042619749903678894, 0.042619749903678894, 0.895014762878418, 0.27471914887428284, 0.7122348546981812, 0.010174783878028393, 0.010174783878028393, 0.15679994225502014, 0.123199962079525, 0.45919984579086304, 0.25759992003440857, 0.07790878415107727, 0.8569966554641724, 0.038954392075538635, 0.9516248106956482, 0.030697574838995934, 0.015348787419497967, 0.9160322546958923, 0.07741117477416992, 0.022553520277142525, 0.7668196558952332, 0.1917049139738083, 0.022553520277142525, 0.04167238622903824, 0.6584237217903137, 0.27920499444007874, 0.02083619311451912, 0.30855464935302734, 0.07052677124738693, 0.44960817694664, 0.16750109195709229, 0.8239595293998718, 0.1562681794166565, 0.8282973170280457, 0.05762723088264465, 0.24491573870182037, 0.24491573870182037, 0.44661104679107666, 0.16281342506408691, 0.255849689245224, 0.43029263615608215, 0.15118390321731567, 0.17382721602916718, 0.043456804007291794, 0.6953088641166687, 0.10864201188087463, 0.9629950523376465, 0.040124792605638504, 0.9307371973991394, 0.8706639409065247, 0.12706097960472107, 0.12706097960472107, 0.27000460028648376, 0.46059608459472656, 0.9247220158576965, 0.024992486461997032, 0.024992486461997032, 0.024992486461997032, 0.79958176612854, 0.19094489514827728, 0.01193405594676733, 0.4432259202003479, 0.4432259202003479, 0.053905852138996124, 0.05989539250731468, 0.9261271953582764, 0.06387083977460861, 0.005106205586344004, 0.725081205368042, 0.26296958327293396, 0.007659308612346649, 0.04420918971300125, 0.20630955696105957, 0.5894559025764465, 0.16210037469863892, 0.15098898112773895, 0.7549448609352112, 0.11324173212051392, 0.2548695206642151, 0.2384263277053833, 0.27953431010246277, 0.2302047312259674, 0.8864928483963013, 0.86729896068573, 0.07227491587400436, 0.5758354663848877, 0.22875656187534332, 0.11043419688940048, 0.08676972985267639, 0.08951596915721893, 0.2193141132593155, 0.559474766254425, 0.12979815900325775, 0.4892203211784363, 0.20494364202022552, 0.2710545063018799, 0.03305542841553688, 0.12565745413303375, 0.31115180253982544, 0.41885820031166077, 0.14360852539539337, 0.06764496117830276, 0.045096639543771744, 0.8793845176696777, 0.18381090462207794, 0.7658787369728088, 0.030635150149464607, 0.9360899329185486, 0.29565122723579407, 0.10434749722480774, 0.03478249907493591, 0.573911190032959, 0.19941452145576477, 0.7976580858230591, 0.9417557716369629, 0.033634137362241745, 0.8643041253089905, 0.12004224210977554, 0.06517637521028519, 0.9124692678451538, 0.6684904098510742, 0.07311613857746124, 0.031335487961769104, 0.22979357838630676, 0.09286074340343475, 0.030953582376241684, 0.742885947227478, 0.12381432950496674, 0.2530502676963806, 0.22268423438072205, 0.13158613443374634, 0.40488043427467346, 0.06398297101259232, 0.7677956819534302, 0.12796594202518463, 0.08416970819234848, 0.9258668422698975, 0.9210983514785767, 0.05498994514346123, 0.8248491883277893, 0.10997989028692245, 0.6964443922042847, 0.09390261769294739, 0.10172783583402634, 0.11737826466560364, 0.17592769861221313, 0.8356565833091736, 0.19609226286411285, 0.03268204256892204, 0.7190049886703491, 0.03268204256892204, 0.9312271475791931, 0.02311604842543602, 0.45076292753219604, 0.47387897968292236, 0.04623209685087204, 0.0421813502907753, 0.5314850211143494, 0.32057827711105347, 0.10123524069786072, 0.9521917104721069, 0.03526635840535164, 0.9691070914268494, 0.026919640600681305, 0.8174631595611572, 0.16868287324905396, 0.6361770629882812, 0.13144153356552124, 0.052576616406440735, 0.18401814997196198, 0.2955647110939026, 0.2524615228176117, 0.32019510865211487, 0.12930956482887268, 0.14463907480239868, 0.8678344488143921, 0.9349303245544434, 0.03595886006951332, 0.035464514046907425, 0.7447548508644104, 0.21278709173202515, 0.9627311825752258, 0.04011379927396774, 0.6750625371932983, 0.16072918474674225, 0.1071527898311615, 0.05357639491558075, 0.9744284152984619, 0.05964438244700432, 0.5036636590957642, 0.3644934296607971, 0.07289868593215942, 0.2632697820663452, 0.016454361379146576, 0.6252657771110535, 0.08227180689573288, 0.2805193066596985, 0.4476372003555298, 0.1671178787946701, 0.10146442800760269, 0.8876839280128479, 0.9803896546363831, 0.9263919591903687, 0.05789949744939804, 0.08504693955183029, 0.8504693508148193, 0.10179230570793152, 0.8143384456634521, 0.10179230570793152, 0.05041291192173958, 0.9074324369430542, 0.09642777591943741, 0.048213887959718704, 0.8196361064910889, 0.048213887959718704, 0.9472332000732422, 0.9810287952423096, 0.01381730753928423, 0.945164680480957, 0.03203948214650154, 0.953063428401947, 0.018328143283724785, 0.013900014571845531, 0.8757008910179138, 0.07876674830913544, 0.027800029143691063, 0.9321409463882446, 0.05483182147145271, 0.7542439103126526, 0.012783795595169067, 0.0767027735710144, 0.1534055471420288, 0.964035153388977, 0.8728713393211365, 0.10580258816480637, 0.03813249245285988, 0.6800294518470764, 0.1906624585390091, 0.09533122926950455, 0.07916031032800674, 0.910343587398529, 0.7762631773948669, 0.07432306557893753, 0.12387178093194962, 0.024774355813860893, 0.17835886776447296, 0.2469584345817566, 0.30641138553619385, 0.26525166630744934, 0.7098779082298279, 0.09137042611837387, 0.021085482090711594, 0.17571236193180084, 0.9377491474151611, 0.052097175270318985, 0.9479536414146423, 0.023698842152953148, 0.09323806315660477, 0.4607057273387909, 0.34004470705986023, 0.10969184339046478, 0.9759037494659424, 0.016825927421450615, 0.13011224567890167, 0.8550233244895935, 0.009293732233345509, 0.9633119702339172, 0.026758665218949318, 0.12258844822645187, 0.8581191301345825, 0.123053640127182, 0.5245971083641052, 0.213724747300148, 0.1360066533088684, 0.11299887299537659, 0.7909921407699585, 0.11299887299537659, 0.49864235520362854, 0.49864235520362854, 0.18271414935588837, 0.7673993706703186, 0.8418248891830444, 0.029537715017795563, 0.13291971385478973, 0.25532859563827515, 0.46423378586769104, 0.17989058792591095, 0.10445260256528854, 0.9453636407852173, 0.032598745077848434, 0.3317587673664093, 0.21535217761993408, 0.296836793422699, 0.15132856369018555, 0.18747329711914062, 0.09373664855957031, 0.5467970967292786, 0.1718505173921585, 0.10330221801996231, 0.051651109009981155, 0.7747666239738464, 0.06886814534664154, 0.05061105266213417, 0.05061105266213417, 0.860387921333313, 0.025305526331067085, 0.03706551715731621, 0.9451707005500793, 0.018532758578658104, 0.004633189644664526, 0.9587874412536621, 0.028199631720781326, 0.9856680035591125, 0.014495117589831352, 0.9601220488548279, 0.3877211809158325, 0.2800208330154419, 0.29438090324401855, 0.03590010851621628, 0.042385034263134, 0.6272985339164734, 0.288218230009079, 0.03390802815556526, 0.03079770877957344, 0.9290642142295837, 0.035930659621953964, 0.005132951308041811, 0.9377232789993286, 0.04630732536315918, 0.939068615436554, 0.05217047780752182, 0.9393132328987122, 0.19377052783966064, 0.7750821113586426, 0.02153005823493004, 0.10171792656183243, 0.8137434124946594, 0.10171792656183243, 0.8595852255821228, 0.8305485844612122, 0.1377509981393814, 0.218105748295784, 0.08035475015640259, 0.5624832510948181, 0.9625216126441956, 0.04010506719350815, 0.9630010724067688, 0.9400174617767334, 0.10368047654628754, 0.8985641002655029, 0.6338369846343994, 0.10390770435333252, 0.0242451298981905, 0.23898771405220032, 0.4366229176521301, 0.5457786321640015, 0.49704068899154663, 0.29822441935539246, 0.09940813481807709, 0.10650871694087982, 0.9639256000518799, 0.947032630443573, 0.34251946210861206, 0.2740155756473541, 0.23185934126377106, 0.14754684269428253, 0.16032783687114716, 0.08016391843557358, 0.7214752435684204, 0.053442612290382385, 0.9660331010818481, 0.014000480063259602, 0.06474913656711578, 0.06474913656711578, 0.841738760471344, 0.9442101716995239, 0.039342090487480164, 0.9506238102912903, 0.13785867393016815, 0.8271520137786865, 0.12781858444213867, 0.37546706199645996, 0.20770518481731415, 0.2955804467201233, 0.07372335344552994, 0.8846802711486816, 0.0815419927239418, 0.0815419927239418, 0.0407709963619709, 0.8154199123382568, 0.9745999574661255, 0.006091249641031027, 0.018273748457431793, 0.9131895303726196, 0.07609912753105164, 0.22582082450389862, 0.19976457953453064, 0.33873122930526733, 0.23450623452663422, 0.9246730804443359, 0.07065832614898682, 0.4496438801288605, 0.3275976777076721, 0.15416361391544342, 0.16196095943450928, 0.04049023985862732, 0.7693145871162415, 0.04049023985862732, 0.7876564264297485, 0.33679720759391785, 0.5651999115943909, 0.08516710996627808, 0.011613696813583374, 0.9350369572639465, 0.03596296161413193, 0.737963080406189, 0.1190263107419014, 0.055545609444379807, 0.08728595823049545, 0.7392346262931824, 0.16993899643421173, 0.059478648006916046, 0.04248474910855293, 0.1310107558965683, 0.08734050393104553, 0.7423942685127258, 0.8127855658531189, 0.023559002205729485, 0.16491301357746124, 0.9593018293380737, 0.1563730090856552, 0.09382380545139313, 0.750590443611145, 0.8616516590118408, 0.7238864302635193, 0.004413941875100136, 0.013241825625300407, 0.26042255759239197, 0.9565154910087585, 0.04347797483205795, 0.7747911214828491, 0.004695703741163015, 0.004695703741163015, 0.22069808840751648, 0.9588148593902588, 0.8154513239860535, 0.10193141549825668, 0.14488957822322845, 0.8693374395370483, 0.945740282535553, 0.024887902662158012, 0.024887902662158012, 0.026873746886849403, 0.8384608626365662, 0.09137073904275894, 0.042997993528842926, 0.4860328435897827, 0.3693849444389343, 0.0583239383995533, 0.08424568921327591, 0.588266909122467, 0.28503653407096863, 0.07883989065885544, 0.048516858369112015, 0.5691493153572083, 0.29461848735809326, 0.026783498004078865, 0.10713399201631546, 0.9792366027832031, 0.9655479192733765, 0.06531482934951782, 0.9144076704978943, 0.655164361000061, 0.17611944675445557, 0.04931344836950302, 0.11271645128726959, 0.8824138641357422, 0.04769804701209068, 0.04769804701209068, 0.6759025454521179, 0.10775257647037506, 0.1469353288412094, 0.0783655121922493, 0.04966231808066368, 0.3145280182361603, 0.11587873846292496, 0.5131772756576538, 0.1686483770608902, 0.7870257496833801, 0.056216124445199966, 0.08471447229385376, 0.8471447229385376, 0.21459625661373138, 0.6706133484840393, 0.08047360181808472, 0.017883021384477615, 0.22169220447540283, 0.03167031332850456, 0.5700656771659851, 0.17418673634529114, 0.8638671636581421, 0.02399631030857563, 0.119981549680233, 0.8302854895591736, 0.9394753575325012, 0.012200978584587574, 0.0366029366850853, 0.9173444509506226, 0.9718212485313416, 0.05386652424931526, 0.7541313171386719, 0.16159957647323608, 0.05632399767637253, 0.11264799535274506, 0.8448599576950073, 0.05632399767637253, 0.9492273926734924, 0.06141076236963272, 0.06141076236963272, 0.8597506880760193, 0.056049998849630356, 0.9528499841690063, 0.10155316442251205, 0.8124253153800964, 0.06770210713148117, 0.5785255432128906, 0.050306566059589386, 0.3772992491722107, 0.16803166270256042, 0.5957486033439636, 0.16803166270256042, 0.06874022632837296, 0.2585408091545105, 0.6424347162246704, 0.03133827820420265, 0.07051112502813339, 0.13147161900997162, 0.032867904752492905, 0.7559618353843689, 0.09860371798276901, 0.9530668258666992, 0.16382333636283875, 0.002874093595892191, 0.8306130170822144, 0.13796019554138184, 0.8737478852272034, 0.8620507717132568, 0.494326114654541, 0.494326114654541, 0.9594379663467407, 0.7644164562225342, 0.08377166837453842, 0.010471458546817303, 0.1361289620399475, 0.9389426708221436, 0.05144891515374184, 0.05800890550017357, 0.6328244209289551, 0.28477099537849426, 0.026367684826254845, 0.44893863797187805, 0.54653400182724, 0.9449508786201477, 0.3356461524963379, 0.2826493978500366, 0.20020999014377594, 0.18843293190002441, 0.33854928612709045, 0.27618494629859924, 0.11581949144601822, 0.26727575063705444, 0.33139708638191223, 0.210309699177742, 0.16569854319095612, 0.29315897822380066, 0.07803620398044586, 0.8583982586860657, 0.07803620398044586, 0.10896069556474686, 0.7471590638160706, 0.0856119766831398, 0.062263257801532745, 0.22994601726531982, 0.22994601726531982, 0.21408767998218536, 0.3330252766609192, 0.19265294075012207, 0.6138012409210205, 0.08960601687431335, 0.1075272187590599], \"Term\": [\"Captain Ahab\", \"Captain Peleg\", \"Lady Catherine\", \"Lady Catherine\", \"Miss Bingley\", \"Miss Bingley\", \"New Bedford\", \"Van Helsing\", \"Van Helsing\", \"abhor\", \"abhor\", \"abhor\", \"aboard\", \"accuse\", \"accuse\", \"affection\", \"affection\", \"affection\", \"affection\", \"agatha\", \"agatha\", \"agatha\", \"ahab\", \"ahab\", \"ain\", \"appear\", \"appear\", \"appear\", \"appear\", \"arabian\", \"arabian\", \"arabian\", \"ardent\", \"ardour\", \"ardour\", \"arm\", \"arm\", \"arm\", \"arm\", \"arthur\", \"arthur\", \"arthur\", \"ask\", \"ask\", \"ask\", \"ask\", \"bed\", \"bed\", \"bed\", \"bed\", \"bedford\", \"believe\", \"believe\", \"believe\", \"believe\", \"bennet\", \"bennet\", \"bildad\", \"bildad\", \"bildad\", \"bingley\", \"bingley\", \"bingley\", \"bitterly\", \"bitterly\", \"bitterly\", \"board\", \"board\", \"board\", \"book\", \"book\", \"book\", \"book\", \"boot\", \"bulwark\", \"cannibal\", \"caprice\", \"captain\", \"captain\", \"captain\", \"captain\", \"captain_ahab\", \"captain_ahab\", \"captain_peleg\", \"captain_peleg\", \"catherine\", \"catherine\", \"chapter\", \"chapter\", \"chapter\", \"chapter\", \"charlotte\", \"charlotte\", \"chest\", \"child\", \"child\", \"child\", \"child\", \"clerval\", \"clerval\", \"clerval\", \"clerval\", \"collins\", \"collins\", \"colonel\", \"colonel\", \"colonel_fitzwilliam\", \"colonel_fitzwilliam\", \"console\", \"console\", \"console\", \"cottage\", \"cottage\", \"cottage\", \"cottager\", \"cottager\", \"cottager\", \"count\", \"count\", \"count\", \"count\", \"creature\", \"creature\", \"creature\", \"creature\", \"crime\", \"crime\", \"crime\", \"dance\", \"dance\", \"dance\", \"darcy\", \"darcy\", \"daughter\", \"daughter\", \"daughter\", \"daughter\", \"dear\", \"dear\", \"dear\", \"dear\", \"death\", \"death\", \"death\", \"death\", \"deck\", \"deck\", \"dedicate\", \"delight\", \"delight\", \"delight\", \"delight\", \"desire\", \"desire\", \"desire\", \"desire\", \"despair\", \"despair\", \"despair\", \"despair\", \"diary\", \"diary\", \"didn\", \"disclose\", \"discover\", \"discover\", \"discover\", \"discover\", \"dog\", \"dog\", \"dog\", \"dog\", \"don\", \"don\", \"don\", \"door\", \"door\", \"door\", \"door\", \"driver\", \"driver\", \"elizabeth\", \"elizabeth\", \"elizabeth\", \"elizabeth\", \"endeavour\", \"endeavour\", \"endeavour\", \"endeavour\", \"enemy\", \"enemy\", \"enemy\", \"enter\", \"enter\", \"enter\", \"enter\", \"enterprise\", \"ernest\", \"ernest\", \"face\", \"face\", \"face\", \"face\", \"father\", \"father\", \"father\", \"father\", \"fear\", \"fear\", \"fear\", \"fear\", \"feeling\", \"feeling\", \"feeling\", \"feeling\", \"felix\", \"felix\", \"felix\", \"fiend\", \"fiend\", \"fiend\", \"fin\", \"fish\", \"fish\", \"fish\", \"fish\", \"fishery\", \"fishery\", \"fitzwilliam\", \"fitzwilliam\", \"flask\", \"flask\", \"folio\", \"folio\", \"foot\", \"foot\", \"foot\", \"foot\", \"forever\", \"forever\", \"forever\", \"forever\", \"form\", \"form\", \"form\", \"form\", \"frankenstein\", \"frankenstein\", \"frankenstein\", \"fulfil\", \"fulfil\", \"gardiner\", \"geneva\", \"geneva\", \"geneva\", \"god\", \"god\", \"god\", \"god\", \"greenland\", \"greenland\", \"grief\", \"grief\", \"grief\", \"grief\", \"guilt\", \"happiness\", \"happiness\", \"happiness\", \"happiness\", \"happy\", \"happy\", \"happy\", \"happy\", \"harbour\", \"harbour\", \"harpoon\", \"harpoon\", \"harpooneer\", \"harpooneer\", \"head\", \"head\", \"head\", \"head\", \"heart\", \"heart\", \"heart\", \"heart\", \"hellish\", \"hellish\", \"helsing\", \"helsing\", \"henry\", \"henry\", \"henry\", \"hertfordshire\", \"hertfordshire\", \"hold\", \"hold\", \"hold\", \"hold\", \"holmwood\", \"hope\", \"hope\", \"hope\", \"hope\", \"horror\", \"horror\", \"horror\", \"horror\", \"house\", \"house\", \"house\", \"house\", \"hovel\", \"hurst\", \"husband\", \"husband\", \"iii\", \"iii\", \"inflict\", \"inflict\", \"inflict\", \"innocence\", \"innocence\", \"innocent\", \"innocent\", \"innocent\", \"innocent\", \"inward\", \"jane\", \"jane\", \"jonah\", \"jonah\", \"justine\", \"justine\", \"lady\", \"lady\", \"lady\", \"lady\", \"lady_catherine\", \"lady_catherine\", \"land\", \"land\", \"land\", \"land\", \"landlord\", \"leg\", \"leg\", \"letter\", \"letter\", \"letter\", \"letter\", \"leviathan\", \"leviathan\", \"lie\", \"lie\", \"lie\", \"lie\", \"life\", \"life\", \"life\", \"life\", \"light\", \"light\", \"light\", \"light\", \"lizzy\", \"lizzy\", \"longbourn\", \"longbourn\", \"love\", \"love\", \"love\", \"love\", \"lucas\", \"lucas\", \"lucy\", \"lucy\", \"lucy\", \"lydia\", \"lydia\", \"majestic\", \"majestic\", \"manner\", \"manner\", \"manner\", \"manner\", \"many months\", \"many months\", \"many months\", \"mast\", \"mast\", \"mast_head\", \"mast_head\", \"mate\", \"mate\", \"mate\", \"mean\", \"mean\", \"mean\", \"mean\", \"meryton\", \"meryton\", \"mind\", \"mind\", \"mind\", \"mind\", \"miserable\", \"miserable\", \"miserable\", \"miserable\", \"misery\", \"misery\", \"misery\", \"misery\", \"misfortune\", \"misfortune\", \"misfortune\", \"misfortune\", \"miss\", \"miss\", \"miss\", \"miss\", \"miss_bennet\", \"miss_bennet\", \"miss_bingley\", \"miss_bingley\", \"miss_lucas\", \"moment\", \"moment\", \"moment\", \"moment\", \"mother\", \"mother\", \"mother\", \"mother\", \"mrs\", \"mrs\", \"mrs\", \"mrs\", \"mrs_bennet\", \"mrs_bennet\", \"mrs_collins\", \"mrs_collins\", \"mrs_hurst\", \"murder\", \"murder\", \"murder\", \"murderer\", \"murderer\", \"murderer\", \"nation\", \"naturalist\", \"nature\", \"nature\", \"nature\", \"nature\", \"netherfield\", \"netherfield\", \"new_bedford\", \"octavo\", \"oil\", \"oil\", \"old\", \"old\", \"old\", \"old\", \"old_man\", \"old_man\", \"open\", \"open\", \"open\", \"open\", \"pagan\", \"paradise\", \"pass\", \"pass\", \"pass\", \"pass\", \"peace\", \"peace\", \"peace\", \"peace\", \"peleg\", \"peleg\", \"philosophy\", \"philosophy\", \"philosophy\", \"pier\", \"pier\", \"pot\", \"practical\", \"practical\", \"present\", \"present\", \"present\", \"present\", \"protector\", \"protector\", \"pursuit\", \"pursuit\", \"pursuit\", \"pursuit\", \"queequeg\", \"queequeg\", \"queequeg\", \"queer\", \"queer\", \"remain\", \"remain\", \"remain\", \"remain\", \"remorse\", \"return\", \"return\", \"return\", \"return\", \"revenge\", \"revenge\", \"revenge\", \"revenge\", \"reverence\", \"room\", \"room\", \"room\", \"room\", \"rosings\", \"rosings\", \"round\", \"round\", \"round\", \"round\", \"run\", \"run\", \"run\", \"run\", \"safie\", \"safie\", \"safie\", \"sail\", \"sail\", \"sail\", \"sand\", \"science\", \"science\", \"science\", \"scientific\", \"sea\", \"sea\", \"sea\", \"sea\", \"seward\", \"seward\", \"ship\", \"ship\", \"ship\", \"ship\", \"shipmate\", \"sicken\", \"sicken\", \"sickness\", \"sickness\", \"sir_william\", \"sir_william\", \"sir_william\", \"sister\", \"sister\", \"sister\", \"sister\", \"sit\", \"sit\", \"sit\", \"sit\", \"sleep\", \"sleep\", \"sleep\", \"sleep\", \"sort\", \"sort\", \"sort\", \"sort\", \"sperm\", \"sperm_whale\", \"spout\", \"spout\", \"stand\", \"stand\", \"stand\", \"stand\", \"storm\", \"storm\", \"storm\", \"strange\", \"strange\", \"strange\", \"strange\", \"study\", \"study\", \"study\", \"study\", \"suffering\", \"suffering\", \"suffering\", \"swim\", \"swim\", \"talk\", \"talk\", \"talk\", \"talk\", \"tear\", \"tear\", \"tear\", \"tear\", \"thee\", \"thee\", \"thee\", \"thomas\", \"thou\", \"thou\", \"thou\", \"threat\", \"tomahawk\", \"torture\", \"torture\", \"torture\", \"tranquillity\", \"tranquillity\", \"tranquillity\", \"tranquillity\", \"union\", \"utterly\", \"utterly\", \"utterly\", \"victim\", \"victim\", \"victor\", \"victor\", \"victor\", \"voyage\", \"voyage\", \"voyage\", \"walk\", \"walk\", \"walk\", \"walk\", \"want\", \"want\", \"want\", \"want\", \"weep\", \"weep\", \"weep\", \"weep\", \"westenra\", \"whale\", \"whale\", \"whale\", \"whale_ship\", \"whale_ship\", \"whales\", \"whaling\", \"whaling\", \"wharf\", \"white\", \"white\", \"white\", \"white\", \"wickham\", \"wickham\", \"wish\", \"wish\", \"wish\", \"wish\", \"wood\", \"wood\", \"wooden\", \"word\", \"word\", \"word\", \"word\", \"work\", \"work\", \"work\", \"work\", \"world\", \"world\", \"world\", \"world\", \"wretchedness\", \"wretchedness\", \"wretchedness\", \"write\", \"write\", \"write\", \"write\", \"year\", \"year\", \"year\", \"year\", \"young\", \"young\", \"young\", \"young\"]}, \"R\": 30, \"lambda.step\": 0.01, \"plot.opts\": {\"xlab\": \"PC1\", \"ylab\": \"PC2\"}, \"topic.order\": [2, 3, 4, 1]};\n",
       "\n",
       "function LDAvis_load_lib(url, callback){\n",
       "  var s = document.createElement('script');\n",
       "  s.src = url;\n",
       "  s.async = true;\n",
       "  s.onreadystatechange = s.onload = callback;\n",
       "  s.onerror = function(){console.warn(\"failed to load library \" + url);};\n",
       "  document.getElementsByTagName(\"head\")[0].appendChild(s);\n",
       "}\n",
       "\n",
       "if(typeof(LDAvis) !== \"undefined\"){\n",
       "   // already loaded: just create the visualization\n",
       "   !function(LDAvis){\n",
       "       new LDAvis(\"#\" + \"ldavis_el20942112327211728250107552\", ldavis_el20942112327211728250107552_data);\n",
       "   }(LDAvis);\n",
       "}else if(typeof define === \"function\" && define.amd){\n",
       "   // require.js is available: use it to load d3/LDAvis\n",
       "   require.config({paths: {d3: \"https://cdnjs.cloudflare.com/ajax/libs/d3/3.5.5/d3.min\"}});\n",
       "   require([\"d3\"], function(d3){\n",
       "      window.d3 = d3;\n",
       "      LDAvis_load_lib(\"https://cdn.rawgit.com/bmabey/pyLDAvis/files/ldavis.v1.0.0.js\", function(){\n",
       "        new LDAvis(\"#\" + \"ldavis_el20942112327211728250107552\", ldavis_el20942112327211728250107552_data);\n",
       "      });\n",
       "    });\n",
       "}else{\n",
       "    // require.js not available: dynamically load d3 & LDAvis\n",
       "    LDAvis_load_lib(\"https://cdnjs.cloudflare.com/ajax/libs/d3/3.5.5/d3.min.js\", function(){\n",
       "         LDAvis_load_lib(\"https://cdn.rawgit.com/bmabey/pyLDAvis/files/ldavis.v1.0.0.js\", function(){\n",
       "                 new LDAvis(\"#\" + \"ldavis_el20942112327211728250107552\", ldavis_el20942112327211728250107552_data);\n",
       "            })\n",
       "         });\n",
       "}\n",
       "</script>"
      ],
      "text/plain": [
       "<IPython.core.display.HTML object>"
      ]
     },
     "execution_count": 47,
     "metadata": {},
     "output_type": "execute_result"
    }
   ],
   "source": [
    "# plot topics\n",
    "data =  pyLDAvis.gensim.prepare(model, corpus, dictionary)\n",
    "pyLDAvis.display(data)"
   ]
  },
  {
   "cell_type": "code",
   "execution_count": 48,
   "metadata": {},
   "outputs": [],
   "source": [
    "# assignment\n",
    "sent_to_cluster = list()\n",
    "for n,doc in enumerate(corpus):\n",
    "    if doc:\n",
    "        cluster = max(model[doc],key=lambda x:x[1])\n",
    "        sent_to_cluster.append(cluster[0])"
   ]
  },
  {
   "cell_type": "code",
   "execution_count": 49,
   "metadata": {},
   "outputs": [
    {
     "name": "stdout",
     "output_type": "stream",
     "text": [
      "DRACULA.txt : 1 - 36\n",
      "Accuracy: 0.6\n",
      "------\n",
      "Frankenstein.txt : 3 - 40\n",
      "Accuracy: 0.6666666666666666\n",
      "------\n",
      "Moby_Dick.txt : 1 - 46\n",
      "Accuracy: 0.7666666666666667\n",
      "------\n",
      "PRIDE_AND_PREJUDICE.txt : 2 - 59\n",
      "Accuracy: 0.9833333333333333\n",
      "------\n"
     ]
    }
   ],
   "source": [
    "# accuracy\n",
    "from collections import Counter\n",
    "for book, cluster in book_id.items():\n",
    "    assignments = list()\n",
    "    for real,given in zip(chunk_class,sent_to_cluster):\n",
    "        if real == cluster:\n",
    "            assignments.append(given)\n",
    "    most_common,num_most_common = Counter(assignments).most_common(1)[0] # 4, 6 times\n",
    "    print(book,\":\",most_common,\"-\",num_most_common)\n",
    "    print(\"Accuracy:\",num_most_common/limit)\n",
    "    print(\"------\")"
   ]
  },
  {
   "cell_type": "markdown",
   "metadata": {},
   "source": [
    "# Task 4: Semantic analysis based on lexical categories"
   ]
  },
  {
   "cell_type": "code",
   "execution_count": 50,
   "metadata": {},
   "outputs": [],
   "source": [
    "from empath import Empath\n",
    "lexicon = Empath()"
   ]
  },
  {
   "cell_type": "markdown",
   "metadata": {},
   "source": [
    "### Let's see what pre-build categories we can study! More information: https://hci.stanford.edu/publications/2016/ethan/empath-chi-2016.pdf"
   ]
  },
  {
   "cell_type": "code",
   "execution_count": 51,
   "metadata": {},
   "outputs": [
    {
     "name": "stdout",
     "output_type": "stream",
     "text": [
      "help\n",
      "office\n",
      "dance\n",
      "money\n",
      "wedding\n",
      "domestic_work\n",
      "sleep\n",
      "medical_emergency\n",
      "cold\n",
      "hate\n",
      "cheerfulness\n",
      "aggression\n",
      "occupation\n",
      "envy\n",
      "anticipation\n",
      "family\n",
      "vacation\n",
      "crime\n",
      "attractive\n",
      "masculine\n",
      "prison\n",
      "health\n",
      "pride\n",
      "dispute\n",
      "nervousness\n",
      "government\n",
      "weakness\n",
      "horror\n",
      "swearing_terms\n",
      "leisure\n",
      "suffering\n",
      "royalty\n",
      "wealthy\n",
      "tourism\n",
      "furniture\n",
      "school\n",
      "magic\n",
      "beach\n",
      "journalism\n",
      "morning\n",
      "banking\n",
      "social_media\n",
      "exercise\n",
      "night\n",
      "kill\n",
      "blue_collar_job\n",
      "art\n",
      "ridicule\n",
      "play\n",
      "computer\n",
      "college\n",
      "optimism\n",
      "stealing\n",
      "real_estate\n",
      "home\n",
      "divine\n",
      "sexual\n",
      "fear\n",
      "irritability\n",
      "superhero\n",
      "business\n",
      "driving\n",
      "pet\n",
      "childish\n",
      "cooking\n",
      "exasperation\n",
      "religion\n",
      "hipster\n",
      "internet\n",
      "surprise\n",
      "reading\n",
      "worship\n",
      "leader\n",
      "independence\n",
      "movement\n",
      "body\n",
      "noise\n",
      "eating\n",
      "medieval\n",
      "zest\n",
      "confusion\n",
      "water\n",
      "sports\n",
      "death\n",
      "healing\n",
      "legend\n",
      "heroic\n",
      "celebration\n",
      "restaurant\n",
      "violence\n",
      "programming\n",
      "dominant_heirarchical\n",
      "military\n",
      "neglect\n",
      "swimming\n",
      "exotic\n",
      "love\n",
      "hiking\n",
      "communication\n",
      "hearing\n",
      "order\n",
      "sympathy\n",
      "hygiene\n",
      "weather\n",
      "anonymity\n",
      "trust\n",
      "ancient\n",
      "deception\n",
      "fabric\n",
      "air_travel\n",
      "fight\n",
      "dominant_personality\n",
      "music\n",
      "vehicle\n",
      "politeness\n",
      "toy\n",
      "farming\n",
      "meeting\n",
      "war\n",
      "speaking\n",
      "listen\n",
      "urban\n",
      "shopping\n",
      "disgust\n",
      "fire\n",
      "tool\n",
      "phone\n",
      "gain\n",
      "sound\n",
      "injury\n",
      "sailing\n",
      "rage\n",
      "science\n",
      "work\n",
      "appearance\n",
      "valuable\n",
      "warmth\n",
      "youth\n",
      "sadness\n",
      "fun\n",
      "emotional\n",
      "joy\n",
      "affection\n",
      "traveling\n",
      "fashion\n",
      "ugliness\n",
      "lust\n",
      "shame\n",
      "torment\n",
      "economics\n",
      "anger\n",
      "politics\n",
      "ship\n",
      "clothing\n",
      "car\n",
      "strength\n",
      "technology\n",
      "breaking\n",
      "shape_and_size\n",
      "power\n",
      "white_collar_job\n",
      "animal\n",
      "party\n",
      "terrorism\n",
      "smell\n",
      "disappointment\n",
      "poor\n",
      "plant\n",
      "pain\n",
      "beauty\n",
      "timidity\n",
      "philosophy\n",
      "negotiate\n",
      "negative_emotion\n",
      "cleaning\n",
      "messaging\n",
      "competing\n",
      "law\n",
      "friends\n",
      "payment\n",
      "achievement\n",
      "alcohol\n",
      "liquid\n",
      "feminine\n",
      "weapon\n",
      "children\n",
      "monster\n",
      "ocean\n",
      "giving\n",
      "contentment\n",
      "writing\n",
      "rural\n",
      "positive_emotion\n",
      "musical\n",
      "festive_food\n",
      "healthy_food\n"
     ]
    }
   ],
   "source": [
    "for cat in lexicon.cats.keys():\n",
    "    print(cat)"
   ]
  },
  {
   "cell_type": "markdown",
   "metadata": {},
   "source": [
    "### For each category, we can examine representative terms"
   ]
  },
  {
   "cell_type": "code",
   "execution_count": 52,
   "metadata": {},
   "outputs": [
    {
     "data": {
      "text/plain": [
       "['severe',\n",
       " 'miscarriage',\n",
       " 'ultrasound',\n",
       " 'ailment',\n",
       " 'complication',\n",
       " 'dehydration',\n",
       " 'infection',\n",
       " 'allergy',\n",
       " 'relapse',\n",
       " 'insulin',\n",
       " 'neurologist',\n",
       " 'disease',\n",
       " 'relievers',\n",
       " 'asthma',\n",
       " 'chemotherapy',\n",
       " 'appointment',\n",
       " 'kidney',\n",
       " 'suffer',\n",
       " 'discharge',\n",
       " 'epilepsy',\n",
       " 'antibiotic',\n",
       " 'bulimia',\n",
       " 'arthritis',\n",
       " 'heartburn',\n",
       " 'prenatal',\n",
       " 'anemia',\n",
       " 'syndrome',\n",
       " 'immune',\n",
       " 'epidemic',\n",
       " 'vomiting',\n",
       " 'respiratory',\n",
       " 'specialist',\n",
       " 'transplant',\n",
       " 'coma',\n",
       " 'unwell',\n",
       " 'disorder',\n",
       " 'chronic',\n",
       " 'surgery',\n",
       " 'nurse',\n",
       " 'hospital',\n",
       " 'supplement',\n",
       " 'disability',\n",
       " 'vet',\n",
       " 'medication',\n",
       " 'pharmacist',\n",
       " 'healthy',\n",
       " 'tuberculosis',\n",
       " 'bedridden',\n",
       " 'malaria',\n",
       " 'influenza',\n",
       " 'fever',\n",
       " 'mental',\n",
       " 'physician',\n",
       " 'diabetes',\n",
       " 'health',\n",
       " 'sickness',\n",
       " 'anesthesia',\n",
       " 'pill',\n",
       " 'treatment',\n",
       " 'tumor',\n",
       " 'nutrition',\n",
       " 'nursing',\n",
       " 'maternity',\n",
       " 'remedy',\n",
       " 'abortion',\n",
       " 'schizophrenia',\n",
       " 'pregnancy',\n",
       " 'examination',\n",
       " 'dosage',\n",
       " 'recovery',\n",
       " 'sick',\n",
       " 'pills',\n",
       " 'glucose',\n",
       " 'therapy',\n",
       " 'patient',\n",
       " 'diarrhea',\n",
       " 'schizophrenic',\n",
       " 'vaccine',\n",
       " 'vitamin',\n",
       " 'liver',\n",
       " 'therapist',\n",
       " 'incurable',\n",
       " 'psychosis',\n",
       " 'transfusion',\n",
       " 'med',\n",
       " 'injection',\n",
       " 'prescribed',\n",
       " 'psychiatric',\n",
       " 'anorexia',\n",
       " 'medicine',\n",
       " 'symptom',\n",
       " 'anemic',\n",
       " 'prescribe',\n",
       " 'sedate',\n",
       " 'aspirin',\n",
       " 'psychiatrist',\n",
       " 'painkiller',\n",
       " 'dental',\n",
       " 'rehabilitation',\n",
       " 'seizure',\n",
       " 'cure',\n",
       " 'trimester',\n",
       " 'sufferer',\n",
       " 'antidepressant',\n",
       " 'anxiety',\n",
       " 'diagnosis',\n",
       " 'psychological',\n",
       " 'injures',\n",
       " 'pediatrician',\n",
       " 'concussion',\n",
       " 'cancer',\n",
       " 'pharmacy',\n",
       " 'pancreatic',\n",
       " 'cramp',\n",
       " 'trauma',\n",
       " 'pneumonia',\n",
       " 'vaccination',\n",
       " 'behavioral',\n",
       " 'remission',\n",
       " 'dementia',\n",
       " 'illness',\n",
       " 'surgeon',\n",
       " 'clinic',\n",
       " 'nutrient',\n",
       " 'biopsy',\n",
       " 'autism',\n",
       " 'diet',\n",
       " 'rehab',\n",
       " 'migraine',\n",
       " 'flu',\n",
       " 'deficiency',\n",
       " 'condition',\n",
       " 'ulcer',\n",
       " 'diabetic',\n",
       " 'prescription',\n",
       " 'medical',\n",
       " 'testing',\n",
       " 'gynecologist',\n",
       " 'leukemia',\n",
       " 'cancerous',\n",
       " 'injury',\n",
       " 'recuperate',\n",
       " 'medically',\n",
       " 'depression',\n",
       " 'checkup',\n",
       " 'antidote',\n",
       " 'infertile',\n",
       " 'diagnose',\n",
       " 'institution',\n",
       " 'psychologist',\n",
       " 'traumatic',\n",
       " 'dehydrated',\n",
       " 'malnutrition',\n",
       " 'poisoning',\n",
       " 'stress',\n",
       " 'doctor',\n",
       " 'depressant']"
      ]
     },
     "execution_count": 52,
     "metadata": {},
     "output_type": "execute_result"
    }
   ],
   "source": [
    "lexicon.cats[\"health\"]"
   ]
  },
  {
   "cell_type": "markdown",
   "metadata": {},
   "source": [
    "### Studying Pride and Prejudice"
   ]
  },
  {
   "cell_type": "code",
   "execution_count": 53,
   "metadata": {},
   "outputs": [],
   "source": [
    "nlp = spacy.load('en')\n",
    "doc = nlp(books[3])"
   ]
  },
  {
   "cell_type": "code",
   "execution_count": 54,
   "metadata": {},
   "outputs": [],
   "source": [
    "empath_features = lexicon.analyze(doc.text,categories = [\"disappointment\", \"pain\", \"joy\", \"beauty\", \"affection\"])"
   ]
  },
  {
   "cell_type": "code",
   "execution_count": 55,
   "metadata": {},
   "outputs": [
    {
     "data": {
      "text/plain": [
       "{'disappointment': 149.0,\n",
       " 'pain': 228.0,\n",
       " 'joy': 278.0,\n",
       " 'beauty': 136.0,\n",
       " 'affection': 439.0}"
      ]
     },
     "execution_count": 55,
     "metadata": {},
     "output_type": "execute_result"
    }
   ],
   "source": [
    "empath_features"
   ]
  },
  {
   "cell_type": "code",
   "execution_count": 56,
   "metadata": {},
   "outputs": [],
   "source": [
    "empath_features = lexicon.analyze(doc.text,categories = [\"disappointment\", \"pain\", \"joy\", \"beauty\", \"affection\"], normalize = True)"
   ]
  },
  {
   "cell_type": "code",
   "execution_count": 57,
   "metadata": {},
   "outputs": [
    {
     "data": {
      "text/plain": [
       "{'disappointment': 0.0012256615693403638,\n",
       " 'pain': 0.001875508978587939,\n",
       " 'joy': 0.002286804807225645,\n",
       " 'beauty': 0.0011187246538945602,\n",
       " 'affection': 0.0036111773754390585}"
      ]
     },
     "execution_count": 57,
     "metadata": {},
     "output_type": "execute_result"
    }
   ],
   "source": [
    "empath_features"
   ]
  },
  {
   "cell_type": "markdown",
   "metadata": {},
   "source": [
    "### Usecase: the evolution of topics"
   ]
  },
  {
   "cell_type": "code",
   "execution_count": 58,
   "metadata": {},
   "outputs": [],
   "source": [
    "bins = range(0,len(doc.text),150000)\n"
   ]
  },
  {
   "cell_type": "code",
   "execution_count": 59,
   "metadata": {},
   "outputs": [],
   "source": [
    "love = []\n",
    "pain = []\n",
    "beauty = []\n",
    "affection = []\n",
    "\n",
    "\n",
    "for cnt,i in enumerate(bins[:-1]):\n",
    "    empath_features = lexicon.analyze(doc.text[bins[cnt]:bins[cnt+1]],\n",
    "                                      categories = [\"love\", \"pain\", \"joy\", \"beauty\", \"affection\"], normalize = True)\n",
    "    love.append(empath_features[\"love\"])\n",
    "    pain.append(empath_features[\"pain\"])\n",
    "    beauty.append(empath_features[\"beauty\"])\n",
    "    affection.append(empath_features[\"affection\"])"
   ]
  },
  {
   "cell_type": "code",
   "execution_count": 60,
   "metadata": {},
   "outputs": [
    {
     "data": {
      "text/plain": [
       "<matplotlib.legend.Legend at 0x1a1feca250>"
      ]
     },
     "execution_count": 60,
     "metadata": {},
     "output_type": "execute_result"
    },
    {
     "data": {
      "image/png": "[encoded data removed]",
      "text/plain": [
       "<Figure size 432x288 with 1 Axes>"
      ]
     },
     "metadata": {
      "needs_background": "light"
     },
     "output_type": "display_data"
    }
   ],
   "source": [
    "plt.plot(love,label = \"love\")\n",
    "plt.plot(beauty, label = \"beauty\")\n",
    "plt.plot(affection, label = \"affection\")\n",
    "plt.plot(pain,label = \"pain\")\n",
    "\n",
    "plt.xlabel(\"progression in the book\")\n",
    "plt.ylabel(\"frequency of a category\")\n",
    "plt.legend()"
   ]
  },
  {
   "cell_type": "markdown",
   "metadata": {},
   "source": [
    "### We can create custom categories based on seed terms!\n",
    "### Models trained on: fiction, nytimes or reddit"
   ]
  },
  {
   "cell_type": "code",
   "execution_count": 61,
   "metadata": {},
   "outputs": [
    {
     "name": "stdout",
     "output_type": "stream",
     "text": [
      "[\"avocado\", \"kale\", \"Swiss_chard\", \"escarole\", \"black_beans\", \"cucumber\", \"dill\", \"leek\", \"mango\", \"red_peppers\", \"chicory\", \"chanterelles\", \"chutney\", \"tamarind\", \"papaya\", \"black_olives\", \"endive\", \"pesto\", \"walnuts\", \"green_beans\", \"bok_choy\", \"portobello_mushrooms\", \"lemon_grass\", \"radicchio\", \"ricotta\", \"chicken_breast\", \"porcini\", \"blue_cheese\", \"snow_peas\", \"pickled\", \"Gorgonzola\", \"chorizo\", \"yams\", \"hazelnuts\", \"fresh_tomatoes\", \"shiitake_mushrooms\", \"anchovies\", \"wild_rice\", \"scallion\", \"red_onions\", \"broccoli_rape\", \"red_cabbage\", \"wasabi\", \"sweet_potato\", \"feta\", \"roasted_garlic\", \"compote\", \"napoleon\", \"aioli\", \"crab_meat\", \"cauliflower\", \"jicama\", \"parsnips\", \"apricots\", \"new_potatoes\", \"truffle_oil\", \"lemongrass\", \"pistachios\", \"saut\\u00e9ed\", \"gnocchi\", \"duck_confit\", \"fresh_herbs\", \"ratatouille\", \"white_beans\", \"croutons\", \"fresh_mozzarella\", \"squab\", \"watercress\", \"roasted_red_peppers\", \"pine_nuts\", \"fritters\", \"butternut_squash\", \"fava_beans\", \"drizzled\", \"red_onion\", \"pea_shoots\", \"rosemary\", \"romaine\", \"mustard_greens\", \"horseradish\", \"caramelized_onions\", \"artichoke_hearts\", \"fettuccine\", \"grilled_eggplant\", \"julienne\", \"plum_tomatoes\", \"grilled_chicken\", \"pineapple\", \"candied\", \"pancetta\", \"celery_root\", \"sea_scallops\", \"shiitake\", \"porcini_mushrooms\", \"sour_cream\", \"bean_sprouts\", \"oyster_mushrooms\", \"monkfish\", \"chickpeas\", \"coconut_milk\"]\n"
     ]
    }
   ],
   "source": [
    "lexicon.create_category(\"healthy_food\", [\"healthy_food\",\"low_carb\",\"kale\",\"avocado\"], model=\"nytimes\")"
   ]
  },
  {
   "cell_type": "code",
   "execution_count": 62,
   "metadata": {},
   "outputs": [
    {
     "name": "stdout",
     "output_type": "stream",
     "text": [
      "[\"green_vegetables\", \"leafy_greens\", \"whole_grain_bread\", \"brown_rice\", \"white_rice\", \"green_veggies\", \"veggies\", \"whole_wheat_bread\", \"sweet_potatoes\", \"raw_veggies\", \"lean_meat\", \"spinach\", \"fatty_meat\", \"kale\", \"sweet_potato\", \"avocado\", \"hummus\", \"chicken_breast\", \"veggie\", \"whole_grain\", \"vegetables\", \"whole_wheat_pasta\", \"salads\", \"broccoli\", \"greek_yogurt\", \"Greek_yogurt\", \"yogurt\", \"avocados\", \"rice_cakes\", \"raw_vegetables\", \"almonds\", \"lean_protein\", \"grilled_chicken\", \"quinoa\", \"steamed_broccoli\", \"whole_grain_pasta\", \"brocolli\", \"kale\", \"avocado\", \"tofu\", \"Veggies\", \"edamame\", \"more_veggies\", \"lean_meats\", \"quinoa\", \"salad\", \"cottage_cheese\", \"whole_wheat\", \"wheat_bread\", \"romaine_lettuce\", \"white_bread\", \"raw_spinach\", \"oatmeal\", \"white_potatoes\", \"almond_butter\", \"pork_rinds\", \"veg\", \"cashews\", \"greek_yoghurt\", \"baby_carrots\", \"fresh_veggies\", \"fatty_meats\", \"more_vegetables\", \"avacado\", \"veges\", \"nut_butter\", \"hard_boiled_eggs\", \"carrot_sticks\", \"whole_grains\", \"grilled_chicken_breast\", \"steamed_vegetables\", \"meats\", \"lentils\", \"green_beans\", \"low_cal\", \"nuts/seeds\", \"iceberg_lettuce\", \"carrots\", \"red_meat\", \"other_foods\", \"fried_foods\", \"smoothies\", \"healthy_fats\", \"vegies\", \"avacados\", \"other_vegetables\", \"fresh_fruit\", \"spinach_salad\", \"egg_whites\", \"steamed_veggies\", \"nut_butters\", \"ground_turkey\", \"baked_chicken\"]\n"
     ]
    }
   ],
   "source": [
    "lexicon.create_category(\"healthy_food\", [\"healthy_food\",\"low_carb\",\"kale\",\"avocado\"], model=\"reddit\")"
   ]
  },
  {
   "cell_type": "code",
   "execution_count": 63,
   "metadata": {},
   "outputs": [
    {
     "name": "stdout",
     "output_type": "stream",
     "text": [
      "[\"turkey\", \"roast_beef\", \"white_bread\", \"fried_chicken\", \"pancakes\", \"peanut_butter\", \"gefilte_fish\", \"stuffing\", \"French_fries\", \"meatloaf\", \"brisket\", \"potato_salad\", \"pumpkin_pie\", \"scrambled_eggs\", \"french_fries\", \"spaghetti\", \"gravy\", \"tamales\", \"pot_roast\", \"oatmeal\", \"lasagna\", \"corned_beef\", \"latkes\", \"pickles\", \"sauerkraut\", \"burger\", \"grits\", \"biscuits\", \"hamburger\", \"salad_bar\", \"corn_bread\", \"chicken_soup\", \"bacon\", \"cream_cheese\", \"brownies\", \"tofu\", \"pastrami\", \"pork_chops\", \"salami\", \"marshmallows\", \"collard_greens\", \"macaroni\", \"pies\", \"raw_fish\", \"eggnog\", \"cheeseburgers\", \"truffles\", \"chocolate_cake\", \"hard-boiled_eggs\", \"baked_potatoes\", \"venison\", \"cottage_cheese\", \"pheasant\", \"applesauce\", \"quail\", \"fruit_salad\", \"meatballs\", \"chocolate_chip_cookies\", \"tacos\", \"roast\", \"jelly\", \"chicken_salad\", \"omelet\", \"gumbo\", \"steaks\", \"soup\", \"lox\", \"sausage\", \"roast_chicken\", \"rye\", \"bagel\", \"fruitcake\", \"fries\", \"fried_eggs\", \"ketchup\", \"chicken_wings\", \"barbecue_sauce\", \"sweet_potatoes\", \"pasta\", \"sausages\", \"crackers\", \"omelets\", \"roasting\", \"French_toast\", \"muffins\", \"mashed_potatoes\", \"fresh_fruit\", \"baked_potato\", \"waffles\", \"cranberry_sauce\", \"baked_beans\", \"cheese\", \"tripe\", \"noodles\", \"maple_syrup\", \"quiche\", \"buns\", \"baklava\", \"stews\"]\n"
     ]
    }
   ],
   "source": [
    "lexicon.create_category(\"festive_food\", [\"festive_food\",\"turkey\",\"eggnog\"], model=\"nytimes\")"
   ]
  },
  {
   "cell_type": "markdown",
   "metadata": {},
   "source": [
    "### List of further resources\n",
    "    * NLTK\n",
    "    * Jellyfish: string similarity library\n",
    "    * TextBlob: simplified text processing\n",
    "    * PyEnchant: language detection\n",
    "    * WordNet: ontology of concepts (inc. in NLTK)\n",
    "    * Stanford NLP (Java)\n",
    "    * Tweet NLP: https://www.cs.cmu.edu/~ark/TweetNLP/"
   ]
  }
 ],
 "metadata": {
  "kernelspec": {
   "display_name": "Python 3",
   "language": "python",
   "name": "python3"
  },
  "language_info": {
   "codemirror_mode": {
    "name": "ipython",
    "version": 3
   },
   "file_extension": ".py",
   "mimetype": "text/x-python",
   "name": "python",
   "nbconvert_exporter": "python",
   "pygments_lexer": "ipython3",
   "version": "3.7.4"
  },
  "toc": {
   "colors": {
    "hover_highlight": "#DAA520",
    "navigate_num": "#000000",
    "navigate_text": "#333333",
    "running_highlight": "#FF0000",
    "selected_highlight": "#FFD700",
    "sidebar_border": "#EEEEEE",
    "wrapper_background": "#FFFFFF"
   },
   "moveMenuLeft": true,
   "nav_menu": {
    "height": "228px",
    "width": "252px"
   },
   "navigate_menu": true,
   "number_sections": true,
   "sideBar": true,
   "threshold": 4,
   "toc_cell": false,
   "toc_section_display": "block",
   "toc_window_display": false,
   "widenNotebook": false
  },
  "varInspector": {
   "cols": {
    "lenName": 16,
    "lenType": 16,
    "lenVar": 40
   },
   "kernels_config": {
    "python": {
     "delete_cmd_postfix": "",
     "delete_cmd_prefix": "del ",
     "library": "var_list.py",
     "varRefreshCmd": "print(var_dic_list())"
    },
    "r": {
     "delete_cmd_postfix": ") ",
     "delete_cmd_prefix": "rm(",
     "library": "var_list.r",
     "varRefreshCmd": "cat(var_dic_list()) "
    }
   },
   "types_to_exclude": [
    "module",
    "function",
    "builtin_function_or_method",
    "instance",
    "_Feature"
   ],
   "window_display": false
  }
 },
 "nbformat": 4,
 "nbformat_minor": 4
}
