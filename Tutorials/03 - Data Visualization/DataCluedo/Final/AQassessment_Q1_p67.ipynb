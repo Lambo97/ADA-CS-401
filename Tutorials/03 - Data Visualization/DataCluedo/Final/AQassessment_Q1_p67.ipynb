{
 "cells": [
  {
   "cell_type": "markdown",
   "metadata": {},
   "source": [
    "# WEALTH MANAGEMENT (10 mins)\n",
    "# Instructions / Notes: Read these carefully\n",
    "This **Python Jupyter Notebook** notebook is split into the following sections:\n",
    "\n",
    "1. **Initial section** with pre-filled cells, that you should run just to load some Python modules (packages), the dataset required for your task and its variables in memory.\n",
    "2. **Middle section** with **description of a concrete task** associated with the dataset. \n",
    "3. **Final section (with one or more empty cells)** where you can perform analyses with the loaded dataset (e.g., write a few lines of code if needed), answer the question posed, and describe your reasoning in words.\n",
    "\n",
    "**Read and execute each cell in order, without skipping forward**. To execute any cell, press **Shift+Enter** on your keyboard. It might take a couple of seconds to receive an output.\n",
    "\n",
    "Have fun!"
   ]
  },
  {
   "cell_type": "code",
   "execution_count": 1,
   "metadata": {},
   "outputs": [
    {
     "data": {
      "text/html": [
       "<div>\n",
       "<style scoped>\n",
       "    .dataframe tbody tr th:only-of-type {\n",
       "        vertical-align: middle;\n",
       "    }\n",
       "\n",
       "    .dataframe tbody tr th {\n",
       "        vertical-align: top;\n",
       "    }\n",
       "\n",
       "    .dataframe thead th {\n",
       "        text-align: right;\n",
       "    }\n",
       "</style>\n",
       "<table border=\"1\" class=\"dataframe\">\n",
       "  <thead>\n",
       "    <tr style=\"text-align: right;\">\n",
       "      <th></th>\n",
       "      <th>TotalSalary</th>\n",
       "      <th>TotalSavings</th>\n",
       "    </tr>\n",
       "  </thead>\n",
       "  <tbody>\n",
       "    <tr>\n",
       "      <td>0</td>\n",
       "      <td>6196.600351</td>\n",
       "      <td>897.081472</td>\n",
       "    </tr>\n",
       "    <tr>\n",
       "      <td>1</td>\n",
       "      <td>7408.922978</td>\n",
       "      <td>467.204955</td>\n",
       "    </tr>\n",
       "    <tr>\n",
       "      <td>2</td>\n",
       "      <td>3421.342496</td>\n",
       "      <td>364.759489</td>\n",
       "    </tr>\n",
       "    <tr>\n",
       "      <td>3</td>\n",
       "      <td>5852.974411</td>\n",
       "      <td>308.943956</td>\n",
       "    </tr>\n",
       "    <tr>\n",
       "      <td>4</td>\n",
       "      <td>4415.286569</td>\n",
       "      <td>468.453552</td>\n",
       "    </tr>\n",
       "  </tbody>\n",
       "</table>\n",
       "</div>"
      ],
      "text/plain": [
       "   TotalSalary  TotalSavings\n",
       "0  6196.600351    897.081472\n",
       "1  7408.922978    467.204955\n",
       "2  3421.342496    364.759489\n",
       "3  5852.974411    308.943956\n",
       "4  4415.286569    468.453552"
      ]
     },
     "execution_count": 1,
     "metadata": {},
     "output_type": "execute_result"
    }
   ],
   "source": [
    "# Run the following to import necessary packages and import dataset.\n",
    "import pandas as pd\n",
    "import numpy as np\n",
    "import scipy as sp\n",
    "from IPython.core.interactiveshell import InteractiveShell\n",
    "InteractiveShell.ast_node_interactivity = \"all\"\n",
    "import matplotlib\n",
    "import matplotlib.pyplot as plt\n",
    "%matplotlib inline\n",
    "matplotlib.style.use('ggplot')\n",
    "\n",
    "dA = \"AQ_DA assessment_SalarySavings_cantonA.csv\"\n",
    "dB = \"AQ_DA assessment_SalarySavings_cantonB.csv\"\n",
    "\n",
    "#DATASET A\n",
    "dfA = pd.read_csv(dA)\n",
    "\n",
    "#DATASET B\n",
    "dfB = pd.read_csv(dB)\n",
    "\n",
    "#Print first five lines of dataset A as a check to see if the datasets are loaded properly.\n",
    "dfA.head(n=5)"
   ]
  },
  {
   "cell_type": "markdown",
   "metadata": {},
   "source": [
    "# DATASET DESCRIPTION:\n",
    "Each of the 2 dataframes loaded above represents **total yearly salary and total yearly savings of people from 2 cantons A and B**. Run the cells to obtain some descriptive statistics for these datasets below."
   ]
  },
  {
   "cell_type": "code",
   "execution_count": 2,
   "metadata": {},
   "outputs": [
    {
     "name": "stdout",
     "output_type": "stream",
     "text": [
      "Mean (canton A)\n"
     ]
    },
    {
     "data": {
      "text/plain": [
       "TotalSalary     5402.34\n",
       "TotalSavings     480.92\n",
       "dtype: float64"
      ]
     },
     "execution_count": 2,
     "metadata": {},
     "output_type": "execute_result"
    },
    {
     "name": "stdout",
     "output_type": "stream",
     "text": [
      " \n",
      "----\n",
      "Standard deviation (canton A)\n"
     ]
    },
    {
     "data": {
      "text/plain": [
       "TotalSalary     1452.29\n",
       "TotalSavings     247.99\n",
       "dtype: float64"
      ]
     },
     "execution_count": 2,
     "metadata": {},
     "output_type": "execute_result"
    },
    {
     "name": "stdout",
     "output_type": "stream",
     "text": [
      " \n",
      "----\n",
      "Pearson correlation (canton A)\n"
     ]
    },
    {
     "data": {
      "text/html": [
       "<div>\n",
       "<style scoped>\n",
       "    .dataframe tbody tr th:only-of-type {\n",
       "        vertical-align: middle;\n",
       "    }\n",
       "\n",
       "    .dataframe tbody tr th {\n",
       "        vertical-align: top;\n",
       "    }\n",
       "\n",
       "    .dataframe thead th {\n",
       "        text-align: right;\n",
       "    }\n",
       "</style>\n",
       "<table border=\"1\" class=\"dataframe\">\n",
       "  <thead>\n",
       "    <tr style=\"text-align: right;\">\n",
       "      <th></th>\n",
       "      <th>TotalSalary</th>\n",
       "      <th>TotalSavings</th>\n",
       "    </tr>\n",
       "  </thead>\n",
       "  <tbody>\n",
       "    <tr>\n",
       "      <td>TotalSalary</td>\n",
       "      <td>1.00</td>\n",
       "      <td>0.32</td>\n",
       "    </tr>\n",
       "    <tr>\n",
       "      <td>TotalSavings</td>\n",
       "      <td>0.32</td>\n",
       "      <td>1.00</td>\n",
       "    </tr>\n",
       "  </tbody>\n",
       "</table>\n",
       "</div>"
      ],
      "text/plain": [
       "              TotalSalary  TotalSavings\n",
       "TotalSalary          1.00          0.32\n",
       "TotalSavings         0.32          1.00"
      ]
     },
     "execution_count": 2,
     "metadata": {},
     "output_type": "execute_result"
    }
   ],
   "source": [
    "from IPython.core.interactiveshell import InteractiveShell\n",
    "InteractiveShell.ast_node_interactivity = \"all\"\n",
    "#You will receive 3 outputs for CANTON A: mean, standard deviation and Pearson correlation between variables\n",
    "print (\"Mean (canton A)\")\n",
    "round(dfA.mean(),2)\n",
    "print (\" \")\n",
    "print (\"----\")\n",
    "\n",
    "print (\"Standard deviation (canton A)\")\n",
    "round(dfA.std(),2)\n",
    "print (\" \")\n",
    "print (\"----\")\n",
    "\n",
    "print (\"Pearson correlation (canton A)\")\n",
    "round(dfA.corr(method='pearson'),2)"
   ]
  },
  {
   "cell_type": "code",
   "execution_count": 3,
   "metadata": {},
   "outputs": [
    {
     "name": "stdout",
     "output_type": "stream",
     "text": [
      "Mean (canton B)\n"
     ]
    },
    {
     "data": {
      "text/plain": [
       "TotalSalary     5402.53\n",
       "TotalSavings     480.97\n",
       "dtype: float64"
      ]
     },
     "execution_count": 3,
     "metadata": {},
     "output_type": "execute_result"
    },
    {
     "name": "stdout",
     "output_type": "stream",
     "text": [
      " \n",
      "----\n",
      "Standard deviation (canton B)\n"
     ]
    },
    {
     "data": {
      "text/plain": [
       "TotalSalary     1452.09\n",
       "TotalSavings     247.90\n",
       "dtype: float64"
      ]
     },
     "execution_count": 3,
     "metadata": {},
     "output_type": "execute_result"
    },
    {
     "name": "stdout",
     "output_type": "stream",
     "text": [
      " \n",
      "----\n",
      "Pearson correlation (canton B)\n"
     ]
    },
    {
     "data": {
      "text/html": [
       "<div>\n",
       "<style scoped>\n",
       "    .dataframe tbody tr th:only-of-type {\n",
       "        vertical-align: middle;\n",
       "    }\n",
       "\n",
       "    .dataframe tbody tr th {\n",
       "        vertical-align: top;\n",
       "    }\n",
       "\n",
       "    .dataframe thead th {\n",
       "        text-align: right;\n",
       "    }\n",
       "</style>\n",
       "<table border=\"1\" class=\"dataframe\">\n",
       "  <thead>\n",
       "    <tr style=\"text-align: right;\">\n",
       "      <th></th>\n",
       "      <th>TotalSalary</th>\n",
       "      <th>TotalSavings</th>\n",
       "    </tr>\n",
       "  </thead>\n",
       "  <tbody>\n",
       "    <tr>\n",
       "      <td>TotalSalary</td>\n",
       "      <td>1.00</td>\n",
       "      <td>0.32</td>\n",
       "    </tr>\n",
       "    <tr>\n",
       "      <td>TotalSavings</td>\n",
       "      <td>0.32</td>\n",
       "      <td>1.00</td>\n",
       "    </tr>\n",
       "  </tbody>\n",
       "</table>\n",
       "</div>"
      ],
      "text/plain": [
       "              TotalSalary  TotalSavings\n",
       "TotalSalary          1.00          0.32\n",
       "TotalSavings         0.32          1.00"
      ]
     },
     "execution_count": 3,
     "metadata": {},
     "output_type": "execute_result"
    }
   ],
   "source": [
    "from IPython.core.interactiveshell import InteractiveShell\n",
    "InteractiveShell.ast_node_interactivity = \"all\"\n",
    "#You will receive 3 outputs for CANTON B: mean, standard deviation and Pearson correlation between variables\n",
    "print (\"Mean (canton B)\")\n",
    "round(dfB.mean(),2)\n",
    "print (\" \")\n",
    "print (\"----\")\n",
    "\n",
    "print (\"Standard deviation (canton B)\")\n",
    "round(dfB.std(),2)\n",
    "print (\" \")\n",
    "print (\"----\")\n",
    "\n",
    "print (\"Pearson correlation (canton B)\")\n",
    "round(dfB.corr(method='pearson'),2)"
   ]
  },
  {
   "cell_type": "markdown",
   "metadata": {},
   "source": [
    "# TASK: \n",
    "**People from which canton seem more invested in their long-term financial planning**? \n",
    "\n",
    "1. Please mark your **answer** (canton A, canton B)\n",
    "2. Please provide a brief **reasoning** behind your answer (an explanation of **why** you took certain steps or performed certain calculations to get to the solution)\n",
    "3. Please mark your **confidence** in the answer (on a scale of 1 to 5)\n"
   ]
  },
  {
   "cell_type": "code",
   "execution_count": 7,
   "metadata": {},
   "outputs": [
    {
     "name": "stdout",
     "output_type": "stream",
     "text": [
      "A\n",
      "In canton A there is a positive relationship between the salary and the saving (see scatterplot)\n",
      "5\n"
     ]
    }
   ],
   "source": [
    "#NOTE: Round all your statistics to 2 decimal places before reasoning with them!! \n",
    "\n",
    "#REPORT YOUR ANSWER\n",
    "canton = 'A'\n",
    "#choose between: A (canton A), B (canton B)\n",
    "print(canton)\n",
    "\n",
    "#REPORT YOUR REASONING\n",
    "canton_reasoning = 'In canton A there is a positive relationship between the salary and the saving (see scatterplot)'\n",
    "print(canton_reasoning)\n",
    "\n",
    "#REPORT CONFIDENCE IN YOUR ANSWER\n",
    "confidence_measure = '5' \n",
    "#Choose among: 1 (low confidence), 2, 3 (medium confidence), 4, 5 (high confidence)\n",
    "print(confidence_measure)\n"
   ]
  },
  {
   "cell_type": "code",
   "execution_count": 4,
   "metadata": {},
   "outputs": [],
   "source": [
    "#ONLY use this space below to write your code (if needed) for answering the task. DO NOT ERASE this code segment from the workbook.\n",
    "\n",
    "\n",
    "\n",
    "\n",
    "\n",
    "\n",
    "\n",
    "\n",
    "\n",
    "\n",
    "\n",
    "\n",
    "#Your intuitive ideas are valuable!!If you need syntax-related help in implementing your ideas, you can access the following documentation files (use the \"Search\" tab for queries) and/or summarized syntax sheets.\n",
    "\n",
    "#a) Pandas library\n",
    "#Documentation file: https://pandas.pydata.org/pandas-docs/stable/\n",
    "#Syntax sheet: https://datacamp-community-prod.s3.amazonaws.com/fbc502d0-46b2-4e1b-b6b0-5402ff273251\n",
    "\n",
    "#b) Numpy library\n",
    "#Documentation file: https://docs.scipy.org/doc/numpy/user/index.html\n",
    "#Syntax sheet: https://datacamp-community-prod.s3.amazonaws.com/e9f83f72-a81b-42c7-af44-4e35b48b20b7\n",
    "\n",
    "#c) Matplotlib library\n",
    "#Documentation file: https://matplotlib.org/contents.html\n",
    "#Syntax sheet: https://datacamp-community-prod.s3.amazonaws.com/28b8210c-60cc-4f13-b0b4-5b4f2ad4790b\n",
    "\n",
    "#d) Scipy library\n",
    "#Documentation file: https://docs.scipy.org/doc/scipy/reference/\n",
    "#Syntax sheet: https://datacamp-community-prod.s3.amazonaws.com/5710caa7-94d4-4248-be94-d23dea9e668f"
   ]
  },
  {
   "cell_type": "code",
   "execution_count": 5,
   "metadata": {},
   "outputs": [
    {
     "data": {
      "text/plain": [
       "<matplotlib.axes._subplots.AxesSubplot at 0x1036ee890>"
      ]
     },
     "execution_count": 5,
     "metadata": {},
     "output_type": "execute_result"
    },
    {
     "data": {
      "image/png": "[encoded data removed]",
      "text/plain": [
       "<Figure size 432x288 with 1 Axes>"
      ]
     },
     "metadata": {
      "needs_background": "light"
     },
     "output_type": "display_data"
    }
   ],
   "source": [
    "dfA.plot.scatter(0,1)"
   ]
  },
  {
   "cell_type": "code",
   "execution_count": 6,
   "metadata": {},
   "outputs": [
    {
     "data": {
      "text/plain": [
       "<matplotlib.axes._subplots.AxesSubplot at 0x1139a8c50>"
      ]
     },
     "execution_count": 6,
     "metadata": {},
     "output_type": "execute_result"
    },
    {
     "data": {
      "image/png": "[encoded data removed]",
      "text/plain": [
       "<Figure size 432x288 with 1 Axes>"
      ]
     },
     "metadata": {
      "needs_background": "light"
     },
     "output_type": "display_data"
    }
   ],
   "source": [
    "dfB.plot.scatter(0,1)"
   ]
  },
  {
   "cell_type": "code",
   "execution_count": null,
   "metadata": {},
   "outputs": [],
   "source": []
  }
 ],
 "metadata": {
  "kernelspec": {
   "display_name": "Python [conda env:ada] *",
   "language": "python",
   "name": "conda-env-ada-py"
  },
  "language_info": {
   "codemirror_mode": {
    "name": "ipython",
    "version": 3
   },
   "file_extension": ".py",
   "mimetype": "text/x-python",
   "name": "python",
   "nbconvert_exporter": "python",
   "pygments_lexer": "ipython3",
   "version": "3.7.4"
  }
 },
 "nbformat": 4,
 "nbformat_minor": 4
}
