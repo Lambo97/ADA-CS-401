{
 "cells": [
  {
   "cell_type": "code",
   "execution_count": 1,
   "metadata": {},
   "outputs": [],
   "source": [
    "import pandas as pd\n",
    "import numpy as np\n",
    "import matplotlib.pyplot as plt\n",
    "import json"
   ]
  },
  {
   "cell_type": "markdown",
   "metadata": {},
   "source": [
    "# ADA Final Exam\n",
    "\n",
    "## Deadline\n",
    "Thursday February 02, 2017 at 11:15AM\n",
    "\n",
    "## Important Notes\n",
    "* Make sure you upload your iPython Notebook [with this form](https://script.google.com/macros/s/AKfycbxOi0MpR3WnGXrXjx85Q5W7ENteJI3gpD4_VL3zfZaX3CHnCDQ/exec) at the end of the exam, with all the cells already evaluated.\n",
    "* Don't forget to add a textual description of your thought process, the assumptions you made, and the solution\n",
    "you plan to implement!\n",
    "* Please write all your comments in English, and use meaningful variable names in your code.\n",
    "* As we have seen during the semester, data science is all about multiple iterations on the same dataset.\n",
    "Do not obsess over small details at the beginning, and try to complete as many tasks as possible during the first 2 hours. \n",
    "Then, go back to the obtained results, write meaningful comments, and debug your code if you have found any glaring mistake.\n",
    "* Remember, this is not a homework assignment -- **no teamwork allowed!**\n",
    "\n",
    "## Goal\n",
    "Today you will wear the hat of a data scientist who studies the Social Media presence of the two\n",
    "major Swiss universities: EPFL and ETHZ. You will be given multiple tasks, ranging from data analysis\n",
    "to machine learning, all aimed at spotting key differences between the two universities.\n",
    "\n",
    "## Data Description\n",
    "In this repository you can find two `.json` files containing the full Twitter history of the \n",
    "[EPFL_en](https://twitter.com/epfl_en) and [ETH_en](https://twitter.com/eth_en) accounts.\n",
    "On the Twitter developers site you can read a full description of the [Tweet objects](https://dev.twitter.com/overview/api/tweets)\n",
    "contained in the files. We recommend you to read carefully the documentation, in order to understand how useful each attribute could be for the assigned tasks.\n",
    "Load the two files into Pandas dataframes, and then generate two additional dataframes filtered by `id % 10 == LAST_DIGIT_OF_YOUR_SCIPER_NUMBER`.\n",
    "Whenever asked, perform the task on both the full dataframes and the downsampled ones, discussing what is the impact of the downsampling (if any).\n",
    "\n",
    "## Tasks\n",
    "1. Perform **data wrangling** as you see fit on *both the full and downsampled dataframes*, justifying your choices.\n"
   ]
  },
  {
   "cell_type": "markdown",
   "metadata": {},
   "source": [
    "We will use only the following field of the Tweet object :\n",
    "* Text : the text of the tweet\n",
    "* Id : id of the tweet\n",
    "* Favorite counts : number of likes\n",
    "* Hashtags : list of hashtags in the tweet\n",
    "* (Mention : list of name mention in the tweet)\n",
    "* Retweet counts: number of retweet\n",
    "* Created_at : date of the tweet"
   ]
  },
  {
   "cell_type": "code",
   "execution_count": 5,
   "metadata": {},
   "outputs": [
    {
     "data": {
      "text/html": [
       "<div>\n",
       "<style scoped>\n",
       "    .dataframe tbody tr th:only-of-type {\n",
       "        vertical-align: middle;\n",
       "    }\n",
       "\n",
       "    .dataframe tbody tr th {\n",
       "        vertical-align: top;\n",
       "    }\n",
       "\n",
       "    .dataframe thead th {\n",
       "        text-align: right;\n",
       "    }\n",
       "</style>\n",
       "<table border=\"1\" class=\"dataframe\">\n",
       "  <thead>\n",
       "    <tr style=\"text-align: right;\">\n",
       "      <th></th>\n",
       "      <th>contributors</th>\n",
       "      <th>truncated</th>\n",
       "      <th>text</th>\n",
       "      <th>is_quote_status</th>\n",
       "      <th>in_reply_to_status_id</th>\n",
       "      <th>id</th>\n",
       "      <th>favorite_count</th>\n",
       "      <th>source</th>\n",
       "      <th>retweeted</th>\n",
       "      <th>coordinates</th>\n",
       "      <th>...</th>\n",
       "      <th>possibly_sensitive</th>\n",
       "      <th>lang</th>\n",
       "      <th>created_at</th>\n",
       "      <th>in_reply_to_status_id_str</th>\n",
       "      <th>place</th>\n",
       "      <th>retweeted_status</th>\n",
       "      <th>extended_entities</th>\n",
       "      <th>quoted_status_id</th>\n",
       "      <th>quoted_status</th>\n",
       "      <th>quoted_status_id_str</th>\n",
       "    </tr>\n",
       "  </thead>\n",
       "  <tbody>\n",
       "    <tr>\n",
       "      <td>0</td>\n",
       "      <td>NaN</td>\n",
       "      <td>False</td>\n",
       "      <td>From digitally designing to testing on the slo...</td>\n",
       "      <td>False</td>\n",
       "      <td>NaN</td>\n",
       "      <td>825025633579212800</td>\n",
       "      <td>1</td>\n",
       "      <td>&lt;a href=\"http://twitter.com\" rel=\"nofollow\"&gt;Tw...</td>\n",
       "      <td>False</td>\n",
       "      <td>NaN</td>\n",
       "      <td>...</td>\n",
       "      <td>0.0</td>\n",
       "      <td>en</td>\n",
       "      <td>2017-01-27 17:00:13+00:00</td>\n",
       "      <td>NaN</td>\n",
       "      <td>NaN</td>\n",
       "      <td>NaN</td>\n",
       "      <td>NaN</td>\n",
       "      <td>NaN</td>\n",
       "      <td>NaN</td>\n",
       "      <td>NaN</td>\n",
       "    </tr>\n",
       "    <tr>\n",
       "      <td>1</td>\n",
       "      <td>NaN</td>\n",
       "      <td>False</td>\n",
       "      <td>RT @materialsviews: Learn more on Microscale #...</td>\n",
       "      <td>False</td>\n",
       "      <td>NaN</td>\n",
       "      <td>824986239543738368</td>\n",
       "      <td>0</td>\n",
       "      <td>&lt;a href=\"http://www.falcon.io\" rel=\"nofollow\"&gt;...</td>\n",
       "      <td>False</td>\n",
       "      <td>NaN</td>\n",
       "      <td>...</td>\n",
       "      <td>0.0</td>\n",
       "      <td>en</td>\n",
       "      <td>2017-01-27 14:23:41+00:00</td>\n",
       "      <td>NaN</td>\n",
       "      <td>NaN</td>\n",
       "      <td>{'contributors': None, 'truncated': False, 'te...</td>\n",
       "      <td>NaN</td>\n",
       "      <td>NaN</td>\n",
       "      <td>NaN</td>\n",
       "      <td>NaN</td>\n",
       "    </tr>\n",
       "    <tr>\n",
       "      <td>2</td>\n",
       "      <td>NaN</td>\n",
       "      <td>False</td>\n",
       "      <td>RT @LudiciousFest: Severin Klingler, Ph.D. can...</td>\n",
       "      <td>False</td>\n",
       "      <td>NaN</td>\n",
       "      <td>824632013990793217</td>\n",
       "      <td>0</td>\n",
       "      <td>&lt;a href=\"http://www.falcon.io\" rel=\"nofollow\"&gt;...</td>\n",
       "      <td>False</td>\n",
       "      <td>NaN</td>\n",
       "      <td>...</td>\n",
       "      <td>NaN</td>\n",
       "      <td>en</td>\n",
       "      <td>2017-01-26 14:56:07+00:00</td>\n",
       "      <td>NaN</td>\n",
       "      <td>NaN</td>\n",
       "      <td>{'contributors': None, 'truncated': True, 'tex...</td>\n",
       "      <td>NaN</td>\n",
       "      <td>NaN</td>\n",
       "      <td>NaN</td>\n",
       "      <td>NaN</td>\n",
       "    </tr>\n",
       "    <tr>\n",
       "      <td>3</td>\n",
       "      <td>NaN</td>\n",
       "      <td>False</td>\n",
       "      <td>RT @NatRevMCB: Now online Review by Ulrike Kut...</td>\n",
       "      <td>False</td>\n",
       "      <td>NaN</td>\n",
       "      <td>824589837479149570</td>\n",
       "      <td>0</td>\n",
       "      <td>&lt;a href=\"http://www.falcon.io\" rel=\"nofollow\"&gt;...</td>\n",
       "      <td>False</td>\n",
       "      <td>NaN</td>\n",
       "      <td>...</td>\n",
       "      <td>NaN</td>\n",
       "      <td>en</td>\n",
       "      <td>2017-01-26 12:08:32+00:00</td>\n",
       "      <td>NaN</td>\n",
       "      <td>NaN</td>\n",
       "      <td>{'contributors': None, 'truncated': True, 'tex...</td>\n",
       "      <td>NaN</td>\n",
       "      <td>NaN</td>\n",
       "      <td>NaN</td>\n",
       "      <td>NaN</td>\n",
       "    </tr>\n",
       "    <tr>\n",
       "      <td>4</td>\n",
       "      <td>NaN</td>\n",
       "      <td>False</td>\n",
       "      <td>RT @aaas: Experts from @MIT, @ETH_en and more ...</td>\n",
       "      <td>False</td>\n",
       "      <td>NaN</td>\n",
       "      <td>824307723814703106</td>\n",
       "      <td>0</td>\n",
       "      <td>&lt;a href=\"http://twitter.com/download/android\" ...</td>\n",
       "      <td>False</td>\n",
       "      <td>NaN</td>\n",
       "      <td>...</td>\n",
       "      <td>0.0</td>\n",
       "      <td>en</td>\n",
       "      <td>2017-01-25 17:27:30+00:00</td>\n",
       "      <td>NaN</td>\n",
       "      <td>NaN</td>\n",
       "      <td>{'contributors': None, 'truncated': True, 'tex...</td>\n",
       "      <td>NaN</td>\n",
       "      <td>NaN</td>\n",
       "      <td>NaN</td>\n",
       "      <td>NaN</td>\n",
       "    </tr>\n",
       "  </tbody>\n",
       "</table>\n",
       "<p>5 rows × 29 columns</p>\n",
       "</div>"
      ],
      "text/plain": [
       "   contributors  truncated                                               text  \\\n",
       "0           NaN      False  From digitally designing to testing on the slo...   \n",
       "1           NaN      False  RT @materialsviews: Learn more on Microscale #...   \n",
       "2           NaN      False  RT @LudiciousFest: Severin Klingler, Ph.D. can...   \n",
       "3           NaN      False  RT @NatRevMCB: Now online Review by Ulrike Kut...   \n",
       "4           NaN      False  RT @aaas: Experts from @MIT, @ETH_en and more ...   \n",
       "\n",
       "   is_quote_status  in_reply_to_status_id                  id  favorite_count  \\\n",
       "0            False                    NaN  825025633579212800               1   \n",
       "1            False                    NaN  824986239543738368               0   \n",
       "2            False                    NaN  824632013990793217               0   \n",
       "3            False                    NaN  824589837479149570               0   \n",
       "4            False                    NaN  824307723814703106               0   \n",
       "\n",
       "                                              source  retweeted  coordinates  \\\n",
       "0  <a href=\"http://twitter.com\" rel=\"nofollow\">Tw...      False          NaN   \n",
       "1  <a href=\"http://www.falcon.io\" rel=\"nofollow\">...      False          NaN   \n",
       "2  <a href=\"http://www.falcon.io\" rel=\"nofollow\">...      False          NaN   \n",
       "3  <a href=\"http://www.falcon.io\" rel=\"nofollow\">...      False          NaN   \n",
       "4  <a href=\"http://twitter.com/download/android\" ...      False          NaN   \n",
       "\n",
       "   ... possibly_sensitive lang                created_at  \\\n",
       "0  ...                0.0   en 2017-01-27 17:00:13+00:00   \n",
       "1  ...                0.0   en 2017-01-27 14:23:41+00:00   \n",
       "2  ...                NaN   en 2017-01-26 14:56:07+00:00   \n",
       "3  ...                NaN   en 2017-01-26 12:08:32+00:00   \n",
       "4  ...                0.0   en 2017-01-25 17:27:30+00:00   \n",
       "\n",
       "   in_reply_to_status_id_str  place  \\\n",
       "0                        NaN    NaN   \n",
       "1                        NaN    NaN   \n",
       "2                        NaN    NaN   \n",
       "3                        NaN    NaN   \n",
       "4                        NaN    NaN   \n",
       "\n",
       "                                    retweeted_status extended_entities  \\\n",
       "0                                                NaN               NaN   \n",
       "1  {'contributors': None, 'truncated': False, 'te...               NaN   \n",
       "2  {'contributors': None, 'truncated': True, 'tex...               NaN   \n",
       "3  {'contributors': None, 'truncated': True, 'tex...               NaN   \n",
       "4  {'contributors': None, 'truncated': True, 'tex...               NaN   \n",
       "\n",
       "   quoted_status_id  quoted_status  quoted_status_id_str  \n",
       "0               NaN            NaN                   NaN  \n",
       "1               NaN            NaN                   NaN  \n",
       "2               NaN            NaN                   NaN  \n",
       "3               NaN            NaN                   NaN  \n",
       "4               NaN            NaN                   NaN  \n",
       "\n",
       "[5 rows x 29 columns]"
      ]
     },
     "execution_count": 5,
     "metadata": {},
     "output_type": "execute_result"
    }
   ],
   "source": [
    "# Load tweets into a dataframe\n",
    "tweets = pd.read_json('eth_en.json')\n",
    "tweets.head()"
   ]
  },
  {
   "cell_type": "code",
   "execution_count": 6,
   "metadata": {},
   "outputs": [
    {
     "data": {
      "text/plain": [
       "Index(['contributors', 'truncated', 'text', 'is_quote_status',\n",
       "       'in_reply_to_status_id', 'id', 'favorite_count', 'source', 'retweeted',\n",
       "       'coordinates', 'entities', 'in_reply_to_screen_name',\n",
       "       'in_reply_to_user_id', 'retweet_count', 'id_str', 'favorited', 'user',\n",
       "       'geo', 'in_reply_to_user_id_str', 'possibly_sensitive', 'lang',\n",
       "       'created_at', 'in_reply_to_status_id_str', 'place', 'retweeted_status',\n",
       "       'extended_entities', 'quoted_status_id', 'quoted_status',\n",
       "       'quoted_status_id_str'],\n",
       "      dtype='object')"
      ]
     },
     "execution_count": 6,
     "metadata": {},
     "output_type": "execute_result"
    }
   ],
   "source": [
    "# Load tweets into a dataframe\n",
    "tweets.columns"
   ]
  },
  {
   "cell_type": "code",
   "execution_count": 7,
   "metadata": {},
   "outputs": [
    {
     "data": {
      "text/html": [
       "<div>\n",
       "<style scoped>\n",
       "    .dataframe tbody tr th:only-of-type {\n",
       "        vertical-align: middle;\n",
       "    }\n",
       "\n",
       "    .dataframe tbody tr th {\n",
       "        vertical-align: top;\n",
       "    }\n",
       "\n",
       "    .dataframe thead th {\n",
       "        text-align: right;\n",
       "    }\n",
       "</style>\n",
       "<table border=\"1\" class=\"dataframe\">\n",
       "  <thead>\n",
       "    <tr style=\"text-align: right;\">\n",
       "      <th></th>\n",
       "      <th>created_at</th>\n",
       "      <th>text</th>\n",
       "      <th>entities</th>\n",
       "      <th>retweet_count</th>\n",
       "      <th>favorite_count</th>\n",
       "    </tr>\n",
       "    <tr>\n",
       "      <th>id</th>\n",
       "      <th></th>\n",
       "      <th></th>\n",
       "      <th></th>\n",
       "      <th></th>\n",
       "      <th></th>\n",
       "    </tr>\n",
       "  </thead>\n",
       "  <tbody>\n",
       "    <tr>\n",
       "      <td>825025633579212800</td>\n",
       "      <td>2017-01-27 17:00:13+00:00</td>\n",
       "      <td>From digitally designing to testing on the slo...</td>\n",
       "      <td>{'symbols': [], 'user_mentions': [], 'hashtags...</td>\n",
       "      <td>0</td>\n",
       "      <td>1</td>\n",
       "    </tr>\n",
       "    <tr>\n",
       "      <td>824986239543738368</td>\n",
       "      <td>2017-01-27 14:23:41+00:00</td>\n",
       "      <td>RT @materialsviews: Learn more on Microscale #...</td>\n",
       "      <td>{'symbols': [], 'user_mentions': [{'id': 18305...</td>\n",
       "      <td>4</td>\n",
       "      <td>0</td>\n",
       "    </tr>\n",
       "    <tr>\n",
       "      <td>824632013990793217</td>\n",
       "      <td>2017-01-26 14:56:07+00:00</td>\n",
       "      <td>RT @LudiciousFest: Severin Klingler, Ph.D. can...</td>\n",
       "      <td>{'symbols': [], 'user_mentions': [{'id': 24548...</td>\n",
       "      <td>5</td>\n",
       "      <td>0</td>\n",
       "    </tr>\n",
       "    <tr>\n",
       "      <td>824589837479149570</td>\n",
       "      <td>2017-01-26 12:08:32+00:00</td>\n",
       "      <td>RT @NatRevMCB: Now online Review by Ulrike Kut...</td>\n",
       "      <td>{'symbols': [], 'user_mentions': [{'id': 41293...</td>\n",
       "      <td>27</td>\n",
       "      <td>0</td>\n",
       "    </tr>\n",
       "    <tr>\n",
       "      <td>824307723814703106</td>\n",
       "      <td>2017-01-25 17:27:30+00:00</td>\n",
       "      <td>RT @aaas: Experts from @MIT, @ETH_en and more ...</td>\n",
       "      <td>{'symbols': [], 'user_mentions': [{'id': 17292...</td>\n",
       "      <td>5</td>\n",
       "      <td>0</td>\n",
       "    </tr>\n",
       "  </tbody>\n",
       "</table>\n",
       "</div>"
      ],
      "text/plain": [
       "                                  created_at  \\\n",
       "id                                             \n",
       "825025633579212800 2017-01-27 17:00:13+00:00   \n",
       "824986239543738368 2017-01-27 14:23:41+00:00   \n",
       "824632013990793217 2017-01-26 14:56:07+00:00   \n",
       "824589837479149570 2017-01-26 12:08:32+00:00   \n",
       "824307723814703106 2017-01-25 17:27:30+00:00   \n",
       "\n",
       "                                                                 text  \\\n",
       "id                                                                      \n",
       "825025633579212800  From digitally designing to testing on the slo...   \n",
       "824986239543738368  RT @materialsviews: Learn more on Microscale #...   \n",
       "824632013990793217  RT @LudiciousFest: Severin Klingler, Ph.D. can...   \n",
       "824589837479149570  RT @NatRevMCB: Now online Review by Ulrike Kut...   \n",
       "824307723814703106  RT @aaas: Experts from @MIT, @ETH_en and more ...   \n",
       "\n",
       "                                                             entities  \\\n",
       "id                                                                      \n",
       "825025633579212800  {'symbols': [], 'user_mentions': [], 'hashtags...   \n",
       "824986239543738368  {'symbols': [], 'user_mentions': [{'id': 18305...   \n",
       "824632013990793217  {'symbols': [], 'user_mentions': [{'id': 24548...   \n",
       "824589837479149570  {'symbols': [], 'user_mentions': [{'id': 41293...   \n",
       "824307723814703106  {'symbols': [], 'user_mentions': [{'id': 17292...   \n",
       "\n",
       "                    retweet_count  favorite_count  \n",
       "id                                                 \n",
       "825025633579212800              0               1  \n",
       "824986239543738368              4               0  \n",
       "824632013990793217              5               0  \n",
       "824589837479149570             27               0  \n",
       "824307723814703106              5               0  "
      ]
     },
     "execution_count": 7,
     "metadata": {},
     "output_type": "execute_result"
    }
   ],
   "source": [
    "# Keep only the columns we want\n",
    "columns = ['id', 'created_at', 'text', 'entities', 'retweet_count', 'favorite_count']\n",
    "tweets = tweets[columns]\n",
    "\n",
    "# Set the index as the id\n",
    "tweets = tweets.set_index('id', drop=True)\n",
    "\n",
    "# Transform the created_at into a dateframe column\n",
    "tweets['created_at'] = pd.to_datetime(tweets['created_at'])\n",
    "\n",
    "tweets.head()"
   ]
  },
  {
   "cell_type": "code",
   "execution_count": 8,
   "metadata": {},
   "outputs": [
    {
     "data": {
      "text/html": [
       "<div>\n",
       "<style scoped>\n",
       "    .dataframe tbody tr th:only-of-type {\n",
       "        vertical-align: middle;\n",
       "    }\n",
       "\n",
       "    .dataframe tbody tr th {\n",
       "        vertical-align: top;\n",
       "    }\n",
       "\n",
       "    .dataframe thead th {\n",
       "        text-align: right;\n",
       "    }\n",
       "</style>\n",
       "<table border=\"1\" class=\"dataframe\">\n",
       "  <thead>\n",
       "    <tr style=\"text-align: right;\">\n",
       "      <th></th>\n",
       "      <th>created_at</th>\n",
       "      <th>text</th>\n",
       "      <th>retweet_count</th>\n",
       "      <th>favorite_count</th>\n",
       "      <th>hashtags</th>\n",
       "      <th>mentions</th>\n",
       "    </tr>\n",
       "    <tr>\n",
       "      <th>id</th>\n",
       "      <th></th>\n",
       "      <th></th>\n",
       "      <th></th>\n",
       "      <th></th>\n",
       "      <th></th>\n",
       "      <th></th>\n",
       "    </tr>\n",
       "  </thead>\n",
       "  <tbody>\n",
       "    <tr>\n",
       "      <td>825025633579212800</td>\n",
       "      <td>2017-01-27 17:00:13+00:00</td>\n",
       "      <td>From digitally designing to testing on the slo...</td>\n",
       "      <td>0</td>\n",
       "      <td>1</td>\n",
       "      <td>[skis, engineering]</td>\n",
       "      <td>[]</td>\n",
       "    </tr>\n",
       "    <tr>\n",
       "      <td>824986239543738368</td>\n",
       "      <td>2017-01-27 14:23:41+00:00</td>\n",
       "      <td>RT @materialsviews: Learn more on Microscale #...</td>\n",
       "      <td>4</td>\n",
       "      <td>0</td>\n",
       "      <td>[AdditiveManufacturing, Metals]</td>\n",
       "      <td>[Wiley Materials, ETH Zurich]</td>\n",
       "    </tr>\n",
       "    <tr>\n",
       "      <td>824632013990793217</td>\n",
       "      <td>2017-01-26 14:56:07+00:00</td>\n",
       "      <td>RT @LudiciousFest: Severin Klingler, Ph.D. can...</td>\n",
       "      <td>5</td>\n",
       "      <td>0</td>\n",
       "      <td>[]</td>\n",
       "      <td>[Ludicious, ETH Zurich]</td>\n",
       "    </tr>\n",
       "    <tr>\n",
       "      <td>824589837479149570</td>\n",
       "      <td>2017-01-26 12:08:32+00:00</td>\n",
       "      <td>RT @NatRevMCB: Now online Review by Ulrike Kut...</td>\n",
       "      <td>27</td>\n",
       "      <td>0</td>\n",
       "      <td>[nuclearenvelope]</td>\n",
       "      <td>[NatureRevMolCellBiol, ETH Zurich]</td>\n",
       "    </tr>\n",
       "    <tr>\n",
       "      <td>824307723814703106</td>\n",
       "      <td>2017-01-25 17:27:30+00:00</td>\n",
       "      <td>RT @aaas: Experts from @MIT, @ETH_en and more ...</td>\n",
       "      <td>5</td>\n",
       "      <td>0</td>\n",
       "      <td>[AAASmtg]</td>\n",
       "      <td>[AAAS, MIT, ETH Zurich]</td>\n",
       "    </tr>\n",
       "  </tbody>\n",
       "</table>\n",
       "</div>"
      ],
      "text/plain": [
       "                                  created_at  \\\n",
       "id                                             \n",
       "825025633579212800 2017-01-27 17:00:13+00:00   \n",
       "824986239543738368 2017-01-27 14:23:41+00:00   \n",
       "824632013990793217 2017-01-26 14:56:07+00:00   \n",
       "824589837479149570 2017-01-26 12:08:32+00:00   \n",
       "824307723814703106 2017-01-25 17:27:30+00:00   \n",
       "\n",
       "                                                                 text  \\\n",
       "id                                                                      \n",
       "825025633579212800  From digitally designing to testing on the slo...   \n",
       "824986239543738368  RT @materialsviews: Learn more on Microscale #...   \n",
       "824632013990793217  RT @LudiciousFest: Severin Klingler, Ph.D. can...   \n",
       "824589837479149570  RT @NatRevMCB: Now online Review by Ulrike Kut...   \n",
       "824307723814703106  RT @aaas: Experts from @MIT, @ETH_en and more ...   \n",
       "\n",
       "                    retweet_count  favorite_count  \\\n",
       "id                                                  \n",
       "825025633579212800              0               1   \n",
       "824986239543738368              4               0   \n",
       "824632013990793217              5               0   \n",
       "824589837479149570             27               0   \n",
       "824307723814703106              5               0   \n",
       "\n",
       "                                           hashtags  \\\n",
       "id                                                    \n",
       "825025633579212800              [skis, engineering]   \n",
       "824986239543738368  [AdditiveManufacturing, Metals]   \n",
       "824632013990793217                               []   \n",
       "824589837479149570                [nuclearenvelope]   \n",
       "824307723814703106                        [AAASmtg]   \n",
       "\n",
       "                                              mentions  \n",
       "id                                                      \n",
       "825025633579212800                                  []  \n",
       "824986239543738368       [Wiley Materials, ETH Zurich]  \n",
       "824632013990793217             [Ludicious, ETH Zurich]  \n",
       "824589837479149570  [NatureRevMolCellBiol, ETH Zurich]  \n",
       "824307723814703106             [AAAS, MIT, ETH Zurich]  "
      ]
     },
     "execution_count": 8,
     "metadata": {},
     "output_type": "execute_result"
    }
   ],
   "source": [
    "# Take care of the hashtags\n",
    "tweets['hashtags'] = tweets.entities.apply(lambda x: x.get('hashtags'))\n",
    "tweets.hashtags = tweets.hashtags.apply(lambda x: [y['text'] for y in x])\n",
    "\n",
    "# take care of mentions\n",
    "tweets['mentions'] = tweets.entities.apply(lambda x: x.get('user_mentions'))\n",
    "tweets['mentions'] = tweets['mentions'].apply(lambda x: [y['name'] for y in x])\n",
    "\n",
    "# Drop entities column\n",
    "tweets = tweets.drop(columns='entities')\n",
    "tweets.head()"
   ]
  },
  {
   "cell_type": "markdown",
   "metadata": {},
   "source": [
    "2. By means of **descriptive statistics and plots**, show the different volume of engagement (e.g., number of favorites and retweets) that the accounts generate.\n",
    "Compute the results per year (to highlight the growth trends), per month (to figure out if the accounts follow the academic year), and per hour of the day (to\n",
    "find out if tweets posted at a certain hour get more attention). Similarly, break down the results per hashtag (e.g., #EPFLisAwesome) -- are there hashtags that\n",
    "are used more often than others, and that obtain more engagement than others?"
   ]
  },
  {
   "cell_type": "markdown",
   "metadata": {},
   "source": [
    "We will first look at the distribution of the retweet"
   ]
  },
  {
   "cell_type": "code",
   "execution_count": 68,
   "metadata": {},
   "outputs": [
    {
     "data": {
      "text/plain": [
       "id\n",
       "757912693076553729    6095\n",
       "746288060044816384    1641\n",
       "232350103317409792     810\n",
       "96557776830074883      255\n",
       "431158559628197888     134\n",
       "                      ... \n",
       "308879493240602624       0\n",
       "695328982909247488       0\n",
       "307859218663358467       0\n",
       "307431134516637696       0\n",
       "8773884572606464         0\n",
       "Name: retweet_count, Length: 3208, dtype: int64"
      ]
     },
     "execution_count": 68,
     "metadata": {},
     "output_type": "execute_result"
    }
   ],
   "source": [
    "tweets['retweet_count'].sort_values(ascending=False)"
   ]
  },
  {
   "cell_type": "markdown",
   "metadata": {},
   "source": [
    "We can see that there is one big outlier we will check the tweet :"
   ]
  },
  {
   "cell_type": "code",
   "execution_count": 70,
   "metadata": {},
   "outputs": [
    {
     "data": {
      "text/plain": [
       "\"RT @solarimpulse: BREAKING: we flew 40'000km without fuel. It's a first for energy, take it further! #futureisclean https://t.co/JCvKTDBVZx\""
      ]
     },
     "execution_count": 70,
     "metadata": {},
     "output_type": "execute_result"
    }
   ],
   "source": [
    "tweets.loc[757912693076553729].text"
   ]
  },
  {
   "cell_type": "markdown",
   "metadata": {},
   "source": [
    "It's the tweet when the solar impusle completed is world trip. It was followed a lot on social media."
   ]
  },
  {
   "cell_type": "markdown",
   "metadata": {},
   "source": [
    "Now we will analyse the distribution of favorite."
   ]
  },
  {
   "cell_type": "code",
   "execution_count": 74,
   "metadata": {},
   "outputs": [
    {
     "data": {
      "image/png": "[encoded data removed]",
      "text/plain": [
       "<Figure size 432x288 with 1 Axes>"
      ]
     },
     "metadata": {
      "needs_background": "light"
     },
     "output_type": "display_data"
    }
   ],
   "source": [
    "plt.figure()\n",
    "tweets['favorite_count'].hist(log=True)\n",
    "plt.title(\"Distribution of favorite\")\n",
    "plt.xlabel(\"Number of favorite\")\n",
    "plt.show()"
   ]
  },
  {
   "cell_type": "markdown",
   "metadata": {},
   "source": [
    "We can see that it is an exponential ditribution as it's a line in a log-plot."
   ]
  },
  {
   "cell_type": "code",
   "execution_count": 99,
   "metadata": {},
   "outputs": [
    {
     "data": {
      "image/png": "[encoded data removed]",
      "text/plain": [
       "<Figure size 432x288 with 1 Axes>"
      ]
     },
     "metadata": {
      "needs_background": "light"
     },
     "output_type": "display_data"
    }
   ],
   "source": [
    "# Year\n",
    "tweets['year'] = pd.DatetimeIndex(tweets['created_at']).year\n",
    "year_stats = tweets.groupby('year').agg('sum')[['retweet_count', 'favorite_count']]\n",
    "# We will not take year 2017 into account as we are only in january\n",
    "year_stats = year_stats.drop(index=2017)\n",
    "\n",
    "plt.figure()\n",
    "year_stats.retweet_count.plot(label=\"Retweet\")\n",
    "year_stats.favorite_count.plot(label=\"Likes\")\n",
    "plt.title(\"Evolution of likes and retweet\")\n",
    "plt.xlabel(\"Year\")\n",
    "plt.ylabel(\"Number\")\n",
    "plt.legend()\n",
    "plt.show()"
   ]
  },
  {
   "cell_type": "code",
   "execution_count": 98,
   "metadata": {},
   "outputs": [
    {
     "data": {
      "image/png": "[encoded data removed]",
      "text/plain": [
       "<Figure size 432x288 with 1 Axes>"
      ]
     },
     "metadata": {
      "needs_background": "light"
     },
     "output_type": "display_data"
    }
   ],
   "source": [
    "# Month\n",
    "tweets['month'] = pd.DatetimeIndex(tweets['created_at']).month\n",
    "month_stat = tweets.groupby('month').agg('sum')[['retweet_count', 'favorite_count']]\n",
    "\n",
    "plt.figure()\n",
    "month_stat.retweet_count.plot(label=\"Retweet\")\n",
    "month_stat.favorite_count.plot(label=\"Likes\")\n",
    "plt.title(\"Evolution of likes and retweet\")\n",
    "plt.xlabel(\"Month\")\n",
    "plt.ylabel(\"Number\")\n",
    "plt.legend()\n",
    "plt.show()"
   ]
  },
  {
   "cell_type": "code",
   "execution_count": 93,
   "metadata": {},
   "outputs": [
    {
     "data": {
      "image/png": "[encoded data removed]",
      "text/plain": [
       "<Figure size 432x288 with 1 Axes>"
      ]
     },
     "metadata": {
      "needs_background": "light"
     },
     "output_type": "display_data"
    }
   ],
   "source": [
    "plt.figure()\n",
    "month_stat.favorite_count.plot(label=\"Likes\")\n",
    "plt.title(\"Evolution of likes and retweet\")\n",
    "plt.xlabel(\"Month\")\n",
    "plt.ylabel(\"Number\")\n",
    "plt.legend()\n",
    "plt.show()"
   ]
  },
  {
   "cell_type": "code",
   "execution_count": 94,
   "metadata": {},
   "outputs": [
    {
     "data": {
      "image/png": "[encoded data removed]",
      "text/plain": [
       "<Figure size 432x288 with 1 Axes>"
      ]
     },
     "metadata": {
      "needs_background": "light"
     },
     "output_type": "display_data"
    }
   ],
   "source": [
    "# Hour\n",
    "tweets['hour'] = pd.DatetimeIndex(tweets['created_at']).hour\n",
    "hour_stats = tweets.groupby('hour').agg('sum')[['retweet_count', 'favorite_count']]\n",
    "\n",
    "plt.figure()\n",
    "hour_stats.retweet_count.plot(label=\"Retweet\")\n",
    "hour_stats.favorite_count.plot(label=\"Likes\")\n",
    "plt.title(\"Evolution of likes and retweet\")\n",
    "plt.xlabel(\"Hour\")\n",
    "plt.ylabel(\"Number\")\n",
    "plt.legend()\n",
    "plt.show()"
   ]
  },
  {
   "cell_type": "code",
   "execution_count": 95,
   "metadata": {},
   "outputs": [
    {
     "data": {
      "image/png": "[encoded data removed]",
      "text/plain": [
       "<Figure size 432x288 with 1 Axes>"
      ]
     },
     "metadata": {
      "needs_background": "light"
     },
     "output_type": "display_data"
    }
   ],
   "source": [
    "plt.figure()\n",
    "hour_stats.favorite_count.plot(label=\"Likes\")\n",
    "plt.title(\"Evolution of likes and retweet\")\n",
    "plt.xlabel(\"Hour\")\n",
    "plt.ylabel(\"Number\")\n",
    "plt.legend()\n",
    "plt.show()"
   ]
  },
  {
   "cell_type": "markdown",
   "metadata": {},
   "source": [
    "We can see that the number of retweet depend highly on the tweet, if the tweet tell a big news it's highly retweeted. To see the real trend we have to look at the likes. We can see that they are constantly increasing since 2010, they follow the academic year (there are fewer likes in june, july, august). Finally we can see that the twee who get the most like are posted in the morning or right after the lunch break (at 1 or 2 pm)"
   ]
  },
  {
   "cell_type": "code",
   "execution_count": 107,
   "metadata": {},
   "outputs": [
    {
     "data": {
      "image/png": "[encoded data removed]",
      "text/plain": [
       "<Figure size 1224x504 with 1 Axes>"
      ]
     },
     "metadata": {
      "needs_background": "light"
     },
     "output_type": "display_data"
    }
   ],
   "source": [
    "# by hashtag\n",
    "# We first explode the hashtag column\n",
    "hashtag_stats = tweets.explode(column='hashtags')\n",
    "\n",
    "# Look at the engagement by hashtag\n",
    "hashtag_stats_engagement = hashtag_stats.groupby('hashtags').agg('sum')[['retweet_count', 'favorite_count']]\n",
    "\n",
    "# Number of retweet\n",
    "hashtag_stats_retweet = hashtag_stats_engagement['retweet_count'].sort_values(ascending=False)[:10]\n",
    "plt.figure(figsize=(17,7))\n",
    "plt.bar(x=hashtag_stats_retweet.index, height=hashtag_stats_retweet)\n",
    "plt.title(\"Hashtag with the most retweet\")\n",
    "plt.xlabel(\"Hashtag\")\n",
    "plt.ylabel(\"Number of retweet\")\n",
    "plt.show()"
   ]
  },
  {
   "cell_type": "code",
   "execution_count": 108,
   "metadata": {},
   "outputs": [
    {
     "data": {
      "image/png": "[encoded data removed]",
      "text/plain": [
       "<Figure size 1224x504 with 1 Axes>"
      ]
     },
     "metadata": {
      "needs_background": "light"
     },
     "output_type": "display_data"
    }
   ],
   "source": [
    "# Number of favorite\n",
    "hashtag_stats_fav = hashtag_stats_engagement['favorite_count'].sort_values(ascending=False)[:10]\n",
    "plt.figure(figsize=(17,7))\n",
    "plt.bar(x=hashtag_stats_fav.index, height=hashtag_stats_fav)\n",
    "plt.title(\"Hashtag with the most favorite\")\n",
    "plt.xlabel(\"Hashtag\")\n",
    "plt.ylabel(\"Number of favorite\")\n",
    "plt.show()"
   ]
  },
  {
   "cell_type": "code",
   "execution_count": 109,
   "metadata": {},
   "outputs": [
    {
     "data": {
      "image/png": "[encoded data removed]",
      "text/plain": [
       "<Figure size 1224x504 with 1 Axes>"
      ]
     },
     "metadata": {
      "needs_background": "light"
     },
     "output_type": "display_data"
    }
   ],
   "source": [
    "# Finally count the number of time each hashtag is used\n",
    "hashtag_stats_count = hashtag_stats.groupby('hashtags').agg('count')['favorite_count']\n",
    "hashtag_stats_count = hashtag_stats_count.sort_values(ascending=False)[:10]\n",
    "plt.figure(figsize=(17,7))\n",
    "plt.bar(x=hashtag_stats_count.index, height=hashtag_stats_count)\n",
    "plt.title(\"Number of time hashtag is used\")\n",
    "plt.xlabel(\"Hashtag\")\n",
    "plt.ylabel(\"Number of time used\")\n",
    "plt.show()"
   ]
  },
  {
   "cell_type": "markdown",
   "metadata": {},
   "source": [
    "3. Train a **regressor** (*both on the full and downsampled dataframes*) to predict how many retweets a certain Tweet will get. You are allowed to use as features\n",
    "only the attributes in the JSON objects (and any derivative that you can build locally) -- you are not allowed to download additional data from the Internet\n",
    "to boost your model. Discuss the obtained results, explain the performance on the downsampled dataframes, and briefly describe what additional features you\n",
    "would have used if you had access to the full Twitter API.\n",
    "\n",
    "  *HINT*: for a more powerful model, consider time (and how the audience of the accounts grew throughout the years...)"
   ]
  },
  {
   "cell_type": "code",
   "execution_count": null,
   "metadata": {},
   "outputs": [],
   "source": []
  },
  {
   "cell_type": "markdown",
   "metadata": {},
   "source": [
    "4. Find the **topics** that are covered most of the time by the two Twitter accounts (*both on the full and downsampled dataframes*). You can run topic modeling and/or\n",
    "implement your own NLP pipeline. Do the topics change significantly over time? Is there an overlap with the hashtags used in the tweets?\n",
    "\n",
    "  *HINT*: clustering Tweets by some features (e.g., hashtags) will give you better results with topic modeling."
   ]
  },
  {
   "cell_type": "code",
   "execution_count": null,
   "metadata": {},
   "outputs": [],
   "source": []
  }
 ],
 "metadata": {
  "kernelspec": {
   "display_name": "Python [conda env:ada] *",
   "language": "python",
   "name": "conda-env-ada-py"
  },
  "language_info": {
   "codemirror_mode": {
    "name": "ipython",
    "version": 3
   },
   "file_extension": ".py",
   "mimetype": "text/x-python",
   "name": "python",
   "nbconvert_exporter": "python",
   "pygments_lexer": "ipython3",
   "version": "3.7.6"
  }
 },
 "nbformat": 4,
 "nbformat_minor": 4
}
