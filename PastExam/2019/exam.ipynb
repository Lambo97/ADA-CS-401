{
 "cells": [
  {
   "cell_type": "markdown",
   "metadata": {},
   "source": [
    "# ADA final exam (winter semester 2019/2020)"
   ]
  },
  {
   "cell_type": "markdown",
   "metadata": {},
   "source": [
    "A friend of yours wants to start a YouTube channel and ideally earn some money via ads. However, there are so many channels and videos out there that your friend has no idea where to even start. Fortunately, they know that you have taken ADA and think you might help them out by analyzing the videos that are currently on YouTube."
   ]
  },
  {
   "cell_type": "markdown",
   "metadata": {},
   "source": [
    "The data you are provided with is a subset of YouTube videos, with videos from some of the giant channels in two categories: \"Gaming\" and \"How-to & Style\", which are the categories your friend is choosing between. The dataset contains a lot of videos, with data on those videos including their titles, their total number of views in 2019, their tags and descriptions, etc. The data is, in gzip-compressed format, contained in the `data/` folder, as the file `youtube.csv.gz`."
   ]
  },
  {
   "cell_type": "markdown",
   "metadata": {},
   "source": [
    "The three tasks A, B and C are **independent** of each other, and you can solve any combination of them. The exam is designed for more than 3 hours, so don't worry if you don't manage to solve everything; you can still score a 6."
   ]
  },
  {
   "cell_type": "markdown",
   "metadata": {},
   "source": [
    "You need to run the following two cells to read and prepare the dataset."
   ]
  },
  {
   "cell_type": "code",
   "execution_count": 1,
   "metadata": {},
   "outputs": [],
   "source": [
    "import pandas as pd\n",
    "import numpy as np\n",
    "import matplotlib.pyplot as plt\n",
    "import networkx as nx"
   ]
  },
  {
   "cell_type": "code",
   "execution_count": 2,
   "metadata": {},
   "outputs": [],
   "source": [
    "youtube = pd.read_csv('data/youtube.csv.gz', compression='gzip')\n",
    "youtube.upload_date = pd.to_datetime(youtube.upload_date)"
   ]
  },
  {
   "cell_type": "code",
   "execution_count": 3,
   "metadata": {},
   "outputs": [
    {
     "data": {
      "text/html": [
       "<div>\n",
       "<style scoped>\n",
       "    .dataframe tbody tr th:only-of-type {\n",
       "        vertical-align: middle;\n",
       "    }\n",
       "\n",
       "    .dataframe tbody tr th {\n",
       "        vertical-align: top;\n",
       "    }\n",
       "\n",
       "    .dataframe thead th {\n",
       "        text-align: right;\n",
       "    }\n",
       "</style>\n",
       "<table border=\"1\" class=\"dataframe\">\n",
       "  <thead>\n",
       "    <tr style=\"text-align: right;\">\n",
       "      <th></th>\n",
       "      <th>channel</th>\n",
       "      <th>upload_date</th>\n",
       "      <th>title</th>\n",
       "      <th>tags</th>\n",
       "      <th>duration</th>\n",
       "      <th>view_count</th>\n",
       "      <th>average_rating</th>\n",
       "      <th>height</th>\n",
       "      <th>width</th>\n",
       "      <th>channel_cat</th>\n",
       "    </tr>\n",
       "  </thead>\n",
       "  <tbody>\n",
       "    <tr>\n",
       "      <th>0</th>\n",
       "      <td>PewDiePie</td>\n",
       "      <td>2013-03-04</td>\n",
       "      <td>A NEW ADVENTURE! - Kingdom Hearts (1) w/ Pewds</td>\n",
       "      <td>['lets', 'play', 'horror', 'game', 'walkthroug...</td>\n",
       "      <td>1126.0</td>\n",
       "      <td>2541550.0</td>\n",
       "      <td>4.886102</td>\n",
       "      <td>720.0</td>\n",
       "      <td>1280.0</td>\n",
       "      <td>Gaming</td>\n",
       "    </tr>\n",
       "    <tr>\n",
       "      <th>1</th>\n",
       "      <td>PewDiePie</td>\n",
       "      <td>2013-03-04</td>\n",
       "      <td>SAVING PRIVATE PEWDS - Conker's Bad Fur Day (15)</td>\n",
       "      <td>['lets', 'play', 'horror', 'game', 'walkthroug...</td>\n",
       "      <td>903.0</td>\n",
       "      <td>1727646.0</td>\n",
       "      <td>4.951531</td>\n",
       "      <td>720.0</td>\n",
       "      <td>1280.0</td>\n",
       "      <td>Gaming</td>\n",
       "    </tr>\n",
       "    <tr>\n",
       "      <th>2</th>\n",
       "      <td>PewDiePie</td>\n",
       "      <td>2013-03-04</td>\n",
       "      <td>THE WORST SCARE! - Amnesia: Rain (4)</td>\n",
       "      <td>['lets', 'play', 'horror', 'game', 'walkthroug...</td>\n",
       "      <td>806.0</td>\n",
       "      <td>1402747.0</td>\n",
       "      <td>4.962706</td>\n",
       "      <td>720.0</td>\n",
       "      <td>1280.0</td>\n",
       "      <td>Gaming</td>\n",
       "    </tr>\n",
       "    <tr>\n",
       "      <th>3</th>\n",
       "      <td>PewDiePie</td>\n",
       "      <td>2013-03-03</td>\n",
       "      <td>Nova / Sp00n / Cry / Pewds - Worms Revolution ...</td>\n",
       "      <td>['lets', 'play', 'horror', 'game', 'walkthroug...</td>\n",
       "      <td>909.0</td>\n",
       "      <td>4348296.0</td>\n",
       "      <td>4.937665</td>\n",
       "      <td>720.0</td>\n",
       "      <td>1280.0</td>\n",
       "      <td>Gaming</td>\n",
       "    </tr>\n",
       "    <tr>\n",
       "      <th>4</th>\n",
       "      <td>PewDiePie</td>\n",
       "      <td>2013-03-03</td>\n",
       "      <td>SEXIEST HORROR EVER - Amnesia: Rain (3)</td>\n",
       "      <td>['lets', 'play', 'horror', 'game', 'walkthroug...</td>\n",
       "      <td>834.0</td>\n",
       "      <td>1410659.0</td>\n",
       "      <td>4.957545</td>\n",
       "      <td>720.0</td>\n",
       "      <td>1280.0</td>\n",
       "      <td>Gaming</td>\n",
       "    </tr>\n",
       "  </tbody>\n",
       "</table>\n",
       "</div>"
      ],
      "text/plain": [
       "     channel upload_date                                              title  \\\n",
       "0  PewDiePie  2013-03-04     A NEW ADVENTURE! - Kingdom Hearts (1) w/ Pewds   \n",
       "1  PewDiePie  2013-03-04   SAVING PRIVATE PEWDS - Conker's Bad Fur Day (15)   \n",
       "2  PewDiePie  2013-03-04               THE WORST SCARE! - Amnesia: Rain (4)   \n",
       "3  PewDiePie  2013-03-03  Nova / Sp00n / Cry / Pewds - Worms Revolution ...   \n",
       "4  PewDiePie  2013-03-03            SEXIEST HORROR EVER - Amnesia: Rain (3)   \n",
       "\n",
       "                                                tags  duration  view_count  \\\n",
       "0  ['lets', 'play', 'horror', 'game', 'walkthroug...    1126.0   2541550.0   \n",
       "1  ['lets', 'play', 'horror', 'game', 'walkthroug...     903.0   1727646.0   \n",
       "2  ['lets', 'play', 'horror', 'game', 'walkthroug...     806.0   1402747.0   \n",
       "3  ['lets', 'play', 'horror', 'game', 'walkthroug...     909.0   4348296.0   \n",
       "4  ['lets', 'play', 'horror', 'game', 'walkthroug...     834.0   1410659.0   \n",
       "\n",
       "   average_rating  height   width channel_cat  \n",
       "0        4.886102   720.0  1280.0      Gaming  \n",
       "1        4.951531   720.0  1280.0      Gaming  \n",
       "2        4.962706   720.0  1280.0      Gaming  \n",
       "3        4.937665   720.0  1280.0      Gaming  \n",
       "4        4.957545   720.0  1280.0      Gaming  "
      ]
     },
     "execution_count": 3,
     "metadata": {},
     "output_type": "execute_result"
    }
   ],
   "source": [
    "youtube.head()"
   ]
  },
  {
   "cell_type": "markdown",
   "metadata": {},
   "source": [
    "## Dataset description"
   ]
  },
  {
   "cell_type": "markdown",
   "metadata": {},
   "source": [
    "Each row of the dataset corresponds to one video that was uploaded to YouTube. There are 11 columns:\n",
    "'channel', 'upload_date', 'title', 'categories', 'tags', 'duration',\n",
    "       'view_count', 'average_rating', 'height', 'width', 'channel_cat'.\n",
    "- `channel`: The channel (account) on which the video was uploaded.\n",
    "- `upload_date`: The date on which the video was uploaded (Pandas Timestamp object).\n",
    "- `title`: The title of the video.\n",
    "- `tags`: A list of words that describe the video.\n",
    "- `duration`: The duration of the video in seconds.\n",
    "- `view_count`: The number of times the video was watched.\n",
    "- `average_rating`: The average score with which the viewers rated the video (1-5).\n",
    "- `height`: The height of the video in pixels.\n",
    "- `width`: The width of the video in pixels.\n",
    "- `channel_cat`: The category of the channel on which this video was uploaded. This dataset only contains videos from channels from the 'Gaming' and the 'Howto & Style' category."
   ]
  },
  {
   "cell_type": "markdown",
   "metadata": {},
   "source": [
    "# Task A: Welcome to the exam!"
   ]
  },
  {
   "cell_type": "markdown",
   "metadata": {},
   "source": [
    "All of Task A refers to the videos that were published between and including 2010 and 2018."
   ]
  },
  {
   "cell_type": "code",
   "execution_count": 4,
   "metadata": {},
   "outputs": [
    {
     "data": {
      "text/plain": [
       "(127863, 11)"
      ]
     },
     "execution_count": 4,
     "metadata": {},
     "output_type": "execute_result"
    }
   ],
   "source": [
    "youtube_A = youtube.copy()\n",
    "youtube_A['upload_date'] = pd.to_datetime(youtube_A['upload_date'])\n",
    "youtube_A['upload_year'] = pd.DatetimeIndex(youtube_A['upload_date']).year\n",
    "# Get only videos after 2009\n",
    "youtube_A = youtube_A[youtube_A['upload_year'] > 2009]\n",
    "# Get only videos before 2019\n",
    "youtube_A = youtube_A[youtube_A['upload_year'] < 2019]\n",
    "youtube_A.shape"
   ]
  },
  {
   "cell_type": "markdown",
   "metadata": {},
   "source": [
    "## A1: A growing platform?"
   ]
  },
  {
   "cell_type": "markdown",
   "metadata": {},
   "source": [
    "You would first like to know whether YouTube in general is the right platform to invest time into."
   ]
  },
  {
   "cell_type": "markdown",
   "metadata": {},
   "source": [
    "1. Using the appropriate plot type, plot the number of videos published per year between and including 2010 and 2018."
   ]
  },
  {
   "cell_type": "code",
   "execution_count": 5,
   "metadata": {},
   "outputs": [
    {
     "data": {
      "image/png": "[encoded data removed]",
      "text/plain": [
       "<Figure size 432x288 with 1 Axes>"
      ]
     },
     "metadata": {
      "needs_background": "light"
     },
     "output_type": "display_data"
    }
   ],
   "source": [
    "# Get the year and count the values\n",
    "upload_year_counts = youtube_A['upload_year'].value_counts()\n",
    "upload_year_counts = upload_year_counts.sort_index()\n",
    "\n",
    "plt.figure()\n",
    "upload_year_counts.plot()\n",
    "plt.title(\"Evolution of the number of video from 2010 to 2018\")\n",
    "plt.xlabel(\"Year\")\n",
    "plt.ylabel(\"Number of video published\")\n",
    "plt.show()"
   ]
  },
  {
   "cell_type": "markdown",
   "metadata": {},
   "source": [
    "We can see that the number of videos has gorwn linearly from 2010 to his peak in 2014 after hat it seems to be stabilized aroud 16 000 videos per year."
   ]
  },
  {
   "cell_type": "markdown",
   "metadata": {},
   "source": [
    "2. Now for each year, plot the number of channels that have been created between the beginning of 2010 and the end of that year. A channel is considered to be created at the time at which they upload their first video."
   ]
  },
  {
   "cell_type": "code",
   "execution_count": 6,
   "metadata": {},
   "outputs": [
    {
     "data": {
      "image/png": "[encoded data removed]",
      "text/plain": [
       "<Figure size 432x288 with 1 Axes>"
      ]
     },
     "metadata": {
      "needs_background": "light"
     },
     "output_type": "display_data"
    }
   ],
   "source": [
    "# Groupby channel and keep only the minmal year (the year where the first video have been published)\n",
    "chanels = youtube_A.groupby('channel').agg(created_date=('upload_year', 'min'))\n",
    "\n",
    "# Counts values\n",
    "new_channels_counts = chanels['created_date'].value_counts()\n",
    "new_channels_counts = new_channels_counts.sort_index()\n",
    "# Take the cumulative sum, the number of channel created between beginning\n",
    "# of 2010 and the end of the year\n",
    "new_channels_counts = new_channels_counts.cumsum()\n",
    "\n",
    "plt.figure()\n",
    "new_channels_counts.plot()\n",
    "plt.title(\"Evolution of created channels from 2010 to 2018\")\n",
    "plt.xlabel(\"Year\")\n",
    "plt.ylabel(\"Number of created channels\")\n",
    "plt.show()"
   ]
  },
  {
   "cell_type": "markdown",
   "metadata": {},
   "source": [
    "We can see that the curve is concave, it means that the number of created channels each year decrease."
   ]
  },
  {
   "cell_type": "markdown",
   "metadata": {},
   "source": [
    "3. Normalize the number of videos published each year by the number of channels that have been created between the beginning of 2010 and the end of that year, and plot these quantities. Do seperate plots for gaming channels, how-to channels, and both together. Can you conclude from the plot that both gaming and how-to channels have been becoming less and less active recently? Why, or why not?"
   ]
  },
  {
   "cell_type": "code",
   "execution_count": 7,
   "metadata": {},
   "outputs": [
    {
     "data": {
      "image/png": "[encoded data removed]",
      "text/plain": [
       "<Figure size 720x504 with 1 Axes>"
      ]
     },
     "metadata": {
      "needs_background": "light"
     },
     "output_type": "display_data"
    }
   ],
   "source": [
    "# Define a function \n",
    "def normalized_channel(youtube_A, cat):\n",
    "    video_cat = youtube_A[youtube_A['channel_cat'] == cat]\n",
    "    # Counts the number of published video in gaming cat\n",
    "    upload_year_counts = video_cat['upload_year'].value_counts()\n",
    "    # Counts the number of channel created from 2010 in gaming\n",
    "    channels = video_cat.groupby('channel').agg(created_date=('upload_year', 'min'))\n",
    "    created_channel_counts = channels['created_date'].value_counts()\n",
    "    # For gaming there are no new channel in 2018\n",
    "    # We will then add a 0 before the cum sum\n",
    "    for year in range(2010, 2019):\n",
    "        if year not in created_channel_counts.index:\n",
    "            created_channel_counts[year] = 0\n",
    "    # Cumulative sum\n",
    "    created_channel_counts = created_channel_counts.cumsum()\n",
    "    # Compute the ratio\n",
    "    return upload_year_counts/created_channel_counts\n",
    "\n",
    "# Gamming channels\n",
    "nomralized_video_counts_gaming = normalized_channel(youtube_A, \"Gaming\")\n",
    "# How to channels\n",
    "nomralized_video_counts_howto = normalized_channel(youtube_A, \"Howto & Style\")\n",
    "# Both\n",
    "nomralized_video_counts_both = upload_year_counts/new_channels_counts\n",
    "\n",
    "# plot results\n",
    "plt.figure(figsize=(10, 7))\n",
    "nomralized_video_counts_gaming.plot(label=\"Gaming\")\n",
    "nomralized_video_counts_howto.plot(label=\"Howto & Style\")\n",
    "nomralized_video_counts_both.plot(label=\"Both\")\n",
    "plt.title(\"Number of video published by year normalized by the number of created account\")\n",
    "plt.xlabel(\"Year\")\n",
    "plt.ylabel(\"Normalized number of published video\")\n",
    "plt.legend()\n",
    "plt.show()"
   ]
  },
  {
   "cell_type": "markdown",
   "metadata": {},
   "source": [
    "If we look at the graph regrouping both categories we can see that the number grows from 2010 to 2014 and the decrease (it's because the number of published video remains constant while the number of accounts increase).\n",
    "\n",
    "But if we look at the graph per category we can see that the number of video published in gaming which was 200 videos per channel in 2012 has decrease a lot to end up with less than 75 videos per channel in 2018.\n",
    "\n",
    "For the How to category th e normalized number of published video has grown up until 2017 and then there is a big drop in 2018.\n",
    "\n",
    "So yes we can conclude that in general the channels have became less and less acitve."
   ]
  },
  {
   "cell_type": "markdown",
   "metadata": {},
   "source": [
    "## A2: The one thing we all love: cash money"
   ]
  },
  {
   "cell_type": "markdown",
   "metadata": {},
   "source": [
    "Your friend is really keen on making money from their YouTube channel through ads and wants you to help them choose the most profitable channel category (Gaming or Howto & Style). The ad profit is directly proportional to the number of views of a video."
   ]
  },
  {
   "cell_type": "markdown",
   "metadata": {},
   "source": [
    "1. Since your friend wants to keep producing videos for several years to come, it might also be worth looking at the growth of the two categories.\n",
    "  1. Compute the total number of views in each category per year for the years 2010-2018.\n",
    "  2. Divide the yearly view count by the number of channels that posted a video in each category in each year. Plot these normalized counts.\n",
    "\n",
    "\n"
   ]
  },
  {
   "cell_type": "code",
   "execution_count": 8,
   "metadata": {},
   "outputs": [],
   "source": [
    "# A : number of view per year per category\n",
    "view_counts_cat = youtube_A.groupby(['channel_cat', 'upload_year']).agg(total_view = ('view_count', 'sum'))"
   ]
  },
  {
   "cell_type": "code",
   "execution_count": 9,
   "metadata": {},
   "outputs": [],
   "source": [
    "# B : Normalize\n",
    "number_active_channel = youtube_A.groupby(['channel_cat', 'upload_year']).agg(total_view = ('channel', 'count'))"
   ]
  },
  {
   "cell_type": "code",
   "execution_count": 10,
   "metadata": {},
   "outputs": [
    {
     "data": {
      "image/png": "[encoded data removed]",
      "text/plain": [
       "<Figure size 432x288 with 1 Axes>"
      ]
     },
     "metadata": {
      "needs_background": "light"
     },
     "output_type": "display_data"
    }
   ],
   "source": [
    "# Compute the ratio\n",
    "normalized_view_counts = view_counts_cat/number_active_channel\n",
    "\n",
    "plt.figure()\n",
    "normalized_view_counts.loc['Gaming']['total_view'].plot(label=\"Gaming\")\n",
    "normalized_view_counts.loc['Howto & Style']['total_view'].plot(label=\"Howto\")\n",
    "plt.title(\"Normalized number of views from 2010 to 2018\")\n",
    "plt.xlabel(\"Year\")\n",
    "plt.ylabel(\"Normalized number of views\")\n",
    "plt.legend()\n",
    "plt.show()"
   ]
  },
  {
   "cell_type": "markdown",
   "metadata": {},
   "source": [
    "We can see that the number of views has increased a lot since 2010 for both categories. Gaming has always had more views than How to excpet in 2017. It's the only year where the number of views decreased."
   ]
  },
  {
   "cell_type": "markdown",
   "metadata": {},
   "source": [
    "2. Your friend's channel will be brand new, so you decide to look more closely at newer channels. For this question and all the following questions in A2, only consider channels that uploaded their first video in  2016 or later. Compute the total number of views in each category and divide it by the number of channels in that category.\n"
   ]
  },
  {
   "cell_type": "code",
   "execution_count": 11,
   "metadata": {},
   "outputs": [],
   "source": [
    "# Get the list of the new channels\n",
    "new_channels = youtube_A.groupby('channel').agg(created_date=('upload_year', 'min'))\n",
    "new_channels = new_channels[new_channels['created_date'] > 2015].index.to_list()\n",
    "\n",
    "# Keep only videos from these new channels\n",
    "videos_new_channels = youtube_A[youtube_A['channel'].isin(new_channels)]"
   ]
  },
  {
   "cell_type": "code",
   "execution_count": 12,
   "metadata": {},
   "outputs": [
    {
     "data": {
      "text/html": [
       "<div>\n",
       "<style scoped>\n",
       "    .dataframe tbody tr th:only-of-type {\n",
       "        vertical-align: middle;\n",
       "    }\n",
       "\n",
       "    .dataframe tbody tr th {\n",
       "        vertical-align: top;\n",
       "    }\n",
       "\n",
       "    .dataframe thead th {\n",
       "        text-align: right;\n",
       "    }\n",
       "</style>\n",
       "<table border=\"1\" class=\"dataframe\">\n",
       "  <thead>\n",
       "    <tr style=\"text-align: right;\">\n",
       "      <th></th>\n",
       "      <th>total_view</th>\n",
       "    </tr>\n",
       "    <tr>\n",
       "      <th>channel_cat</th>\n",
       "      <th></th>\n",
       "    </tr>\n",
       "  </thead>\n",
       "  <tbody>\n",
       "    <tr>\n",
       "      <th>Gaming</th>\n",
       "      <td>1.433777e+06</td>\n",
       "    </tr>\n",
       "    <tr>\n",
       "      <th>Howto &amp; Style</th>\n",
       "      <td>2.547726e+06</td>\n",
       "    </tr>\n",
       "  </tbody>\n",
       "</table>\n",
       "</div>"
      ],
      "text/plain": [
       "                 total_view\n",
       "channel_cat                \n",
       "Gaming         1.433777e+06\n",
       "Howto & Style  2.547726e+06"
      ]
     },
     "execution_count": 12,
     "metadata": {},
     "output_type": "execute_result"
    }
   ],
   "source": [
    "view_counts_cat = videos_new_channels.groupby(['channel_cat']).agg(total_view = ('view_count', 'sum'))\n",
    "number_active_channel = videos_new_channels.groupby(['channel_cat']).agg(total_view = ('channel', 'count'))\n",
    "# Compute the ratio\n",
    "normalized_view_counts = view_counts_cat/number_active_channel\n",
    "normalized_view_counts"
   ]
  },
  {
   "cell_type": "markdown",
   "metadata": {},
   "source": [
    "We can see here that the number of views is much higher int the How to category than in the gaming categroy."
   ]
  },
  {
   "cell_type": "markdown",
   "metadata": {},
   "source": [
    "3. The number of views might be very unevenly over the different channels, and channels might upload different numbers of videos.\n",
    "  1. Compute the mean number of views per video for each channel.\n",
    "  2. Compute the mean of these means for each of the two categories. Print these values.\n",
    "  3. Using bootstrapping, compute 95% confidence intervals for these two means. From this analysis, can you draw a recommendation for one of the two categories? Why, or why not?"
   ]
  },
  {
   "cell_type": "code",
   "execution_count": 13,
   "metadata": {},
   "outputs": [
    {
     "name": "stdout",
     "output_type": "stream",
     "text": [
      "Mean of view in gaming :  1444658.13\n",
      "Mean of view in howto  :  3965565.14\n"
     ]
    }
   ],
   "source": [
    "mean_view_channel = videos_new_channels.groupby(['channel_cat', 'channel']).agg(mean_view=('view_count', 'mean'))\n",
    "mean_view_gaming = mean_view_channel.loc['Gaming'].mean()\n",
    "mean_view_howto = mean_view_channel.loc['Howto & Style'].mean()\n",
    "print(\"Mean of view in gaming : \", mean_view_gaming.values[0].round(2))\n",
    "print(\"Mean of view in howto  : \", mean_view_howto.values[0].round(2))"
   ]
  },
  {
   "cell_type": "markdown",
   "metadata": {},
   "source": [
    "Here we still can see that how to has a higher mean of number of views"
   ]
  },
  {
   "cell_type": "code",
   "execution_count": 14,
   "metadata": {},
   "outputs": [
    {
     "data": {
      "image/png": "[encoded data removed]",
      "text/plain": [
       "<Figure size 432x288 with 1 Axes>"
      ]
     },
     "metadata": {
      "needs_background": "light"
     },
     "output_type": "display_data"
    }
   ],
   "source": [
    "from scipy import stats\n",
    "\n",
    "def compute_bootstrap_CI(sample, n=100):\n",
    "    results = sample.sample(n, replace=True)['mean_view'].to_list()\n",
    "    mean = np.mean(results)\n",
    "    std = np.std(results)\n",
    "    t = stats.t.ppf(1-0.025, n-1)\n",
    "    confidence = t * std / np.sqrt(n)\n",
    "    return mean, confidence\n",
    "\n",
    "mean_gaming, confidence_gaming = compute_bootstrap_CI(mean_view_channel.loc['Gaming'])\n",
    "mean_howto, confidence_howto = compute_bootstrap_CI(mean_view_channel.loc['Howto & Style'])\n",
    "\n",
    "plt.figure()\n",
    "plt.bar(x=['Gaming', 'Howto & Style'], height=[mean_gaming, mean_howto], yerr=[2*confidence_gaming, 2*confidence_howto])\n",
    "plt.title(\"Confidence interval for mean of view in each category\")\n",
    "plt.xlabel(\"Category\")\n",
    "plt.ylabel(\"Mean number of views\")\n",
    "plt.show()"
   ]
  },
  {
   "cell_type": "markdown",
   "metadata": {},
   "source": [
    "It's clear here that the howto & style category is better than gaming in terms of number of views because the lower bound of the confidence interval of the howto categroy is higher than the upper bound of the gaming confidence interval."
   ]
  },
  {
   "cell_type": "markdown",
   "metadata": {},
   "source": [
    "# Task B: View forecasting (Machine Learning)"
   ]
  },
  {
   "cell_type": "markdown",
   "metadata": {},
   "source": [
    "Your friend wants to figure out how they can optimize their videos for getting the maximum number of views (without using shocking thumbnails and clickbait titles). In this task, you will build a machine learning (ML) model for predicting the success of a video."
   ]
  },
  {
   "cell_type": "markdown",
   "metadata": {},
   "source": [
    "## B1: Get those shovels out again"
   ]
  },
  {
   "cell_type": "markdown",
   "metadata": {},
   "source": [
    "1. For the prediction model, use all rows of the dataset, but keep only the following columns: `view_count, channel, upload_date, duration, average_rating, height, width`."
   ]
  },
  {
   "cell_type": "code",
   "execution_count": 15,
   "metadata": {},
   "outputs": [],
   "source": [
    "youtube_B = youtube[['view_count', 'channel', 'upload_date', 'duration', 'average_rating', 'height', 'width']]"
   ]
  },
  {
   "cell_type": "markdown",
   "metadata": {},
   "source": [
    "2. Extract the upload year and upload month from the `upload_date` column into the two columns `upload_year` and `upload_month`, and remove `upload_date`."
   ]
  },
  {
   "cell_type": "code",
   "execution_count": 16,
   "metadata": {},
   "outputs": [
    {
     "name": "stderr",
     "output_type": "stream",
     "text": [
      "/Users/lamborellemaxime/anaconda3/envs/ada/lib/python3.7/site-packages/ipykernel_launcher.py:1: SettingWithCopyWarning: \n",
      "A value is trying to be set on a copy of a slice from a DataFrame.\n",
      "Try using .loc[row_indexer,col_indexer] = value instead\n",
      "\n",
      "See the caveats in the documentation: http://pandas.pydata.org/pandas-docs/stable/user_guide/indexing.html#returning-a-view-versus-a-copy\n",
      "  \"\"\"Entry point for launching an IPython kernel.\n",
      "/Users/lamborellemaxime/anaconda3/envs/ada/lib/python3.7/site-packages/ipykernel_launcher.py:2: SettingWithCopyWarning: \n",
      "A value is trying to be set on a copy of a slice from a DataFrame.\n",
      "Try using .loc[row_indexer,col_indexer] = value instead\n",
      "\n",
      "See the caveats in the documentation: http://pandas.pydata.org/pandas-docs/stable/user_guide/indexing.html#returning-a-view-versus-a-copy\n",
      "  \n"
     ]
    },
    {
     "data": {
      "text/html": [
       "<div>\n",
       "<style scoped>\n",
       "    .dataframe tbody tr th:only-of-type {\n",
       "        vertical-align: middle;\n",
       "    }\n",
       "\n",
       "    .dataframe tbody tr th {\n",
       "        vertical-align: top;\n",
       "    }\n",
       "\n",
       "    .dataframe thead th {\n",
       "        text-align: right;\n",
       "    }\n",
       "</style>\n",
       "<table border=\"1\" class=\"dataframe\">\n",
       "  <thead>\n",
       "    <tr style=\"text-align: right;\">\n",
       "      <th></th>\n",
       "      <th>view_count</th>\n",
       "      <th>channel</th>\n",
       "      <th>duration</th>\n",
       "      <th>average_rating</th>\n",
       "      <th>height</th>\n",
       "      <th>width</th>\n",
       "      <th>upload_year</th>\n",
       "      <th>upload_month</th>\n",
       "    </tr>\n",
       "  </thead>\n",
       "  <tbody>\n",
       "    <tr>\n",
       "      <th>0</th>\n",
       "      <td>2541550.0</td>\n",
       "      <td>PewDiePie</td>\n",
       "      <td>1126.0</td>\n",
       "      <td>4.886102</td>\n",
       "      <td>720.0</td>\n",
       "      <td>1280.0</td>\n",
       "      <td>2013</td>\n",
       "      <td>3</td>\n",
       "    </tr>\n",
       "    <tr>\n",
       "      <th>1</th>\n",
       "      <td>1727646.0</td>\n",
       "      <td>PewDiePie</td>\n",
       "      <td>903.0</td>\n",
       "      <td>4.951531</td>\n",
       "      <td>720.0</td>\n",
       "      <td>1280.0</td>\n",
       "      <td>2013</td>\n",
       "      <td>3</td>\n",
       "    </tr>\n",
       "    <tr>\n",
       "      <th>2</th>\n",
       "      <td>1402747.0</td>\n",
       "      <td>PewDiePie</td>\n",
       "      <td>806.0</td>\n",
       "      <td>4.962706</td>\n",
       "      <td>720.0</td>\n",
       "      <td>1280.0</td>\n",
       "      <td>2013</td>\n",
       "      <td>3</td>\n",
       "    </tr>\n",
       "    <tr>\n",
       "      <th>3</th>\n",
       "      <td>4348296.0</td>\n",
       "      <td>PewDiePie</td>\n",
       "      <td>909.0</td>\n",
       "      <td>4.937665</td>\n",
       "      <td>720.0</td>\n",
       "      <td>1280.0</td>\n",
       "      <td>2013</td>\n",
       "      <td>3</td>\n",
       "    </tr>\n",
       "    <tr>\n",
       "      <th>4</th>\n",
       "      <td>1410659.0</td>\n",
       "      <td>PewDiePie</td>\n",
       "      <td>834.0</td>\n",
       "      <td>4.957545</td>\n",
       "      <td>720.0</td>\n",
       "      <td>1280.0</td>\n",
       "      <td>2013</td>\n",
       "      <td>3</td>\n",
       "    </tr>\n",
       "  </tbody>\n",
       "</table>\n",
       "</div>"
      ],
      "text/plain": [
       "   view_count    channel  duration  average_rating  height   width  \\\n",
       "0   2541550.0  PewDiePie    1126.0        4.886102   720.0  1280.0   \n",
       "1   1727646.0  PewDiePie     903.0        4.951531   720.0  1280.0   \n",
       "2   1402747.0  PewDiePie     806.0        4.962706   720.0  1280.0   \n",
       "3   4348296.0  PewDiePie     909.0        4.937665   720.0  1280.0   \n",
       "4   1410659.0  PewDiePie     834.0        4.957545   720.0  1280.0   \n",
       "\n",
       "   upload_year  upload_month  \n",
       "0         2013             3  \n",
       "1         2013             3  \n",
       "2         2013             3  \n",
       "3         2013             3  \n",
       "4         2013             3  "
      ]
     },
     "execution_count": 16,
     "metadata": {},
     "output_type": "execute_result"
    }
   ],
   "source": [
    "youtube_B['upload_year'] = pd.DatetimeIndex(youtube_B['upload_date']).year\n",
    "youtube_B['upload_month'] = pd.DatetimeIndex(youtube_B['upload_date']).month\n",
    "youtube_B = youtube_B.drop(columns='upload_date')\n",
    "youtube_B.head()"
   ]
  },
  {
   "cell_type": "markdown",
   "metadata": {},
   "source": [
    "3. The entry in the channel column for a video indicates on which channel the video was uploaded. Encode this column via one-hot encoding."
   ]
  },
  {
   "cell_type": "code",
   "execution_count": 17,
   "metadata": {},
   "outputs": [
    {
     "data": {
      "text/html": [
       "<div>\n",
       "<style scoped>\n",
       "    .dataframe tbody tr th:only-of-type {\n",
       "        vertical-align: middle;\n",
       "    }\n",
       "\n",
       "    .dataframe tbody tr th {\n",
       "        vertical-align: top;\n",
       "    }\n",
       "\n",
       "    .dataframe thead th {\n",
       "        text-align: right;\n",
       "    }\n",
       "</style>\n",
       "<table border=\"1\" class=\"dataframe\">\n",
       "  <thead>\n",
       "    <tr style=\"text-align: right;\">\n",
       "      <th></th>\n",
       "      <th>view_count</th>\n",
       "      <th>duration</th>\n",
       "      <th>average_rating</th>\n",
       "      <th>height</th>\n",
       "      <th>width</th>\n",
       "      <th>upload_year</th>\n",
       "      <th>upload_month</th>\n",
       "      <th>channel_5-Minute Crafts</th>\n",
       "      <th>channel_5-Minute Crafts GIRLY</th>\n",
       "      <th>channel_5-Minute Crafts PLAY</th>\n",
       "      <th>...</th>\n",
       "      <th>channel_grav3yardgirl</th>\n",
       "      <th>channel_iHasCupquake</th>\n",
       "      <th>channel_jacksepticeye</th>\n",
       "      <th>channel_jaipurthepinkcity</th>\n",
       "      <th>channel_jeffreestar</th>\n",
       "      <th>channel_speedyw03</th>\n",
       "      <th>channel_stampylonghead</th>\n",
       "      <th>channel_theRadBrad</th>\n",
       "      <th>channel_videogamedunkey</th>\n",
       "      <th>channel_windy31</th>\n",
       "    </tr>\n",
       "  </thead>\n",
       "  <tbody>\n",
       "    <tr>\n",
       "      <th>0</th>\n",
       "      <td>2541550.0</td>\n",
       "      <td>1126.0</td>\n",
       "      <td>4.886102</td>\n",
       "      <td>720.0</td>\n",
       "      <td>1280.0</td>\n",
       "      <td>2013</td>\n",
       "      <td>3</td>\n",
       "      <td>0</td>\n",
       "      <td>0</td>\n",
       "      <td>0</td>\n",
       "      <td>...</td>\n",
       "      <td>0</td>\n",
       "      <td>0</td>\n",
       "      <td>0</td>\n",
       "      <td>0</td>\n",
       "      <td>0</td>\n",
       "      <td>0</td>\n",
       "      <td>0</td>\n",
       "      <td>0</td>\n",
       "      <td>0</td>\n",
       "      <td>0</td>\n",
       "    </tr>\n",
       "    <tr>\n",
       "      <th>1</th>\n",
       "      <td>1727646.0</td>\n",
       "      <td>903.0</td>\n",
       "      <td>4.951531</td>\n",
       "      <td>720.0</td>\n",
       "      <td>1280.0</td>\n",
       "      <td>2013</td>\n",
       "      <td>3</td>\n",
       "      <td>0</td>\n",
       "      <td>0</td>\n",
       "      <td>0</td>\n",
       "      <td>...</td>\n",
       "      <td>0</td>\n",
       "      <td>0</td>\n",
       "      <td>0</td>\n",
       "      <td>0</td>\n",
       "      <td>0</td>\n",
       "      <td>0</td>\n",
       "      <td>0</td>\n",
       "      <td>0</td>\n",
       "      <td>0</td>\n",
       "      <td>0</td>\n",
       "    </tr>\n",
       "    <tr>\n",
       "      <th>2</th>\n",
       "      <td>1402747.0</td>\n",
       "      <td>806.0</td>\n",
       "      <td>4.962706</td>\n",
       "      <td>720.0</td>\n",
       "      <td>1280.0</td>\n",
       "      <td>2013</td>\n",
       "      <td>3</td>\n",
       "      <td>0</td>\n",
       "      <td>0</td>\n",
       "      <td>0</td>\n",
       "      <td>...</td>\n",
       "      <td>0</td>\n",
       "      <td>0</td>\n",
       "      <td>0</td>\n",
       "      <td>0</td>\n",
       "      <td>0</td>\n",
       "      <td>0</td>\n",
       "      <td>0</td>\n",
       "      <td>0</td>\n",
       "      <td>0</td>\n",
       "      <td>0</td>\n",
       "    </tr>\n",
       "    <tr>\n",
       "      <th>3</th>\n",
       "      <td>4348296.0</td>\n",
       "      <td>909.0</td>\n",
       "      <td>4.937665</td>\n",
       "      <td>720.0</td>\n",
       "      <td>1280.0</td>\n",
       "      <td>2013</td>\n",
       "      <td>3</td>\n",
       "      <td>0</td>\n",
       "      <td>0</td>\n",
       "      <td>0</td>\n",
       "      <td>...</td>\n",
       "      <td>0</td>\n",
       "      <td>0</td>\n",
       "      <td>0</td>\n",
       "      <td>0</td>\n",
       "      <td>0</td>\n",
       "      <td>0</td>\n",
       "      <td>0</td>\n",
       "      <td>0</td>\n",
       "      <td>0</td>\n",
       "      <td>0</td>\n",
       "    </tr>\n",
       "    <tr>\n",
       "      <th>4</th>\n",
       "      <td>1410659.0</td>\n",
       "      <td>834.0</td>\n",
       "      <td>4.957545</td>\n",
       "      <td>720.0</td>\n",
       "      <td>1280.0</td>\n",
       "      <td>2013</td>\n",
       "      <td>3</td>\n",
       "      <td>0</td>\n",
       "      <td>0</td>\n",
       "      <td>0</td>\n",
       "      <td>...</td>\n",
       "      <td>0</td>\n",
       "      <td>0</td>\n",
       "      <td>0</td>\n",
       "      <td>0</td>\n",
       "      <td>0</td>\n",
       "      <td>0</td>\n",
       "      <td>0</td>\n",
       "      <td>0</td>\n",
       "      <td>0</td>\n",
       "      <td>0</td>\n",
       "    </tr>\n",
       "  </tbody>\n",
       "</table>\n",
       "<p>5 rows × 202 columns</p>\n",
       "</div>"
      ],
      "text/plain": [
       "   view_count  duration  average_rating  height   width  upload_year  \\\n",
       "0   2541550.0    1126.0        4.886102   720.0  1280.0         2013   \n",
       "1   1727646.0     903.0        4.951531   720.0  1280.0         2013   \n",
       "2   1402747.0     806.0        4.962706   720.0  1280.0         2013   \n",
       "3   4348296.0     909.0        4.937665   720.0  1280.0         2013   \n",
       "4   1410659.0     834.0        4.957545   720.0  1280.0         2013   \n",
       "\n",
       "   upload_month  channel_5-Minute Crafts  channel_5-Minute Crafts GIRLY  \\\n",
       "0             3                        0                              0   \n",
       "1             3                        0                              0   \n",
       "2             3                        0                              0   \n",
       "3             3                        0                              0   \n",
       "4             3                        0                              0   \n",
       "\n",
       "   channel_5-Minute Crafts PLAY  ...  channel_grav3yardgirl  \\\n",
       "0                             0  ...                      0   \n",
       "1                             0  ...                      0   \n",
       "2                             0  ...                      0   \n",
       "3                             0  ...                      0   \n",
       "4                             0  ...                      0   \n",
       "\n",
       "   channel_iHasCupquake  channel_jacksepticeye  channel_jaipurthepinkcity  \\\n",
       "0                     0                      0                          0   \n",
       "1                     0                      0                          0   \n",
       "2                     0                      0                          0   \n",
       "3                     0                      0                          0   \n",
       "4                     0                      0                          0   \n",
       "\n",
       "   channel_jeffreestar  channel_speedyw03  channel_stampylonghead  \\\n",
       "0                    0                  0                       0   \n",
       "1                    0                  0                       0   \n",
       "2                    0                  0                       0   \n",
       "3                    0                  0                       0   \n",
       "4                    0                  0                       0   \n",
       "\n",
       "   channel_theRadBrad  channel_videogamedunkey  channel_windy31  \n",
       "0                   0                        0                0  \n",
       "1                   0                        0                0  \n",
       "2                   0                        0                0  \n",
       "3                   0                        0                0  \n",
       "4                   0                        0                0  \n",
       "\n",
       "[5 rows x 202 columns]"
      ]
     },
     "execution_count": 17,
     "metadata": {},
     "output_type": "execute_result"
    }
   ],
   "source": [
    "youtube_B = pd.get_dummies(youtube_B)\n",
    "youtube_B.head()"
   ]
  },
  {
   "cell_type": "markdown",
   "metadata": {},
   "source": [
    "4. Split the data into a train (70%) and a test set (30%) with the appropriate function from sklearn, using 42 as the random seed."
   ]
  },
  {
   "cell_type": "code",
   "execution_count": 18,
   "metadata": {},
   "outputs": [],
   "source": [
    "from sklearn.model_selection import train_test_split\n",
    "X_train, X_test, y_train, y_test = train_test_split(youtube_B.drop(columns='view_count'), youtube_B['view_count'], test_size=0.3, random_state=42)"
   ]
  },
  {
   "cell_type": "markdown",
   "metadata": {},
   "source": [
    "## B2: Who is the most viewed of them all?"
   ]
  },
  {
   "cell_type": "markdown",
   "metadata": {},
   "source": [
    "1. Train a ridge regression model (i.e., an L2-regularized linear regression model) on the train set that predicts the view count from the other features. Find and use the optimal regularization parameter $\\alpha$ from the set {0.001, 0.01, 0.1} via 3-fold cross validation."
   ]
  },
  {
   "cell_type": "code",
   "execution_count": 19,
   "metadata": {},
   "outputs": [],
   "source": [
    "from sklearn.model_selection import GridSearchCV\n",
    "from sklearn.linear_model import Ridge\n",
    "\n",
    "param_dict = {'alpha':[0.001, 0.01, 0.1]}\n",
    "model = Ridge()\n",
    "grid_search = GridSearchCV(model, param_dict, cv=3, scoring='neg_mean_absolute_error')\n",
    "grid_search.fit(X_train, y_train)\n",
    "\n",
    "best_model = grid_search.best_estimator_\n",
    "# We put a - because the score is the neg mean abs error\n",
    "best_score = -grid_search.best_score_\n",
    "best_alpha = grid_search.best_params_['alpha']"
   ]
  },
  {
   "cell_type": "code",
   "execution_count": 20,
   "metadata": {},
   "outputs": [
    {
     "name": "stdout",
     "output_type": "stream",
     "text": [
      "The best model is obtained using alpha = 0.1 and has a MSE of : 1512092.9715274125\n"
     ]
    }
   ],
   "source": [
    "print(\"The best model is obtained using alpha = {} and has a MSE of : {}\".format(best_alpha, best_score))"
   ]
  },
  {
   "cell_type": "markdown",
   "metadata": {},
   "source": [
    "2. Report the mean absolute error that the model makes on the test set."
   ]
  },
  {
   "cell_type": "code",
   "execution_count": 21,
   "metadata": {},
   "outputs": [
    {
     "name": "stdout",
     "output_type": "stream",
     "text": [
      "The Mean Absolute Error on the test set is :  1444649.5039951287\n"
     ]
    }
   ],
   "source": [
    "from sklearn.metrics import mean_absolute_error\n",
    "\n",
    "y_pred = best_model.predict(X_test)\n",
    "mae = mean_absolute_error(y_test, y_pred)\n",
    "print(\"The Mean Absolute Error on the test set is : \", mae)"
   ]
  },
  {
   "cell_type": "markdown",
   "metadata": {},
   "source": [
    "It means that we can predict the true number of view with an average error of 1.5 millions view"
   ]
  },
  {
   "cell_type": "markdown",
   "metadata": {},
   "source": [
    "## B3: Checking our ambitions"
   ]
  },
  {
   "cell_type": "markdown",
   "metadata": {},
   "source": [
    "To improve performance, you want to make the task of the ML model easier and turn it into a classification task. Now it only has to predict whether a video has a high view count (defined as being larger than the median of the view counts in the training set) or a low view count (defined as being smaller or equal to the median of the view counts in the training set)."
   ]
  },
  {
   "cell_type": "markdown",
   "metadata": {},
   "source": [
    "1. Train a logistic regression model for this classification task. Find and use the optimal regularization parameter C (as defined in scikit-learn's documentation) from the set {1, 10, 100} via 3-fold cross validation. Use the random seed 42. _Hint_: If you get a warning about the training algorithm failing to converge, increase the maximum number of training iterations."
   ]
  },
  {
   "cell_type": "code",
   "execution_count": 22,
   "metadata": {},
   "outputs": [],
   "source": [
    "median = y_train.median()\n",
    "# Transform y in 1 if high and 0 if low\n",
    "y_train_class = (y_train > median).astype('int')\n",
    "y_test_class =(y_test > median).astype('int')"
   ]
  },
  {
   "cell_type": "code",
   "execution_count": 23,
   "metadata": {},
   "outputs": [
    {
     "name": "stdout",
     "output_type": "stream",
     "text": [
      "Best C : 1\n"
     ]
    }
   ],
   "source": [
    "from sklearn.linear_model import LogisticRegressionCV\n",
    "\n",
    "model = LogisticRegressionCV(Cs=[1, 10, 100], cv=3, random_state=42, max_iter=500).fit(X_train, y_train_class)\n",
    "print(\"Best C :\", model.C_[0])"
   ]
  },
  {
   "cell_type": "markdown",
   "metadata": {},
   "source": [
    "2. Compute the accuracy of the logistic regression model on the test set."
   ]
  },
  {
   "cell_type": "code",
   "execution_count": 24,
   "metadata": {},
   "outputs": [
    {
     "name": "stdout",
     "output_type": "stream",
     "text": [
      "Accuracy on the test set : 0.7479033761020716\n"
     ]
    }
   ],
   "source": [
    "from sklearn.metrics import accuracy_score\n",
    "\n",
    "y_pred = model.predict(X_test)\n",
    "print(\"Accuracy on the test set :\", accuracy_score(y_test_class, y_pred))"
   ]
  },
  {
   "cell_type": "markdown",
   "metadata": {},
   "source": [
    "## B4: ...something's not right."
   ]
  },
  {
   "cell_type": "markdown",
   "metadata": {},
   "source": [
    "You are satisfied with the model performance. In fact, you are a bit surprised at how good the model is given the relatively little amount of information about the videos. So you take a closer look at the features and realize that the (one-hot-encoded) channel feature does not make sense for the application that your friend has in mind."
   ]
  },
  {
   "cell_type": "markdown",
   "metadata": {},
   "source": [
    "1. Why does the channel feature not make sense?"
   ]
  },
  {
   "cell_type": "markdown",
   "metadata": {},
   "source": [
    "Because for him this value will be always different from the ones in the dataset (it will published his video using his own channel). And he cannot change the value of his parameter."
   ]
  },
  {
   "cell_type": "markdown",
   "metadata": {},
   "source": [
    "2. Train another logistic regression model with all the features from B3 except the one-hot-encoded channel. Use again 42 as the seed for the train test split and perform the same hyperparameter optimization as in B3. How does the model performance change?"
   ]
  },
  {
   "cell_type": "code",
   "execution_count": 25,
   "metadata": {},
   "outputs": [
    {
     "name": "stderr",
     "output_type": "stream",
     "text": [
      "/Users/lamborellemaxime/anaconda3/envs/ada/lib/python3.7/site-packages/ipykernel_launcher.py:3: SettingWithCopyWarning: \n",
      "A value is trying to be set on a copy of a slice from a DataFrame.\n",
      "Try using .loc[row_indexer,col_indexer] = value instead\n",
      "\n",
      "See the caveats in the documentation: http://pandas.pydata.org/pandas-docs/stable/user_guide/indexing.html#returning-a-view-versus-a-copy\n",
      "  This is separate from the ipykernel package so we can avoid doing imports until\n",
      "/Users/lamborellemaxime/anaconda3/envs/ada/lib/python3.7/site-packages/ipykernel_launcher.py:4: SettingWithCopyWarning: \n",
      "A value is trying to be set on a copy of a slice from a DataFrame.\n",
      "Try using .loc[row_indexer,col_indexer] = value instead\n",
      "\n",
      "See the caveats in the documentation: http://pandas.pydata.org/pandas-docs/stable/user_guide/indexing.html#returning-a-view-versus-a-copy\n",
      "  after removing the cwd from sys.path.\n"
     ]
    }
   ],
   "source": [
    "# Now do not keep the channel column\n",
    "youtube_B = youtube[['view_count', 'upload_date', 'duration', 'average_rating', 'height', 'width']]\n",
    "youtube_B['upload_year'] = pd.DatetimeIndex(youtube_B['upload_date']).year\n",
    "youtube_B['upload_month'] = pd.DatetimeIndex(youtube_B['upload_date']).month\n",
    "youtube_B = youtube_B.drop(columns='upload_date')"
   ]
  },
  {
   "cell_type": "code",
   "execution_count": 26,
   "metadata": {},
   "outputs": [
    {
     "name": "stdout",
     "output_type": "stream",
     "text": [
      "Best C : 100\n",
      "Accuracy on the test set : 0.6075311208276587\n"
     ]
    }
   ],
   "source": [
    "def test_model(youtube):\n",
    "    # Test train split\n",
    "    X_train, X_test, y_train, y_test = train_test_split(youtube.drop(columns='view_count'), youtube['view_count'], test_size=0.3, random_state=42)\n",
    "\n",
    "    # Discretize classes\n",
    "    median = y_train.median()\n",
    "    y_train_class = (y_train > median).astype('int')\n",
    "    y_test_class =(y_test > median).astype('int')\n",
    "\n",
    "    # Perform cross validation to find the best C and fit the model\n",
    "    model = LogisticRegressionCV(Cs=[1, 10, 100], cv=3, random_state=42, max_iter=500).fit(X_train, y_train_class)\n",
    "    print(\"Best C :\", model.C_[0])\n",
    "\n",
    "    # Test the model\n",
    "    y_pred = model.predict(X_test)\n",
    "    print(\"Accuracy on the test set :\", accuracy_score(y_test_class, y_pred))\n",
    "\n",
    "test_model(youtube_B)"
   ]
  },
  {
   "cell_type": "markdown",
   "metadata": {},
   "source": [
    "We can see that the model changed a lot ! The accuracy dropped from 75% to only 60% which is not very good for a machine learning model."
   ]
  },
  {
   "cell_type": "markdown",
   "metadata": {},
   "source": [
    "## B5: \"We kinda forgot about categories.\""
   ]
  },
  {
   "cell_type": "markdown",
   "metadata": {},
   "source": [
    "On second thought, there is actually one feature that you may use about the channel. Namely, the channel category. The reason this one makes sense might also help you answer B4.1."
   ]
  },
  {
   "cell_type": "markdown",
   "metadata": {},
   "source": [
    "1. Train and evaluate another logistic regression model (in the same way as in B4 regarding train/test split and hyperparameter) that additionally includes the one-hot-encoded channel category."
   ]
  },
  {
   "cell_type": "code",
   "execution_count": 27,
   "metadata": {},
   "outputs": [
    {
     "name": "stderr",
     "output_type": "stream",
     "text": [
      "/Users/lamborellemaxime/anaconda3/envs/ada/lib/python3.7/site-packages/ipykernel_launcher.py:3: SettingWithCopyWarning: \n",
      "A value is trying to be set on a copy of a slice from a DataFrame.\n",
      "Try using .loc[row_indexer,col_indexer] = value instead\n",
      "\n",
      "See the caveats in the documentation: http://pandas.pydata.org/pandas-docs/stable/user_guide/indexing.html#returning-a-view-versus-a-copy\n",
      "  This is separate from the ipykernel package so we can avoid doing imports until\n",
      "/Users/lamborellemaxime/anaconda3/envs/ada/lib/python3.7/site-packages/ipykernel_launcher.py:4: SettingWithCopyWarning: \n",
      "A value is trying to be set on a copy of a slice from a DataFrame.\n",
      "Try using .loc[row_indexer,col_indexer] = value instead\n",
      "\n",
      "See the caveats in the documentation: http://pandas.pydata.org/pandas-docs/stable/user_guide/indexing.html#returning-a-view-versus-a-copy\n",
      "  after removing the cwd from sys.path.\n"
     ]
    },
    {
     "data": {
      "text/html": [
       "<div>\n",
       "<style scoped>\n",
       "    .dataframe tbody tr th:only-of-type {\n",
       "        vertical-align: middle;\n",
       "    }\n",
       "\n",
       "    .dataframe tbody tr th {\n",
       "        vertical-align: top;\n",
       "    }\n",
       "\n",
       "    .dataframe thead th {\n",
       "        text-align: right;\n",
       "    }\n",
       "</style>\n",
       "<table border=\"1\" class=\"dataframe\">\n",
       "  <thead>\n",
       "    <tr style=\"text-align: right;\">\n",
       "      <th></th>\n",
       "      <th>view_count</th>\n",
       "      <th>duration</th>\n",
       "      <th>average_rating</th>\n",
       "      <th>height</th>\n",
       "      <th>width</th>\n",
       "      <th>upload_year</th>\n",
       "      <th>upload_month</th>\n",
       "      <th>channel_cat_Gaming</th>\n",
       "      <th>channel_cat_Howto &amp; Style</th>\n",
       "    </tr>\n",
       "  </thead>\n",
       "  <tbody>\n",
       "    <tr>\n",
       "      <th>0</th>\n",
       "      <td>2541550.0</td>\n",
       "      <td>1126.0</td>\n",
       "      <td>4.886102</td>\n",
       "      <td>720.0</td>\n",
       "      <td>1280.0</td>\n",
       "      <td>2013</td>\n",
       "      <td>3</td>\n",
       "      <td>1</td>\n",
       "      <td>0</td>\n",
       "    </tr>\n",
       "    <tr>\n",
       "      <th>1</th>\n",
       "      <td>1727646.0</td>\n",
       "      <td>903.0</td>\n",
       "      <td>4.951531</td>\n",
       "      <td>720.0</td>\n",
       "      <td>1280.0</td>\n",
       "      <td>2013</td>\n",
       "      <td>3</td>\n",
       "      <td>1</td>\n",
       "      <td>0</td>\n",
       "    </tr>\n",
       "    <tr>\n",
       "      <th>2</th>\n",
       "      <td>1402747.0</td>\n",
       "      <td>806.0</td>\n",
       "      <td>4.962706</td>\n",
       "      <td>720.0</td>\n",
       "      <td>1280.0</td>\n",
       "      <td>2013</td>\n",
       "      <td>3</td>\n",
       "      <td>1</td>\n",
       "      <td>0</td>\n",
       "    </tr>\n",
       "    <tr>\n",
       "      <th>3</th>\n",
       "      <td>4348296.0</td>\n",
       "      <td>909.0</td>\n",
       "      <td>4.937665</td>\n",
       "      <td>720.0</td>\n",
       "      <td>1280.0</td>\n",
       "      <td>2013</td>\n",
       "      <td>3</td>\n",
       "      <td>1</td>\n",
       "      <td>0</td>\n",
       "    </tr>\n",
       "    <tr>\n",
       "      <th>4</th>\n",
       "      <td>1410659.0</td>\n",
       "      <td>834.0</td>\n",
       "      <td>4.957545</td>\n",
       "      <td>720.0</td>\n",
       "      <td>1280.0</td>\n",
       "      <td>2013</td>\n",
       "      <td>3</td>\n",
       "      <td>1</td>\n",
       "      <td>0</td>\n",
       "    </tr>\n",
       "  </tbody>\n",
       "</table>\n",
       "</div>"
      ],
      "text/plain": [
       "   view_count  duration  average_rating  height   width  upload_year  \\\n",
       "0   2541550.0    1126.0        4.886102   720.0  1280.0         2013   \n",
       "1   1727646.0     903.0        4.951531   720.0  1280.0         2013   \n",
       "2   1402747.0     806.0        4.962706   720.0  1280.0         2013   \n",
       "3   4348296.0     909.0        4.937665   720.0  1280.0         2013   \n",
       "4   1410659.0     834.0        4.957545   720.0  1280.0         2013   \n",
       "\n",
       "   upload_month  channel_cat_Gaming  channel_cat_Howto & Style  \n",
       "0             3                   1                          0  \n",
       "1             3                   1                          0  \n",
       "2             3                   1                          0  \n",
       "3             3                   1                          0  \n",
       "4             3                   1                          0  "
      ]
     },
     "execution_count": 27,
     "metadata": {},
     "output_type": "execute_result"
    }
   ],
   "source": [
    "# Now do keep the channel category column\n",
    "youtube_B = youtube[['view_count', 'upload_date', 'duration', 'average_rating', 'height', 'width', 'channel_cat']]\n",
    "youtube_B['upload_year'] = pd.DatetimeIndex(youtube_B['upload_date']).year\n",
    "youtube_B['upload_month'] = pd.DatetimeIndex(youtube_B['upload_date']).month\n",
    "youtube_B = youtube_B.drop(columns='upload_date')\n",
    "youtube_B = pd.get_dummies(youtube_B)\n",
    "youtube_B.head()"
   ]
  },
  {
   "cell_type": "code",
   "execution_count": 28,
   "metadata": {},
   "outputs": [
    {
     "name": "stdout",
     "output_type": "stream",
     "text": [
      "Best C : 1\n",
      "Accuracy on the test set : 0.6168016629632285\n"
     ]
    }
   ],
   "source": [
    "test_model(youtube_B)"
   ]
  },
  {
   "cell_type": "markdown",
   "metadata": {},
   "source": [
    "2. The dynamics of the two categories might differ a lot, and the two communities might value different properties of a video differently. For instance, for one community, a long duration might be more important, for the other one, a large picture width. Thus, having only a single weight for, e.g., the duration of a video, might not give the best results. Is there something smarter that you can do than simply including the category as a single one-hot-encoded feature to improve the classification performance? Implement your idea and compare the accuracy on the test set with that of the first model (from task B5.1)."
   ]
  },
  {
   "cell_type": "code",
   "execution_count": null,
   "metadata": {},
   "outputs": [],
   "source": []
  },
  {
   "cell_type": "markdown",
   "metadata": {},
   "source": [
    "# Task C: A map of the channels (Graphs)"
   ]
  },
  {
   "cell_type": "markdown",
   "metadata": {},
   "source": [
    "Your friend wants to map out the channels and represent their similarities. For this purpose, we have created two undirected and unweighted graphs for you, where in each graph, each channel has a node and similar channels have edges connecting them. In one graph, the similarity between two channels is based on how similar their video descriptions are, while in the other, the similarity is based on how similar their video tags are. We will call the former $G_{text}$ and the latter $G_{tags}$. You will be analyzing the two graphs loaded by running the cell below."
   ]
  },
  {
   "cell_type": "code",
   "execution_count": 29,
   "metadata": {},
   "outputs": [],
   "source": [
    "from networkx import from_numpy_array\n",
    "import json\n",
    "g_text_adj = np.loadtxt(open('data/g_text_adj.csv', 'r'), delimiter=',', skiprows=0)\n",
    "g_tags_adj = np.loadtxt(open('data/g_tags_adj.csv', 'r'), delimiter=',', skiprows=0)\n",
    "channel_to_index = json.load(open('data/channel_indices.json', 'r'))\n",
    "g_text = from_numpy_array(g_text_adj)\n",
    "g_tags = from_numpy_array(g_tags_adj)"
   ]
  },
  {
   "cell_type": "markdown",
   "metadata": {},
   "source": [
    "## C1: Does YouTube have a content diversity problem?"
   ]
  },
  {
   "cell_type": "markdown",
   "metadata": {},
   "source": [
    "1. For each graph, calculate its diameter (i.e., the largest shortest-path length, where the maximization is done over all node pairs). What difference do you see? _Hint_: Don't worry if you get an error, just read the error message carefully."
   ]
  },
  {
   "cell_type": "code",
   "execution_count": 30,
   "metadata": {},
   "outputs": [
    {
     "name": "stdout",
     "output_type": "stream",
     "text": [
      "Diameter of tags graph : 2\n"
     ]
    }
   ],
   "source": [
    "if nx.is_connected(g_text):\n",
    "    print(\"Diameter of tags graph :\", nx.diameter(g_text))\n",
    "else:\n",
    "    print(\"The graph is not connected\")"
   ]
  },
  {
   "cell_type": "code",
   "execution_count": 31,
   "metadata": {},
   "outputs": [
    {
     "name": "stdout",
     "output_type": "stream",
     "text": [
      "The graph is not connected\n"
     ]
    }
   ],
   "source": [
    "if nx.is_connected(g_tags):\n",
    "    print(\"Diameter of tags graph :\", nx.diameter(g_tags))\n",
    "else:\n",
    "    print(\"The graph is not connected\")"
   ]
  },
  {
   "cell_type": "markdown",
   "metadata": {},
   "source": [
    "The text graph is connected while the tags graph is not (it then has no diameter)"
   ]
  },
  {
   "cell_type": "markdown",
   "metadata": {},
   "source": [
    "2. What does the diameter of $G_{text}$ say about the diversity of the channels’ contents? How about the diameter of $G_{tags}$?"
   ]
  },
  {
   "cell_type": "markdown",
   "metadata": {},
   "source": [
    "The content are very close from each other because the longuest shortest path is only two.\n",
    "Using the tags it's easier to distinguish communities in the graph because it is not connected."
   ]
  },
  {
   "cell_type": "markdown",
   "metadata": {},
   "source": [
    "3. Based on what you have calculated, which one has greater diversity: descriptions used by channels, or tags used by channels? Justify your answer."
   ]
  },
  {
   "cell_type": "markdown",
   "metadata": {},
   "source": [
    "The tags used by the channels because the graph using the tags is not connected. It means that some videos are absolutely not related if we only look at that graph. Moreover because it's not connected, the diameter is infinite so it's another way to see that the diversity is bigger."
   ]
  },
  {
   "cell_type": "markdown",
   "metadata": {},
   "source": [
    "4. Imagine that you want to **compare** content diversity between two sets of channels (i.e., you want to see which set of channels has more diverse content), and you have calculated a tag-based graph for each set. Do you think the diameter is a good measure for doing the comparison? Justify your answer."
   ]
  },
  {
   "cell_type": "markdown",
   "metadata": {},
   "source": [
    "No because as soon as the graph is not connected anymore the diameter becomes infinite and it's not possible anymore to compare the two set of channels."
   ]
  },
  {
   "cell_type": "markdown",
   "metadata": {},
   "source": [
    "5. Back to our own two graphs. Based on $G_{text}$, for each category of channels, which channel is the one most representative of the contents of all channels in that category? In other words, for each category, if you needed to provide a summary of all channels in the category via one channel, which channel would you choose? Show us (us being the exam designers and your friend) the descriptions of this channel’s two most-viewed videos. What metric did you use for this purpose? Explain your choice."
   ]
  },
  {
   "cell_type": "code",
   "execution_count": 32,
   "metadata": {},
   "outputs": [],
   "source": [
    "import json\n",
    "# We will relabel nodes\n",
    "with open('data/channel_indices.json') as f:\n",
    "    indices = json.load(f)\n",
    "\n",
    "g_text = nx.relabel_nodes(g_text, {k:v for k,v in enumerate(indices)})\n",
    "g_tags = nx.relabel_nodes(g_tags, {k:v for k,v in enumerate(indices)})"
   ]
  },
  {
   "cell_type": "code",
   "execution_count": 33,
   "metadata": {},
   "outputs": [],
   "source": [
    "# get cat for each channel\n",
    "channel_cat = youtube.groupby('channel').agg(cat=('channel_cat', lambda x:x.mode()[0]))"
   ]
  },
  {
   "cell_type": "code",
   "execution_count": 34,
   "metadata": {},
   "outputs": [],
   "source": [
    "nx.set_node_attributes(g_text, channel_cat['cat'].to_dict(), 'category' )\n",
    "nx.set_node_attributes(g_tags, channel_cat['cat'].to_dict(), 'category' )"
   ]
  },
  {
   "cell_type": "code",
   "execution_count": 38,
   "metadata": {},
   "outputs": [],
   "source": [
    "gaming_graph = nx.subgraph(g_text, [node for node in g_text.nodes if g_text.nodes[node]['category'] == \"Gaming\"])\n",
    "howto_graph = nx.subgraph(g_text, [node for node in g_text.nodes if g_text.nodes[node]['category'] == \"Howto & Style\"])"
   ]
  },
  {
   "cell_type": "markdown",
   "metadata": {},
   "source": [
    "We will use the most central node. Here we will use the betweeness centrality."
   ]
  },
  {
   "cell_type": "code",
   "execution_count": 41,
   "metadata": {},
   "outputs": [
    {
     "data": {
      "text/plain": [
       "'Azerrz'"
      ]
     },
     "execution_count": 41,
     "metadata": {},
     "output_type": "execute_result"
    }
   ],
   "source": [
    "from networkx.algorithms.centrality import betweenness_centrality\n",
    "\n",
    "#Gaming graph\n",
    "max(betweenness_centrality(gaming_graph), key=lambda x:x[1])"
   ]
  },
  {
   "cell_type": "code",
   "execution_count": 42,
   "metadata": {},
   "outputs": [
    {
     "data": {
      "text/plain": [
       "'Izabela Stress'"
      ]
     },
     "execution_count": 42,
     "metadata": {},
     "output_type": "execute_result"
    }
   ],
   "source": [
    "max(betweenness_centrality(howto_graph), key=lambda x:x[1])"
   ]
  },
  {
   "cell_type": "markdown",
   "metadata": {},
   "source": [
    "## C2: Going back to categories again"
   ]
  },
  {
   "cell_type": "markdown",
   "metadata": {},
   "source": [
    "1. We want to use the two graphs to cluster channels from the same category together, and we want to compare their effectiveness at doing so. Use Kernighan-Lin bisection in the networkx package (`networkx.algorithms.community.kernighan_lin_bisection`) to divide each graph into two communities. Use 42 as the random seed. For each graph, show how many members of each category fall into each of the two communities."
   ]
  },
  {
   "cell_type": "code",
   "execution_count": 46,
   "metadata": {},
   "outputs": [
    {
     "name": "stdout",
     "output_type": "stream",
     "text": [
      "In the first community there are 69 from gaming and 28 from howto\n"
     ]
    }
   ],
   "source": [
    "from networkx.algorithms.community import kernighan_lin_bisection\n",
    "communities = kernighan_lin_bisection(g_text)\n",
    "\n",
    "gaming = 0\n",
    "howto = 0\n",
    "for node in communities[0]:\n",
    "    if g_text.nodes[node]['category'] == 'Gaming':\n",
    "        gaming += 1\n",
    "    else:\n",
    "        howto += 1\n",
    "\n",
    "print(\"In the first community there are {} from gaming and {} from howto\".format(gaming, howto))"
   ]
  },
  {
   "cell_type": "code",
   "execution_count": 47,
   "metadata": {},
   "outputs": [
    {
     "name": "stdout",
     "output_type": "stream",
     "text": [
      "In the second community there are 30 from gaming and 68 from howto\n"
     ]
    }
   ],
   "source": [
    "gaming = 0\n",
    "howto = 0\n",
    "for node in communities[1]:\n",
    "    if g_text.nodes[node]['category'] == 'Gaming':\n",
    "        gaming += 1\n",
    "    else:\n",
    "        howto += 1\n",
    "\n",
    "print(\"In the second community there are {} from gaming and {} from howto\".format(gaming, howto))"
   ]
  },
  {
   "cell_type": "code",
   "execution_count": 49,
   "metadata": {},
   "outputs": [
    {
     "name": "stdout",
     "output_type": "stream",
     "text": [
      "In the first community there are 18 from gaming and 79 from howto\n",
      "In the second community there are 81 from gaming and 17 from howto\n"
     ]
    }
   ],
   "source": [
    "# Tags graph\n",
    "communities = kernighan_lin_bisection(g_tags)\n",
    "gaming = 0\n",
    "howto = 0\n",
    "for node in communities[0]:\n",
    "    if g_tags.nodes[node]['category'] == 'Gaming':\n",
    "        gaming += 1\n",
    "    else:\n",
    "        howto += 1\n",
    "\n",
    "print(\"In the first community there are {} from gaming and {} from howto\".format(gaming, howto))\n",
    "\n",
    "gaming = 0\n",
    "howto = 0\n",
    "for node in communities[1]:\n",
    "    if g_tags.nodes[node]['category'] == 'Gaming':\n",
    "        gaming += 1\n",
    "    else:\n",
    "        howto += 1\n",
    "\n",
    "print(\"In the second community there are {} from gaming and {} from howto\".format(gaming, howto))"
   ]
  },
  {
   "cell_type": "markdown",
   "metadata": {},
   "source": [
    "The best is the tags graph as it minimize then entropy in the communities."
   ]
  },
  {
   "cell_type": "markdown",
   "metadata": {},
   "source": [
    "2. If one of these graphs were ideal for this clustering task, what would the resulting communities look like? If it were the absolute worst possible graph for the task, what would the resulting communities look like?"
   ]
  },
  {
   "cell_type": "code",
   "execution_count": null,
   "metadata": {},
   "outputs": [],
   "source": []
  },
  {
   "cell_type": "markdown",
   "metadata": {},
   "source": [
    "3. Calculate the probability $P(community|category)$ for each community and category within each graph. Design a metric, using the four $P(community|category)$ values in a graph, whose value would be 1 for the ideal graph and 0 for the worst graph. Calculate this metric for both graphs and compare the two. What do the results say about how representative tags and descriptions are regarding the channel categories? Are tags better suited, or descriptions?"
   ]
  },
  {
   "cell_type": "code",
   "execution_count": null,
   "metadata": {},
   "outputs": [],
   "source": []
  },
  {
   "cell_type": "markdown",
   "metadata": {},
   "source": [
    "4. The Kernighan-Lin bisection you used above performs a min-edge cut: It attempts to partition the nodes of the graph into two sets of almost-equal size by deleting as few edges as possible. It starts off by creating a random partition of the nodes of the graph into two sets A and B that are almost equal in size, and then iteratively and in a greedy fashion moves nodes between A and B to reduce the number of edges between A and B. Show at least one toy example of a graph where the initialization could also be the final result. (Hint: Think of how, as we explained, the bisection algorithm relies on a minimum edge cut with a random initialization; under what circumstances could the original A and B be the best partition given that graph?)"
   ]
  },
  {
   "cell_type": "code",
   "execution_count": null,
   "metadata": {},
   "outputs": [],
   "source": []
  }
 ],
 "metadata": {
  "kernelspec": {
   "display_name": "Python 3",
   "language": "python",
   "name": "python3"
  },
  "language_info": {
   "codemirror_mode": {
    "name": "ipython",
    "version": 3
   },
   "file_extension": ".py",
   "mimetype": "text/x-python",
   "name": "python",
   "nbconvert_exporter": "python",
   "pygments_lexer": "ipython3",
   "version": "3.7.6"
  }
 },
 "nbformat": 4,
 "nbformat_minor": 4
}
