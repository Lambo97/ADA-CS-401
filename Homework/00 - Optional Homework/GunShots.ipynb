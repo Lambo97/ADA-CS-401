{
 "cells": [
  {
   "cell_type": "markdown",
   "metadata": {},
   "source": [
    "# Homework 0 : Gun shots\n",
    "\n",
    "This notebook aims to reproduce the results of presented [here](https://fivethirtyeight.com/features/gun-deaths/) based on [this](https://github.com/fivethirtyeight/guns-data/blob/master/interactive_data.csv) dataset. Moreover this notebook only uses the Standard Python Library."
   ]
  },
  {
   "cell_type": "markdown",
   "metadata": {},
   "source": [
    "The dataset is already preprocessed. The desired data just need to be extracted from the csv file :"
   ]
  },
  {
   "cell_type": "code",
   "execution_count": 12,
   "metadata": {},
   "outputs": [],
   "source": [
    "import csv\n",
    "all_data = 'None selected'\n",
    "with open('interactive_data.csv', newline='') as csvfile:\n",
    "    linereader = csv.reader(csvfile, delimiter=\",\")\n",
    "    for row in linereader:\n",
    "        #All deaths\n",
    "        if row[1] == all_data and row[2] == all_data and row[3] == all_data and row[4] == all_data:\n",
    "            all_deaths = int(row[5])\n",
    "        #Suicide\n",
    "        elif row[1] == 'Suicide' and row[2] == all_data and row[3] == all_data and row[4] == all_data:\n",
    "            suicide = int(row[5])\n",
    "        #Male Suicide\n",
    "        elif row[1] == 'Suicide' and row[2] == 'Male' and row[3] == all_data and row[4] == all_data:\n",
    "            male_suicide = int(row[5])\n",
    "        #Male Suicide 35-64\n",
    "        elif row[1] == 'Suicide' and row[2] == 'Male' and row[3] == '35 - 64' and row[4] == all_data:\n",
    "            male_suicide_3564 = int(row[5])\n",
    "        #Male Suicide 65+\n",
    "        elif row[1] == 'Suicide' and row[2] == 'Male' and row[3] == '65+' and row[4] == all_data:\n",
    "            male_suicide_65 = int(row[5])\n",
    "        #Homicide\n",
    "        elif row[1] == 'Homicide' and row[2] == all_data and row[3] == all_data and row[4] == all_data:\n",
    "            homicide = int(row[5])\n",
    "        #Homicide Men Under 15 \n",
    "        elif row[1] == 'Homicide' and row[2] == 'Male' and row[3] == 'Under 15' and row[4] == all_data:\n",
    "            homicide_men_15 = int(row[5])\n",
    "        #Homicide Men Under 15-34\n",
    "        elif row[1] == 'Homicide' and row[2] == 'Male' and row[3] == '15 - 34' and row[4] == all_data:\n",
    "            homicide_men_1534 = int(row[5])\n",
    "        #Homicide Men Under 15 Black \n",
    "        elif row[1] == 'Homicide' and row[2] == 'Male' and row[3] == 'Under 15' and row[4] == 'Black':\n",
    "            homicide_men_15_black = int(row[5])\n",
    "        #Homicide Men Under 15-34 Black\n",
    "        elif row[1] == 'Homicide' and row[2] == 'Male' and row[3] == '15 - 34' and row[4] == 'Black':\n",
    "            homicide_men_1534_black = int(row[5])\n",
    "        #Homicide Female\n",
    "        elif row[1] == 'Homicide' and row[2] == 'Female' and row[3] == all_data and row[4] == all_data:\n",
    "            homicide_female = int(row[5])\n",
    "        "
   ]
  },
  {
   "cell_type": "markdown",
   "metadata": {},
   "source": [
    "Once the data are extracted from the csv file, they can be processed to create the desired statistics"
   ]
  },
  {
   "cell_type": "markdown",
   "metadata": {},
   "source": [
    "## Total Number of deaths by gun shots"
   ]
  },
  {
   "cell_type": "code",
   "execution_count": 37,
   "metadata": {},
   "outputs": [
    {
     "name": "stdout",
     "output_type": "stream",
     "text": [
      "There are 33599 fatal death shot each year\n"
     ]
    }
   ],
   "source": [
    "print(\"There are {} fatal death shot each year\".format(all_deaths))"
   ]
  },
  {
   "cell_type": "markdown",
   "metadata": {},
   "source": [
    "## Suicide\n"
   ]
  },
  {
   "cell_type": "code",
   "execution_count": 29,
   "metadata": {},
   "outputs": [
    {
     "name": "stdout",
     "output_type": "stream",
     "text": [
      "62.67448435965356 % of guns deaths are suicides\n"
     ]
    }
   ],
   "source": [
    "suice_percentage = suicide/all_deaths * 100\n",
    "print(\"{} % of guns deaths are suicides\".format(suice_percentage))"
   ]
  },
  {
   "cell_type": "code",
   "execution_count": 34,
   "metadata": {},
   "outputs": [
    {
     "name": "stdout",
     "output_type": "stream",
     "text": [
      "86.24750688574414 % of suicides vitims are male\n"
     ]
    }
   ],
   "source": [
    "male_suicide_percentage = male_suicide / suicide * 100\n",
    "print(\"{} % of suicides vitims are male\".format(male_suicide_percentage))"
   ]
  },
  {
   "cell_type": "code",
   "execution_count": 36,
   "metadata": {},
   "outputs": [
    {
     "name": "stdout",
     "output_type": "stream",
     "text": [
      "64.80672428530725 % of all suicides are men aged of 35 or older\n"
     ]
    }
   ],
   "source": [
    "old_male_suicide_percentage = (male_suicide_3564 + male_suicide_65) / suicide * 100\n",
    "print(\"{} % of all suicides are men aged of 35 or older\".format(old_male_suicide_percentage))"
   ]
  },
  {
   "cell_type": "markdown",
   "metadata": {},
   "source": [
    "## Homicide"
   ]
  },
  {
   "cell_type": "code",
   "execution_count": 38,
   "metadata": {},
   "outputs": [
    {
     "name": "stdout",
     "output_type": "stream",
     "text": [
      "34.899848209768145 % of all gun deaths are homicide (11726)\n"
     ]
    }
   ],
   "source": [
    "homicide_percentage = homicide / all_deaths * 100\n",
    "print(\"{} % of all gun deaths are homicide ({})\".format(homicide_percentage, homicide))"
   ]
  },
  {
   "cell_type": "code",
   "execution_count": 41,
   "metadata": {},
   "outputs": [
    {
     "name": "stdout",
     "output_type": "stream",
     "text": [
      "56.76274944567628 % of homicide victims are young men (under 35)\n"
     ]
    }
   ],
   "source": [
    "young_men_homicide = homicide_men_15 + homicide_men_1534\n",
    "young_men_homicide_percentage = young_men_homicide/homicide * 100\n",
    "print(\"{} % of homicide victims are young men (under 35)\".format(young_men_homicide_percentage))"
   ]
  },
  {
   "cell_type": "code",
   "execution_count": 42,
   "metadata": {},
   "outputs": [
    {
     "name": "stdout",
     "output_type": "stream",
     "text": [
      "65.60997596153845 % of young men victims re black\n"
     ]
    }
   ],
   "source": [
    "young_men_black_homicide = homicide_men_15_black + homicide_men_1534_black\n",
    "young_men_black_homicide_percentage = young_men_black_homicide/young_men_homicide * 100\n",
    "print(\"{} % of young men victims re black\".format(young_men_black_homicide_percentage))"
   ]
  },
  {
   "cell_type": "code",
   "execution_count": 44,
   "metadata": {},
   "outputs": [
    {
     "name": "stdout",
     "output_type": "stream",
     "text": [
      "Women are less prone to homicide, they represent only 15.273750639604296 % of all homicide (1791)\n"
     ]
    }
   ],
   "source": [
    "female_homicide_percentage = homicide_female / homicide * 100\n",
    "print(\"Women are less prone to homicide, they represent only {} % of all homicide ({})\".format(female_homicide_percentage, homicide_female))"
   ]
  }
 ],
 "metadata": {
  "kernelspec": {
   "display_name": "Python [conda env:ada] *",
   "language": "python",
   "name": "conda-env-ada-py"
  },
  "language_info": {
   "codemirror_mode": {
    "name": "ipython",
    "version": 3
   },
   "file_extension": ".py",
   "mimetype": "text/x-python",
   "name": "python",
   "nbconvert_exporter": "python",
   "pygments_lexer": "ipython3",
   "version": "3.7.4"
  }
 },
 "nbformat": 4,
 "nbformat_minor": 4
}
