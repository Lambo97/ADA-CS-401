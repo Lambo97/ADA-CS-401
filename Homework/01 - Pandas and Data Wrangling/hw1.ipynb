{
 "cells": [
  {
   "cell_type": "markdown",
   "metadata": {
    "Collapsed": "false",
    "colab_type": "text",
    "id": "l3ZEgl7t28Ee"
   },
   "source": [
    "# Homework 1\n",
    "## Introduction\n",
    "### Important dates\n",
    "* Homework release: Thursday, 3rd October 2019\n",
    "* **Homework due**: Wednesday, 16th October 2019 (23:59 hours, 11:59 PM)\n",
    "* Peer review due: Wednesday, 23rd October 2019 (23:59 hours, 11:59 PM)\n",
    "* Grading release: Wednesday, 30th October 2019\n",
    "\n",
    "### Description\n",
    "\n",
    "The data you'll be working with comes from multiple sources. The main data source will be [DBLP](https://dblp.uni-trier.de/), a database of publications from major computer science journals and conferences. A subset of DBLP, which you will use in this assignment, is provided to you via a [google drive folder](https://drive.google.com/file/d/1Kci8joML74tCSzuBbhxtd1ylR4f0dlm6/view). Later on, you will enrich the DBLP data with a dataset on conference rankings and with the proceedings of the [NIPS conference](https://nips.cc/) [1] ('proceedings' is another word for the set of papers published at an academic conference). After loading and cleaning the data, you will answer various questions about its contents.\n",
    "\n",
    "**Some rules:**\n",
    "- You are allowed to use any built-in Python library that comes with Anaconda. If you want to use an external library, you have to justify your choice.\n",
    "- Make sure you use the data folder provided in the repository in *read-only* mode.\n",
    "- Be sure to provide explanations for your answers. A notebook that only has code cells will not suffice.\n",
    "- Also, be sure to *hand in a fully-run and evaluated notebook*. We will not run your notebook for you, we will grade it as is, which means that only the results contained in your evaluated code cells will be considered, and we will not see the results in unevaluated code cells. In order to check whether everything looks as intended, you can check the rendered notebook on the GitHub website once you have pushed your solution there.\n",
    "\n",
    "[1] Note that NIPS was renamed to NeurIPS in 2018, but for simplicity, whenever we say 'NIPS', we really mean 'NIPS and NeurIPS'."
   ]
  },
  {
   "cell_type": "markdown",
   "metadata": {
    "Collapsed": "false",
    "colab_type": "text",
    "id": "A0IIdWOs48BB"
   },
   "source": [
    "## Task A. Getting a sense of the dataset\n",
    "\n",
    "### A1. Loading the data\n",
    "Download the DBLP dataset (available on [google drive](https://drive.google.com/file/d/1Kci8joML74tCSzuBbhxtd1ylR4f0dlm6/view)) and load it into a Pandas dataframe. A row of your dataframe should look as follows:\n",
    "\n",
    "| paper id | author names | publication year | paper title | \n",
    "| :----:|:-------------:| :-----:|:-----:|\n",
    "| conf/nips/doe1036 | [John Doe, Jane Doe] | 2003 | Some Catchy Title: An Expanded and Boring Title | \n",
    "\n",
    "\n",
    "1. Filter the papers: keep only conference papers. For each of the remaining ones, find the acronym of the conference where it was published. Retain only those papers that have been published in the conferences listed in `data/list_of_ai_conferences.txt`. Additionally, add a column named 'conference' to your dataframe.   \n",
    "_Hint: The `paper id` tells you whether a paper was published at a conference, and if so, at which one._\n",
    "\n",
    "2. Report the overall number of papers in the filtered dataset, as well as the number of papers per conference."
   ]
  },
  {
   "cell_type": "code",
   "execution_count": 1,
   "metadata": {
    "Collapsed": "false",
    "colab": {},
    "colab_type": "code",
    "id": "ara6mLe1l_CQ"
   },
   "outputs": [],
   "source": [
    "%matplotlib inline\n",
    "import pandas as pd\n",
    "import numpy as np\n",
    "import re\n",
    "from matplotlib.ticker import MaxNLocator\n",
    "import matplotlib.pyplot as plt\n",
    "from requests import get\n",
    "from bs4 import BeautifulSoup\n",
    "\n",
    "import pickle\n",
    "\n",
    "import seaborn as sb\n",
    "sb.set_context(\"notebook\")\n",
    "sb.set() # pretty plots"
   ]
  },
  {
   "cell_type": "markdown",
   "metadata": {
    "Collapsed": "false"
   },
   "source": [
    "Here we read the `tsv` file keep only the paper which have an id which begin with 'conf' (means that the paper is published in a conference and the we create the conference column by splitting the id arround '/'"
   ]
  },
  {
   "cell_type": "code",
   "execution_count": 2,
   "metadata": {
    "Collapsed": "false"
   },
   "outputs": [
    {
     "data": {
      "text/html": [
       "<div>\n",
       "<style scoped>\n",
       "    .dataframe tbody tr th:only-of-type {\n",
       "        vertical-align: middle;\n",
       "    }\n",
       "\n",
       "    .dataframe tbody tr th {\n",
       "        vertical-align: top;\n",
       "    }\n",
       "\n",
       "    .dataframe thead th {\n",
       "        text-align: right;\n",
       "    }\n",
       "</style>\n",
       "<table border=\"1\" class=\"dataframe\">\n",
       "  <thead>\n",
       "    <tr style=\"text-align: right;\">\n",
       "      <th></th>\n",
       "      <th>id</th>\n",
       "      <th>authors</th>\n",
       "      <th>year</th>\n",
       "      <th>title</th>\n",
       "      <th>conference</th>\n",
       "    </tr>\n",
       "  </thead>\n",
       "  <tbody>\n",
       "    <tr>\n",
       "      <td>2049192</td>\n",
       "      <td>conf/pfe/KnauberT01</td>\n",
       "      <td>['Peter Knauber', 'Steffen Thiel']</td>\n",
       "      <td>2001.0</td>\n",
       "      <td>Session Report on Product Issues in Product Fa...</td>\n",
       "      <td>pfe</td>\n",
       "    </tr>\n",
       "    <tr>\n",
       "      <td>2049193</td>\n",
       "      <td>conf/pfe/BachmannGLNPRV03</td>\n",
       "      <td>['Felix Bachmann', 'Michael Goedicke', 'Julio ...</td>\n",
       "      <td>2003.0</td>\n",
       "      <td>A Meta-model for Representing Variability in P...</td>\n",
       "      <td>pfe</td>\n",
       "    </tr>\n",
       "    <tr>\n",
       "      <td>2049194</td>\n",
       "      <td>conf/pfe/GomaaH03</td>\n",
       "      <td>['Hassan Gomaa', 'Mohamed Hussein 0002']</td>\n",
       "      <td>2003.0</td>\n",
       "      <td>Dynamic Software Reconfiguration in Software P...</td>\n",
       "      <td>pfe</td>\n",
       "    </tr>\n",
       "    <tr>\n",
       "      <td>2049195</td>\n",
       "      <td>conf/pfe/KnauberBBLLNSW01</td>\n",
       "      <td>['Peter Knauber', 'Jesús Bermejo Muñoz', 'Günt...</td>\n",
       "      <td>2001.0</td>\n",
       "      <td>Quantifying Product Line Benefits.</td>\n",
       "      <td>pfe</td>\n",
       "    </tr>\n",
       "    <tr>\n",
       "      <td>2049196</td>\n",
       "      <td>conf/pfe/HallsteinsenFS03</td>\n",
       "      <td>['Svein O. Hallsteinsen', 'Tor Erlend Fægri', ...</td>\n",
       "      <td>&lt;em&gt;2003.0&lt;/em&gt;</td>\n",
       "      <td>Patterns in Product Family Architecture Design.</td>\n",
       "      <td>pfe</td>\n",
       "    </tr>\n",
       "  </tbody>\n",
       "</table>\n",
       "</div>"
      ],
      "text/plain": [
       "                                id  \\\n",
       "2049192        conf/pfe/KnauberT01   \n",
       "2049193  conf/pfe/BachmannGLNPRV03   \n",
       "2049194          conf/pfe/GomaaH03   \n",
       "2049195  conf/pfe/KnauberBBLLNSW01   \n",
       "2049196  conf/pfe/HallsteinsenFS03   \n",
       "\n",
       "                                                   authors             year  \\\n",
       "2049192                 ['Peter Knauber', 'Steffen Thiel']           2001.0   \n",
       "2049193  ['Felix Bachmann', 'Michael Goedicke', 'Julio ...           2003.0   \n",
       "2049194           ['Hassan Gomaa', 'Mohamed Hussein 0002']           2003.0   \n",
       "2049195  ['Peter Knauber', 'Jesús Bermejo Muñoz', 'Günt...           2001.0   \n",
       "2049196  ['Svein O. Hallsteinsen', 'Tor Erlend Fægri', ...  <em>2003.0</em>   \n",
       "\n",
       "                                                     title conference  \n",
       "2049192  Session Report on Product Issues in Product Fa...        pfe  \n",
       "2049193  A Meta-model for Representing Variability in P...        pfe  \n",
       "2049194  Dynamic Software Reconfiguration in Software P...        pfe  \n",
       "2049195                 Quantifying Product Line Benefits.        pfe  \n",
       "2049196    Patterns in Product Family Architecture Design.        pfe  "
      ]
     },
     "execution_count": 2,
     "metadata": {},
     "output_type": "execute_result"
    }
   ],
   "source": [
    "dblp = pd.read_csv('data/dblp.tsv', sep='\\t')\n",
    "dblp = dblp[dblp[\"id\"].str.startswith('conf')]\n",
    "dblp['conference'] = dblp.id.str.split('/', expand=True)[1]\n",
    "dblp.head()"
   ]
  },
  {
   "cell_type": "code",
   "execution_count": 3,
   "metadata": {
    "Collapsed": "false"
   },
   "outputs": [],
   "source": [
    "ai_conferences = pd.read_csv('data/list_of_ai_conferences.txt', names=['name'])\n",
    "dblp = dblp[dblp['conference'].isin(ai_conferences['name'])]"
   ]
  },
  {
   "cell_type": "markdown",
   "metadata": {
    "Collapsed": "false"
   },
   "source": [
    "Here are the total number of papers and the number of paper published in each conference"
   ]
  },
  {
   "cell_type": "code",
   "execution_count": 4,
   "metadata": {
    "Collapsed": "false"
   },
   "outputs": [
    {
     "name": "stdout",
     "output_type": "stream",
     "text": [
      "There are 102003 papers in the dataset\n"
     ]
    },
    {
     "data": {
      "text/plain": [
       "icra      21585\n",
       "cvpr      12853\n",
       "aaai      10796\n",
       "ijcai      9669\n",
       "nips       8445\n",
       "acl        6330\n",
       "icml       5017\n",
       "iconip     4985\n",
       "iccv       4179\n",
       "naacl      3310\n",
       "emnlp      3299\n",
       "icann      3134\n",
       "accv       2390\n",
       "fgr        1383\n",
       "pricai     1372\n",
       "iccbr       863\n",
       "ida         712\n",
       "ilp         679\n",
       "ksem        635\n",
       "aamas       367\n",
       "Name: conference, dtype: int64"
      ]
     },
     "execution_count": 4,
     "metadata": {},
     "output_type": "execute_result"
    }
   ],
   "source": [
    "print(\"There are {} papers in the dataset\".format(dblp.shape[0]))\n",
    "dblp.conference.value_counts()"
   ]
  },
  {
   "cell_type": "markdown",
   "metadata": {
    "Collapsed": "false",
    "colab_type": "text",
    "id": "mnE6N9zXl-yz"
   },
   "source": [
    "### A2. An author-centric look\n",
    "The dataframe you created above was a paper-centric one. Now, we want you to create a new dataframe centered around authors. Do this by expanding the author names in the lists in the 2nd column into separate rows. That is, if a paper has 3 authors, turn that row into 3 rows, each of which only contains one of the author names (along with the rest of the paper information, i.e., title, conference and year). Keep both dataframes, we are going to need both of them.    \n",
    "**Report the number of unique authors.**"
   ]
  },
  {
   "cell_type": "markdown",
   "metadata": {
    "Collapsed": "false"
   },
   "source": [
    "Because the list is seen as a single string we must remove the brackets and '"
   ]
  },
  {
   "cell_type": "code",
   "execution_count": 5,
   "metadata": {
    "Collapsed": "false"
   },
   "outputs": [],
   "source": [
    "dblp.authors = dblp.authors.str.strip('[]')"
   ]
  },
  {
   "cell_type": "markdown",
   "metadata": {
    "Collapsed": "false"
   },
   "source": [
    "We create a new dataframe which contains the of the paper and the name of the author"
   ]
  },
  {
   "cell_type": "code",
   "execution_count": 6,
   "metadata": {
    "Collapsed": "false"
   },
   "outputs": [
    {
     "data": {
      "text/html": [
       "<div>\n",
       "<style scoped>\n",
       "    .dataframe tbody tr th:only-of-type {\n",
       "        vertical-align: middle;\n",
       "    }\n",
       "\n",
       "    .dataframe tbody tr th {\n",
       "        vertical-align: top;\n",
       "    }\n",
       "\n",
       "    .dataframe thead th {\n",
       "        text-align: right;\n",
       "    }\n",
       "</style>\n",
       "<table border=\"1\" class=\"dataframe\">\n",
       "  <thead>\n",
       "    <tr style=\"text-align: right;\">\n",
       "      <th></th>\n",
       "      <th>id</th>\n",
       "      <th>author</th>\n",
       "    </tr>\n",
       "  </thead>\n",
       "  <tbody>\n",
       "    <tr>\n",
       "      <td>0</td>\n",
       "      <td>2049312</td>\n",
       "      <td>Yoshinori Kuno</td>\n",
       "    </tr>\n",
       "    <tr>\n",
       "      <td>1</td>\n",
       "      <td>2049312</td>\n",
       "      <td>Yasukazu Okamoto</td>\n",
       "    </tr>\n",
       "    <tr>\n",
       "      <td>2</td>\n",
       "      <td>2049312</td>\n",
       "      <td>Satoshi Okada</td>\n",
       "    </tr>\n",
       "    <tr>\n",
       "      <td>3</td>\n",
       "      <td>2049313</td>\n",
       "      <td>Sundar Vedula</td>\n",
       "    </tr>\n",
       "    <tr>\n",
       "      <td>4</td>\n",
       "      <td>2049313</td>\n",
       "      <td>Simon Baker</td>\n",
       "    </tr>\n",
       "  </tbody>\n",
       "</table>\n",
       "</div>"
      ],
      "text/plain": [
       "        id             author\n",
       "0  2049312     Yoshinori Kuno\n",
       "1  2049312   Yasukazu Okamoto\n",
       "2  2049312      Satoshi Okada\n",
       "3  2049313      Sundar Vedula\n",
       "4  2049313        Simon Baker"
      ]
     },
     "execution_count": 6,
     "metadata": {},
     "output_type": "execute_result"
    }
   ],
   "source": [
    "authors = pd.DataFrame(dblp.authors.str.split(',', expand=True), index=dblp.index).stack()\n",
    "authors = authors.reset_index()\n",
    "authors = authors.drop(columns=['level_1'])\n",
    "authors.columns = ['id', 'author']\n",
    "authors.author = authors.author.str.replace(\"'\", \"\")\n",
    "authors = authors.drop(authors[authors.author == ''].index, axis=0)\n",
    "authors.head()"
   ]
  },
  {
   "cell_type": "markdown",
   "metadata": {
    "Collapsed": "false"
   },
   "source": [
    "We marge the new created dataset and the dblp dataset to create the desired table"
   ]
  },
  {
   "cell_type": "code",
   "execution_count": 7,
   "metadata": {
    "Collapsed": "false"
   },
   "outputs": [
    {
     "data": {
      "text/html": [
       "<div>\n",
       "<style scoped>\n",
       "    .dataframe tbody tr th:only-of-type {\n",
       "        vertical-align: middle;\n",
       "    }\n",
       "\n",
       "    .dataframe tbody tr th {\n",
       "        vertical-align: top;\n",
       "    }\n",
       "\n",
       "    .dataframe thead th {\n",
       "        text-align: right;\n",
       "    }\n",
       "</style>\n",
       "<table border=\"1\" class=\"dataframe\">\n",
       "  <thead>\n",
       "    <tr style=\"text-align: right;\">\n",
       "      <th></th>\n",
       "      <th>author</th>\n",
       "      <th>id</th>\n",
       "      <th>year</th>\n",
       "      <th>title</th>\n",
       "      <th>conference</th>\n",
       "    </tr>\n",
       "  </thead>\n",
       "  <tbody>\n",
       "    <tr>\n",
       "      <td>0</td>\n",
       "      <td>Yoshinori Kuno</td>\n",
       "      <td>conf/iccv/KunoOO90</td>\n",
       "      <td>1990.0</td>\n",
       "      <td>Object recognition using a feature search stra...</td>\n",
       "      <td>iccv</td>\n",
       "    </tr>\n",
       "    <tr>\n",
       "      <td>1</td>\n",
       "      <td>Yasukazu Okamoto</td>\n",
       "      <td>conf/iccv/KunoOO90</td>\n",
       "      <td>1990.0</td>\n",
       "      <td>Object recognition using a feature search stra...</td>\n",
       "      <td>iccv</td>\n",
       "    </tr>\n",
       "    <tr>\n",
       "      <td>2</td>\n",
       "      <td>Satoshi Okada</td>\n",
       "      <td>conf/iccv/KunoOO90</td>\n",
       "      <td>1990.0</td>\n",
       "      <td>Object recognition using a feature search stra...</td>\n",
       "      <td>iccv</td>\n",
       "    </tr>\n",
       "    <tr>\n",
       "      <td>3</td>\n",
       "      <td>Sundar Vedula</td>\n",
       "      <td>conf/iccv/VedulaBRCK99</td>\n",
       "      <td>1999.0</td>\n",
       "      <td>Three-Dimensional Scene Flow.</td>\n",
       "      <td>iccv</td>\n",
       "    </tr>\n",
       "    <tr>\n",
       "      <td>4</td>\n",
       "      <td>Simon Baker</td>\n",
       "      <td>conf/iccv/VedulaBRCK99</td>\n",
       "      <td>1999.0</td>\n",
       "      <td>Three-Dimensional Scene Flow.</td>\n",
       "      <td>iccv</td>\n",
       "    </tr>\n",
       "  </tbody>\n",
       "</table>\n",
       "</div>"
      ],
      "text/plain": [
       "             author                      id    year  \\\n",
       "0    Yoshinori Kuno      conf/iccv/KunoOO90  1990.0   \n",
       "1  Yasukazu Okamoto      conf/iccv/KunoOO90  1990.0   \n",
       "2     Satoshi Okada      conf/iccv/KunoOO90  1990.0   \n",
       "3     Sundar Vedula  conf/iccv/VedulaBRCK99  1999.0   \n",
       "4       Simon Baker  conf/iccv/VedulaBRCK99  1999.0   \n",
       "\n",
       "                                               title conference  \n",
       "0  Object recognition using a feature search stra...       iccv  \n",
       "1  Object recognition using a feature search stra...       iccv  \n",
       "2  Object recognition using a feature search stra...       iccv  \n",
       "3                      Three-Dimensional Scene Flow.       iccv  \n",
       "4                      Three-Dimensional Scene Flow.       iccv  "
      ]
     },
     "execution_count": 7,
     "metadata": {},
     "output_type": "execute_result"
    }
   ],
   "source": [
    "authors = pd.merge(authors, dblp.drop(columns=['authors']), left_on=\"id\", right_index=True)\n",
    "authors = authors.drop(columns=['id', 'id_x'])\n",
    "authors = authors.rename(columns={'id_y':'id'})\n",
    "authors.author = authors.author.str.strip()\n",
    "authors.head()"
   ]
  },
  {
   "cell_type": "code",
   "execution_count": 8,
   "metadata": {
    "Collapsed": "false"
   },
   "outputs": [
    {
     "name": "stdout",
     "output_type": "stream",
     "text": [
      "There is 105817 unique authors\n"
     ]
    }
   ],
   "source": [
    "print(\"There is {} unique authors\".format(len(authors.author.unique())))"
   ]
  },
  {
   "cell_type": "markdown",
   "metadata": {
    "Collapsed": "false",
    "colab_type": "text",
    "id": "8ZiuGiDsl60f"
   },
   "source": [
    "### A3. Is your data analysis-friendly?\n",
    "\n",
    "Using an appropriate view of your data (paper-centric or author-centric), solve the following tasks:\n",
    "\n",
    "1. Plot the number of papers per author and analyze it. Do you observe any outliers? Can you identify the source of the problem? Please elaborate!   \n",
    "_Hint: To find out where the problem comes from, try performing an analysis at the conference or year level._   \n",
    "Make sure you remove this inconsistency from your dataframe before moving to the next step, and also create a new plot of the number of papers per author after fixing the problem.   \n",
    "\n",
    "2. Plot the number of papers per year. Do you observe any inconsistency in the output? Real-world data is usually messy, with typos, erroneous entries, and sometimes issues that make even loading the data problematic. Fix any errors that you encounter along the way, find ways to clean the attribute `year`, and redo the plot of the number of papers per year.   \n",
    "\n",
    "3. Machine learning (ML) has been one of the hottest topics within the broader area of AI recently, so let’s see if this is reflected in the number of ML publications. In particular, let’s focus on the two major ML conferences, NIPS and ICML: make a new dataframe with only NIPS and ICML papers (let’s call these the “ML papers”), plot the number of ML papers over time, and analyze and discuss the plot. Do you observe anything odd in this plot? What causes these problems?   \n",
    "_Hint: Try to perform an analysis at the conference or year level._   \n",
    "\n",
    "4. By now, you may have noticed that some conferences are not fully represented in the DBLP dataset. Complete the paper-centric dataframe by scraping the full NIPS data from the online proceedings at https://papers.nips.cc/ (maintain the same schema used in your previous dataframes, but fill in missing values). After this step, remove any remaining papers that have missing values. Redo the plots of steps A3.2 and A3.3 after fixing the issue.   \n",
    "\n",
    "_Note: In order to avoid re-running the cleaning part of the notebook every time, you could save the results at this point as a pickle file! Also, propagating your cleaning to both dataframes might prove useful later on._"
   ]
  },
  {
   "cell_type": "markdown",
   "metadata": {
    "Collapsed": "false"
   },
   "source": [
    "***A3.1***"
   ]
  },
  {
   "cell_type": "code",
   "execution_count": 9,
   "metadata": {
    "Collapsed": "false"
   },
   "outputs": [
    {
     "data": {
      "image/png": "[encoded data removed]",
      "text/plain": [
       "<Figure size 432x288 with 1 Axes>"
      ]
     },
     "metadata": {
      "needs_background": "light"
     },
     "output_type": "display_data"
    }
   ],
   "source": [
    "fig, ax = plt.subplots()\n",
    "authors.author.value_counts().hist(ax = ax, bins=50)\n",
    "ax.set_title(\"Number of papers per author\")\n",
    "ax.set_xlabel(\"Papers\")\n",
    "ax.set_ylabel(\"Authors\")\n",
    "ax.set_yscale('log')"
   ]
  },
  {
   "cell_type": "code",
   "execution_count": 10,
   "metadata": {
    "Collapsed": "false",
    "colab": {},
    "colab_type": "code",
    "id": "co_yXyk2TzHo",
    "scrolled": true
   },
   "outputs": [
    {
     "data": {
      "text/plain": [
       "Sheila A. McIlraith        918\n",
       "Satinder P. Singh (ed.)    663\n",
       "Luc Van Gool               220\n",
       "Toshio Fukuda              196\n",
       "Thomas S. Huang            186\n",
       "Name: author, dtype: int64"
      ]
     },
     "execution_count": 10,
     "metadata": {},
     "output_type": "execute_result"
    }
   ],
   "source": [
    "authors['author'].value_counts().head()"
   ]
  },
  {
   "cell_type": "markdown",
   "metadata": {
    "Collapsed": "false"
   },
   "source": [
    "We can see that there is 2 main outliers : Sheila A. McIlraith which has 918 papers and Satinder P. Singh (ed.) which has 663 papers. \n",
    "Let analyse these two authors."
   ]
  },
  {
   "cell_type": "markdown",
   "metadata": {
    "Collapsed": "false"
   },
   "source": [
    "### Sheila A. McIlraith\n",
    "We will first try to figure out when she published the most of its paper"
   ]
  },
  {
   "cell_type": "code",
   "execution_count": 11,
   "metadata": {
    "Collapsed": "false"
   },
   "outputs": [
    {
     "data": {
      "text/plain": [
       "2018.0    893\n",
       "2016.0      3\n",
       "2013.0      2\n",
       "2007.0      2\n",
       "'17         2\n",
       "Name: year, dtype: int64"
      ]
     },
     "execution_count": 11,
     "metadata": {},
     "output_type": "execute_result"
    }
   ],
   "source": [
    "sheila = authors[authors.author == 'Sheila A. McIlraith']\n",
    "sheila.year.value_counts().head()"
   ]
  },
  {
   "cell_type": "code",
   "execution_count": 12,
   "metadata": {
    "Collapsed": "false"
   },
   "outputs": [
    {
     "data": {
      "text/plain": [
       "aaai     890\n",
       "ijcai      2\n",
       "icml       1\n",
       "Name: conference, dtype: int64"
      ]
     },
     "execution_count": 12,
     "metadata": {},
     "output_type": "execute_result"
    }
   ],
   "source": [
    "sheila.conference[sheila.year == '2018.0'].value_counts()"
   ]
  },
  {
   "cell_type": "markdown",
   "metadata": {
    "Collapsed": "false"
   },
   "source": [
    "we can see that 890 papers out of 918 published by Sheila A. McIlraith are published in the 2018 aaai conference which is impossible. Indeed after some research on the web it appears that she was the progam chairs of the conference and that's why she was cited as co-author in most of article of this conference."
   ]
  },
  {
   "cell_type": "markdown",
   "metadata": {
    "Collapsed": "false"
   },
   "source": [
    "### Satinder P. Singh\n",
    "We will do the same for Satinder P. Singh"
   ]
  },
  {
   "cell_type": "code",
   "execution_count": 13,
   "metadata": {
    "Collapsed": "false"
   },
   "outputs": [
    {
     "data": {
      "text/html": [
       "<div>\n",
       "<style scoped>\n",
       "    .dataframe tbody tr th:only-of-type {\n",
       "        vertical-align: middle;\n",
       "    }\n",
       "\n",
       "    .dataframe tbody tr th {\n",
       "        vertical-align: top;\n",
       "    }\n",
       "\n",
       "    .dataframe thead th {\n",
       "        text-align: right;\n",
       "    }\n",
       "</style>\n",
       "<table border=\"1\" class=\"dataframe\">\n",
       "  <thead>\n",
       "    <tr style=\"text-align: right;\">\n",
       "      <th></th>\n",
       "      <th>author</th>\n",
       "      <th>id</th>\n",
       "      <th>year</th>\n",
       "      <th>title</th>\n",
       "      <th>conference</th>\n",
       "    </tr>\n",
       "  </thead>\n",
       "  <tbody>\n",
       "    <tr>\n",
       "      <td>101431</td>\n",
       "      <td>Satinder P. Singh (ed.)</td>\n",
       "      <td>conf/aaai/Harrison-Trainor17</td>\n",
       "      <td>2017.0</td>\n",
       "      <td>Preferential Structures for Comparative Probab...</td>\n",
       "      <td>aaai</td>\n",
       "    </tr>\n",
       "    <tr>\n",
       "      <td>101584</td>\n",
       "      <td>Satinder P. Singh (ed.)</td>\n",
       "      <td>conf/aaai/LecatLL17</td>\n",
       "      <td>2017.0</td>\n",
       "      <td>New Lower Bound for the Minimum Sum Coloring P...</td>\n",
       "      <td>aaai</td>\n",
       "    </tr>\n",
       "    <tr>\n",
       "      <td>101594</td>\n",
       "      <td>Satinder P. Singh (ed.)</td>\n",
       "      <td>conf/aaai/ChakrabortiTFCK17</td>\n",
       "      <td>2017.0</td>\n",
       "      <td>UbuntuWorld 1.0 LTS - A Platform for Automated...</td>\n",
       "      <td>aaai</td>\n",
       "    </tr>\n",
       "    <tr>\n",
       "      <td>101599</td>\n",
       "      <td>Satinder P. Singh (ed.)</td>\n",
       "      <td>conf/aaai/HeP17</td>\n",
       "      <td>2017.0</td>\n",
       "      <td>Weakly Supervised Learning of Part Selection M...</td>\n",
       "      <td>aaai</td>\n",
       "    </tr>\n",
       "    <tr>\n",
       "      <td>101650</td>\n",
       "      <td>Satinder P. Singh (ed.)</td>\n",
       "      <td>conf/aaai/Luger17</td>\n",
       "      <td>2017.0</td>\n",
       "      <td>Beyond Mechanical Turk: Using Techniques from ...</td>\n",
       "      <td>aaai</td>\n",
       "    </tr>\n",
       "  </tbody>\n",
       "</table>\n",
       "</div>"
      ],
      "text/plain": [
       "                         author                            id    year  \\\n",
       "101431  Satinder P. Singh (ed.)  conf/aaai/Harrison-Trainor17  2017.0   \n",
       "101584  Satinder P. Singh (ed.)           conf/aaai/LecatLL17  2017.0   \n",
       "101594  Satinder P. Singh (ed.)   conf/aaai/ChakrabortiTFCK17  2017.0   \n",
       "101599  Satinder P. Singh (ed.)               conf/aaai/HeP17  2017.0   \n",
       "101650  Satinder P. Singh (ed.)             conf/aaai/Luger17  2017.0   \n",
       "\n",
       "                                                    title conference  \n",
       "101431  Preferential Structures for Comparative Probab...       aaai  \n",
       "101584  New Lower Bound for the Minimum Sum Coloring P...       aaai  \n",
       "101594  UbuntuWorld 1.0 LTS - A Platform for Automated...       aaai  \n",
       "101599  Weakly Supervised Learning of Part Selection M...       aaai  \n",
       "101650  Beyond Mechanical Turk: Using Techniques from ...       aaai  "
      ]
     },
     "execution_count": 13,
     "metadata": {},
     "output_type": "execute_result"
    }
   ],
   "source": [
    "satinder = authors[authors.author == 'Satinder P. Singh (ed.)']\n",
    "satinder.head()"
   ]
  },
  {
   "cell_type": "code",
   "execution_count": 14,
   "metadata": {
    "Collapsed": "false"
   },
   "outputs": [
    {
     "data": {
      "text/plain": [
       "aaai    663\n",
       "Name: conference, dtype: int64"
      ]
     },
     "execution_count": 14,
     "metadata": {},
     "output_type": "execute_result"
    }
   ],
   "source": [
    "satinder.conference[satinder.year == '2017.0'].value_counts()"
   ]
  },
  {
   "cell_type": "markdown",
   "metadata": {
    "Collapsed": "false"
   },
   "source": [
    "Satinder P. Singh occupied the program chair of the 2017 edition of the aaai conference. It explains the huge number of paper.\n",
    "\n",
    "We then delete all the papers of the author centric dataframe where the author is Satinder P. Singh or Sheila A. McIlraith and which were published in aaai 2017 or 2018."
   ]
  },
  {
   "cell_type": "code",
   "execution_count": 15,
   "metadata": {
    "Collapsed": "false"
   },
   "outputs": [],
   "source": [
    "authors = authors.drop(authors.query(\"author == 'Sheila A. McIlraith' and year=='2018.0' and conference=='aaai'\").index, axis=0)\n",
    "authors = authors.drop(authors.query(\"author == 'Satinder P. Singh (ed.)' and year=='2017.0' and conference=='aaai'\").index, axis=0)"
   ]
  },
  {
   "cell_type": "markdown",
   "metadata": {
    "Collapsed": "false"
   },
   "source": [
    "Here we plot the histogram of the number of papers. We scale the y axis by taking the logarithm because there are many authors who only published 1 papers"
   ]
  },
  {
   "cell_type": "code",
   "execution_count": 16,
   "metadata": {
    "Collapsed": "false"
   },
   "outputs": [
    {
     "data": {
      "image/png": "[encoded data removed]",
      "text/plain": [
       "<Figure size 432x288 with 1 Axes>"
      ]
     },
     "metadata": {
      "needs_background": "light"
     },
     "output_type": "display_data"
    }
   ],
   "source": [
    "fig, ax = plt.subplots()\n",
    "authors.author.value_counts().hist(ax = ax, bins=50)\n",
    "ax.set_title(\"Number of papers per author (without outliers)\")\n",
    "ax.set_xlabel(\"Papers\")\n",
    "ax.set_ylabel(\"Authors\")\n",
    "ax.set_yscale('log')"
   ]
  },
  {
   "cell_type": "markdown",
   "metadata": {
    "Collapsed": "false"
   },
   "source": [
    "***A3.2***"
   ]
  },
  {
   "cell_type": "code",
   "execution_count": 17,
   "metadata": {
    "Collapsed": "false"
   },
   "outputs": [
    {
     "data": {
      "image/png": "[encoded data removed]",
      "text/plain": [
       "<Figure size 432x288 with 1 Axes>"
      ]
     },
     "metadata": {
      "needs_background": "light"
     },
     "output_type": "display_data"
    }
   ],
   "source": [
    "dblp.year.value_counts().plot()\n",
    "plt.title(\"Papers published per year\")\n",
    "plt.xlabel(\"Year\")\n",
    "plt.ylabel(\"Papers\")\n",
    "plt.show()"
   ]
  },
  {
   "cell_type": "code",
   "execution_count": 18,
   "metadata": {
    "Collapsed": "false",
    "scrolled": true
   },
   "outputs": [
    {
     "data": {
      "text/plain": [
       "array(['1990.0', '1999.0', '2017.0', '2013.0', '2007.0', '1993.0',\n",
       "       '1998.0', '2011.0', '2001.0', '2005.0', '2015.0', '2007', '2013',\n",
       "       '2009.0', '2011', '1995.0', '2001', '1998', '<i>2015.0</i>',\n",
       "       '<i>2001.0</i>', '<i>2009.0</i>', '<em>2007.0</em>',\n",
       "       '<i>1999.0</i>', '1990', '2017', '2009', '<i>2007.0</i>', \"'11\",\n",
       "       '<i>2011.0</i>', '<i>1988.0</i>', \"'09\", '<em>2001.0</em>', \"'05\",\n",
       "       '<em>1995.0</em>', '<em>2017.0</em>', '<em>2009.0</em>', \"'13\",\n",
       "       '<em>2013.0</em>', '<i>1998.0</i>', '<i>2013.0</i>', '2003.0',\n",
       "       '<i>2005.0</i>', '1988.0', \"'07\", '<em>2015.0</em>', \"'17\",\n",
       "       '<i>2017.0</i>', '<em>1993.0</em>', \"'15\", \"'01\",\n",
       "       '<em>1998.0</em>', \"'95\", '<em>1990.0</em>', \"'03\", \"'88\",\n",
       "       '<em>2003.0</em>', \"'98\", '<i>1990.0</i>', '<i>1995.0</i>', \"'93\",\n",
       "       '<em>2011.0</em>', '<em>1999.0</em>', '<i>2003.0</i>', \"'99\",\n",
       "       '<em>1988.0</em>', \"'90\", '<em>2005.0</em>', '<i>1993.0</i>',\n",
       "       \"'04\", \"'08\", '2012.0', '2008.0', '<em>2008.0</em>', '1994.0',\n",
       "       '<i>2004.0</i>', '1991.0', '1997.0', '2004.0', '2000.0',\n",
       "       '<em>2004.0</em>', '2014.0', '1996.0', '2006.0', '2010.0',\n",
       "       '<i>2016.0</i>', '2018.0', '2002.0', '1992.0', '1985.0',\n",
       "       '<em>2002.0</em>', \"'10\", '<em>2012.0</em>', '2016.0',\n",
       "       '<i>1994.0</i>', '<em>1996.0</em>', '<em>1991.0</em>',\n",
       "       '<i>2000.0</i>', \"'91\", \"'16\", '<em>1989.0</em>', \"'96\",\n",
       "       '<i>1991.0</i>', '1987.0', '<i>1992.0</i>', '<em>2018.0</em>',\n",
       "       '<i>2006.0</i>', '1989.0', \"'86\", '<em>2006.0</em>', \"'94\",\n",
       "       '<em>2000.0</em>', '<em>1994.0</em>', '<em>2010.0</em>',\n",
       "       '<i>2010.0</i>', \"'12\", \"'97\", \"'85\", '<i>2018.0</i>',\n",
       "       '<i>1986.0</i>', '1986.0', \"'87\", \"'06\", '<em>1986.0</em>', \"'14\",\n",
       "       '<i>1997.0</i>', \"'00\", '<i>2002.0</i>', '<i>2008.0</i>',\n",
       "       '<i>2014.0</i>', '<i>1989.0</i>', \"'18\", \"'92\", '<i>2012.0</i>',\n",
       "       '<i>1985.0</i>', \"'89\", '<em>2016.0</em>', \"'02\",\n",
       "       '<em>2014.0</em>', '<em>1985.0</em>', '1984.0', '<em>1987.0</em>',\n",
       "       '<i>1984.0</i>', '<i>1996.0</i>', '<em>1997.0</em>',\n",
       "       '<i>1987.0</i>', '<em>1992.0</em>', \"'84\", '<em>1984.0</em>',\n",
       "       \"'82\", '1980.0', '1982.0', '<i>1982.0</i>', '<em>1983.0</em>',\n",
       "       '1983.0', \"'83\", \"'80\", '<em>1982.0</em>', '<em>1980.0</em>',\n",
       "       '<i>1980.0</i>', '<i>1983.0</i>', '?', '<i>?</i>', '<em>?</em>',\n",
       "       '1981.0', \"'69\", '1975.0', '1979.0', \"'81\", \"'79\",\n",
       "       '<em>1979.0</em>', \"'75\", '1971.0', '<i>1981.0</i>',\n",
       "       '<i>1975.0</i>', '<i>1977.0</i>', '1977.0', \"'77\", \"'73\",\n",
       "       '<em>1977.0</em>', '<em>1969.0</em>', '<em>1981.0</em>',\n",
       "       '<em>1975.0</em>', \"'71\", '<i>1979.0</i>', '1973.0', '1969.0',\n",
       "       '<i>1971.0</i>', '<em>1973.0</em>', '<em>1971.0</em>',\n",
       "       '<i>1969.0</i>', '<i>1973.0</i>', '2015', '2004', '2018', '2014',\n",
       "       '2005', '2006', '2010'], dtype=object)"
      ]
     },
     "execution_count": 18,
     "metadata": {},
     "output_type": "execute_result"
    }
   ],
   "source": [
    "dblp.year.unique()"
   ]
  },
  {
   "cell_type": "markdown",
   "metadata": {
    "Collapsed": "false"
   },
   "source": [
    "We can see that the year is formatted in a lot of different ways (4 digits, with html tags, with two digits). We will first remove the html tags"
   ]
  },
  {
   "cell_type": "markdown",
   "metadata": {
    "Collapsed": "false"
   },
   "source": [
    "To clean the year we first remove the html tag then we parse the year of format '2019' and '2019.0', all 'year' values that don't fit in this format will be set to NaN. Finally we parse the year of format \"'19\" by filtering on the NaN values."
   ]
  },
  {
   "cell_type": "code",
   "execution_count": 19,
   "metadata": {
    "Collapsed": "false"
   },
   "outputs": [
    {
     "data": {
      "text/plain": [
       "pandas.core.series.Series"
      ]
     },
     "execution_count": 19,
     "metadata": {},
     "output_type": "execute_result"
    }
   ],
   "source": [
    "type(dblp.year)"
   ]
  },
  {
   "cell_type": "code",
   "execution_count": 20,
   "metadata": {
    "Collapsed": "false"
   },
   "outputs": [],
   "source": [
    "dblp.year = dblp.year.str.replace(r'<[^<]+?>', '')\n",
    "year = pd.to_datetime(dblp.year, exact=False,format=\"%Y\", errors=\"coerce\")\n",
    "year[year.isnull()] = pd.to_datetime(dblp.year[year.isnull()], format=\"'%y\", errors=\"coerce\")\n",
    "dblp.year = year.dt.year"
   ]
  },
  {
   "cell_type": "code",
   "execution_count": 21,
   "metadata": {
    "Collapsed": "false"
   },
   "outputs": [
    {
     "data": {
      "image/png": "[encoded data removed]",
      "text/plain": [
       "<Figure size 432x288 with 1 Axes>"
      ]
     },
     "metadata": {
      "needs_background": "light"
     },
     "output_type": "display_data"
    }
   ],
   "source": [
    "dblp.year.value_counts().sort_index().plot()\n",
    "plt.title(\"Papers published per year\")\n",
    "plt.xlabel(\"Year\")\n",
    "plt.ylabel(\"Papers\")\n",
    "plt.show()"
   ]
  },
  {
   "cell_type": "markdown",
   "metadata": {
    "Collapsed": "false"
   },
   "source": [
    "***A3.3***"
   ]
  },
  {
   "cell_type": "code",
   "execution_count": 22,
   "metadata": {
    "Collapsed": "false"
   },
   "outputs": [
    {
     "data": {
      "image/png": "[encoded data removed]",
      "text/plain": [
       "<Figure size 432x288 with 1 Axes>"
      ]
     },
     "metadata": {
      "needs_background": "light"
     },
     "output_type": "display_data"
    }
   ],
   "source": [
    "mlconf = ['icml', 'nips']\n",
    "ml_papers = dblp[dblp.conference.isin(mlconf)]\n",
    "ml_papers.year.value_counts().sort_index().plot()\n",
    "plt.title(\"Amount of ML papers over time\")\n",
    "plt.xlabel(\"Year\")\n",
    "plt.ylabel(\"Papers\")\n",
    "plt.show()"
   ]
  },
  {
   "cell_type": "markdown",
   "metadata": {
    "Collapsed": "false"
   },
   "source": [
    "We can see that there is a problem in 2010 and 2011 because the number of ML paper decrease a lot during these two years before having an increasing value again. Let's analyse these two years :"
   ]
  },
  {
   "cell_type": "code",
   "execution_count": 23,
   "metadata": {
    "Collapsed": "false"
   },
   "outputs": [
    {
     "name": "stdout",
     "output_type": "stream",
     "text": [
      "icml    160\n",
      "Name: conference, dtype: int64\n",
      "icml    154\n",
      "Name: conference, dtype: int64\n"
     ]
    }
   ],
   "source": [
    "print(ml_papers[ml_papers.year == 2010].conference.value_counts())\n",
    "print(ml_papers[ml_papers.year == 2011].conference.value_counts())"
   ]
  },
  {
   "cell_type": "markdown",
   "metadata": {
    "Collapsed": "false"
   },
   "source": [
    "We can see that during these two years we do not have data about the paper published in the nips conference and that's why the number of ML papers published these two years seems to be very small"
   ]
  },
  {
   "cell_type": "markdown",
   "metadata": {
    "Collapsed": "false"
   },
   "source": [
    "***A3.4***"
   ]
  },
  {
   "cell_type": "markdown",
   "metadata": {
    "Collapsed": "false"
   },
   "source": [
    "We will first get the papers from the 2010 NIPS conference"
   ]
  },
  {
   "cell_type": "code",
   "execution_count": 24,
   "metadata": {
    "Collapsed": "false"
   },
   "outputs": [],
   "source": [
    "r = get('https://papers.nips.cc/book/advances-in-neural-information-processing-systems-23-2010')\n",
    "soup = BeautifulSoup(r.text, 'html.parser')"
   ]
  },
  {
   "cell_type": "markdown",
   "metadata": {
    "Collapsed": "false"
   },
   "source": [
    "We look for all li elements inside the main container"
   ]
  },
  {
   "cell_type": "code",
   "execution_count": 25,
   "metadata": {
    "Collapsed": "false"
   },
   "outputs": [],
   "source": [
    "main_wrapper = soup.find('div', {'class':'main-container'})\n",
    "publications_wrappers = main_wrapper.find_all('li')"
   ]
  },
  {
   "cell_type": "markdown",
   "metadata": {
    "Collapsed": "false"
   },
   "source": [
    "For each paper we get all the links related to this paper. The first link correspond to the title and the others to the authors. The year is obviously 2010 and the conference is nips. For the id we use the same convention ('conf/nips/') but we add the url of the paper in the nips website. Then we create a dataset from the infromation scrapped on internet and drop the NA (there is normally no NA)."
   ]
  },
  {
   "cell_type": "code",
   "execution_count": 26,
   "metadata": {
    "Collapsed": "false"
   },
   "outputs": [
    {
     "data": {
      "text/html": [
       "<div>\n",
       "<style scoped>\n",
       "    .dataframe tbody tr th:only-of-type {\n",
       "        vertical-align: middle;\n",
       "    }\n",
       "\n",
       "    .dataframe tbody tr th {\n",
       "        vertical-align: top;\n",
       "    }\n",
       "\n",
       "    .dataframe thead th {\n",
       "        text-align: right;\n",
       "    }\n",
       "</style>\n",
       "<table border=\"1\" class=\"dataframe\">\n",
       "  <thead>\n",
       "    <tr style=\"text-align: right;\">\n",
       "      <th></th>\n",
       "      <th>id</th>\n",
       "      <th>authors</th>\n",
       "      <th>year</th>\n",
       "      <th>title</th>\n",
       "      <th>conference</th>\n",
       "    </tr>\n",
       "  </thead>\n",
       "  <tbody>\n",
       "    <tr>\n",
       "      <td>0</td>\n",
       "      <td>conf/nips/4123-repeated-games-against-budgeted...</td>\n",
       "      <td>'Jacob D. Abernethy', 'Manfred K. Warmuth'</td>\n",
       "      <td>2010.0</td>\n",
       "      <td>Repeated Games against Budgeted Adversaries</td>\n",
       "      <td>nips</td>\n",
       "    </tr>\n",
       "    <tr>\n",
       "      <td>1</td>\n",
       "      <td>conf/nips/4101-towards-property-based-classifi...</td>\n",
       "      <td>'Margareta Ackerman', 'Shai Ben-David', 'David...</td>\n",
       "      <td>2010.0</td>\n",
       "      <td>Towards Property-Based Classification of Clust...</td>\n",
       "      <td>nips</td>\n",
       "    </tr>\n",
       "    <tr>\n",
       "      <td>2</td>\n",
       "      <td>conf/nips/4108-tree-structured-stick-breaking-...</td>\n",
       "      <td>'Zoubin Ghahramani', 'Michael I. Jordan', 'Rya...</td>\n",
       "      <td>2010.0</td>\n",
       "      <td>Tree-Structured Stick Breaking for Hierarchica...</td>\n",
       "      <td>nips</td>\n",
       "    </tr>\n",
       "    <tr>\n",
       "      <td>3</td>\n",
       "      <td>conf/nips/3976-sparse-instrumental-variables-s...</td>\n",
       "      <td>'Paul Mckeigue', 'Jon Krohn', 'Amos J. Storkey...</td>\n",
       "      <td>2010.0</td>\n",
       "      <td>Sparse Instrumental Variables (SPIV) for Genom...</td>\n",
       "      <td>nips</td>\n",
       "    </tr>\n",
       "    <tr>\n",
       "      <td>4</td>\n",
       "      <td>conf/nips/3984-fast-global-convergence-rates-o...</td>\n",
       "      <td>'Alekh Agarwal', 'Sahand Negahban', 'Martin J....</td>\n",
       "      <td>2010.0</td>\n",
       "      <td>Fast global convergence rates of gradient meth...</td>\n",
       "      <td>nips</td>\n",
       "    </tr>\n",
       "  </tbody>\n",
       "</table>\n",
       "</div>"
      ],
      "text/plain": [
       "                                                  id  \\\n",
       "0  conf/nips/4123-repeated-games-against-budgeted...   \n",
       "1  conf/nips/4101-towards-property-based-classifi...   \n",
       "2  conf/nips/4108-tree-structured-stick-breaking-...   \n",
       "3  conf/nips/3976-sparse-instrumental-variables-s...   \n",
       "4  conf/nips/3984-fast-global-convergence-rates-o...   \n",
       "\n",
       "                                             authors    year  \\\n",
       "0         'Jacob D. Abernethy', 'Manfred K. Warmuth'  2010.0   \n",
       "1  'Margareta Ackerman', 'Shai Ben-David', 'David...  2010.0   \n",
       "2  'Zoubin Ghahramani', 'Michael I. Jordan', 'Rya...  2010.0   \n",
       "3  'Paul Mckeigue', 'Jon Krohn', 'Amos J. Storkey...  2010.0   \n",
       "4  'Alekh Agarwal', 'Sahand Negahban', 'Martin J....  2010.0   \n",
       "\n",
       "                                               title conference  \n",
       "0        Repeated Games against Budgeted Adversaries       nips  \n",
       "1  Towards Property-Based Classification of Clust...       nips  \n",
       "2  Tree-Structured Stick Breaking for Hierarchica...       nips  \n",
       "3  Sparse Instrumental Variables (SPIV) for Genom...       nips  \n",
       "4  Fast global convergence rates of gradient meth...       nips  "
      ]
     },
     "execution_count": 26,
     "metadata": {},
     "output_type": "execute_result"
    }
   ],
   "source": [
    "nips_2010_list = []\n",
    "for p in publications_wrappers:\n",
    "    links = p.find_all('a')\n",
    "    title = links[0].text\n",
    "    authors = \"'\" + \"', '\".join([author.text for author in links[1:]]) + \"'\"\n",
    "    nips_2010_list.append({'id': 'conf/nips/'+links[0]['href'].replace('/paper/',''), \n",
    "                      'authors': authors, \n",
    "                      'year':2010.0, \n",
    "                      'title':title, \n",
    "                      'conference':'nips'})\n",
    "nips_2010 = pd.DataFrame.from_dict(nips_2010_list)\n",
    "nips_2010 = nips_2010.dropna()\n",
    "nips_2010.head()"
   ]
  },
  {
   "cell_type": "markdown",
   "metadata": {
    "Collapsed": "false"
   },
   "source": [
    "We do the same for the 2011 NIPS conference"
   ]
  },
  {
   "cell_type": "code",
   "execution_count": 27,
   "metadata": {
    "Collapsed": "false"
   },
   "outputs": [
    {
     "data": {
      "text/html": [
       "<div>\n",
       "<style scoped>\n",
       "    .dataframe tbody tr th:only-of-type {\n",
       "        vertical-align: middle;\n",
       "    }\n",
       "\n",
       "    .dataframe tbody tr th {\n",
       "        vertical-align: top;\n",
       "    }\n",
       "\n",
       "    .dataframe thead th {\n",
       "        text-align: right;\n",
       "    }\n",
       "</style>\n",
       "<table border=\"1\" class=\"dataframe\">\n",
       "  <thead>\n",
       "    <tr style=\"text-align: right;\">\n",
       "      <th></th>\n",
       "      <th>id</th>\n",
       "      <th>authors</th>\n",
       "      <th>year</th>\n",
       "      <th>title</th>\n",
       "      <th>conference</th>\n",
       "    </tr>\n",
       "  </thead>\n",
       "  <tbody>\n",
       "    <tr>\n",
       "      <td>0</td>\n",
       "      <td>conf/nips/4294-maximum-margin-multi-instance-l...</td>\n",
       "      <td>'Hua Wang', 'Heng Huang', 'Farhad Kamangar', '...</td>\n",
       "      <td>2011.0</td>\n",
       "      <td>Maximum Margin Multi-Instance Learning</td>\n",
       "      <td>nips</td>\n",
       "    </tr>\n",
       "    <tr>\n",
       "      <td>1</td>\n",
       "      <td>conf/nips/4457-shaping-level-sets-with-submodu...</td>\n",
       "      <td>'Francis R. Bach'</td>\n",
       "      <td>2011.0</td>\n",
       "      <td>Shaping Level Sets with Submodular Functions</td>\n",
       "      <td>nips</td>\n",
       "    </tr>\n",
       "    <tr>\n",
       "      <td>2</td>\n",
       "      <td>conf/nips/4420-nonlinear-inverse-reinforcement...</td>\n",
       "      <td>'Sergey Levine', 'Zoran Popovic', 'Vladlen Kol...</td>\n",
       "      <td>2011.0</td>\n",
       "      <td>Nonlinear Inverse Reinforcement Learning with ...</td>\n",
       "      <td>nips</td>\n",
       "    </tr>\n",
       "    <tr>\n",
       "      <td>3</td>\n",
       "      <td>conf/nips/4233-video-annotation-and-tracking-w...</td>\n",
       "      <td>'Carl Vondrick', 'Deva Ramanan'</td>\n",
       "      <td>2011.0</td>\n",
       "      <td>Video Annotation and Tracking with Active Lear...</td>\n",
       "      <td>nips</td>\n",
       "    </tr>\n",
       "    <tr>\n",
       "      <td>4</td>\n",
       "      <td>conf/nips/4202-on-u-processes-and-clustering-p...</td>\n",
       "      <td>'Stéphan J. Clémençcon'</td>\n",
       "      <td>2011.0</td>\n",
       "      <td>On U-processes and clustering performance</td>\n",
       "      <td>nips</td>\n",
       "    </tr>\n",
       "  </tbody>\n",
       "</table>\n",
       "</div>"
      ],
      "text/plain": [
       "                                                  id  \\\n",
       "0  conf/nips/4294-maximum-margin-multi-instance-l...   \n",
       "1  conf/nips/4457-shaping-level-sets-with-submodu...   \n",
       "2  conf/nips/4420-nonlinear-inverse-reinforcement...   \n",
       "3  conf/nips/4233-video-annotation-and-tracking-w...   \n",
       "4  conf/nips/4202-on-u-processes-and-clustering-p...   \n",
       "\n",
       "                                             authors    year  \\\n",
       "0  'Hua Wang', 'Heng Huang', 'Farhad Kamangar', '...  2011.0   \n",
       "1                                  'Francis R. Bach'  2011.0   \n",
       "2  'Sergey Levine', 'Zoran Popovic', 'Vladlen Kol...  2011.0   \n",
       "3                    'Carl Vondrick', 'Deva Ramanan'  2011.0   \n",
       "4                            'Stéphan J. Clémençcon'  2011.0   \n",
       "\n",
       "                                               title conference  \n",
       "0             Maximum Margin Multi-Instance Learning       nips  \n",
       "1       Shaping Level Sets with Submodular Functions       nips  \n",
       "2  Nonlinear Inverse Reinforcement Learning with ...       nips  \n",
       "3  Video Annotation and Tracking with Active Lear...       nips  \n",
       "4          On U-processes and clustering performance       nips  "
      ]
     },
     "execution_count": 27,
     "metadata": {},
     "output_type": "execute_result"
    }
   ],
   "source": [
    "r = get('https://papers.nips.cc/book/advances-in-neural-information-processing-systems-24-2011')\n",
    "soup = BeautifulSoup(r.text, 'html.parser')\n",
    "main_wrapper = soup.find('div', {'class':'main-container'})\n",
    "publications_wrappers = main_wrapper.find_all('li')\n",
    "nips_2011_list = []\n",
    "for p in publications_wrappers:\n",
    "    links = p.find_all('a')\n",
    "    title = links[0].text\n",
    "    authors = \"'\" + \"', '\".join([author.text for author in links[1:]]) + \"'\"\n",
    "    nips_2011_list.append({'id': 'conf/nips/'+links[0]['href'].replace('/paper/',''), \n",
    "                      'authors': authors, \n",
    "                      'year':2011.0, \n",
    "                      'title':title, \n",
    "                      'conference':'nips'})\n",
    "nips_2011 = pd.DataFrame.from_dict(nips_2011_list)\n",
    "nips_2011 = nips_2011.dropna()\n",
    "nips_2011.head()"
   ]
  },
  {
   "cell_type": "markdown",
   "metadata": {
    "Collapsed": "false"
   },
   "source": [
    "Finally we append the 2 dataset to the original one"
   ]
  },
  {
   "cell_type": "code",
   "execution_count": 28,
   "metadata": {
    "Collapsed": "false"
   },
   "outputs": [
    {
     "data": {
      "text/html": [
       "<div>\n",
       "<style scoped>\n",
       "    .dataframe tbody tr th:only-of-type {\n",
       "        vertical-align: middle;\n",
       "    }\n",
       "\n",
       "    .dataframe tbody tr th {\n",
       "        vertical-align: top;\n",
       "    }\n",
       "\n",
       "    .dataframe thead th {\n",
       "        text-align: right;\n",
       "    }\n",
       "</style>\n",
       "<table border=\"1\" class=\"dataframe\">\n",
       "  <thead>\n",
       "    <tr style=\"text-align: right;\">\n",
       "      <th></th>\n",
       "      <th>id</th>\n",
       "      <th>authors</th>\n",
       "      <th>year</th>\n",
       "      <th>title</th>\n",
       "      <th>conference</th>\n",
       "    </tr>\n",
       "  </thead>\n",
       "  <tbody>\n",
       "    <tr>\n",
       "      <td>0</td>\n",
       "      <td>conf/iccv/KunoOO90</td>\n",
       "      <td>'Yoshinori Kuno', 'Yasukazu Okamoto', 'Satoshi...</td>\n",
       "      <td>1990.0</td>\n",
       "      <td>Object recognition using a feature search stra...</td>\n",
       "      <td>iccv</td>\n",
       "    </tr>\n",
       "    <tr>\n",
       "      <td>1</td>\n",
       "      <td>conf/iccv/VedulaBRCK99</td>\n",
       "      <td>'Sundar Vedula', 'Simon Baker', 'Peter Rander'...</td>\n",
       "      <td>1999.0</td>\n",
       "      <td>Three-Dimensional Scene Flow.</td>\n",
       "      <td>iccv</td>\n",
       "    </tr>\n",
       "    <tr>\n",
       "      <td>2</td>\n",
       "      <td>conf/iccv/MeminP99</td>\n",
       "      <td>'Étienne Mémin', 'Patrick Pérez'</td>\n",
       "      <td>1999.0</td>\n",
       "      <td>Fluid Motion Recovery by Coupling Dense and Pa...</td>\n",
       "      <td>iccv</td>\n",
       "    </tr>\n",
       "    <tr>\n",
       "      <td>3</td>\n",
       "      <td>conf/iccv/DickinsonPR90</td>\n",
       "      <td>'Sven J. Dickinson', 'Alex Pentland', 'Azriel ...</td>\n",
       "      <td>1990.0</td>\n",
       "      <td>Qualitative 3-D shape reconstruction using dis...</td>\n",
       "      <td>iccv</td>\n",
       "    </tr>\n",
       "    <tr>\n",
       "      <td>4</td>\n",
       "      <td>conf/iccv/SinghYL17</td>\n",
       "      <td>'Avi Singh', 'Larry Yang', 'Sergey Levine'</td>\n",
       "      <td>2017.0</td>\n",
       "      <td>GPLAC: Generalizing Vision-Based Robotic Skill...</td>\n",
       "      <td>iccv</td>\n",
       "    </tr>\n",
       "  </tbody>\n",
       "</table>\n",
       "</div>"
      ],
      "text/plain": [
       "                        id                                            authors  \\\n",
       "0       conf/iccv/KunoOO90  'Yoshinori Kuno', 'Yasukazu Okamoto', 'Satoshi...   \n",
       "1   conf/iccv/VedulaBRCK99  'Sundar Vedula', 'Simon Baker', 'Peter Rander'...   \n",
       "2       conf/iccv/MeminP99                   'Étienne Mémin', 'Patrick Pérez'   \n",
       "3  conf/iccv/DickinsonPR90  'Sven J. Dickinson', 'Alex Pentland', 'Azriel ...   \n",
       "4      conf/iccv/SinghYL17         'Avi Singh', 'Larry Yang', 'Sergey Levine'   \n",
       "\n",
       "     year                                              title conference  \n",
       "0  1990.0  Object recognition using a feature search stra...       iccv  \n",
       "1  1999.0                      Three-Dimensional Scene Flow.       iccv  \n",
       "2  1999.0  Fluid Motion Recovery by Coupling Dense and Pa...       iccv  \n",
       "3  1990.0  Qualitative 3-D shape reconstruction using dis...       iccv  \n",
       "4  2017.0  GPLAC: Generalizing Vision-Based Robotic Skill...       iccv  "
      ]
     },
     "execution_count": 28,
     "metadata": {},
     "output_type": "execute_result"
    }
   ],
   "source": [
    "dblp = dblp.append(nips_2010)\n",
    "dblp = dblp.append(nips_2011)\n",
    "dblp = dblp.reset_index(drop = True)\n",
    "dblp.head()"
   ]
  },
  {
   "cell_type": "markdown",
   "metadata": {
    "Collapsed": "false"
   },
   "source": [
    "Now it can be seen that there is no more gap in the curve."
   ]
  },
  {
   "cell_type": "code",
   "execution_count": 29,
   "metadata": {
    "Collapsed": "false"
   },
   "outputs": [
    {
     "data": {
      "image/png": "[encoded data removed]",
      "text/plain": [
       "<Figure size 432x288 with 1 Axes>"
      ]
     },
     "metadata": {
      "needs_background": "light"
     },
     "output_type": "display_data"
    }
   ],
   "source": [
    "ml_papers = dblp[dblp.conference.isin(mlconf)]\n",
    "ml_papers.year.value_counts().sort_index().plot()\n",
    "plt.title(\"Amount of ML papers over time\")\n",
    "plt.xlabel(\"Year\")\n",
    "plt.ylabel(\"Papers\")\n",
    "plt.show()"
   ]
  },
  {
   "cell_type": "markdown",
   "metadata": {
    "Collapsed": "false"
   },
   "source": [
    "Check if there are any more missing values"
   ]
  },
  {
   "cell_type": "code",
   "execution_count": 30,
   "metadata": {
    "Collapsed": "false"
   },
   "outputs": [
    {
     "data": {
      "text/plain": [
       "id              0\n",
       "authors         0\n",
       "year          634\n",
       "title           0\n",
       "conference      0\n",
       "dtype: int64"
      ]
     },
     "execution_count": 30,
     "metadata": {},
     "output_type": "execute_result"
    }
   ],
   "source": [
    "dblp.isnull().sum()"
   ]
  },
  {
   "cell_type": "markdown",
   "metadata": {
    "Collapsed": "false"
   },
   "source": [
    "Strip all publications for which the year isn't mentioned"
   ]
  },
  {
   "cell_type": "code",
   "execution_count": 31,
   "metadata": {
    "Collapsed": "false"
   },
   "outputs": [],
   "source": [
    "dblp = dblp[~dblp.year.isnull()]"
   ]
  },
  {
   "cell_type": "markdown",
   "metadata": {
    "Collapsed": "false"
   },
   "source": [
    "Finally we recreate the author oritended data frame using the clean data"
   ]
  },
  {
   "cell_type": "code",
   "execution_count": 32,
   "metadata": {
    "Collapsed": "false"
   },
   "outputs": [],
   "source": [
    "authors = pd.DataFrame(dblp.authors.str.split(',', expand=True), index=dblp.index).stack()\n",
    "authors = authors.reset_index()\n",
    "authors = authors.drop(columns=['level_1'])\n",
    "authors.columns = ['id', 'author']\n",
    "authors.author = authors.author.str.replace(\"'\", \"\")\n",
    "authors = authors.drop(authors[authors.author == ''].index, axis=0)\n",
    "authors = pd.merge(authors, dblp.drop(columns=['authors']), left_on=\"id\", right_index=True)\n",
    "authors = authors.drop(columns=['id', 'id_x'])\n",
    "authors = authors.rename(columns={'id_y':'id'})\n",
    "authors.author = authors.author.str.strip()\n",
    "# Delete Sheila A. McIlraith and Satinder P. Singh papers of 2018 and 2017 at aaai\n",
    "authors = authors.drop(authors.query(\"author == 'Sheila A. McIlraith' and year=='2018.0' and conference=='aaai'\").index, axis=0)\n",
    "authors = authors.drop(authors.query(\"author == 'Satinder P. Singh (ed.)' and year=='2017.0' and conference=='aaai'\").index, axis=0)\n",
    "# Remove duplicates\n",
    "authors = authors.drop(authors[authors.duplicated(subset=['id','author'], keep='first')].index, axis=0)"
   ]
  },
  {
   "cell_type": "markdown",
   "metadata": {
    "Collapsed": "false",
    "colab_type": "text",
    "id": "0h0Zw8cPTyEp"
   },
   "source": [
    "### A4. Author activity\n",
    "\n",
    "For each author, calculate their normalized paper count, defined as the total number of papers divided by the author’s period of activity. An author’s period of activity is defined as the number of years between the earliest and latest papers of this author. Plot the distribution of the normalized paper count. What is the appropriate scale for the axes? Does the distribution (roughly) follow a particular law, and if yes, which one?"
   ]
  },
  {
   "cell_type": "markdown",
   "metadata": {
    "Collapsed": "false"
   },
   "source": [
    "We construct the 'activity interval'for each author, by substracting the last publication year, with the earliest one and adding 1 (for ex. 2016-2017 means two years of activity)."
   ]
  },
  {
   "cell_type": "code",
   "execution_count": 33,
   "metadata": {
    "Collapsed": "false"
   },
   "outputs": [
    {
     "name": "stdout",
     "output_type": "stream",
     "text": [
      "Activity Interval' for all authors:\n",
      "author\n",
      "\"Aaron DSouza\"         5.0\n",
      "\"Abidalrahman Mohd\"    1.0\n",
      "\"Adam ODonovan\"        1.0\n",
      "\"Ahuva Mualem\"         1.0\n",
      "\"Ala Qadi\"             1.0\n",
      "Name: year, dtype: float64\n"
     ]
    }
   ],
   "source": [
    "authors_min = authors.groupby(authors.author).year.min()\n",
    "authors_max = authors.groupby(authors.author).year.max()\n",
    "authors_interval = authors_max - authors_min + 1 # + 1 because same min and max is still 1 year of activity\n",
    "print(\"Activity Interval' for all authors:\")\n",
    "print(authors_interval.head())"
   ]
  },
  {
   "cell_type": "markdown",
   "metadata": {
    "Collapsed": "false"
   },
   "source": [
    "Check if any intervals are equal to zero (should be impossible) and check for outliers"
   ]
  },
  {
   "cell_type": "code",
   "execution_count": 34,
   "metadata": {
    "Collapsed": "false"
   },
   "outputs": [
    {
     "name": "stdout",
     "output_type": "stream",
     "text": [
      "Are there intervals equal to 0? No.\n"
     ]
    },
    {
     "data": {
      "image/png": "[encoded data removed]",
      "text/plain": [
       "<Figure size 432x288 with 1 Axes>"
      ]
     },
     "metadata": {
      "needs_background": "light"
     },
     "output_type": "display_data"
    }
   ],
   "source": [
    "plt.hist(authors_interval)\n",
    "plt.title(\"Authors' activity interval\")\n",
    "plt.xlabel(\"Interval\")\n",
    "plt.ylabel(\"Amount of authors\")\n",
    "# check if no interval is 0\n",
    "print(f\"Are there intervals equal to 0? {'Yes.' if (authors_interval == 0.).all() else 'No.'}\")"
   ]
  },
  {
   "cell_type": "markdown",
   "metadata": {
    "Collapsed": "false"
   },
   "source": [
    "This plot is not very useful, so we create another histogram, but this time with a logarithmic scaling of the y-axis."
   ]
  },
  {
   "cell_type": "code",
   "execution_count": 35,
   "metadata": {
    "Collapsed": "false"
   },
   "outputs": [
    {
     "data": {
      "image/png": "[encoded data removed]",
      "text/plain": [
       "<Figure size 432x288 with 1 Axes>"
      ]
     },
     "metadata": {
      "needs_background": "light"
     },
     "output_type": "display_data"
    }
   ],
   "source": [
    "paper_counts = authors.groupby(authors.author).id.count()\n",
    "normalized_papers = paper_counts / authors_interval\n",
    "normalized_papers.sort_values(ascending=False)\n",
    "plt.hist(normalized_papers, log=True)\n",
    "plt.title(\"Normalized paper count\")\n",
    "plt.xlabel(\"Papers / period of activity\")\n",
    "plt.ylabel(\"Amount of authors\")\n",
    "plt.show()"
   ]
  },
  {
   "cell_type": "markdown",
   "metadata": {
    "Collapsed": "false"
   },
   "source": [
    "It is now clear that this distribution does indeed follow a particular law: the exponnential law, a relative change in the normalized paper count, results in a proportional relative change in the number of authors with this normalized paper count. This shows that almost all authors have very 'common' activity intervals, and the larger occurances are rather rare."
   ]
  },
  {
   "cell_type": "markdown",
   "metadata": {
    "Collapsed": "false",
    "colab_type": "text",
    "id": "ZM7pH8Y_UF3H"
   },
   "source": [
    "## Task B. Ranking authors\n",
    "\n",
    "As you may know, there exist rankings for universities, which represent their relative quality and are used to compare the performance of different universities. In the same vein, there are rankings for conferences and journals, which represent the importance and impact of each conference or journal, and therefore allow for approximate comparisons. In this part, you will rank authors based on different aspects of their research output.\n",
    "\n",
    "### B1. A Naïve Score\n",
    "\n",
    "In the absence of citation counts, it is hard to objectively rank the authors based on the impact of their contributions to the field of AI research. A naïve way would be to rank them based on their number of published papers. Obtain such a ranking and analyze your result. Identify and explain some obvious limitations of this scheme."
   ]
  },
  {
   "cell_type": "markdown",
   "metadata": {
    "Collapsed": "false"
   },
   "source": [
    "We just group the author centric data frame by author and then aggregate using the count value to count how many papers each author has published"
   ]
  },
  {
   "cell_type": "code",
   "execution_count": 36,
   "metadata": {
    "Collapsed": "false"
   },
   "outputs": [
    {
     "data": {
      "text/html": [
       "<div>\n",
       "<style scoped>\n",
       "    .dataframe tbody tr th:only-of-type {\n",
       "        vertical-align: middle;\n",
       "    }\n",
       "\n",
       "    .dataframe tbody tr th {\n",
       "        vertical-align: top;\n",
       "    }\n",
       "\n",
       "    .dataframe thead th {\n",
       "        text-align: right;\n",
       "    }\n",
       "</style>\n",
       "<table border=\"1\" class=\"dataframe\">\n",
       "  <thead>\n",
       "    <tr style=\"text-align: right;\">\n",
       "      <th></th>\n",
       "      <th>author</th>\n",
       "      <th>score</th>\n",
       "    </tr>\n",
       "  </thead>\n",
       "  <tbody>\n",
       "    <tr>\n",
       "      <td>0</td>\n",
       "      <td>Luc Van Gool</td>\n",
       "      <td>219</td>\n",
       "    </tr>\n",
       "    <tr>\n",
       "      <td>1</td>\n",
       "      <td>Toshio Fukuda</td>\n",
       "      <td>196</td>\n",
       "    </tr>\n",
       "    <tr>\n",
       "      <td>2</td>\n",
       "      <td>Thomas S. Huang</td>\n",
       "      <td>186</td>\n",
       "    </tr>\n",
       "    <tr>\n",
       "      <td>3</td>\n",
       "      <td>Michael I. Jordan</td>\n",
       "      <td>168</td>\n",
       "    </tr>\n",
       "    <tr>\n",
       "      <td>4</td>\n",
       "      <td>Trevor Darrell</td>\n",
       "      <td>158</td>\n",
       "    </tr>\n",
       "    <tr>\n",
       "      <td>5</td>\n",
       "      <td>Shuicheng Yan</td>\n",
       "      <td>154</td>\n",
       "    </tr>\n",
       "    <tr>\n",
       "      <td>6</td>\n",
       "      <td>Takeo Kanade</td>\n",
       "      <td>151</td>\n",
       "    </tr>\n",
       "    <tr>\n",
       "      <td>7</td>\n",
       "      <td>Xiaoou Tang</td>\n",
       "      <td>150</td>\n",
       "    </tr>\n",
       "    <tr>\n",
       "      <td>8</td>\n",
       "      <td>Dan Roth</td>\n",
       "      <td>144</td>\n",
       "    </tr>\n",
       "    <tr>\n",
       "      <td>9</td>\n",
       "      <td>Vijay Kumar 0001</td>\n",
       "      <td>143</td>\n",
       "    </tr>\n",
       "    <tr>\n",
       "      <td>10</td>\n",
       "      <td>Larry S. Davis</td>\n",
       "      <td>143</td>\n",
       "    </tr>\n",
       "    <tr>\n",
       "      <td>11</td>\n",
       "      <td>Wolfram Burgard</td>\n",
       "      <td>141</td>\n",
       "    </tr>\n",
       "    <tr>\n",
       "      <td>12</td>\n",
       "      <td>Roland Siegwart</td>\n",
       "      <td>137</td>\n",
       "    </tr>\n",
       "    <tr>\n",
       "      <td>13</td>\n",
       "      <td>Eric P. Xing</td>\n",
       "      <td>137</td>\n",
       "    </tr>\n",
       "    <tr>\n",
       "      <td>14</td>\n",
       "      <td>Marc Pollefeys</td>\n",
       "      <td>136</td>\n",
       "    </tr>\n",
       "    <tr>\n",
       "      <td>15</td>\n",
       "      <td>Christopher D. Manning</td>\n",
       "      <td>136</td>\n",
       "    </tr>\n",
       "    <tr>\n",
       "      <td>16</td>\n",
       "      <td>Martial Hebert</td>\n",
       "      <td>135</td>\n",
       "    </tr>\n",
       "    <tr>\n",
       "      <td>17</td>\n",
       "      <td>Dan Klein</td>\n",
       "      <td>134</td>\n",
       "    </tr>\n",
       "    <tr>\n",
       "      <td>18</td>\n",
       "      <td>Andrew Zisserman</td>\n",
       "      <td>134</td>\n",
       "    </tr>\n",
       "    <tr>\n",
       "      <td>19</td>\n",
       "      <td>Bernhard Schölkopf</td>\n",
       "      <td>133</td>\n",
       "    </tr>\n",
       "  </tbody>\n",
       "</table>\n",
       "</div>"
      ],
      "text/plain": [
       "                    author  score\n",
       "0             Luc Van Gool    219\n",
       "1            Toshio Fukuda    196\n",
       "2          Thomas S. Huang    186\n",
       "3        Michael I. Jordan    168\n",
       "4           Trevor Darrell    158\n",
       "5            Shuicheng Yan    154\n",
       "6             Takeo Kanade    151\n",
       "7              Xiaoou Tang    150\n",
       "8                 Dan Roth    144\n",
       "9         Vijay Kumar 0001    143\n",
       "10          Larry S. Davis    143\n",
       "11         Wolfram Burgard    141\n",
       "12         Roland Siegwart    137\n",
       "13            Eric P. Xing    137\n",
       "14          Marc Pollefeys    136\n",
       "15  Christopher D. Manning    136\n",
       "16          Martial Hebert    135\n",
       "17               Dan Klein    134\n",
       "18        Andrew Zisserman    134\n",
       "19      Bernhard Schölkopf    133"
      ]
     },
     "execution_count": 36,
     "metadata": {},
     "output_type": "execute_result"
    }
   ],
   "source": [
    "authors_grouped = authors.groupby('author')\n",
    "naive_score = authors_grouped.count().title\n",
    "naive_score = naive_score.sort_values(ascending=False)\n",
    "naive_score = naive_score.reset_index().rename(columns={'title':'score'})\n",
    "naive_score.head(20)"
   ]
  },
  {
   "cell_type": "markdown",
   "metadata": {
    "Collapsed": "false"
   },
   "source": [
    "Here is the distribution of the score. We again scale the y axis by taking the logarithm to be able to see the high score"
   ]
  },
  {
   "cell_type": "code",
   "execution_count": 37,
   "metadata": {
    "Collapsed": "false"
   },
   "outputs": [
    {
     "data": {
      "image/png": "[encoded data removed]",
      "text/plain": [
       "<Figure size 432x288 with 1 Axes>"
      ]
     },
     "metadata": {
      "needs_background": "light"
     },
     "output_type": "display_data"
    }
   ],
   "source": [
    "fig, ax = plt.subplots()\n",
    "naive_score.score.hist(ax = ax, bins=50)\n",
    "ax.set_yscale('log')\n",
    "plt.title(\"Naïve score\")\n",
    "plt.xlabel(\"Naïve score\")\n",
    "plt.ylabel(\"Amount of authors\")\n",
    "plt.show()"
   ]
  },
  {
   "cell_type": "code",
   "execution_count": 38,
   "metadata": {
    "Collapsed": "false"
   },
   "outputs": [
    {
     "data": {
      "text/plain": [
       "0.5966446815938706"
      ]
     },
     "execution_count": 38,
     "metadata": {},
     "output_type": "execute_result"
    }
   ],
   "source": [
    "len(naive_score[naive_score.score==1])/len(naive_score)"
   ]
  },
  {
   "cell_type": "markdown",
   "metadata": {
    "Collapsed": "false"
   },
   "source": [
    "Almost 60% of the author just have published one paper and then have a score of 1. It is therefore not a very good ranking !\n",
    "\n",
    "Here the best authors have more than 150 papers ! But we allow the same weight for each paper which is not the case in practice because some paper are much more important than others. Finally it does not take into account the career duration of the researcher which is very important to not disadvantage young researchers."
   ]
  },
  {
   "cell_type": "markdown",
   "metadata": {
    "Collapsed": "false"
   },
   "source": [
    "### B2. H5-index\n",
    "\n",
    "Another way to score and rank authors could be based on the quality of the conferences and journals where they publish their papers. For this task, you have to use the H5-index score from AMiner (https://aminer.org/ranks/conf) (another database of scholarly publications), which captures the quality of academic conferences: the higher the H5-index, the better the conference.\n",
    "1. Load the AMiner dataset ( *'aminer_ai.tsv'* available in the folder ``data/``), which contains H5-index values for AI conferences. Load it into a new Pandas dataframe, and join it with the author-centric DBLP dataframe.\n",
    "2. Calculate a *'new'* author ranking (give each author a score, by which the authors are then sorted in order to obtain the ranking), where each author's score is the sum of the H5-indices of all their papers (the H5-index of a paper being the H5-index of the conference it is published in).\n",
    "3. Analyze your new, H5-index-based author ranking and explain how and why your results are different from the previous ranking. Do you see any differences in the top-20 authors based on the H5-index-based ranking and the one produced using publication counts? If yes, list the authors that are ranked in the top 20 based on publication counts but absent in the top 20 based on the H5-index-based ranking. Identify the ranks of these authors in the ranking produced by the H5-index based ranking scheme.\n",
    "4. Now, take the authors in the file `data/list_of_selected_authors.txt`, and compute their rankings using the two (naïve and H5-index-based) ranking schemes. What do you observe? Explain the potential dangers of the naïve, paper-count-based score.\n",
    "5. On the flip side, do you see any potential dangers of using the H5-index-based score?   \n",
    "_Hint: Analyze the conferences in which the top ranked authors publish. Investigate the effect of the conferences in which these authors publish more frequently on the obtained ranking._"
   ]
  },
  {
   "cell_type": "markdown",
   "metadata": {
    "Collapsed": "false"
   },
   "source": [
    "***B2.1***"
   ]
  },
  {
   "cell_type": "code",
   "execution_count": 39,
   "metadata": {
    "Collapsed": "false"
   },
   "outputs": [
    {
     "data": {
      "text/html": [
       "<div>\n",
       "<style scoped>\n",
       "    .dataframe tbody tr th:only-of-type {\n",
       "        vertical-align: middle;\n",
       "    }\n",
       "\n",
       "    .dataframe tbody tr th {\n",
       "        vertical-align: top;\n",
       "    }\n",
       "\n",
       "    .dataframe thead th {\n",
       "        text-align: right;\n",
       "    }\n",
       "</style>\n",
       "<table border=\"1\" class=\"dataframe\">\n",
       "  <thead>\n",
       "    <tr style=\"text-align: right;\">\n",
       "      <th></th>\n",
       "      <th>Rank</th>\n",
       "      <th>Conference (Full Name)</th>\n",
       "      <th>Short Name</th>\n",
       "      <th>H5-Index</th>\n",
       "    </tr>\n",
       "  </thead>\n",
       "  <tbody>\n",
       "    <tr>\n",
       "      <td>0</td>\n",
       "      <td>1</td>\n",
       "      <td>IEEE Conference on Computer Vision and Pattern...</td>\n",
       "      <td>cvpr</td>\n",
       "      <td>112</td>\n",
       "    </tr>\n",
       "    <tr>\n",
       "      <td>1</td>\n",
       "      <td>2</td>\n",
       "      <td>IEEE Transactions on Pattern Analysis and Mach...</td>\n",
       "      <td>tpami</td>\n",
       "      <td>101</td>\n",
       "    </tr>\n",
       "    <tr>\n",
       "      <td>2</td>\n",
       "      <td>3</td>\n",
       "      <td>Expert Systems with Applications</td>\n",
       "      <td>expert syst. appl.</td>\n",
       "      <td>59</td>\n",
       "    </tr>\n",
       "    <tr>\n",
       "      <td>4</td>\n",
       "      <td>5</td>\n",
       "      <td>IEEE International Conference on Robotics and ...</td>\n",
       "      <td>icra</td>\n",
       "      <td>58</td>\n",
       "    </tr>\n",
       "    <tr>\n",
       "      <td>5</td>\n",
       "      <td>6</td>\n",
       "      <td>International Conference on Computer Vision</td>\n",
       "      <td>iccv</td>\n",
       "      <td>58</td>\n",
       "    </tr>\n",
       "    <tr>\n",
       "      <td>...</td>\n",
       "      <td>...</td>\n",
       "      <td>...</td>\n",
       "      <td>...</td>\n",
       "      <td>...</td>\n",
       "    </tr>\n",
       "    <tr>\n",
       "      <td>92</td>\n",
       "      <td>93</td>\n",
       "      <td>ACM Transactions on Asian Language Information...</td>\n",
       "      <td>talip</td>\n",
       "      <td>3</td>\n",
       "    </tr>\n",
       "    <tr>\n",
       "      <td>93</td>\n",
       "      <td>94</td>\n",
       "      <td>Autonomous Agents and Multi-Agent Systems</td>\n",
       "      <td>aamas</td>\n",
       "      <td>1</td>\n",
       "    </tr>\n",
       "    <tr>\n",
       "      <td>94</td>\n",
       "      <td>95</td>\n",
       "      <td>International Conference on Automatic Face and...</td>\n",
       "      <td>fgr</td>\n",
       "      <td>1</td>\n",
       "    </tr>\n",
       "    <tr>\n",
       "      <td>95</td>\n",
       "      <td>96</td>\n",
       "      <td>Knowledge-Based Systems</td>\n",
       "      <td>kbs</td>\n",
       "      <td>0</td>\n",
       "    </tr>\n",
       "    <tr>\n",
       "      <td>96</td>\n",
       "      <td>97</td>\n",
       "      <td>Artificial Intelligence</td>\n",
       "      <td>ai</td>\n",
       "      <td>0</td>\n",
       "    </tr>\n",
       "  </tbody>\n",
       "</table>\n",
       "<p>97 rows × 4 columns</p>\n",
       "</div>"
      ],
      "text/plain": [
       "    Rank                             Conference (Full Name)  \\\n",
       "0      1  IEEE Conference on Computer Vision and Pattern...   \n",
       "1      2  IEEE Transactions on Pattern Analysis and Mach...   \n",
       "2      3                   Expert Systems with Applications   \n",
       "4      5  IEEE International Conference on Robotics and ...   \n",
       "5      6        International Conference on Computer Vision   \n",
       "..   ...                                                ...   \n",
       "92    93  ACM Transactions on Asian Language Information...   \n",
       "93    94          Autonomous Agents and Multi-Agent Systems   \n",
       "94    95  International Conference on Automatic Face and...   \n",
       "95    96                            Knowledge-Based Systems   \n",
       "96    97                            Artificial Intelligence   \n",
       "\n",
       "            Short Name  H5-Index  \n",
       "0                 cvpr       112  \n",
       "1                tpami       101  \n",
       "2   expert syst. appl.        59  \n",
       "4                 icra        58  \n",
       "5                 iccv        58  \n",
       "..                 ...       ...  \n",
       "92               talip         3  \n",
       "93               aamas         1  \n",
       "94                 fgr         1  \n",
       "95                 kbs         0  \n",
       "96                  ai         0  \n",
       "\n",
       "[97 rows x 4 columns]"
      ]
     },
     "execution_count": 39,
     "metadata": {},
     "output_type": "execute_result"
    }
   ],
   "source": [
    "h5_index = pd.read_csv('data/aminer_ai.csv', sep=\";\")\n",
    "h5_index['Short Name'] = h5_index['Short Name'].str.lower()\n",
    "h5_index.sort_values(\"H5-Index\", ascending=False)"
   ]
  },
  {
   "cell_type": "markdown",
   "metadata": {
    "Collapsed": "false"
   },
   "source": [
    "We join the data frame of the h5 index and the author centric dataframe using the short name of the conference"
   ]
  },
  {
   "cell_type": "code",
   "execution_count": 40,
   "metadata": {
    "Collapsed": "false"
   },
   "outputs": [
    {
     "data": {
      "text/html": [
       "<div>\n",
       "<style scoped>\n",
       "    .dataframe tbody tr th:only-of-type {\n",
       "        vertical-align: middle;\n",
       "    }\n",
       "\n",
       "    .dataframe tbody tr th {\n",
       "        vertical-align: top;\n",
       "    }\n",
       "\n",
       "    .dataframe thead th {\n",
       "        text-align: right;\n",
       "    }\n",
       "</style>\n",
       "<table border=\"1\" class=\"dataframe\">\n",
       "  <thead>\n",
       "    <tr style=\"text-align: right;\">\n",
       "      <th></th>\n",
       "      <th>author</th>\n",
       "      <th>id</th>\n",
       "      <th>year</th>\n",
       "      <th>title</th>\n",
       "      <th>conference</th>\n",
       "      <th>Rank</th>\n",
       "      <th>Conference (Full Name)</th>\n",
       "      <th>Short Name</th>\n",
       "      <th>H5-Index</th>\n",
       "    </tr>\n",
       "  </thead>\n",
       "  <tbody>\n",
       "    <tr>\n",
       "      <td>0</td>\n",
       "      <td>Yoshinori Kuno</td>\n",
       "      <td>conf/iccv/KunoOO90</td>\n",
       "      <td>1990.0</td>\n",
       "      <td>Object recognition using a feature search stra...</td>\n",
       "      <td>iccv</td>\n",
       "      <td>6</td>\n",
       "      <td>International Conference on Computer Vision</td>\n",
       "      <td>iccv</td>\n",
       "      <td>58</td>\n",
       "    </tr>\n",
       "    <tr>\n",
       "      <td>1</td>\n",
       "      <td>Yasukazu Okamoto</td>\n",
       "      <td>conf/iccv/KunoOO90</td>\n",
       "      <td>1990.0</td>\n",
       "      <td>Object recognition using a feature search stra...</td>\n",
       "      <td>iccv</td>\n",
       "      <td>6</td>\n",
       "      <td>International Conference on Computer Vision</td>\n",
       "      <td>iccv</td>\n",
       "      <td>58</td>\n",
       "    </tr>\n",
       "    <tr>\n",
       "      <td>2</td>\n",
       "      <td>Satoshi Okada</td>\n",
       "      <td>conf/iccv/KunoOO90</td>\n",
       "      <td>1990.0</td>\n",
       "      <td>Object recognition using a feature search stra...</td>\n",
       "      <td>iccv</td>\n",
       "      <td>6</td>\n",
       "      <td>International Conference on Computer Vision</td>\n",
       "      <td>iccv</td>\n",
       "      <td>58</td>\n",
       "    </tr>\n",
       "    <tr>\n",
       "      <td>3</td>\n",
       "      <td>Sundar Vedula</td>\n",
       "      <td>conf/iccv/VedulaBRCK99</td>\n",
       "      <td>1999.0</td>\n",
       "      <td>Three-Dimensional Scene Flow.</td>\n",
       "      <td>iccv</td>\n",
       "      <td>6</td>\n",
       "      <td>International Conference on Computer Vision</td>\n",
       "      <td>iccv</td>\n",
       "      <td>58</td>\n",
       "    </tr>\n",
       "    <tr>\n",
       "      <td>4</td>\n",
       "      <td>Simon Baker</td>\n",
       "      <td>conf/iccv/VedulaBRCK99</td>\n",
       "      <td>1999.0</td>\n",
       "      <td>Three-Dimensional Scene Flow.</td>\n",
       "      <td>iccv</td>\n",
       "      <td>6</td>\n",
       "      <td>International Conference on Computer Vision</td>\n",
       "      <td>iccv</td>\n",
       "      <td>58</td>\n",
       "    </tr>\n",
       "  </tbody>\n",
       "</table>\n",
       "</div>"
      ],
      "text/plain": [
       "             author                      id    year  \\\n",
       "0    Yoshinori Kuno      conf/iccv/KunoOO90  1990.0   \n",
       "1  Yasukazu Okamoto      conf/iccv/KunoOO90  1990.0   \n",
       "2     Satoshi Okada      conf/iccv/KunoOO90  1990.0   \n",
       "3     Sundar Vedula  conf/iccv/VedulaBRCK99  1999.0   \n",
       "4       Simon Baker  conf/iccv/VedulaBRCK99  1999.0   \n",
       "\n",
       "                                               title conference  Rank  \\\n",
       "0  Object recognition using a feature search stra...       iccv     6   \n",
       "1  Object recognition using a feature search stra...       iccv     6   \n",
       "2  Object recognition using a feature search stra...       iccv     6   \n",
       "3                      Three-Dimensional Scene Flow.       iccv     6   \n",
       "4                      Three-Dimensional Scene Flow.       iccv     6   \n",
       "\n",
       "                        Conference (Full Name) Short Name  H5-Index  \n",
       "0  International Conference on Computer Vision       iccv        58  \n",
       "1  International Conference on Computer Vision       iccv        58  \n",
       "2  International Conference on Computer Vision       iccv        58  \n",
       "3  International Conference on Computer Vision       iccv        58  \n",
       "4  International Conference on Computer Vision       iccv        58  "
      ]
     },
     "execution_count": 40,
     "metadata": {},
     "output_type": "execute_result"
    }
   ],
   "source": [
    "authors_conf = pd.merge(authors, h5_index, left_on='conference', right_on='Short Name', how='left')\n",
    "# Remove duplicates\n",
    "authors_conf = authors_conf.drop(authors_conf[authors_conf.duplicated(subset=['id','author'], keep='first')].index, axis=0)\n",
    "authors_conf.head()"
   ]
  },
  {
   "cell_type": "markdown",
   "metadata": {
    "Collapsed": "false"
   },
   "source": [
    "***B2.2***"
   ]
  },
  {
   "cell_type": "markdown",
   "metadata": {
    "Collapsed": "false"
   },
   "source": [
    "We again group by author and compute the sum of the H5 index of each paper published by each author then we sort using the score to get the ranking."
   ]
  },
  {
   "cell_type": "code",
   "execution_count": 41,
   "metadata": {
    "Collapsed": "false"
   },
   "outputs": [
    {
     "data": {
      "text/html": [
       "<div>\n",
       "<style scoped>\n",
       "    .dataframe tbody tr th:only-of-type {\n",
       "        vertical-align: middle;\n",
       "    }\n",
       "\n",
       "    .dataframe tbody tr th {\n",
       "        vertical-align: top;\n",
       "    }\n",
       "\n",
       "    .dataframe thead th {\n",
       "        text-align: right;\n",
       "    }\n",
       "</style>\n",
       "<table border=\"1\" class=\"dataframe\">\n",
       "  <thead>\n",
       "    <tr style=\"text-align: right;\">\n",
       "      <th></th>\n",
       "      <th>author</th>\n",
       "      <th>score</th>\n",
       "    </tr>\n",
       "  </thead>\n",
       "  <tbody>\n",
       "    <tr>\n",
       "      <td>0</td>\n",
       "      <td>Luc Van Gool</td>\n",
       "      <td>18644</td>\n",
       "    </tr>\n",
       "    <tr>\n",
       "      <td>1</td>\n",
       "      <td>Thomas S. Huang</td>\n",
       "      <td>14052</td>\n",
       "    </tr>\n",
       "    <tr>\n",
       "      <td>2</td>\n",
       "      <td>Xiaoou Tang</td>\n",
       "      <td>13190</td>\n",
       "    </tr>\n",
       "    <tr>\n",
       "      <td>3</td>\n",
       "      <td>Trevor Darrell</td>\n",
       "      <td>12763</td>\n",
       "    </tr>\n",
       "    <tr>\n",
       "      <td>4</td>\n",
       "      <td>Shuicheng Yan</td>\n",
       "      <td>12448</td>\n",
       "    </tr>\n",
       "    <tr>\n",
       "      <td>5</td>\n",
       "      <td>Toshio Fukuda</td>\n",
       "      <td>11368</td>\n",
       "    </tr>\n",
       "    <tr>\n",
       "      <td>6</td>\n",
       "      <td>Marc Pollefeys</td>\n",
       "      <td>11265</td>\n",
       "    </tr>\n",
       "    <tr>\n",
       "      <td>7</td>\n",
       "      <td>Larry S. Davis</td>\n",
       "      <td>11141</td>\n",
       "    </tr>\n",
       "    <tr>\n",
       "      <td>8</td>\n",
       "      <td>Martial Hebert</td>\n",
       "      <td>10629</td>\n",
       "    </tr>\n",
       "    <tr>\n",
       "      <td>9</td>\n",
       "      <td>Takeo Kanade</td>\n",
       "      <td>10569</td>\n",
       "    </tr>\n",
       "    <tr>\n",
       "      <td>10</td>\n",
       "      <td>Pascal Fua</td>\n",
       "      <td>10284</td>\n",
       "    </tr>\n",
       "    <tr>\n",
       "      <td>11</td>\n",
       "      <td>Ming-Hsuan Yang 0001</td>\n",
       "      <td>10230</td>\n",
       "    </tr>\n",
       "    <tr>\n",
       "      <td>12</td>\n",
       "      <td>Mubarak Shah</td>\n",
       "      <td>10224</td>\n",
       "    </tr>\n",
       "    <tr>\n",
       "      <td>13</td>\n",
       "      <td>Jitendra Malik</td>\n",
       "      <td>9973</td>\n",
       "    </tr>\n",
       "    <tr>\n",
       "      <td>14</td>\n",
       "      <td>Xiaogang Wang</td>\n",
       "      <td>9957</td>\n",
       "    </tr>\n",
       "    <tr>\n",
       "      <td>15</td>\n",
       "      <td>Andrew Zisserman</td>\n",
       "      <td>9954</td>\n",
       "    </tr>\n",
       "    <tr>\n",
       "      <td>16</td>\n",
       "      <td>Alan L. Yuille</td>\n",
       "      <td>9865</td>\n",
       "    </tr>\n",
       "    <tr>\n",
       "      <td>17</td>\n",
       "      <td>Bernt Schiele</td>\n",
       "      <td>9272</td>\n",
       "    </tr>\n",
       "    <tr>\n",
       "      <td>18</td>\n",
       "      <td>Rama Chellappa</td>\n",
       "      <td>8981</td>\n",
       "    </tr>\n",
       "    <tr>\n",
       "      <td>19</td>\n",
       "      <td>Michael I. Jordan</td>\n",
       "      <td>8890</td>\n",
       "    </tr>\n",
       "  </tbody>\n",
       "</table>\n",
       "</div>"
      ],
      "text/plain": [
       "                  author  score\n",
       "0           Luc Van Gool  18644\n",
       "1        Thomas S. Huang  14052\n",
       "2            Xiaoou Tang  13190\n",
       "3         Trevor Darrell  12763\n",
       "4          Shuicheng Yan  12448\n",
       "5          Toshio Fukuda  11368\n",
       "6         Marc Pollefeys  11265\n",
       "7         Larry S. Davis  11141\n",
       "8         Martial Hebert  10629\n",
       "9           Takeo Kanade  10569\n",
       "10            Pascal Fua  10284\n",
       "11  Ming-Hsuan Yang 0001  10230\n",
       "12          Mubarak Shah  10224\n",
       "13        Jitendra Malik   9973\n",
       "14         Xiaogang Wang   9957\n",
       "15      Andrew Zisserman   9954\n",
       "16        Alan L. Yuille   9865\n",
       "17         Bernt Schiele   9272\n",
       "18        Rama Chellappa   8981\n",
       "19     Michael I. Jordan   8890"
      ]
     },
     "execution_count": 41,
     "metadata": {},
     "output_type": "execute_result"
    }
   ],
   "source": [
    "h5_ranking = authors_conf.groupby('author').sum()['H5-Index'].sort_values(ascending=False)\n",
    "h5_ranking = h5_ranking.reset_index().rename(columns={'H5-Index':'score'})\n",
    "h5_ranking.head(20)"
   ]
  },
  {
   "cell_type": "markdown",
   "metadata": {
    "Collapsed": "false"
   },
   "source": [
    "***B2.3***"
   ]
  },
  {
   "cell_type": "code",
   "execution_count": 42,
   "metadata": {
    "Collapsed": "false"
   },
   "outputs": [
    {
     "data": {
      "image/png": "[encoded data removed]",
      "text/plain": [
       "<Figure size 432x288 with 1 Axes>"
      ]
     },
     "metadata": {
      "needs_background": "light"
     },
     "output_type": "display_data"
    }
   ],
   "source": [
    "fig, ax = plt.subplots()\n",
    "h5_ranking[\"score\"].hist(ax = ax, bins=50)\n",
    "ax.set_yscale('log')\n",
    "plt.title(\"H5-score\")\n",
    "plt.xlabel(\"H5-score\")\n",
    "plt.ylabel(\"Authors\")\n",
    "plt.show()"
   ]
  },
  {
   "cell_type": "markdown",
   "metadata": {
    "Collapsed": "false"
   },
   "source": [
    "The results are different here because we use as a score for each author the sum of the H5-index of the conference where he published his results. Using that we allow more importance to paper published in bigger conferences which are likely to be more important than papers published in smaller conferences. Now  researchers who published few paper in big conferences will have a higher score than those who published more paper in smaller conferences."
   ]
  },
  {
   "cell_type": "code",
   "execution_count": 43,
   "metadata": {
    "Collapsed": "false"
   },
   "outputs": [
    {
     "name": "stdout",
     "output_type": "stream",
     "text": [
      "Authors that are favoured by the H5 ranking:\n"
     ]
    },
    {
     "data": {
      "text/html": [
       "<div>\n",
       "<style scoped>\n",
       "    .dataframe tbody tr th:only-of-type {\n",
       "        vertical-align: middle;\n",
       "    }\n",
       "\n",
       "    .dataframe tbody tr th {\n",
       "        vertical-align: top;\n",
       "    }\n",
       "\n",
       "    .dataframe thead th {\n",
       "        text-align: right;\n",
       "    }\n",
       "</style>\n",
       "<table border=\"1\" class=\"dataframe\">\n",
       "  <thead>\n",
       "    <tr style=\"text-align: right;\">\n",
       "      <th></th>\n",
       "      <th>author</th>\n",
       "      <th>score_h5</th>\n",
       "      <th>rank_h5</th>\n",
       "      <th>score_naive</th>\n",
       "      <th>rank_naive</th>\n",
       "    </tr>\n",
       "  </thead>\n",
       "  <tbody>\n",
       "    <tr>\n",
       "      <td>0</td>\n",
       "      <td>Pascal Fua</td>\n",
       "      <td>10284</td>\n",
       "      <td>11</td>\n",
       "      <td>114</td>\n",
       "      <td>37</td>\n",
       "    </tr>\n",
       "    <tr>\n",
       "      <td>1</td>\n",
       "      <td>Ming-Hsuan Yang 0001</td>\n",
       "      <td>10230</td>\n",
       "      <td>12</td>\n",
       "      <td>124</td>\n",
       "      <td>24</td>\n",
       "    </tr>\n",
       "    <tr>\n",
       "      <td>2</td>\n",
       "      <td>Mubarak Shah</td>\n",
       "      <td>10224</td>\n",
       "      <td>13</td>\n",
       "      <td>112</td>\n",
       "      <td>40</td>\n",
       "    </tr>\n",
       "    <tr>\n",
       "      <td>3</td>\n",
       "      <td>Jitendra Malik</td>\n",
       "      <td>9973</td>\n",
       "      <td>14</td>\n",
       "      <td>116</td>\n",
       "      <td>34</td>\n",
       "    </tr>\n",
       "    <tr>\n",
       "      <td>4</td>\n",
       "      <td>Xiaogang Wang</td>\n",
       "      <td>9957</td>\n",
       "      <td>15</td>\n",
       "      <td>111</td>\n",
       "      <td>41</td>\n",
       "    </tr>\n",
       "    <tr>\n",
       "      <td>5</td>\n",
       "      <td>Alan L. Yuille</td>\n",
       "      <td>9865</td>\n",
       "      <td>17</td>\n",
       "      <td>125</td>\n",
       "      <td>23</td>\n",
       "    </tr>\n",
       "    <tr>\n",
       "      <td>6</td>\n",
       "      <td>Bernt Schiele</td>\n",
       "      <td>9272</td>\n",
       "      <td>18</td>\n",
       "      <td>99</td>\n",
       "      <td>57</td>\n",
       "    </tr>\n",
       "    <tr>\n",
       "      <td>7</td>\n",
       "      <td>Rama Chellappa</td>\n",
       "      <td>8981</td>\n",
       "      <td>19</td>\n",
       "      <td>119</td>\n",
       "      <td>28</td>\n",
       "    </tr>\n",
       "  </tbody>\n",
       "</table>\n",
       "</div>"
      ],
      "text/plain": [
       "                 author  score_h5  rank_h5  score_naive  rank_naive\n",
       "0            Pascal Fua     10284       11          114          37\n",
       "1  Ming-Hsuan Yang 0001     10230       12          124          24\n",
       "2          Mubarak Shah     10224       13          112          40\n",
       "3        Jitendra Malik      9973       14          116          34\n",
       "4         Xiaogang Wang      9957       15          111          41\n",
       "5        Alan L. Yuille      9865       17          125          23\n",
       "6         Bernt Schiele      9272       18           99          57\n",
       "7        Rama Chellappa      8981       19          119          28"
      ]
     },
     "metadata": {},
     "output_type": "display_data"
    },
    {
     "name": "stdout",
     "output_type": "stream",
     "text": [
      "Authors that are favoured by the naive ranking:\n"
     ]
    },
    {
     "data": {
      "text/html": [
       "<div>\n",
       "<style scoped>\n",
       "    .dataframe tbody tr th:only-of-type {\n",
       "        vertical-align: middle;\n",
       "    }\n",
       "\n",
       "    .dataframe tbody tr th {\n",
       "        vertical-align: top;\n",
       "    }\n",
       "\n",
       "    .dataframe thead th {\n",
       "        text-align: right;\n",
       "    }\n",
       "</style>\n",
       "<table border=\"1\" class=\"dataframe\">\n",
       "  <thead>\n",
       "    <tr style=\"text-align: right;\">\n",
       "      <th></th>\n",
       "      <th>author</th>\n",
       "      <th>score_h5</th>\n",
       "      <th>rank_h5</th>\n",
       "      <th>score_naive</th>\n",
       "      <th>rank_naive</th>\n",
       "    </tr>\n",
       "  </thead>\n",
       "  <tbody>\n",
       "    <tr>\n",
       "      <td>0</td>\n",
       "      <td>Vijay Kumar 0001</td>\n",
       "      <td>8334</td>\n",
       "      <td>24</td>\n",
       "      <td>143</td>\n",
       "      <td>10</td>\n",
       "    </tr>\n",
       "    <tr>\n",
       "      <td>1</td>\n",
       "      <td>Roland Siegwart</td>\n",
       "      <td>8111</td>\n",
       "      <td>28</td>\n",
       "      <td>137</td>\n",
       "      <td>13</td>\n",
       "    </tr>\n",
       "    <tr>\n",
       "      <td>2</td>\n",
       "      <td>Wolfram Burgard</td>\n",
       "      <td>7879</td>\n",
       "      <td>31</td>\n",
       "      <td>141</td>\n",
       "      <td>12</td>\n",
       "    </tr>\n",
       "    <tr>\n",
       "      <td>3</td>\n",
       "      <td>Eric P. Xing</td>\n",
       "      <td>7812</td>\n",
       "      <td>33</td>\n",
       "      <td>137</td>\n",
       "      <td>13</td>\n",
       "    </tr>\n",
       "    <tr>\n",
       "      <td>4</td>\n",
       "      <td>Bernhard Schölkopf</td>\n",
       "      <td>7167</td>\n",
       "      <td>39</td>\n",
       "      <td>133</td>\n",
       "      <td>20</td>\n",
       "    </tr>\n",
       "    <tr>\n",
       "      <td>5</td>\n",
       "      <td>Dan Roth</td>\n",
       "      <td>5933</td>\n",
       "      <td>61</td>\n",
       "      <td>144</td>\n",
       "      <td>9</td>\n",
       "    </tr>\n",
       "    <tr>\n",
       "      <td>6</td>\n",
       "      <td>Christopher D. Manning</td>\n",
       "      <td>5657</td>\n",
       "      <td>67</td>\n",
       "      <td>136</td>\n",
       "      <td>15</td>\n",
       "    </tr>\n",
       "    <tr>\n",
       "      <td>7</td>\n",
       "      <td>Dan Klein</td>\n",
       "      <td>5314</td>\n",
       "      <td>84</td>\n",
       "      <td>134</td>\n",
       "      <td>18</td>\n",
       "    </tr>\n",
       "  </tbody>\n",
       "</table>\n",
       "</div>"
      ],
      "text/plain": [
       "                   author  score_h5  rank_h5  score_naive  rank_naive\n",
       "0        Vijay Kumar 0001      8334       24          143          10\n",
       "1         Roland Siegwart      8111       28          137          13\n",
       "2         Wolfram Burgard      7879       31          141          12\n",
       "3            Eric P. Xing      7812       33          137          13\n",
       "4      Bernhard Schölkopf      7167       39          133          20\n",
       "5                Dan Roth      5933       61          144           9\n",
       "6  Christopher D. Manning      5657       67          136          15\n",
       "7               Dan Klein      5314       84          134          18"
      ]
     },
     "metadata": {},
     "output_type": "display_data"
    }
   ],
   "source": [
    "naive_score[\"rank\"] = naive_score.score.rank(ascending=False).astype(int)\n",
    "h5_ranking[\"rank\"] = h5_ranking.score.rank(ascending=False).astype(int)\n",
    "print(\"Authors that are favoured by the H5 ranking:\")\n",
    "display(h5_ranking[h5_ranking[\"rank\"] <= 20].merge(naive_score[naive_score[\"rank\"] > 20], how='inner', on='author', suffixes=('_h5', '_naive')))\n",
    "print(\"Authors that are favoured by the naive ranking:\")\n",
    "display(h5_ranking[h5_ranking[\"rank\"] > 20].merge(naive_score[naive_score[\"rank\"] <= 20], how='inner', on='author', suffixes=('_h5', '_naive')))"
   ]
  },
  {
   "cell_type": "markdown",
   "metadata": {
    "Collapsed": "false"
   },
   "source": [
    "There are 8 authors which are ranked in the 20 first best authors using the naive rank and disapear from the 20 first best author using the H5 score. There are 2 authors which are ranked after the 60th position using the H5 score. It means that these authors have published a lot of papers but have never (or almost never) published in conference having a big h5 index."
   ]
  },
  {
   "cell_type": "markdown",
   "metadata": {
    "Collapsed": "false"
   },
   "source": [
    "***B2.4***"
   ]
  },
  {
   "cell_type": "code",
   "execution_count": 44,
   "metadata": {
    "Collapsed": "false"
   },
   "outputs": [
    {
     "data": {
      "image/png": "[encoded data removed]",
      "text/plain": [
       "<Figure size 432x288 with 1 Axes>"
      ]
     },
     "metadata": {
      "needs_background": "light"
     },
     "output_type": "display_data"
    },
    {
     "data": {
      "text/html": [
       "<div>\n",
       "<style scoped>\n",
       "    .dataframe tbody tr th:only-of-type {\n",
       "        vertical-align: middle;\n",
       "    }\n",
       "\n",
       "    .dataframe tbody tr th {\n",
       "        vertical-align: top;\n",
       "    }\n",
       "\n",
       "    .dataframe thead th {\n",
       "        text-align: right;\n",
       "    }\n",
       "</style>\n",
       "<table border=\"1\" class=\"dataframe\">\n",
       "  <thead>\n",
       "    <tr style=\"text-align: right;\">\n",
       "      <th></th>\n",
       "      <th>author</th>\n",
       "      <th>score_naive</th>\n",
       "      <th>rank_naive</th>\n",
       "      <th>score_h5</th>\n",
       "      <th>rank_h5</th>\n",
       "    </tr>\n",
       "  </thead>\n",
       "  <tbody>\n",
       "    <tr>\n",
       "      <td>0</td>\n",
       "      <td>Hy Murveit</td>\n",
       "      <td>17</td>\n",
       "      <td>2382</td>\n",
       "      <td>170</td>\n",
       "      <td>19589</td>\n",
       "    </tr>\n",
       "    <tr>\n",
       "      <td>1</td>\n",
       "      <td>Mengjie Zhang</td>\n",
       "      <td>13</td>\n",
       "      <td>3541</td>\n",
       "      <td>140</td>\n",
       "      <td>22621</td>\n",
       "    </tr>\n",
       "    <tr>\n",
       "      <td>2</td>\n",
       "      <td>Naokazu Yokoya</td>\n",
       "      <td>11</td>\n",
       "      <td>4408</td>\n",
       "      <td>158</td>\n",
       "      <td>20999</td>\n",
       "    </tr>\n",
       "    <tr>\n",
       "      <td>3</td>\n",
       "      <td>Sebastian Otte</td>\n",
       "      <td>10</td>\n",
       "      <td>5026</td>\n",
       "      <td>148</td>\n",
       "      <td>22003</td>\n",
       "    </tr>\n",
       "    <tr>\n",
       "      <td>4</td>\n",
       "      <td>Jianwu Dang</td>\n",
       "      <td>10</td>\n",
       "      <td>5026</td>\n",
       "      <td>122</td>\n",
       "      <td>24148</td>\n",
       "    </tr>\n",
       "    <tr>\n",
       "      <td>5</td>\n",
       "      <td>Yukihiro Nakamura</td>\n",
       "      <td>2</td>\n",
       "      <td>34330</td>\n",
       "      <td>170</td>\n",
       "      <td>19589</td>\n",
       "    </tr>\n",
       "    <tr>\n",
       "      <td>6</td>\n",
       "      <td>Steffen Abraham</td>\n",
       "      <td>2</td>\n",
       "      <td>34330</td>\n",
       "      <td>170</td>\n",
       "      <td>19589</td>\n",
       "    </tr>\n",
       "    <tr>\n",
       "      <td>7</td>\n",
       "      <td>Parag Havaldar</td>\n",
       "      <td>2</td>\n",
       "      <td>34330</td>\n",
       "      <td>170</td>\n",
       "      <td>19589</td>\n",
       "    </tr>\n",
       "    <tr>\n",
       "      <td>8</td>\n",
       "      <td>Charles Freundlich</td>\n",
       "      <td>2</td>\n",
       "      <td>34330</td>\n",
       "      <td>170</td>\n",
       "      <td>19589</td>\n",
       "    </tr>\n",
       "    <tr>\n",
       "      <td>9</td>\n",
       "      <td>Iljung S. Kwak</td>\n",
       "      <td>2</td>\n",
       "      <td>34330</td>\n",
       "      <td>170</td>\n",
       "      <td>19589</td>\n",
       "    </tr>\n",
       "  </tbody>\n",
       "</table>\n",
       "</div>"
      ],
      "text/plain": [
       "               author  score_naive  rank_naive  score_h5  rank_h5\n",
       "0          Hy Murveit           17        2382       170    19589\n",
       "1       Mengjie Zhang           13        3541       140    22621\n",
       "2      Naokazu Yokoya           11        4408       158    20999\n",
       "3      Sebastian Otte           10        5026       148    22003\n",
       "4         Jianwu Dang           10        5026       122    24148\n",
       "5   Yukihiro Nakamura            2       34330       170    19589\n",
       "6     Steffen Abraham            2       34330       170    19589\n",
       "7      Parag Havaldar            2       34330       170    19589\n",
       "8  Charles Freundlich            2       34330       170    19589\n",
       "9      Iljung S. Kwak            2       34330       170    19589"
      ]
     },
     "metadata": {},
     "output_type": "display_data"
    }
   ],
   "source": [
    "selected_authors = pd.read_csv('data/list_of_selected_authors.txt', names=['author'])\n",
    "selected_naive = naive_score[naive_score.author.isin(selected_authors.author)]\n",
    "selected_h5 = h5_ranking[h5_ranking.author.isin(selected_authors.author)]\n",
    "selected_naive_h5 = pd.merge(selected_naive, selected_h5, on=\"author\", suffixes=('_naive', '_h5'))\n",
    "plt.scatter(selected_naive_h5.rank_naive, selected_naive_h5.rank_h5)\n",
    "plt.xlim((0, 35000))\n",
    "plt.ylim((0, 25000))\n",
    "plt.xlabel(\"Rank_naive\")\n",
    "plt.ylabel(\"Rank_h5\")\n",
    "plt.show()\n",
    "display(selected_naive_h5)"
   ]
  },
  {
   "cell_type": "markdown",
   "metadata": {
    "Collapsed": "false"
   },
   "source": [
    "We can see that the selected authors can be split in two clusters: those with a bad h5 rank either have a very good, or a very bad naive rank. Furthermore, the person with the most paper (Hy Murveit) has the same h5 score as people having only 2 papers which means that even if he published a lot of papers, its paper were published in small conferences and then are not likely to be a huge impact of the state of the art."
   ]
  },
  {
   "cell_type": "markdown",
   "metadata": {
    "Collapsed": "false"
   },
   "source": [
    "***B2.5***"
   ]
  },
  {
   "cell_type": "code",
   "execution_count": 45,
   "metadata": {
    "Collapsed": "false"
   },
   "outputs": [
    {
     "data": {
      "text/plain": [
       "cvpr     476\n",
       "iccv     176\n",
       "nips      54\n",
       "fgr       38\n",
       "aaai      33\n",
       "accv      25\n",
       "ijcai     20\n",
       "icra      20\n",
       "icml      19\n",
       "emnlp      3\n",
       "naacl      2\n",
       "icann      1\n",
       "Name: conference, dtype: int64"
      ]
     },
     "execution_count": 45,
     "metadata": {},
     "output_type": "execute_result"
    }
   ],
   "source": [
    "authors[authors.author.isin(h5_ranking.head(5).author)].conference.value_counts()"
   ]
  },
  {
   "cell_type": "code",
   "execution_count": 46,
   "metadata": {
    "Collapsed": "false"
   },
   "outputs": [
    {
     "data": {
      "text/html": [
       "<div>\n",
       "<style scoped>\n",
       "    .dataframe tbody tr th:only-of-type {\n",
       "        vertical-align: middle;\n",
       "    }\n",
       "\n",
       "    .dataframe tbody tr th {\n",
       "        vertical-align: top;\n",
       "    }\n",
       "\n",
       "    .dataframe thead th {\n",
       "        text-align: right;\n",
       "    }\n",
       "</style>\n",
       "<table border=\"1\" class=\"dataframe\">\n",
       "  <thead>\n",
       "    <tr style=\"text-align: right;\">\n",
       "      <th></th>\n",
       "      <th>Short Name</th>\n",
       "      <th>H5-Index</th>\n",
       "    </tr>\n",
       "  </thead>\n",
       "  <tbody>\n",
       "    <tr>\n",
       "      <td>0</td>\n",
       "      <td>cvpr</td>\n",
       "      <td>112</td>\n",
       "    </tr>\n",
       "    <tr>\n",
       "      <td>4</td>\n",
       "      <td>icra</td>\n",
       "      <td>58</td>\n",
       "    </tr>\n",
       "    <tr>\n",
       "      <td>5</td>\n",
       "      <td>iccv</td>\n",
       "      <td>58</td>\n",
       "    </tr>\n",
       "    <tr>\n",
       "      <td>6</td>\n",
       "      <td>icml</td>\n",
       "      <td>56</td>\n",
       "    </tr>\n",
       "    <tr>\n",
       "      <td>7</td>\n",
       "      <td>nips</td>\n",
       "      <td>51</td>\n",
       "    </tr>\n",
       "  </tbody>\n",
       "</table>\n",
       "</div>"
      ],
      "text/plain": [
       "  Short Name  H5-Index\n",
       "0       cvpr       112\n",
       "4       icra        58\n",
       "5       iccv        58\n",
       "6       icml        56\n",
       "7       nips        51"
      ]
     },
     "execution_count": 46,
     "metadata": {},
     "output_type": "execute_result"
    }
   ],
   "source": [
    "h5_index[h5_index['Short Name'].isin(authors.conference.unique())].head()[['Short Name', 'H5-Index']]"
   ]
  },
  {
   "cell_type": "markdown",
   "metadata": {
    "Collapsed": "false"
   },
   "source": [
    "We can see that the cvpr conference has an H5 index much bigger than the other conferences and then the top ranked author according to this H5 index are those which have published a lot during this conference.\n",
    "Even if the conference has a great h5 index it does not mean that all the paper published in that conference have a big influence in the scientific world. \n",
    "\n",
    "Moreover, conference are usually specialized in one field (for example cvpr is specialized in computer vision). This means that researchers could be favoured for the field the are in, and not the quality of their research."
   ]
  },
  {
   "cell_type": "markdown",
   "metadata": {
    "Collapsed": "false"
   },
   "source": [
    "### B3. And Justice For All\n",
    "\n",
    "An ideal ranking scheme should not give undue advantage to authors who have been conducting research for a longer period of time and therefore have naturally published more papers when compared to a junior researcher. Does the ranking scheme designed by you in ``Step 2`` take this factor into account? If not, introduce variations in your ranking scheme to mitigate this effect. Do you observe anything odd with this new ranking? Clearly explain your observations.\n",
    "\n",
    "_Hint: What you did in part A4 may be useful here._"
   ]
  },
  {
   "cell_type": "markdown",
   "metadata": {
    "Collapsed": "false"
   },
   "source": [
    "What we did in part A4, is the normalized ranking of the naive ranking made in part B1.\n",
    "We can make the same with the h5 index"
   ]
  },
  {
   "cell_type": "code",
   "execution_count": 47,
   "metadata": {
    "Collapsed": "false"
   },
   "outputs": [
    {
     "data": {
      "text/html": [
       "<div>\n",
       "<style scoped>\n",
       "    .dataframe tbody tr th:only-of-type {\n",
       "        vertical-align: middle;\n",
       "    }\n",
       "\n",
       "    .dataframe tbody tr th {\n",
       "        vertical-align: top;\n",
       "    }\n",
       "\n",
       "    .dataframe thead th {\n",
       "        text-align: right;\n",
       "    }\n",
       "</style>\n",
       "<table border=\"1\" class=\"dataframe\">\n",
       "  <thead>\n",
       "    <tr style=\"text-align: right;\">\n",
       "      <th></th>\n",
       "      <th>author</th>\n",
       "      <th>score_fair</th>\n",
       "    </tr>\n",
       "  </thead>\n",
       "  <tbody>\n",
       "    <tr>\n",
       "      <td>384</td>\n",
       "      <td>Li Fei-Fei 0001</td>\n",
       "      <td>953.333333</td>\n",
       "    </tr>\n",
       "    <tr>\n",
       "      <td>2</td>\n",
       "      <td>Xiaoou Tang</td>\n",
       "      <td>824.375000</td>\n",
       "    </tr>\n",
       "    <tr>\n",
       "      <td>4</td>\n",
       "      <td>Shuicheng Yan</td>\n",
       "      <td>732.235294</td>\n",
       "    </tr>\n",
       "    <tr>\n",
       "      <td>69</td>\n",
       "      <td>Jiashi Feng</td>\n",
       "      <td>700.875000</td>\n",
       "    </tr>\n",
       "    <tr>\n",
       "      <td>0</td>\n",
       "      <td>Luc Van Gool</td>\n",
       "      <td>642.896552</td>\n",
       "    </tr>\n",
       "    <tr>\n",
       "      <td>...</td>\n",
       "      <td>...</td>\n",
       "      <td>...</td>\n",
       "    </tr>\n",
       "    <tr>\n",
       "      <td>104869</td>\n",
       "      <td>Modesto Castrillón Santana</td>\n",
       "      <td>0.200000</td>\n",
       "    </tr>\n",
       "    <tr>\n",
       "      <td>104832</td>\n",
       "      <td>Peter Gerhardstein</td>\n",
       "      <td>0.181818</td>\n",
       "    </tr>\n",
       "    <tr>\n",
       "      <td>101171</td>\n",
       "      <td>Hasan Demirel</td>\n",
       "      <td>0.181818</td>\n",
       "    </tr>\n",
       "    <tr>\n",
       "      <td>104868</td>\n",
       "      <td>Nese Alyüz</td>\n",
       "      <td>0.181818</td>\n",
       "    </tr>\n",
       "    <tr>\n",
       "      <td>104795</td>\n",
       "      <td>Peter J. B. Hancock</td>\n",
       "      <td>0.142857</td>\n",
       "    </tr>\n",
       "  </tbody>\n",
       "</table>\n",
       "<p>105981 rows × 2 columns</p>\n",
       "</div>"
      ],
      "text/plain": [
       "                            author  score_fair\n",
       "384                Li Fei-Fei 0001  953.333333\n",
       "2                      Xiaoou Tang  824.375000\n",
       "4                    Shuicheng Yan  732.235294\n",
       "69                     Jiashi Feng  700.875000\n",
       "0                     Luc Van Gool  642.896552\n",
       "...                            ...         ...\n",
       "104869  Modesto Castrillón Santana    0.200000\n",
       "104832          Peter Gerhardstein    0.181818\n",
       "101171               Hasan Demirel    0.181818\n",
       "104868                  Nese Alyüz    0.181818\n",
       "104795         Peter J. B. Hancock    0.142857\n",
       "\n",
       "[105981 rows x 2 columns]"
      ]
     },
     "metadata": {},
     "output_type": "display_data"
    }
   ],
   "source": [
    "authors_h5_naive = pd.merge(h5_ranking, naive_score, on=\"author\", how=\"inner\", suffixes=(\"_h5\", \"_naive\"))\n",
    "authors_h5_naive_interval = pd.merge(authors_h5_naive, authors_interval, on=\"author\", how=\"inner\").rename(columns={\"year\": \"activity\"})\n",
    "authors_h5_naive_interval[\"score_fair\"] = authors_h5_naive_interval[\"score_h5\"] / authors_h5_naive_interval[\"activity\"]\n",
    "authors_fair = authors_h5_naive_interval[[\"author\", \"score_fair\"]]\n",
    "display(authors_fair.sort_values(by=\"score_fair\", ascending=False))"
   ]
  },
  {
   "cell_type": "code",
   "execution_count": 48,
   "metadata": {
    "Collapsed": "false"
   },
   "outputs": [
    {
     "data": {
      "image/png": "[encoded data removed]",
      "text/plain": [
       "<Figure size 432x288 with 2 Axes>"
      ]
     },
     "metadata": {
      "needs_background": "light"
     },
     "output_type": "display_data"
    }
   ],
   "source": [
    "fig, ax = plt.subplots(2, sharex=True)\n",
    "ax[0].set_title(\"Normalized H5-index of authors\")\n",
    "ax[0].set_ylabel(\"Authors\")\n",
    "ax[0].hist(authors_fair[\"score_fair\"], bins=150)\n",
    "ax[1].hist(authors_fair[\"score_fair\"], bins=150,log=True)\n",
    "plt.ylabel(\"Authors\")\n",
    "plt.xlabel(\"Fair score\")\n",
    "plt.show()"
   ]
  },
  {
   "cell_type": "code",
   "execution_count": 49,
   "metadata": {
    "Collapsed": "false"
   },
   "outputs": [
    {
     "data": {
      "text/plain": [
       "58.000000     19848\n",
       "4.000000       8968\n",
       "112.000000     7142\n",
       "44.000000      6449\n",
       "35.000000      5350\n",
       "              ...  \n",
       "3.350000          1\n",
       "217.576923        1\n",
       "19.230769         1\n",
       "25.150000         1\n",
       "267.300000        1\n",
       "Name: score_fair, Length: 7447, dtype: int64"
      ]
     },
     "execution_count": 49,
     "metadata": {},
     "output_type": "execute_result"
    }
   ],
   "source": [
    "authors_fair.score_fair.value_counts()"
   ]
  },
  {
   "cell_type": "code",
   "execution_count": 50,
   "metadata": {},
   "outputs": [
    {
     "data": {
      "text/html": [
       "<div>\n",
       "<style scoped>\n",
       "    .dataframe tbody tr th:only-of-type {\n",
       "        vertical-align: middle;\n",
       "    }\n",
       "\n",
       "    .dataframe tbody tr th {\n",
       "        vertical-align: top;\n",
       "    }\n",
       "\n",
       "    .dataframe thead th {\n",
       "        text-align: right;\n",
       "    }\n",
       "</style>\n",
       "<table border=\"1\" class=\"dataframe\">\n",
       "  <thead>\n",
       "    <tr style=\"text-align: right;\">\n",
       "      <th></th>\n",
       "      <th>Rank</th>\n",
       "      <th>Conference (Full Name)</th>\n",
       "      <th>Short Name</th>\n",
       "      <th>H5-Index</th>\n",
       "    </tr>\n",
       "  </thead>\n",
       "  <tbody>\n",
       "    <tr>\n",
       "      <td>3</td>\n",
       "      <td>4</td>\n",
       "      <td>International Journal of Computer Vision</td>\n",
       "      <td>ijcv</td>\n",
       "      <td>58</td>\n",
       "    </tr>\n",
       "    <tr>\n",
       "      <td>4</td>\n",
       "      <td>5</td>\n",
       "      <td>IEEE International Conference on Robotics and ...</td>\n",
       "      <td>icra</td>\n",
       "      <td>58</td>\n",
       "    </tr>\n",
       "    <tr>\n",
       "      <td>5</td>\n",
       "      <td>6</td>\n",
       "      <td>International Conference on Computer Vision</td>\n",
       "      <td>iccv</td>\n",
       "      <td>58</td>\n",
       "    </tr>\n",
       "  </tbody>\n",
       "</table>\n",
       "</div>"
      ],
      "text/plain": [
       "   Rank                             Conference (Full Name) Short Name  \\\n",
       "3     4           International Journal of Computer Vision       ijcv   \n",
       "4     5  IEEE International Conference on Robotics and ...       icra   \n",
       "5     6        International Conference on Computer Vision       iccv   \n",
       "\n",
       "   H5-Index  \n",
       "3        58  \n",
       "4        58  \n",
       "5        58  "
      ]
     },
     "execution_count": 50,
     "metadata": {},
     "output_type": "execute_result"
    }
   ],
   "source": [
    "h5_index[h5_index['H5-Index'] == 58]"
   ]
  },
  {
   "cell_type": "code",
   "execution_count": 51,
   "metadata": {},
   "outputs": [
    {
     "data": {
      "text/plain": [
       "0.26598114380439286"
      ]
     },
     "execution_count": 51,
     "metadata": {},
     "output_type": "execute_result"
    }
   ],
   "source": [
    "len(authors[authors.conference.isin(['ijcv', 'icra', 'iccv'])])/len(authors)"
   ]
  },
  {
   "cell_type": "markdown",
   "metadata": {},
   "source": [
    "We can see that there is a huge peak which is not trivial. Indeed almost 20 000 athors have a h5 score of exactly 58. After some research we can see that the conferences with an H5 index of 58 represent 26% of the authors dataset which means that this peak is consitued by authors that published only one paper in one of these famous conference."
   ]
  },
  {
   "cell_type": "markdown",
   "metadata": {
    "Collapsed": "false"
   },
   "source": [
    "## Task C. Trending topics\n",
    "\n",
    "Historically, the field of AI has witnessed research in two broad flavors: “symbolic” (logic, planning, control, etc.) vs. “connectionist” (neural networks, deep learning, Bayesian methods, etc.). Let’s see if we can see how the popularity of these two approaches to AI is reflected in the DBLP data.\n",
    "\n",
    "To this end, construct two dataframes: ``symbolic`` and ``connectionist``. ``symbolic`` is your paper-centric dataframe from part A1 filtered down to those papers whose titles contain at least one of the following words (not differentiating between upper and lower case letters): “logic”, “planning”, “control”; ``connectionist`` is a dataframe constructed in a similar manner, but with the words “deep”, “learning”, “feature”, “bayesian”. Plot the number of papers per year for ``symbolic`` and ``connectionist`` separately (i.e., 2 plots).\n",
    "1. Describe the trends you observe. Based on these plots alone, what might one conclude about the popularity of the two approaches to AI?\n",
    "2. Moving beyond these plots, what do you, as a careful data scientist, conclude about the popularity of symbolic vs. connectionist AI? Corroborate your reasoning with further plots.\n",
    "\n",
    "_Note: You could use the text handling utilities below to clean the text in the paper titles._"
   ]
  },
  {
   "cell_type": "code",
   "execution_count": 52,
   "metadata": {
    "Collapsed": "false"
   },
   "outputs": [],
   "source": [
    "# Text handling utilities\n",
    "from string import punctuation\n",
    "stopwords_list = open('data/stopwords.txt', 'r').readlines()\n",
    "stopwords_list = [x.strip() for x in stopwords_list]\n",
    "def stopword_remover(text):\n",
    "    text_list = text.split()\n",
    "    text_list = [x for x in text_list if x not in stopwords_list]\n",
    "    return ' '.join(text_list)\n",
    "def lowercase_all(text):\n",
    "    return text.lower()\n",
    "def remove_punct(text):\n",
    "    return ''.join([ch for ch in text if ch not in punctuation])"
   ]
  },
  {
   "cell_type": "code",
   "execution_count": 53,
   "metadata": {
    "Collapsed": "false"
   },
   "outputs": [
    {
     "data": {
      "text/plain": [
       "0    object recognition using feature search strate...\n",
       "1                          threedimensional scene flow\n",
       "2    fluid motion recovery coupling dense parametri...\n",
       "3    qualitative 3d shape reconstruction using dist...\n",
       "4    gplac generalizing visionbased robotic skills ...\n",
       "Name: title, dtype: object"
      ]
     },
     "execution_count": 53,
     "metadata": {},
     "output_type": "execute_result"
    }
   ],
   "source": [
    "dblp2 = dblp.title.apply(stopword_remover)\n",
    "dblp2 = dblp2.apply(lowercase_all)\n",
    "dblp2 = dblp2.apply(remove_punct)\n",
    "dblp2.head()"
   ]
  },
  {
   "cell_type": "code",
   "execution_count": 54,
   "metadata": {
    "Collapsed": "false"
   },
   "outputs": [],
   "source": [
    "words_symbolic = ['logic', 'planning', 'control']\n",
    "words_connectionist = ['deep', 'learning', 'feature', 'bayesian']"
   ]
  },
  {
   "cell_type": "markdown",
   "metadata": {
    "Collapsed": "false"
   },
   "source": [
    "Create the `symbolic` DataFrame, only containing papers about the symbolic approach to AI"
   ]
  },
  {
   "cell_type": "code",
   "execution_count": 55,
   "metadata": {
    "Collapsed": "false"
   },
   "outputs": [],
   "source": [
    "symbolic = pd.Series()\n",
    "for word in words_symbolic:\n",
    "    symbolic = pd.concat((symbolic, dblp2[dblp2.str.find(word) != -1]))\n",
    "symoblic = symbolic.drop_duplicates()"
   ]
  },
  {
   "cell_type": "markdown",
   "metadata": {
    "Collapsed": "false"
   },
   "source": [
    "Create the `connectionist` DataFrame, only containing papers about the connectionist approach to AI"
   ]
  },
  {
   "cell_type": "code",
   "execution_count": 56,
   "metadata": {
    "Collapsed": "false"
   },
   "outputs": [],
   "source": [
    "connectionist = pd.Series()\n",
    "for word in words_connectionist:\n",
    "    connectionist = pd.concat((connectionist, dblp2[dblp2.str.find(word) != -1]))\n",
    "connectionist = connectionist.drop_duplicates()"
   ]
  },
  {
   "cell_type": "markdown",
   "metadata": {
    "Collapsed": "false"
   },
   "source": [
    "Create DataSeries that map a given year to the number of papers published about the respectively the connectionist and symbolic approach to AI"
   ]
  },
  {
   "cell_type": "code",
   "execution_count": 57,
   "metadata": {
    "Collapsed": "false"
   },
   "outputs": [],
   "source": [
    "conn_counts = pd.merge(connectionist.rename(\"conn\"), dblp, left_index=True, right_index=True)[\"year\"].value_counts()\n",
    "symb_counts= pd.merge(symbolic.rename(\"symb\"), dblp, left_index=True, right_index=True)[\"year\"].value_counts()"
   ]
  },
  {
   "cell_type": "code",
   "execution_count": 58,
   "metadata": {
    "Collapsed": "false"
   },
   "outputs": [
    {
     "data": {
      "image/png": "[encoded data removed]",
      "text/plain": [
       "<Figure size 432x288 with 1 Axes>"
      ]
     },
     "metadata": {
      "needs_background": "light"
     },
     "output_type": "display_data"
    }
   ],
   "source": [
    "plt.plot(symb_counts.sort_index(), label=\"symbolic\")\n",
    "plt.plot(conn_counts.sort_index(), label=\"connectionist\")\n",
    "plt.title(\"Evolution over time of published papers \\nabout symbolic and connectionist topics\")\n",
    "plt.xlabel(\"Year\")\n",
    "plt.ylabel(\"Number of papers published\")\n",
    "plt.legend()\n",
    "plt.show()"
   ]
  },
  {
   "cell_type": "markdown",
   "metadata": {
    "Collapsed": "false"
   },
   "source": [
    "1. It is clear that, while actually both counts rise, that in recent years the number of papers on the 'connectionist' side of AI has exploded. You can conclude that the connectionist approach to AI has taken over.\n",
    "2. This checks out with our background knowledge: almost all recent developments in AI were enable by deep learning."
   ]
  },
  {
   "cell_type": "code",
   "execution_count": 59,
   "metadata": {
    "Collapsed": "false"
   },
   "outputs": [
    {
     "data": {
      "text/html": [
       "<div>\n",
       "<style scoped>\n",
       "    .dataframe tbody tr th:only-of-type {\n",
       "        vertical-align: middle;\n",
       "    }\n",
       "\n",
       "    .dataframe tbody tr th {\n",
       "        vertical-align: top;\n",
       "    }\n",
       "\n",
       "    .dataframe thead th {\n",
       "        text-align: right;\n",
       "    }\n",
       "</style>\n",
       "<table border=\"1\" class=\"dataframe\">\n",
       "  <thead>\n",
       "    <tr style=\"text-align: right;\">\n",
       "      <th></th>\n",
       "      <th>connectionist</th>\n",
       "      <th>symbolic</th>\n",
       "    </tr>\n",
       "  </thead>\n",
       "  <tbody>\n",
       "    <tr>\n",
       "      <td>aaai</td>\n",
       "      <td>1888</td>\n",
       "      <td>1065</td>\n",
       "    </tr>\n",
       "    <tr>\n",
       "      <td>aamas</td>\n",
       "      <td>64</td>\n",
       "      <td>33</td>\n",
       "    </tr>\n",
       "    <tr>\n",
       "      <td>accv</td>\n",
       "      <td>400</td>\n",
       "      <td>28</td>\n",
       "    </tr>\n",
       "    <tr>\n",
       "      <td>acl</td>\n",
       "      <td>817</td>\n",
       "      <td>195</td>\n",
       "    </tr>\n",
       "    <tr>\n",
       "      <td>cvpr</td>\n",
       "      <td>2372</td>\n",
       "      <td>172</td>\n",
       "    </tr>\n",
       "  </tbody>\n",
       "</table>\n",
       "</div>"
      ],
      "text/plain": [
       "       connectionist  symbolic\n",
       "aaai            1888      1065\n",
       "aamas             64        33\n",
       "accv             400        28\n",
       "acl              817       195\n",
       "cvpr            2372       172"
      ]
     },
     "execution_count": 59,
     "metadata": {},
     "output_type": "execute_result"
    }
   ],
   "source": [
    "symbolic = dblp.loc[symbolic.index]\n",
    "connectionist = dblp.loc[connectionist.index]\n",
    "conference_counts = pd.DataFrame({'connectionist':dblp.loc[connectionist.index].conference.value_counts(), 'symbolic':dblp.loc[symbolic.index].conference.value_counts()})\n",
    "conference_counts.head()"
   ]
  },
  {
   "cell_type": "code",
   "execution_count": 60,
   "metadata": {
    "Collapsed": "false"
   },
   "outputs": [
    {
     "data": {
      "image/png": "[encoded data removed]",
      "text/plain": [
       "<Figure size 1224x648 with 1 Axes>"
      ]
     },
     "metadata": {},
     "output_type": "display_data"
    }
   ],
   "source": [
    "ind = np.arange(len(conference_counts))  # the x locations for the groups\n",
    "width = 0.35  # the width of the bars\n",
    "sb.set(rc={'figure.figsize':(17,9)})\n",
    "fig, ax = plt.subplots()\n",
    "rects1 = ax.bar(ind - width/2, conference_counts.symbolic, width,\n",
    "                label='Symbolic')\n",
    "rects2 = ax.bar(ind + width/2, conference_counts.connectionist, width,\n",
    "                label='Connectionist')\n",
    "\n",
    "# Add some text for labels, title and custom x-axis tick labels, etc.\n",
    "ax.set_ylabel('Number of paper')\n",
    "ax.set_title('Number of paper per conference')\n",
    "ax.set_xticks(ind)\n",
    "ax.set_xticklabels([x for x in conference_counts.index])\n",
    "ax.legend()\n",
    "plt.show()"
   ]
  },
  {
   "cell_type": "code",
   "execution_count": 61,
   "metadata": {
    "Collapsed": "false"
   },
   "outputs": [
    {
     "data": {
      "image/png": "[encoded data removed]",
      "text/plain": [
       "<Figure size 1224x648 with 1 Axes>"
      ]
     },
     "metadata": {},
     "output_type": "display_data"
    }
   ],
   "source": [
    "symbolic[symbolic.conference == 'icra'].year.value_counts().sort_index(ascending=False).plot(label=\"symbolic\")\n",
    "connectionist[connectionist.conference == 'icra'].year.value_counts().sort_index(ascending=False).plot(label=\"connectionist\")\n",
    "plt.title(\"Symbolic and connectionist papers on icra conferences\")\n",
    "plt.xlabel(\"Year\")\n",
    "plt.ylabel(\"Papers\")\n",
    "plt.legend()\n",
    "plt.show()"
   ]
  },
  {
   "cell_type": "markdown",
   "metadata": {
    "Collapsed": "false"
   },
   "source": [
    "It can be seen that most of the symbolic papers are published in the icra conference. The last chart shows that even in that conference the number of symbolic paper remains constant while the number of connectionist paper grows a lot in the last few years.\n",
    "\n",
    "So we can conclude that the number of connectionnist papers effectively grows a lot in the last years."
   ]
  },
  {
   "cell_type": "code",
   "execution_count": 62,
   "metadata": {
    "Collapsed": "false"
   },
   "outputs": [
    {
     "data": {
      "image/png": "[encoded data removed]",
      "text/plain": [
       "<Figure size 1224x648 with 1 Axes>"
      ]
     },
     "metadata": {},
     "output_type": "display_data"
    }
   ],
   "source": [
    "from matplotlib.lines import Line2D\n",
    "for conference in conference_counts.index:\n",
    "    symbolic[symbolic.conference == conference].year.value_counts().sort_index(ascending=False).plot(color=\"C0\")\n",
    "    connectionist[connectionist.conference == conference].year.value_counts().sort_index(ascending=False).plot(color=\"C5\")\n",
    "plt.title(\"Symbolic and connectionist papers on all conferences\")\n",
    "plt.xlim(1990)\n",
    "plt.xlabel(\"Year\")\n",
    "plt.ylabel(\"Papers\")\n",
    "custom_lines = [Line2D([0], [0], color=\"C0\", lw=4),\n",
    "                Line2D([0], [0], color=\"C5\", lw=4)]\n",
    "plt.legend(custom_lines, ['symbolic', 'connectionist'])\n",
    "plt.show()"
   ]
  }
 ],
 "metadata": {
  "colab": {
   "collapsed_sections": [],
   "name": "Homework 1.ipynb",
   "provenance": []
  },
  "kernelspec": {
   "display_name": "Python 3",
   "language": "python",
   "name": "python3"
  },
  "language_info": {
   "codemirror_mode": {
    "name": "ipython",
    "version": 3
   },
   "file_extension": ".py",
   "mimetype": "text/x-python",
   "name": "python",
   "nbconvert_exporter": "python",
   "pygments_lexer": "ipython3",
   "version": "3.7.4"
  },
  "toc": {
   "base_numbering": 1,
   "nav_menu": {},
   "number_sections": false,
   "sideBar": true,
   "skip_h1_title": true,
   "title_cell": "Table of Contents",
   "title_sidebar": "Contents",
   "toc_cell": false,
   "toc_position": {},
   "toc_section_display": true,
   "toc_window_display": false
  }
 },
 "nbformat": 4,
 "nbformat_minor": 4
}
